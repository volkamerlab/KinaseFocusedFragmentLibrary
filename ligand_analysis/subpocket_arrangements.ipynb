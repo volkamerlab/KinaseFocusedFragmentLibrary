{
 "cells": [
  {
   "cell_type": "code",
   "execution_count": 2,
   "metadata": {},
   "outputs": [],
   "source": [
    "from rdkit import Chem\n",
    "from rdkit.Chem import AllChem\n",
    "from rdkit.Chem import Draw\n",
    "from rdkit.Chem.Draw import IPythonConsole\n",
    "from rdkit.Chem.PropertyMol import PropertyMol\n",
    "Chem.SetDefaultPickleProperties(Chem.PropertyPickleOptions.AllProps)\n",
    "import pickle\n",
    "import sys\n",
    "from pathlib import Path"
   ]
  },
  {
   "cell_type": "code",
   "execution_count": 3,
   "metadata": {},
   "outputs": [],
   "source": [
    "sys.path.append('../recombination')\n",
    "sys.path.append('../recombination/construct_ligands')\n",
    "from construct_ligand import construct_ligand, read_fragment_library\n",
    "from novelty import read_scaffolds"
   ]
  },
  {
   "cell_type": "code",
   "execution_count": 4,
   "metadata": {},
   "outputs": [],
   "source": [
    "def pickle_loader(pickle_file):\n",
    "\n",
    "    try:\n",
    "        while True:\n",
    "            yield pickle.load(pickle_file)\n",
    "    except EOFError:\n",
    "        pass"
   ]
  },
  {
   "cell_type": "code",
   "execution_count": 5,
   "metadata": {},
   "outputs": [],
   "source": [
    "file_name = '../CombinatorialLibrary/combinatorial_library.pickle'"
   ]
  },
  {
   "cell_type": "code",
   "execution_count": 8,
   "metadata": {},
   "outputs": [
    {
     "name": "stdout",
     "output_type": "stream",
     "text": [
      "Number of fragments in FP : 220\n",
      "Number of fragments in B2 : 55\n",
      "Number of fragments in AP : 238\n",
      "Number of fragments in SE : 169\n",
      "Number of fragments in B1 : 30\n",
      "Number of fragments in GA : 124\n"
     ]
    }
   ],
   "source": [
    "data = read_fragment_library(Path('../FragmentLibrary'))"
   ]
  },
  {
   "cell_type": "code",
   "execution_count": 14,
   "metadata": {},
   "outputs": [
    {
     "name": "stdout",
     "output_type": "stream",
     "text": [
      "1000000\n",
      "2000000\n"
     ]
    },
    {
     "ename": "StopIteration",
     "evalue": "",
     "output_type": "error",
     "traceback": [
      "\u001b[0;31m---------------------------------------------------------------------------\u001b[0m",
      "\u001b[0;31mStopIteration\u001b[0m                             Traceback (most recent call last)",
      "\u001b[0;32m<ipython-input-14-d8e0b7547413>\u001b[0m in \u001b[0;36m<module>\u001b[0;34m\u001b[0m\n\u001b[1;32m     10\u001b[0m             \u001b[0mprint\u001b[0m\u001b[0;34m(\u001b[0m\u001b[0mcount\u001b[0m\u001b[0;34m)\u001b[0m\u001b[0;34m\u001b[0m\u001b[0;34m\u001b[0m\u001b[0m\n\u001b[1;32m     11\u001b[0m \u001b[0;34m\u001b[0m\u001b[0m\n\u001b[0;32m---> 12\u001b[0;31m         \u001b[0mmol\u001b[0m \u001b[0;34m=\u001b[0m \u001b[0mChem\u001b[0m\u001b[0;34m.\u001b[0m\u001b[0mRemoveHs\u001b[0m\u001b[0;34m(\u001b[0m\u001b[0mconstruct_ligand\u001b[0m\u001b[0;34m(\u001b[0m\u001b[0mligand\u001b[0m\u001b[0;34m.\u001b[0m\u001b[0mmeta\u001b[0m\u001b[0;34m,\u001b[0m \u001b[0mdata\u001b[0m\u001b[0;34m)\u001b[0m\u001b[0;34m[\u001b[0m\u001b[0;36m0\u001b[0m\u001b[0;34m]\u001b[0m\u001b[0;34m)\u001b[0m\u001b[0;34m\u001b[0m\u001b[0;34m\u001b[0m\u001b[0m\n\u001b[0m\u001b[1;32m     13\u001b[0m \u001b[0;34m\u001b[0m\u001b[0m\n\u001b[1;32m     14\u001b[0m         \u001b[0;32mfor\u001b[0m \u001b[0matom\u001b[0m \u001b[0;32min\u001b[0m \u001b[0mmol\u001b[0m\u001b[0;34m.\u001b[0m\u001b[0mGetAtoms\u001b[0m\u001b[0;34m(\u001b[0m\u001b[0;34m)\u001b[0m\u001b[0;34m:\u001b[0m\u001b[0;34m\u001b[0m\u001b[0;34m\u001b[0m\u001b[0m\n",
      "\u001b[0;32m~/Masterarbeit/KinaseFocusedFragmentLibrary/recombination/construct_ligands/construct_ligand.py\u001b[0m in \u001b[0;36mconstruct_ligand\u001b[0;34m(meta, data)\u001b[0m\n\u001b[1;32m    102\u001b[0m \u001b[0;34m\u001b[0m\u001b[0m\n\u001b[1;32m    103\u001b[0m         \u001b[0mdummy_1\u001b[0m \u001b[0;34m=\u001b[0m \u001b[0mnext\u001b[0m\u001b[0;34m(\u001b[0m\u001b[0matom\u001b[0m \u001b[0;32mfor\u001b[0m \u001b[0matom\u001b[0m \u001b[0;32min\u001b[0m \u001b[0mcombo\u001b[0m\u001b[0;34m.\u001b[0m\u001b[0mGetAtoms\u001b[0m\u001b[0;34m(\u001b[0m\u001b[0;34m)\u001b[0m \u001b[0;32mif\u001b[0m \u001b[0matom\u001b[0m\u001b[0;34m.\u001b[0m\u001b[0mGetProp\u001b[0m\u001b[0;34m(\u001b[0m\u001b[0;34m'frag_atom_id'\u001b[0m\u001b[0;34m)\u001b[0m \u001b[0;34m==\u001b[0m \u001b[0mbond\u001b[0m\u001b[0;34m[\u001b[0m\u001b[0;36m0\u001b[0m\u001b[0;34m]\u001b[0m\u001b[0;34m)\u001b[0m\u001b[0;34m\u001b[0m\u001b[0;34m\u001b[0m\u001b[0m\n\u001b[0;32m--> 104\u001b[0;31m         \u001b[0mdummy_2\u001b[0m \u001b[0;34m=\u001b[0m \u001b[0mnext\u001b[0m\u001b[0;34m(\u001b[0m\u001b[0matom\u001b[0m \u001b[0;32mfor\u001b[0m \u001b[0matom\u001b[0m \u001b[0;32min\u001b[0m \u001b[0mcombo\u001b[0m\u001b[0;34m.\u001b[0m\u001b[0mGetAtoms\u001b[0m\u001b[0;34m(\u001b[0m\u001b[0;34m)\u001b[0m \u001b[0;32mif\u001b[0m \u001b[0matom\u001b[0m\u001b[0;34m.\u001b[0m\u001b[0mGetProp\u001b[0m\u001b[0;34m(\u001b[0m\u001b[0;34m'frag_atom_id'\u001b[0m\u001b[0;34m)\u001b[0m \u001b[0;34m==\u001b[0m \u001b[0mbond\u001b[0m\u001b[0;34m[\u001b[0m\u001b[0;36m1\u001b[0m\u001b[0;34m]\u001b[0m\u001b[0;34m)\u001b[0m\u001b[0;34m\u001b[0m\u001b[0;34m\u001b[0m\u001b[0m\n\u001b[0m\u001b[1;32m    105\u001b[0m         \u001b[0matom_1\u001b[0m \u001b[0;34m=\u001b[0m \u001b[0mdummy_1\u001b[0m\u001b[0;34m.\u001b[0m\u001b[0mGetNeighbors\u001b[0m\u001b[0;34m(\u001b[0m\u001b[0;34m)\u001b[0m\u001b[0;34m[\u001b[0m\u001b[0;36m0\u001b[0m\u001b[0;34m]\u001b[0m\u001b[0;34m\u001b[0m\u001b[0;34m\u001b[0m\u001b[0m\n\u001b[1;32m    106\u001b[0m         \u001b[0matom_2\u001b[0m \u001b[0;34m=\u001b[0m \u001b[0mdummy_2\u001b[0m\u001b[0;34m.\u001b[0m\u001b[0mGetNeighbors\u001b[0m\u001b[0;34m(\u001b[0m\u001b[0;34m)\u001b[0m\u001b[0;34m[\u001b[0m\u001b[0;36m0\u001b[0m\u001b[0;34m]\u001b[0m\u001b[0;34m\u001b[0m\u001b[0;34m\u001b[0m\u001b[0m\n",
      "\u001b[0;31mStopIteration\u001b[0m: "
     ]
    }
   ],
   "source": [
    "# analyze subpocket arrangements\n",
    "conn_count = {}\n",
    "count = 0\n",
    "\n",
    "with open(file_name, 'rb') as pickle_file:\n",
    "    \n",
    "    for ligand in pickle_loader(pickle_file):\n",
    "        count += 1\n",
    "        if count % 1000000 == 0:\n",
    "            print(count)\n",
    "        \n",
    "        mol = Chem.RemoveHs(construct_ligand(ligand.meta, data)[0])\n",
    "        \n",
    "        for atom in mol.GetAtoms():\n",
    "            subpocket = atom.GetProp('subpocket')\n",
    "            for neigh in atom.GetNeighbors():\n",
    "                n_subpocket = neigh.GetProp('subpocket') \n",
    "                if n_subpocket != subpocket:\n",
    "                    conn = frozenset((subpocket, n_subpocket))\n",
    "                    if conn in conn_count:\n",
    "                        conn_count[conn] += 1\n",
    "                    else:\n",
    "                        conn_count[conn] = 1"
   ]
  },
  {
   "cell_type": "code",
   "execution_count": 15,
   "metadata": {},
   "outputs": [
    {
     "data": {
      "text/plain": [
       "{frozenset({'AP', 'SE'}): 3966692,\n",
       " frozenset({'AP', 'GA'}): 3220418,\n",
       " frozenset({'FP', 'GA'}): 1412556,\n",
       " frozenset({'FP', 'SE'}): 233252,\n",
       " frozenset({'B1', 'GA'}): 137496,\n",
       " frozenset({'B2', 'FP'}): 642684,\n",
       " frozenset({'AP', 'FP'}): 3631146,\n",
       " frozenset({'B2', 'GA'}): 531344,\n",
       " frozenset({'GA', 'SE'}): 3348,\n",
       " frozenset({'B1', 'B2'}): 5300,\n",
       " frozenset({'B1', 'FP'}): 2606,\n",
       " frozenset({'AP', 'B2'}): 86}"
      ]
     },
     "execution_count": 15,
     "metadata": {},
     "output_type": "execute_result"
    }
   ],
   "source": [
    "conn_count"
   ]
  },
  {
   "cell_type": "code",
   "execution_count": null,
   "metadata": {},
   "outputs": [],
   "source": []
  }
 ],
 "metadata": {
  "kernelspec": {
   "display_name": "Python 3",
   "language": "python",
   "name": "python3"
  },
  "language_info": {
   "codemirror_mode": {
    "name": "ipython",
    "version": 3
   },
   "file_extension": ".py",
   "mimetype": "text/x-python",
   "name": "python",
   "nbconvert_exporter": "python",
   "pygments_lexer": "ipython3",
   "version": "3.6.8"
  }
 },
 "nbformat": 4,
 "nbformat_minor": 2
}
