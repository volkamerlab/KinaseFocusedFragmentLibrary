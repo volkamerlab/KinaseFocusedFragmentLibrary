{
 "cells": [
  {
   "cell_type": "code",
   "execution_count": 23,
   "metadata": {},
   "outputs": [],
   "source": [
    "import glob\n",
    "from rdkit import Chem\n",
    "from rdkit.Chem import AllChem\n",
    "from rdkit.Chem import Draw\n",
    "from rdkit.Chem.Draw import IPythonConsole\n",
    "\n",
    "import seaborn as sns\n",
    "import pandas as pd\n",
    "import numpy as np\n",
    "import matplotlib.pyplot as plt"
   ]
  },
  {
   "cell_type": "code",
   "execution_count": 2,
   "metadata": {},
   "outputs": [
    {
     "data": {
      "text/plain": [
       "['FP', 'B2', 'AP', 'SE', 'B1', 'GA']"
      ]
     },
     "execution_count": 2,
     "metadata": {},
     "output_type": "execute_result"
    }
   ],
   "source": [
    "path_to_library = '../FragmentLibrary'\n",
    "\n",
    "# list of folders for each subpocket\n",
    "folders = glob.glob(path_to_library+'/*')\n",
    "subpockets = [folder[-2:] for folder in folders]\n",
    "subpockets"
   ]
  },
  {
   "cell_type": "code",
   "execution_count": 3,
   "metadata": {},
   "outputs": [
    {
     "data": {
      "text/plain": [
       "(6798, 6)"
      ]
     },
     "execution_count": 3,
     "metadata": {},
     "output_type": "execute_result"
    }
   ],
   "source": [
    "# read data\n",
    "\n",
    "data = pd.DataFrame()\n",
    "\n",
    "# iterate over subpockets\n",
    "for i, folder in enumerate(folders):\n",
    "    \n",
    "    subpocket = subpockets[i]\n",
    "    \n",
    "    file = folder+'/'+subpocket+'.sdf' \n",
    "    df = pd.DataFrame()\n",
    "    suppl = Chem.SDMolSupplier(file, removeHs=False)\n",
    "        \n",
    "    fragments = []\n",
    "    smiles = []\n",
    "    groups = []\n",
    "    families = []\n",
    "    kinases = []\n",
    "\n",
    "    for frag in suppl:\n",
    "        \n",
    "        # delete dummy atoms\n",
    "        du = Chem.MolFromSmiles('*')\n",
    "        h = Chem.MolFromSmiles('[H]', sanitize=False)\n",
    "        fixed_frag = AllChem.ReplaceSubstructs(frag, du, h, replaceAll=True)[0]\n",
    "        fixed_frag = Chem.RemoveHs(fixed_frag)\n",
    "        # remove duplicates based on smiles\n",
    "        #if s in smiles:\n",
    "        #    continue\n",
    "        s = Chem.MolToSmiles(fixed_frag)\n",
    "        smiles.append(s)\n",
    "        fragments.append(Chem.MolFromSmiles(s))\n",
    "        \n",
    "        groups.append(frag.GetProp('group'))\n",
    "        families.append(frag.GetProp('family'))\n",
    "        kinases.append(frag.GetProp('kinase'))\n",
    "    \n",
    "    df['fragment'] = fragments\n",
    "    df['smiles'] = smiles\n",
    "    df['subpocket'] = subpocket\n",
    "    df['group'] = groups\n",
    "    df['family'] = families\n",
    "    df['kinase'] = kinases\n",
    "    \n",
    "    data = data.append(df)\n",
    "    \n",
    "data = data.reset_index(drop=True)\n",
    "data.shape"
   ]
  },
  {
   "cell_type": "code",
   "execution_count": 4,
   "metadata": {},
   "outputs": [],
   "source": [
    "df_AP = data[data.subpocket=='AP']\n",
    "df_FP = data[data.subpocket=='FP']\n",
    "df_SE = data[data.subpocket=='SE']\n",
    "df_GA = data[data.subpocket=='GA']\n",
    "df_B1 = data[data.subpocket=='B1']\n",
    "df_B2 = data[data.subpocket=='B2']"
   ]
  },
  {
   "cell_type": "code",
   "execution_count": 5,
   "metadata": {},
   "outputs": [
    {
     "data": {
      "text/plain": [
       "(1116, 6)"
      ]
     },
     "execution_count": 5,
     "metadata": {},
     "output_type": "execute_result"
    }
   ],
   "source": [
    "df_AP.drop_duplicates(subset='smiles').shape"
   ]
  },
  {
   "cell_type": "code",
   "execution_count": 6,
   "metadata": {},
   "outputs": [
    {
     "data": {
      "text/plain": [
       "1116"
      ]
     },
     "execution_count": 6,
     "metadata": {},
     "output_type": "execute_result"
    }
   ],
   "source": [
    "df_AP.smiles.nunique()"
   ]
  },
  {
   "cell_type": "code",
   "execution_count": 7,
   "metadata": {},
   "outputs": [
    {
     "data": {
      "text/plain": [
       "array(['Other', 'TK', 'TKL', 'AGC', 'CMGC', 'CAMK', 'CK1', 'STE'],\n",
       "      dtype=object)"
      ]
     },
     "execution_count": 7,
     "metadata": {},
     "output_type": "execute_result"
    }
   ],
   "source": [
    "groups = df_AP.group.unique()\n",
    "groups"
   ]
  },
  {
   "cell_type": "markdown",
   "metadata": {},
   "source": [
    "Calculate number of fragments and unique fragments per kinase group per subpocket."
   ]
  },
  {
   "cell_type": "code",
   "execution_count": 8,
   "metadata": {},
   "outputs": [],
   "source": [
    "n_frags = {}\n",
    "n_unique_frags = {}\n",
    "\n",
    "for subpocket in subpockets:\n",
    "    \n",
    "    df = data[data.subpocket==subpocket]\n",
    "    \n",
    "    n_frags_group = {}\n",
    "    n_unique_frags_group = {}\n",
    "    \n",
    "    for group in groups:\n",
    "        \n",
    "        df_group = df[df.group==group]\n",
    "        n = df_group.shape[0]\n",
    "        n_unique = df_group.smiles.nunique()\n",
    "        \n",
    "        n_frags_group[group] = n\n",
    "        n_unique_frags_group[group] = n_unique\n",
    "        \n",
    "    n_frags[subpocket] = n_frags_group\n",
    "    n_unique_frags[subpocket] = n_unique_frags_group\n"
   ]
  },
  {
   "cell_type": "code",
   "execution_count": 9,
   "metadata": {},
   "outputs": [],
   "source": [
    "n_frags = pd.DataFrame(data=n_frags)\n",
    "n_frags.loc[\"Total\"] = n_frags.sum(axis=0)\n",
    "n_frags[\"Total\"] = n_frags.sum(axis=1)"
   ]
  },
  {
   "cell_type": "code",
   "execution_count": 10,
   "metadata": {},
   "outputs": [],
   "source": [
    "n_unique_frags = pd.DataFrame(data=n_unique_frags)\n",
    "n_unique_frags.loc[\"Total\"] = n_unique_frags.sum(axis=0)\n",
    "n_unique_frags[\"Total\"] = n_unique_frags.sum(axis=1)"
   ]
  },
  {
   "cell_type": "code",
   "execution_count": 11,
   "metadata": {},
   "outputs": [
    {
     "data": {
      "text/html": [
       "<div>\n",
       "<style scoped>\n",
       "    .dataframe tbody tr th:only-of-type {\n",
       "        vertical-align: middle;\n",
       "    }\n",
       "\n",
       "    .dataframe tbody tr th {\n",
       "        vertical-align: top;\n",
       "    }\n",
       "\n",
       "    .dataframe thead th {\n",
       "        text-align: right;\n",
       "    }\n",
       "</style>\n",
       "<table border=\"1\" class=\"dataframe\">\n",
       "  <thead>\n",
       "    <tr style=\"text-align: right;\">\n",
       "      <th></th>\n",
       "      <th></th>\n",
       "      <th>AP</th>\n",
       "      <th>B1</th>\n",
       "      <th>B2</th>\n",
       "      <th>FP</th>\n",
       "      <th>GA</th>\n",
       "      <th>SE</th>\n",
       "      <th>Total</th>\n",
       "    </tr>\n",
       "  </thead>\n",
       "  <tbody>\n",
       "    <tr>\n",
       "      <th rowspan=\"2\" valign=\"top\">AGC</th>\n",
       "      <th>All</th>\n",
       "      <td>141</td>\n",
       "      <td>0</td>\n",
       "      <td>62</td>\n",
       "      <td>117</td>\n",
       "      <td>36</td>\n",
       "      <td>16</td>\n",
       "      <td>372</td>\n",
       "    </tr>\n",
       "    <tr>\n",
       "      <th>Unique</th>\n",
       "      <td>79</td>\n",
       "      <td>0</td>\n",
       "      <td>37</td>\n",
       "      <td>84</td>\n",
       "      <td>18</td>\n",
       "      <td>12</td>\n",
       "      <td>230</td>\n",
       "    </tr>\n",
       "    <tr>\n",
       "      <th rowspan=\"2\" valign=\"top\">CAMK</th>\n",
       "      <th>All</th>\n",
       "      <td>352</td>\n",
       "      <td>2</td>\n",
       "      <td>13</td>\n",
       "      <td>202</td>\n",
       "      <td>152</td>\n",
       "      <td>148</td>\n",
       "      <td>869</td>\n",
       "    </tr>\n",
       "    <tr>\n",
       "      <th>Unique</th>\n",
       "      <td>266</td>\n",
       "      <td>2</td>\n",
       "      <td>12</td>\n",
       "      <td>122</td>\n",
       "      <td>79</td>\n",
       "      <td>98</td>\n",
       "      <td>579</td>\n",
       "    </tr>\n",
       "    <tr>\n",
       "      <th rowspan=\"2\" valign=\"top\">CK1</th>\n",
       "      <th>All</th>\n",
       "      <td>47</td>\n",
       "      <td>0</td>\n",
       "      <td>0</td>\n",
       "      <td>22</td>\n",
       "      <td>32</td>\n",
       "      <td>19</td>\n",
       "      <td>120</td>\n",
       "    </tr>\n",
       "    <tr>\n",
       "      <th>Unique</th>\n",
       "      <td>38</td>\n",
       "      <td>0</td>\n",
       "      <td>0</td>\n",
       "      <td>17</td>\n",
       "      <td>11</td>\n",
       "      <td>13</td>\n",
       "      <td>79</td>\n",
       "    </tr>\n",
       "    <tr>\n",
       "      <th rowspan=\"2\" valign=\"top\">CMGC</th>\n",
       "      <th>All</th>\n",
       "      <td>759</td>\n",
       "      <td>12</td>\n",
       "      <td>89</td>\n",
       "      <td>490</td>\n",
       "      <td>302</td>\n",
       "      <td>435</td>\n",
       "      <td>2087</td>\n",
       "    </tr>\n",
       "    <tr>\n",
       "      <th>Unique</th>\n",
       "      <td>406</td>\n",
       "      <td>8</td>\n",
       "      <td>40</td>\n",
       "      <td>273</td>\n",
       "      <td>151</td>\n",
       "      <td>186</td>\n",
       "      <td>1064</td>\n",
       "    </tr>\n",
       "    <tr>\n",
       "      <th rowspan=\"2\" valign=\"top\">Other</th>\n",
       "      <th>All</th>\n",
       "      <td>234</td>\n",
       "      <td>7</td>\n",
       "      <td>18</td>\n",
       "      <td>162</td>\n",
       "      <td>87</td>\n",
       "      <td>200</td>\n",
       "      <td>708</td>\n",
       "    </tr>\n",
       "    <tr>\n",
       "      <th>Unique</th>\n",
       "      <td>135</td>\n",
       "      <td>7</td>\n",
       "      <td>10</td>\n",
       "      <td>86</td>\n",
       "      <td>45</td>\n",
       "      <td>110</td>\n",
       "      <td>393</td>\n",
       "    </tr>\n",
       "    <tr>\n",
       "      <th rowspan=\"2\" valign=\"top\">STE</th>\n",
       "      <th>All</th>\n",
       "      <td>106</td>\n",
       "      <td>11</td>\n",
       "      <td>10</td>\n",
       "      <td>53</td>\n",
       "      <td>60</td>\n",
       "      <td>68</td>\n",
       "      <td>308</td>\n",
       "    </tr>\n",
       "    <tr>\n",
       "      <th>Unique</th>\n",
       "      <td>68</td>\n",
       "      <td>9</td>\n",
       "      <td>8</td>\n",
       "      <td>39</td>\n",
       "      <td>39</td>\n",
       "      <td>50</td>\n",
       "      <td>213</td>\n",
       "    </tr>\n",
       "    <tr>\n",
       "      <th rowspan=\"2\" valign=\"top\">TK</th>\n",
       "      <th>All</th>\n",
       "      <td>616</td>\n",
       "      <td>42</td>\n",
       "      <td>44</td>\n",
       "      <td>493</td>\n",
       "      <td>259</td>\n",
       "      <td>450</td>\n",
       "      <td>1904</td>\n",
       "    </tr>\n",
       "    <tr>\n",
       "      <th>Unique</th>\n",
       "      <td>297</td>\n",
       "      <td>18</td>\n",
       "      <td>23</td>\n",
       "      <td>283</td>\n",
       "      <td>97</td>\n",
       "      <td>243</td>\n",
       "      <td>961</td>\n",
       "    </tr>\n",
       "    <tr>\n",
       "      <th rowspan=\"2\" valign=\"top\">TKL</th>\n",
       "      <th>All</th>\n",
       "      <td>140</td>\n",
       "      <td>32</td>\n",
       "      <td>1</td>\n",
       "      <td>82</td>\n",
       "      <td>107</td>\n",
       "      <td>68</td>\n",
       "      <td>430</td>\n",
       "    </tr>\n",
       "    <tr>\n",
       "      <th>Unique</th>\n",
       "      <td>88</td>\n",
       "      <td>14</td>\n",
       "      <td>1</td>\n",
       "      <td>55</td>\n",
       "      <td>55</td>\n",
       "      <td>49</td>\n",
       "      <td>262</td>\n",
       "    </tr>\n",
       "    <tr>\n",
       "      <th rowspan=\"2\" valign=\"top\">Total</th>\n",
       "      <th>All</th>\n",
       "      <td>2395</td>\n",
       "      <td>106</td>\n",
       "      <td>237</td>\n",
       "      <td>1621</td>\n",
       "      <td>1035</td>\n",
       "      <td>1404</td>\n",
       "      <td>6798</td>\n",
       "    </tr>\n",
       "    <tr>\n",
       "      <th>Unique</th>\n",
       "      <td>1377</td>\n",
       "      <td>58</td>\n",
       "      <td>131</td>\n",
       "      <td>959</td>\n",
       "      <td>495</td>\n",
       "      <td>761</td>\n",
       "      <td>3781</td>\n",
       "    </tr>\n",
       "  </tbody>\n",
       "</table>\n",
       "</div>"
      ],
      "text/plain": [
       "                AP   B1   B2    FP    GA    SE  Total\n",
       "AGC   All      141    0   62   117    36    16    372\n",
       "      Unique    79    0   37    84    18    12    230\n",
       "CAMK  All      352    2   13   202   152   148    869\n",
       "      Unique   266    2   12   122    79    98    579\n",
       "CK1   All       47    0    0    22    32    19    120\n",
       "      Unique    38    0    0    17    11    13     79\n",
       "CMGC  All      759   12   89   490   302   435   2087\n",
       "      Unique   406    8   40   273   151   186   1064\n",
       "Other All      234    7   18   162    87   200    708\n",
       "      Unique   135    7   10    86    45   110    393\n",
       "STE   All      106   11   10    53    60    68    308\n",
       "      Unique    68    9    8    39    39    50    213\n",
       "TK    All      616   42   44   493   259   450   1904\n",
       "      Unique   297   18   23   283    97   243    961\n",
       "TKL   All      140   32    1    82   107    68    430\n",
       "      Unique    88   14    1    55    55    49    262\n",
       "Total All     2395  106  237  1621  1035  1404   6798\n",
       "      Unique  1377   58  131   959   495   761   3781"
      ]
     },
     "execution_count": 11,
     "metadata": {},
     "output_type": "execute_result"
    }
   ],
   "source": [
    "df_n_frags = pd.concat([n_frags,n_unique_frags], axis=1, keys=['All', 'Unique'])\n",
    "df_n_frags.stack(0)"
   ]
  },
  {
   "cell_type": "code",
   "execution_count": 16,
   "metadata": {},
   "outputs": [
    {
     "data": {
      "text/html": [
       "<div>\n",
       "<style scoped>\n",
       "    .dataframe tbody tr th:only-of-type {\n",
       "        vertical-align: middle;\n",
       "    }\n",
       "\n",
       "    .dataframe tbody tr th {\n",
       "        vertical-align: top;\n",
       "    }\n",
       "\n",
       "    .dataframe thead th {\n",
       "        text-align: right;\n",
       "    }\n",
       "</style>\n",
       "<table border=\"1\" class=\"dataframe\">\n",
       "  <thead>\n",
       "    <tr style=\"text-align: right;\">\n",
       "      <th></th>\n",
       "      <th>FP</th>\n",
       "      <th>B2</th>\n",
       "      <th>AP</th>\n",
       "      <th>SE</th>\n",
       "      <th>B1</th>\n",
       "      <th>GA</th>\n",
       "      <th>Total</th>\n",
       "    </tr>\n",
       "  </thead>\n",
       "  <tbody>\n",
       "    <tr>\n",
       "      <th>AGC</th>\n",
       "      <td>117</td>\n",
       "      <td>62</td>\n",
       "      <td>141</td>\n",
       "      <td>16</td>\n",
       "      <td>0</td>\n",
       "      <td>36</td>\n",
       "      <td>372</td>\n",
       "    </tr>\n",
       "    <tr>\n",
       "      <th>CAMK</th>\n",
       "      <td>202</td>\n",
       "      <td>13</td>\n",
       "      <td>352</td>\n",
       "      <td>148</td>\n",
       "      <td>2</td>\n",
       "      <td>152</td>\n",
       "      <td>869</td>\n",
       "    </tr>\n",
       "    <tr>\n",
       "      <th>CK1</th>\n",
       "      <td>22</td>\n",
       "      <td>0</td>\n",
       "      <td>47</td>\n",
       "      <td>19</td>\n",
       "      <td>0</td>\n",
       "      <td>32</td>\n",
       "      <td>120</td>\n",
       "    </tr>\n",
       "    <tr>\n",
       "      <th>CMGC</th>\n",
       "      <td>490</td>\n",
       "      <td>89</td>\n",
       "      <td>759</td>\n",
       "      <td>435</td>\n",
       "      <td>12</td>\n",
       "      <td>302</td>\n",
       "      <td>2087</td>\n",
       "    </tr>\n",
       "    <tr>\n",
       "      <th>Other</th>\n",
       "      <td>162</td>\n",
       "      <td>18</td>\n",
       "      <td>234</td>\n",
       "      <td>200</td>\n",
       "      <td>7</td>\n",
       "      <td>87</td>\n",
       "      <td>708</td>\n",
       "    </tr>\n",
       "    <tr>\n",
       "      <th>STE</th>\n",
       "      <td>53</td>\n",
       "      <td>10</td>\n",
       "      <td>106</td>\n",
       "      <td>68</td>\n",
       "      <td>11</td>\n",
       "      <td>60</td>\n",
       "      <td>308</td>\n",
       "    </tr>\n",
       "    <tr>\n",
       "      <th>TK</th>\n",
       "      <td>493</td>\n",
       "      <td>44</td>\n",
       "      <td>616</td>\n",
       "      <td>450</td>\n",
       "      <td>42</td>\n",
       "      <td>259</td>\n",
       "      <td>1904</td>\n",
       "    </tr>\n",
       "    <tr>\n",
       "      <th>TKL</th>\n",
       "      <td>82</td>\n",
       "      <td>1</td>\n",
       "      <td>140</td>\n",
       "      <td>68</td>\n",
       "      <td>32</td>\n",
       "      <td>107</td>\n",
       "      <td>430</td>\n",
       "    </tr>\n",
       "    <tr>\n",
       "      <th>Total</th>\n",
       "      <td>1621</td>\n",
       "      <td>237</td>\n",
       "      <td>2395</td>\n",
       "      <td>1404</td>\n",
       "      <td>106</td>\n",
       "      <td>1035</td>\n",
       "      <td>6798</td>\n",
       "    </tr>\n",
       "  </tbody>\n",
       "</table>\n",
       "</div>"
      ],
      "text/plain": [
       "         FP   B2    AP    SE   B1    GA  Total\n",
       "AGC     117   62   141    16    0    36    372\n",
       "CAMK    202   13   352   148    2   152    869\n",
       "CK1      22    0    47    19    0    32    120\n",
       "CMGC    490   89   759   435   12   302   2087\n",
       "Other   162   18   234   200    7    87    708\n",
       "STE      53   10   106    68   11    60    308\n",
       "TK      493   44   616   450   42   259   1904\n",
       "TKL      82    1   140    68   32   107    430\n",
       "Total  1621  237  2395  1404  106  1035   6798"
      ]
     },
     "execution_count": 16,
     "metadata": {},
     "output_type": "execute_result"
    }
   ],
   "source": [
    "n_frags"
   ]
  },
  {
   "cell_type": "code",
   "execution_count": 22,
   "metadata": {},
   "outputs": [
    {
     "data": {
      "image/png": "[encoded data removed]",
      "text/plain": [
       "<Figure size 432x288 with 2 Axes>"
      ]
     },
     "metadata": {
      "needs_background": "light"
     },
     "output_type": "display_data"
    }
   ],
   "source": [
    "sns.heatmap(n_frags.drop(['Total'], axis=0).drop(['Total'], axis=1), linewidths=1, annot=True, cbar_kws={\"label\": \"# Fragments\"}, cmap=\"Blues\", fmt='g')\n",
    "plt.show()"
   ]
  },
  {
   "cell_type": "code",
   "execution_count": 12,
   "metadata": {},
   "outputs": [],
   "source": [
    "groups = df_AP.group.unique()"
   ]
  },
  {
   "cell_type": "code",
   "execution_count": 13,
   "metadata": {},
   "outputs": [
    {
     "name": "stdout",
     "output_type": "stream",
     "text": [
      "Other 393\n",
      "TK 961\n",
      "TKL 262\n",
      "AGC 230\n",
      "CMGC 1064\n",
      "CAMK 579\n",
      "CK1 79\n",
      "STE 213\n"
     ]
    }
   ],
   "source": [
    "# unique fragments per group per subpocket\n",
    "for group in groups:\n",
    "    \n",
    "    df = data[data.group==group]\n",
    "    n = 0\n",
    "    \n",
    "    for subpocket in subpockets:\n",
    "        \n",
    "        n_s = df[df.subpocket==subpocket].smiles.nunique()\n",
    "        n += n_s\n",
    "    \n",
    "    print(group, n)"
   ]
  },
  {
   "cell_type": "code",
   "execution_count": null,
   "metadata": {},
   "outputs": [],
   "source": []
  }
 ],
 "metadata": {
  "kernelspec": {
   "display_name": "Python 3",
   "language": "python",
   "name": "python3"
  },
  "language_info": {
   "codemirror_mode": {
    "name": "ipython",
    "version": 3
   },
   "file_extension": ".py",
   "mimetype": "text/x-python",
   "name": "python",
   "nbconvert_exporter": "python",
   "pygments_lexer": "ipython3",
   "version": "3.6.8"
  }
 },
 "nbformat": 4,
 "nbformat_minor": 2
}
