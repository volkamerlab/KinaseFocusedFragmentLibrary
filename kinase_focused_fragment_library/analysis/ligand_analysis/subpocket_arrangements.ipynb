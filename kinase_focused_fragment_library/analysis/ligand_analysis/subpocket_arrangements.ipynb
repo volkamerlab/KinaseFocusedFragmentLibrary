{
 "cells": [
  {
   "cell_type": "code",
   "execution_count": 6,
   "metadata": {},
   "outputs": [],
   "source": [
    "from rdkit import Chem\n",
    "from rdkit.Chem import AllChem\n",
    "from rdkit.Chem import Draw\n",
    "from rdkit.Chem.Draw import IPythonConsole\n",
    "from rdkit.Chem.PropertyMol import PropertyMol\n",
    "Chem.SetDefaultPickleProperties(Chem.PropertyPickleOptions.AllProps)\n",
    "import pickle\n",
    "import sys\n",
    "from pathlib import Path"
   ]
  },
  {
   "cell_type": "code",
   "execution_count": 7,
   "metadata": {},
   "outputs": [],
   "source": [
    "sys.path.append('/home/paula/Masterarbeit/KinaseFocusedFragmentLibrary/kinase_focused_fragment_library/analysis/ligand_analysis')\n",
    "sys.path.append('/home/paula/Masterarbeit/KinaseFocusedFragmentLibrary/kinase_focused_fragment_library/recombination')\n",
    "from construct_ligand import construct_ligand, read_fragment_library\n",
    "from novelty import read_scaffolds"
   ]
  },
  {
   "cell_type": "code",
   "execution_count": 8,
   "metadata": {},
   "outputs": [],
   "source": [
    "def pickle_loader(pickle_file):\n",
    "\n",
    "    try:\n",
    "        while True:\n",
    "            yield pickle.load(pickle_file)\n",
    "    except EOFError:\n",
    "        pass"
   ]
  },
  {
   "cell_type": "code",
   "execution_count": 9,
   "metadata": {},
   "outputs": [],
   "source": [
    "combinatorial_library_folder = Path('/home/paula/Masterarbeit/CombinatorialLibrary/')\n",
    "file_name = combinatorial_library_folder / 'combinatorial_library.pickle'"
   ]
  },
  {
   "cell_type": "code",
   "execution_count": 12,
   "metadata": {},
   "outputs": [
    {
     "name": "stdout",
     "output_type": "stream",
     "text": [
      "Number of fragments in AP : 2559\n",
      "Number of fragments in FP : 1865\n",
      "Number of fragments in SE : 1560\n",
      "Number of fragments in GA : 1023\n",
      "Number of fragments in B1 : 98\n",
      "Number of fragments in B2 : 92\n"
     ]
    }
   ],
   "source": [
    "subpockets = ['AP', 'FP', 'SE', 'GA', 'B1', 'B2']\n",
    "data = read_fragment_library(Path('/home/paula/Masterarbeit/FragmentLibrary'), subpockets)"
   ]
  },
  {
   "cell_type": "code",
   "execution_count": 13,
   "metadata": {},
   "outputs": [],
   "source": [
    "# analyze subpocket arrangements\n",
    "conn_count = {}\n",
    "count = 0\n",
    "\n",
    "with open(file_name, 'rb') as pickle_file:\n",
    "    \n",
    "    for ligand in pickle_loader(pickle_file):\n",
    "        count += 1\n",
    "        if count % 1000000 == 0:\n",
    "            print(count)\n",
    "        \n",
    "        mol = Chem.RemoveHs(construct_ligand(ligand.meta, data)[0])\n",
    "        \n",
    "        for atom in mol.GetAtoms():\n",
    "            subpocket = atom.GetProp('subpocket')\n",
    "            for neigh in atom.GetNeighbors():\n",
    "                n_subpocket = neigh.GetProp('subpocket') \n",
    "                if n_subpocket != subpocket:\n",
    "                    conn = frozenset((subpocket, n_subpocket))\n",
    "                    if conn in conn_count:\n",
    "                        conn_count[conn] += 1\n",
    "                    else:\n",
    "                        conn_count[conn] = 1"
   ]
  },
  {
   "cell_type": "code",
   "execution_count": 14,
   "metadata": {},
   "outputs": [
    {
     "data": {
      "text/plain": [
       "{frozenset({'AP', 'SE'}): 1248,\n",
       " frozenset({'AP', 'FP'}): 1006,\n",
       " frozenset({'AP', 'GA'}): 1118,\n",
       " frozenset({'FP', 'SE'}): 80,\n",
       " frozenset({'FP', 'GA'}): 144,\n",
       " frozenset({'B1', 'GA'}): 132}"
      ]
     },
     "execution_count": 14,
     "metadata": {},
     "output_type": "execute_result"
    }
   ],
   "source": [
    "conn_count"
   ]
  },
  {
   "cell_type": "code",
   "execution_count": null,
   "metadata": {},
   "outputs": [],
   "source": []
  }
 ],
 "metadata": {
  "kernelspec": {
   "display_name": "Python 3",
   "language": "python",
   "name": "python3"
  },
  "language_info": {
   "codemirror_mode": {
    "name": "ipython",
    "version": 3
   },
   "file_extension": ".py",
   "mimetype": "text/x-python",
   "name": "python",
   "nbconvert_exporter": "python",
   "pygments_lexer": "ipython3",
   "version": "3.6.8"
  }
 },
 "nbformat": 4,
 "nbformat_minor": 2
}
