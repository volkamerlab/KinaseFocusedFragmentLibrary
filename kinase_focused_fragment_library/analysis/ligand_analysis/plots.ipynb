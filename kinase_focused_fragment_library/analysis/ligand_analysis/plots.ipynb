{
 "cells": [
  {
   "cell_type": "code",
   "execution_count": 1,
   "metadata": {},
   "outputs": [],
   "source": [
    "from rdkit import Chem\n",
    "from rdkit.Chem import AllChem\n",
    "from rdkit.Chem import Draw\n",
    "from rdkit.Chem.Draw import IPythonConsole\n",
    "from rdkit.Chem.PropertyMol import PropertyMol\n",
    "Chem.SetDefaultPickleProperties(Chem.PropertyPickleOptions.AllProps)\n",
    "import pickle\n",
    "import sys\n",
    "from pathlib import Path\n",
    "import matplotlib.pyplot as plt"
   ]
  },
  {
   "cell_type": "code",
   "execution_count": 2,
   "metadata": {},
   "outputs": [],
   "source": [
    "sys.path.append('/home/paula/Masterarbeit/KinaseFocusedFragmentLibrary/kinase_focused_fragment_library/analysis/ligand_analysis')\n",
    "sys.path.append('/home/paula/Masterarbeit/KinaseFocusedFragmentLibrary/kinase_focused_fragment_library/recombination')\n",
    "from construct_ligand import construct_ligand, read_fragment_library\n",
    "from novelty import read_scaffolds"
   ]
  },
  {
   "cell_type": "code",
   "execution_count": 3,
   "metadata": {},
   "outputs": [],
   "source": [
    "def pickle_loader(pickle_file):\n",
    "\n",
    "    try:\n",
    "        while True:\n",
    "            yield pickle.load(pickle_file)\n",
    "    except EOFError:\n",
    "        pass"
   ]
  },
  {
   "cell_type": "markdown",
   "metadata": {},
   "source": [
    "## All recombinations:"
   ]
  },
  {
   "cell_type": "code",
   "execution_count": 4,
   "metadata": {},
   "outputs": [],
   "source": [
    "combinatorial_library_folder = Path('/home/paula/Masterarbeit/CombinatorialLibrary/')\n",
    "file_name = combinatorial_library_folder / 'combinatorial_library.pickle'"
   ]
  },
  {
   "cell_type": "code",
   "execution_count": 5,
   "metadata": {},
   "outputs": [],
   "source": [
    "# initializations\n",
    "\n",
    "count_ligands = 0\n",
    "lipinski_ligands, filtered_ligands = 0, 0\n",
    "wt_ligands = 0\n",
    "logp_ligands = 0\n",
    "hbd_ligands = 0\n",
    "hba_ligands = 0\n",
    "originals = 0\n",
    "original_subs = 0\n",
    "chembl_match = 0\n",
    "scaffold = 0\n",
    "novel = 0\n",
    "\n",
    "subpockets = ['AP', 'FP', 'SE', 'GA', 'B1', 'B2']\n",
    "\n",
    "n_per_sp, n_filtered_per_sp = {}, {}\n",
    "for subpocket in subpockets:\n",
    "    n_per_sp[subpocket] = 0\n",
    "    n_filtered_per_sp[subpocket] = 0\n",
    "\n",
    "n_sp, n_filtered_sp = {}, {}\n",
    "for i in range(len(subpockets)):\n",
    "    n_sp[i+1] = 0\n",
    "    n_filtered_sp[i+1] = 0\n",
    "    \n",
    "n_atoms = {}\n",
    "n_atoms_filtered = {}"
   ]
  },
  {
   "cell_type": "code",
   "execution_count": 6,
   "metadata": {},
   "outputs": [],
   "source": [
    "# combining the results\n",
    "\n",
    "with open(file_name, 'rb') as pickle_file:\n",
    "\n",
    "    for result in pickle_loader(pickle_file):\n",
    "        \n",
    "            if result is None:\n",
    "                continue\n",
    "\n",
    "            count_ligands += 1\n",
    "\n",
    "            # number of subpockets\n",
    "            n_sp[result.n_subpockets] += 1\n",
    "            # occupied subpockets\n",
    "            for frag_id in result.meta.frag_ids:\n",
    "                n_per_sp[frag_id[:2]] += 1\n",
    "\n",
    "            # lipinski rule\n",
    "            lipinski_ligands += result.lipinski\n",
    "            wt_ligands += result.mwt\n",
    "            logp_ligands += result.logp\n",
    "            hbd_ligands += result.hbd\n",
    "            hba_ligands += result.hba\n",
    "\n",
    "            n = result.n_atoms\n",
    "            # if Lipinski rule fulfilled\n",
    "            if result.lipinski == 1:\n",
    "                n_filtered_sp[len(result.meta.frag_ids)] += 1\n",
    "                n_atoms_filtered[n] = n_atoms_filtered[n] + 1 if n in n_atoms_filtered else 1\n",
    "                for frag_id in result.meta.frag_ids:\n",
    "                    n_filtered_per_sp[frag_id[:2]] += 1\n",
    "                filtered_ligands += 1\n",
    "\n",
    "            # number of atoms\n",
    "            n_atoms[n] = n_atoms[n] + 1 if n in n_atoms else 1\n",
    "        "
   ]
  },
  {
   "cell_type": "code",
   "execution_count": 7,
   "metadata": {},
   "outputs": [
    {
     "name": "stdout",
     "output_type": "stream",
     "text": [
      "653\n"
     ]
    }
   ],
   "source": [
    "print(count_ligands)"
   ]
  },
  {
   "cell_type": "code",
   "execution_count": 8,
   "metadata": {},
   "outputs": [
    {
     "name": "stdout",
     "output_type": "stream",
     "text": [
      "['45.33%', '85.3%', '99.39%', '77.34%', '71.98%']\n"
     ]
    },
    {
     "data": {
      "image/png": "[encoded data removed]",
      "text/plain": [
       "<Figure size 504x360 with 1 Axes>"
      ]
     },
     "metadata": {
      "needs_background": "light"
     },
     "output_type": "display_data"
    }
   ],
   "source": [
    "# plot Lipinski rule\n",
    "rules = [wt_ligands/count_ligands*100, logp_ligands/count_ligands*100, hbd_ligands/count_ligands*100,\n",
    "         hba_ligands/count_ligands*100, lipinski_ligands/count_ligands*100]\n",
    "plt.figure(figsize=(7,5))\n",
    "ax = plt.bar(range(5), rules, width=0.7)\n",
    "plt.ylabel('# Ligands [%]', fontsize=14)\n",
    "plt.xticks(range(5), ['MWT\\n'+r'$\\leq 500$', 'logP\\n'+r'$\\leq 5$', 'HBD\\n'+r'$\\leq 5$'\n",
    "                      , 'HBA\\n'+r'$\\leq 10$', 'Rule\\nof 5'], fontsize=14)\n",
    "plt.yticks(fontsize=13)\n",
    "#rects = ax.patches\n",
    "# calculate percentages\n",
    "labels = [str(round(n, 2))+'%' for n in rules]\n",
    "print(labels)\n",
    "#for rect, label in zip(rects, labels):\n",
    "#    height = rect.get_height()\n",
    "#    if height != 100 and height != 0:\n",
    "#        plt.text(rect.get_x() + rect.get_width() / 2, height + 0.2, label, ha='center', va='bottom')\n",
    "# plt.savefig(combinatorial_library_folder / 'lipinski.png')\n"
   ]
  },
  {
   "cell_type": "code",
   "execution_count": 9,
   "metadata": {},
   "outputs": [
    {
     "name": "stdout",
     "output_type": "stream",
     "text": [
      "['0.0%', '1.8376722817764166%', '10.872894333843798%', '87.28943338437979%', '0.0%', '0.0%']\n",
      "['0.0%', '2.553191489361702%', '14.893617021276595%', '82.5531914893617%', '0.0%', '0.0%']\n"
     ]
    },
    {
     "data": {
      "image/png": "[encoded data removed]",
      "text/plain": [
       "<Figure size 504x360 with 1 Axes>"
      ]
     },
     "metadata": {
      "needs_background": "light"
     },
     "output_type": "display_data"
    }
   ],
   "source": [
    "# plot number of subpockets per ligand\n",
    "plt.figure(figsize=(7,5))\n",
    "barWidth, space = 0.45, 0.2\n",
    "x_values = list(map(int, n_sp.keys()))\n",
    "ax1 = plt.bar(x_values, [n/count_ligands*100 for n in n_sp.values()], label='All ligands', width=barWidth, edgecolor='white')\n",
    "x_values = [x+barWidth for x in list(map(int, n_filtered_sp.keys()))]\n",
    "ax2 = plt.bar(x_values, [n/filtered_ligands*100 for n in n_filtered_sp.values()], label='Filtered ligands',\n",
    "              width=barWidth, edgecolor='white')\n",
    "plt.ylabel('# Ligands [%]', fontsize=14)\n",
    "plt.xlabel('# Subpockets', fontsize=14)\n",
    "\n",
    "rects1, rects2 = ax1.patches, ax2.patches\n",
    "# calculate percentages\n",
    "labels1 = [str(n/count_ligands*100)+'%' for n in n_sp.values()]\n",
    "labels2 = [str(n/filtered_ligands*100)+'%' for n in n_filtered_sp.values()]\n",
    "# for rect1, rect2, label1, label2 in zip(rects1, rects2, labels1, labels2):\n",
    "#     height = rect1.get_height()\n",
    "#     if height != 100 and height != 0:\n",
    "#         plt.text(rect1.get_x() + rect1.get_width() / 2, height + 0.2, label1, fontsize=8, ha='center', va='bottom')\n",
    "#     height = rect2.get_height()\n",
    "#     if height != 100 and height != 0:\n",
    "#         plt.text(rect2.get_x() + rect2.get_width() / 2, height + 0.2, label2, fontsize=8, ha='center', va='bottom')\n",
    "\n",
    "plt.xticks([r + barWidth/2 for r in range(1, 7)], range(1, 7), fontsize=12)\n",
    "plt.yticks(fontsize=12)\n",
    "plt.legend(loc='upper left', fontsize=14)\n",
    "# plt.savefig(combinatorial_library_folder / 'n_subpockets.png')\n",
    "\n",
    "print(labels1)\n",
    "print(labels2)"
   ]
  },
  {
   "cell_type": "code",
   "execution_count": 10,
   "metadata": {},
   "outputs": [
    {
     "name": "stdout",
     "output_type": "stream",
     "text": [
      "['100.0%', '90.5%', '96.5%', '88.4%', '10.1%', '0.0%']\n",
      "['100.0%', '86.8%', '95.1%', '84.0%', '14.0%', '0.0%']\n"
     ]
    },
    {
     "data": {
      "image/png": "[encoded data removed]",
      "text/plain": [
       "<Figure size 504x360 with 1 Axes>"
      ]
     },
     "metadata": {
      "needs_background": "light"
     },
     "output_type": "display_data"
    }
   ],
   "source": [
    "# plot number of fragments/ligands occupying each subpocket\n",
    "plt.figure(figsize=(7,5))\n",
    "barWidth, space = 0.45, 0.2\n",
    "ax1 = plt.bar(range(6), [n/count_ligands*100 for n in n_per_sp.values()], label='All ligands', width=barWidth, edgecolor='white')\n",
    "x_values = [x+barWidth for x in range(6)]\n",
    "ax2 = plt.bar(x_values, [n/filtered_ligands*100 for n in n_filtered_per_sp.values()], label='Filtered\\nligands', width=barWidth, edgecolor='white')\n",
    "\n",
    "plt.ylabel('# Ligands [%]', fontsize=14)\n",
    "plt.xlabel('Subpocket', fontsize=14)\n",
    "rects1, rects2 = ax1.patches, ax2.patches\n",
    "# calculate percentages\n",
    "labels1 = [str(round(n/count_ligands*100, 1))+'%' for n in n_per_sp.values()]\n",
    "labels2 = [str(round(n/filtered_ligands*100, 1))+'%' for n in n_filtered_per_sp.values()]\n",
    "# for rect1, rect2, label1, label2 in zip(rects1, rects2, labels1, labels2):\n",
    "#     height = rect1.get_height()\n",
    "#     if height != 100 and height != 0:\n",
    "#         plt.text(rect1.get_x() + rect1.get_width() / 2, height + 0.2, label1, fontsize=8, ha='center', va='bottom')\n",
    "#     height = rect2.get_height()\n",
    "#     if height != 100 and height != 0:\n",
    "#         plt.text(rect2.get_x() + rect2.get_width() / 2, height + 0.2, label2, fontsize=8, ha='center', va='bottom')\n",
    "\n",
    "plt.xticks([x + barWidth / 2 for x in range(6)], n_per_sp.keys(), fontsize=14)\n",
    "plt.yticks(fontsize=13)\n",
    "plt.legend(loc='upper right', fontsize=14)\n",
    "# plt.savefig(combinatorial_library_folder / 'n_frags.png')\n",
    "\n",
    "print(labels1)\n",
    "print(labels2)"
   ]
  },
  {
   "cell_type": "code",
   "execution_count": 11,
   "metadata": {},
   "outputs": [
    {
     "data": {
      "text/plain": [
       "<matplotlib.legend.Legend at 0x7f0191b30c18>"
      ]
     },
     "execution_count": 11,
     "metadata": {},
     "output_type": "execute_result"
    },
    {
     "data": {
      "image/png": "[encoded data removed]",
      "text/plain": [
       "<Figure size 504x360 with 1 Axes>"
      ]
     },
     "metadata": {
      "needs_background": "light"
     },
     "output_type": "display_data"
    }
   ],
   "source": [
    "# plot number of atoms per ligand\n",
    "plt.figure(figsize=(7,5))\n",
    "x = sorted(n_atoms)\n",
    "y = [n_atoms[key] for key in sorted(n_atoms)]\n",
    "plt.plot(x, [n/count_ligands*100 for n in y], label='All ligands', linewidth=2)\n",
    "#plt.bar(n_atoms.keys(), [n/count_ligands*100 for n in n_atoms.values()])\n",
    "x = sorted(n_atoms_filtered)\n",
    "y = [n_atoms_filtered[key] for key in sorted(n_atoms_filtered)]\n",
    "plt.plot(x, [n/filtered_ligands*100 for n in y], label='Filtered ligands', linewidth=2)\n",
    "plt.xticks(range(10, max(n_atoms)+1, 5), fontsize=13)\n",
    "plt.yticks(fontsize=13)\n",
    "plt.xlabel('# Heavy atoms', fontsize=14)\n",
    "plt.ylabel('# Ligands [%]', fontsize=14)\n",
    "plt.legend(loc='upper right', fontsize=14)\n",
    "# plt.savefig(combinatorial_library_folder / 'n_atoms.png')"
   ]
  },
  {
   "cell_type": "markdown",
   "metadata": {},
   "source": [
    "## Small subset:"
   ]
  },
  {
   "cell_type": "code",
   "execution_count": 12,
   "metadata": {},
   "outputs": [],
   "source": [
    "combinatorial_library_folder = Path('../CombinatorialLibrary/all_subpockets_286013/')\n",
    "file_name = combinatorial_library_folder / 'combinatorial_library.pickle'"
   ]
  },
  {
   "cell_type": "code",
   "execution_count": 13,
   "metadata": {},
   "outputs": [],
   "source": [
    "# initializations\n",
    "\n",
    "count_ligands = 0\n",
    "lipinski_ligands, filtered_ligands = 0, 0\n",
    "wt_ligands = 0\n",
    "logp_ligands = 0\n",
    "hbd_ligands = 0\n",
    "hba_ligands = 0\n",
    "originals = 0\n",
    "original_subs = 0\n",
    "chembl_match = 0\n",
    "scaffold = 0\n",
    "novel = 0\n",
    "\n",
    "subpockets = ['AP', 'FP', 'SE', 'GA', 'B1', 'B2']\n",
    "\n",
    "n_per_sp, n_filtered_per_sp = {}, {}\n",
    "for subpocket in subpockets:\n",
    "    n_per_sp[subpocket] = 0\n",
    "    n_filtered_per_sp[subpocket] = 0\n",
    "\n",
    "n_sp, n_filtered_sp = {}, {}\n",
    "for i in range(len(subpockets)):\n",
    "    n_sp[i+1] = 0\n",
    "    n_filtered_sp[i+1] = 0\n",
    "    \n",
    "n_atoms = {}\n",
    "n_atoms_filtered = {}"
   ]
  },
  {
   "cell_type": "code",
   "execution_count": 14,
   "metadata": {},
   "outputs": [
    {
     "ename": "FileNotFoundError",
     "evalue": "[Errno 2] No such file or directory: '../CombinatorialLibrary/all_subpockets_286013/combinatorial_library.pickle'",
     "output_type": "error",
     "traceback": [
      "\u001b[0;31m---------------------------------------------------------------------------\u001b[0m",
      "\u001b[0;31mFileNotFoundError\u001b[0m                         Traceback (most recent call last)",
      "\u001b[0;32m<ipython-input-14-873316dfbdfd>\u001b[0m in \u001b[0;36m<module>\u001b[0;34m\u001b[0m\n\u001b[1;32m      1\u001b[0m \u001b[0;31m# combining the results\u001b[0m\u001b[0;34m\u001b[0m\u001b[0;34m\u001b[0m\u001b[0;34m\u001b[0m\u001b[0m\n\u001b[1;32m      2\u001b[0m \u001b[0;34m\u001b[0m\u001b[0m\n\u001b[0;32m----> 3\u001b[0;31m \u001b[0;32mwith\u001b[0m \u001b[0mopen\u001b[0m\u001b[0;34m(\u001b[0m\u001b[0mfile_name\u001b[0m\u001b[0;34m,\u001b[0m \u001b[0;34m'rb'\u001b[0m\u001b[0;34m)\u001b[0m \u001b[0;32mas\u001b[0m \u001b[0mpickle_file\u001b[0m\u001b[0;34m:\u001b[0m\u001b[0;34m\u001b[0m\u001b[0;34m\u001b[0m\u001b[0m\n\u001b[0m\u001b[1;32m      4\u001b[0m \u001b[0;34m\u001b[0m\u001b[0m\n\u001b[1;32m      5\u001b[0m     \u001b[0;32mfor\u001b[0m \u001b[0mi\u001b[0m\u001b[0;34m,\u001b[0m \u001b[0mresult\u001b[0m \u001b[0;32min\u001b[0m \u001b[0menumerate\u001b[0m\u001b[0;34m(\u001b[0m\u001b[0mpickle_loader\u001b[0m\u001b[0;34m(\u001b[0m\u001b[0mpickle_file\u001b[0m\u001b[0;34m)\u001b[0m\u001b[0;34m)\u001b[0m\u001b[0;34m:\u001b[0m\u001b[0;34m\u001b[0m\u001b[0;34m\u001b[0m\u001b[0m\n",
      "\u001b[0;31mFileNotFoundError\u001b[0m: [Errno 2] No such file or directory: '../CombinatorialLibrary/all_subpockets_286013/combinatorial_library.pickle'"
     ]
    }
   ],
   "source": [
    "# combining the results\n",
    "\n",
    "with open(file_name, 'rb') as pickle_file:\n",
    "\n",
    "    for i, result in enumerate(pickle_loader(pickle_file)):\n",
    "        \n",
    "            if result is None:\n",
    "                continue\n",
    "\n",
    "            count_ligands += 1\n",
    "\n",
    "            # number of subpockets\n",
    "            n_sp[result.n_subpockets] += 1\n",
    "            # occupied subpockets\n",
    "            for frag_id in result.meta.frag_ids:\n",
    "                n_per_sp[frag_id[:2]] += 1\n",
    "\n",
    "            # lipinski rule\n",
    "            lipinski_ligands += result.lipinski\n",
    "            wt_ligands += result.mwt\n",
    "            logp_ligands += result.logp\n",
    "            hbd_ligands += result.hbd\n",
    "            hba_ligands += result.hba\n",
    "\n",
    "            n = result.n_atoms\n",
    "            # if Lipinski rule fulfilled\n",
    "            if result.lipinski == 1:\n",
    "                n_filtered_sp[len(result.meta.frag_ids)] += 1\n",
    "                n_atoms_filtered[n] = n_atoms_filtered[n] + 1 if n in n_atoms_filtered else 1\n",
    "                for frag_id in result.meta.frag_ids:\n",
    "                    n_filtered_per_sp[frag_id[:2]] += 1\n",
    "                filtered_ligands += 1\n",
    "\n",
    "            # number of atoms\n",
    "            n_atoms[n] = n_atoms[n] + 1 if n in n_atoms else 1\n",
    "        "
   ]
  },
  {
   "cell_type": "code",
   "execution_count": null,
   "metadata": {},
   "outputs": [],
   "source": [
    "print(count_ligands)"
   ]
  },
  {
   "cell_type": "code",
   "execution_count": null,
   "metadata": {},
   "outputs": [],
   "source": [
    "# plot Lipinski rule\n",
    "rules = [wt_ligands/count_ligands*100, logp_ligands/count_ligands*100, hbd_ligands/count_ligands*100,\n",
    "         hba_ligands/count_ligands*100, lipinski_ligands/count_ligands*100]\n",
    "plt.figure(figsize=(7,5))\n",
    "ax = plt.bar(range(5), rules, width=0.7)\n",
    "plt.ylabel('# Ligands [%]', fontsize=14)\n",
    "plt.xticks(range(5), ['MWT\\n'+r'$\\leq 500$', 'logP\\n'+r'$\\leq 5$', 'HBD\\n'+r'$\\leq 5$'\n",
    "                      , 'HBA\\n'+r'$\\leq 10$', 'Rule\\nof 5'], fontsize=14)\n",
    "plt.yticks(fontsize=13)\n",
    "#rects = ax.patches\n",
    "# calculate percentages\n",
    "labels = [str(round(n, 2))+'%' for n in rules]\n",
    "print(labels)\n",
    "#for rect, label in zip(rects, labels):\n",
    "#    height = rect.get_height()\n",
    "#    if height != 100 and height != 0:\n",
    "#        plt.text(rect.get_x() + rect.get_width() / 2, height + 0.2, label, ha='center', va='bottom')\n",
    "# plt.savefig(combinatorial_library_folder / 'lipinski.png')\n"
   ]
  },
  {
   "cell_type": "code",
   "execution_count": null,
   "metadata": {},
   "outputs": [],
   "source": [
    "# plot number of subpockets per ligand\n",
    "plt.figure(figsize=(7,5))\n",
    "barWidth, space = 0.45, 0.2\n",
    "x_values = list(map(int, n_sp.keys()))\n",
    "ax1 = plt.bar(x_values, [n/count_ligands*100 for n in n_sp.values()], label='All ligands', width=barWidth, edgecolor='white')\n",
    "x_values = [x+barWidth for x in list(map(int, n_filtered_sp.keys()))]\n",
    "ax2 = plt.bar(x_values, [n/filtered_ligands*100 for n in n_filtered_sp.values()], label='Filtered ligands',\n",
    "              width=barWidth, edgecolor='white')\n",
    "plt.ylabel('# Ligands [%]', fontsize=14)\n",
    "plt.xlabel('# Subpockets', fontsize=14)\n",
    "\n",
    "rects1, rects2 = ax1.patches, ax2.patches\n",
    "# calculate percentages\n",
    "labels1 = [str(round(n/count_ligands*100, 1))+'%' for n in n_sp.values()]\n",
    "labels2 = [str(round(n/filtered_ligands*100, 1))+'%' for n in n_filtered_sp.values()]\n",
    "# for rect1, rect2, label1, label2 in zip(rects1, rects2, labels1, labels2):\n",
    "#     height = rect1.get_height()\n",
    "#     if height != 100 and height != 0:\n",
    "#         plt.text(rect1.get_x() + rect1.get_width() / 2, height + 0.2, label1, fontsize=8, ha='center', va='bottom')\n",
    "#     height = rect2.get_height()\n",
    "#     if height != 100 and height != 0:\n",
    "#         plt.text(rect2.get_x() + rect2.get_width() / 2, height + 0.2, label2, fontsize=8, ha='center', va='bottom')\n",
    "\n",
    "plt.xticks([r + barWidth/2 for r in range(1, 7)], range(1, 7), fontsize=13)\n",
    "plt.yticks(fontsize=13)\n",
    "plt.legend(loc='upper left', fontsize=14)\n",
    "# plt.savefig(combinatorial_library_folder / 'n_subpockets.png')\n",
    "\n",
    "print(labels1)\n",
    "print(labels2)"
   ]
  },
  {
   "cell_type": "code",
   "execution_count": null,
   "metadata": {},
   "outputs": [],
   "source": [
    "# plot number of fragments/ligands occupying each subpocket\n",
    "plt.figure(figsize=(7,5))\n",
    "barWidth, space = 0.45, 0.2\n",
    "ax1 = plt.bar(range(6), [n/count_ligands*100 for n in n_per_sp.values()], label='All ligands', width=barWidth, edgecolor='white')\n",
    "x_values = [x+barWidth for x in range(6)]\n",
    "ax2 = plt.bar(x_values, [n/filtered_ligands*100 for n in n_filtered_per_sp.values()], label='Filtered ligands', width=barWidth, edgecolor='white')\n",
    "\n",
    "plt.ylabel('# Ligands [%]', fontsize=14)\n",
    "rects1, rects2 = ax1.patches, ax2.patches\n",
    "# calculate percentages\n",
    "labels1 = [str(round(n/count_ligands*100, 1))+'%' for n in n_per_sp.values()]\n",
    "labels2 = [str(round(n/filtered_ligands*100, 1))+'%' for n in n_filtered_per_sp.values()]\n",
    "# for rect1, rect2, label1, label2 in zip(rects1, rects2, labels1, labels2):\n",
    "#     height = rect1.get_height()\n",
    "#     if height != 100 and height != 0:\n",
    "#         plt.text(rect1.get_x() + rect1.get_width() / 2, height + 0.2, label1, fontsize=8, ha='center', va='bottom')\n",
    "#     height = rect2.get_height()\n",
    "#     if height != 100 and height != 0:\n",
    "#         plt.text(rect2.get_x() + rect2.get_width() / 2, height + 0.2, label2, fontsize=8, ha='center', va='bottom')\n",
    "\n",
    "plt.xticks([x + barWidth / 2 for x in range(6)], n_per_sp.keys(), fontsize=14)\n",
    "plt.yticks(fontsize=13)\n",
    "plt.legend(loc='upper right', fontsize=14)\n",
    "# plt.savefig(combinatorial_library_folder / 'n_frags.png')\n",
    "\n",
    "print(labels1)\n",
    "print(labels2)"
   ]
  },
  {
   "cell_type": "code",
   "execution_count": null,
   "metadata": {},
   "outputs": [],
   "source": [
    "# plot number of atoms per ligand\n",
    "plt.figure(figsize=(7,5))\n",
    "x = sorted(n_atoms)\n",
    "y = [n_atoms[key] for key in sorted(n_atoms)]\n",
    "plt.plot(x, [n/count_ligands*100 for n in y], label='All ligands', linewidth=2)\n",
    "#plt.bar(n_atoms.keys(), [n/count_ligands*100 for n in n_atoms.values()])\n",
    "x = sorted(n_atoms_filtered)\n",
    "y = [n_atoms_filtered[key] for key in sorted(n_atoms_filtered)]\n",
    "plt.plot(x, [n/filtered_ligands*100 for n in y], label='Filtered ligands', linewidth=2)\n",
    "plt.xticks(range(10, max(n_atoms)+1, 5), fontsize=13)\n",
    "plt.yticks(fontsize=13)\n",
    "plt.xlabel('# Heavy atoms', fontsize=14)\n",
    "plt.ylabel('# Ligands [%]', fontsize=14)\n",
    "plt.legend(loc='upper right', fontsize=14)\n",
    "# plt.savefig(combinatorial_library_folder / 'n_atoms.png')"
   ]
  },
  {
   "cell_type": "code",
   "execution_count": null,
   "metadata": {},
   "outputs": [],
   "source": []
  }
 ],
 "metadata": {
  "kernelspec": {
   "display_name": "Python 3",
   "language": "python",
   "name": "python3"
  },
  "language_info": {
   "codemirror_mode": {
    "name": "ipython",
    "version": 3
   },
   "file_extension": ".py",
   "mimetype": "text/x-python",
   "name": "python",
   "nbconvert_exporter": "python",
   "pygments_lexer": "ipython3",
   "version": "3.6.8"
  }
 },
 "nbformat": 4,
 "nbformat_minor": 2
}
