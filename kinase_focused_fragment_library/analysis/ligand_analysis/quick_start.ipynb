{
 "cells": [
  {
   "cell_type": "markdown",
   "metadata": {},
   "source": [
    "# Quick start for working with the combinatorial library"
   ]
  },
  {
   "cell_type": "code",
   "execution_count": 1,
   "metadata": {},
   "outputs": [
    {
     "name": "stderr",
     "output_type": "stream",
     "text": [
      "RDKit WARNING: [15:47:22] Enabling RDKit 2019.09.3 jupyter extensions\n"
     ]
    }
   ],
   "source": [
    "from pathlib import Path\n",
    "import pickle\n",
    "import sys\n",
    "\n",
    "from rdkit import Chem\n",
    "from rdkit.Chem import AllChem\n",
    "from rdkit.Chem import Draw\n",
    "from rdkit.Chem.Draw import IPythonConsole\n",
    "from rdkit.Chem.PropertyMol import PropertyMol\n",
    "Chem.SetDefaultPickleProperties(Chem.PropertyPickleOptions.AllProps)\n",
    "\n",
    "import kinase_focused_fragment_library as kffl\n",
    "import klifs_utils as klifs"
   ]
  },
  {
   "cell_type": "code",
   "execution_count": 50,
   "metadata": {},
   "outputs": [],
   "source": [
    "PROJECT_PATH = Path('/home/dominique/Documents/Projects/')\n",
    "\n",
    "FRAGMENT_LIBRARY_PATH = PROJECT_PATH / 'KinaseFocusedFragmentLibraryData' / 'FragmentLibrary'\n",
    "COMBINATORIAL_LIBRARY_PATH = PROJECT_PATH / 'KinaseFocusedFragmentLibraryData' / 'CombinatorialLibrary'\n",
    "\n",
    "SUBPOCKETS = ['AP', 'FP', 'SE', 'GA', 'B1', 'B2']"
   ]
  },
  {
   "cell_type": "code",
   "execution_count": 42,
   "metadata": {},
   "outputs": [],
   "source": [
    "sys.path.append(str(PROJECT_PATH / 'KinaseFocusedFragmentLibrary' / 'kinase_focused_fragment_library' / 'analysis' / 'ligand_analysis'))\n",
    "from construct_ligand import construct_ligand, read_fragment_library\n",
    "from standardize import standardize_mol\n",
    "from combinatorial_library_pickle2text import get_combinatorial_library_data\n",
    "\n",
    "sys.path.append(str(PROJECT_PATH / 'KinaseFocusedFragmentLibrary' / 'kinase_focused_fragment_library' / 'recombination'))\n",
    "from pickle_loader import pickle_loader"
   ]
  },
  {
   "cell_type": "markdown",
   "metadata": {},
   "source": [
    "## Load (reduced) fragment library"
   ]
  },
  {
   "cell_type": "code",
   "execution_count": 11,
   "metadata": {},
   "outputs": [],
   "source": [
    "fragment_library = kffl.analysis.fragment_analysis.util.read_fragment_library(\n",
    "    FRAGMENT_LIBRARY_PATH, \n",
    "    remove_dummy=True, \n",
    "    reduced='_reduced_0.6'\n",
    ")\n",
    "del fragment_library['X']  # This pool contains only fragments without subpocket assignment"
   ]
  },
  {
   "cell_type": "code",
   "execution_count": 12,
   "metadata": {},
   "outputs": [
    {
     "data": {
      "text/plain": [
       "dict_keys(['AP', 'FP', 'SE', 'GA', 'B1', 'B2'])"
      ]
     },
     "execution_count": 12,
     "metadata": {},
     "output_type": "execute_result"
    }
   ],
   "source": [
    "fragment_library.keys()"
   ]
  },
  {
   "cell_type": "code",
   "execution_count": 56,
   "metadata": {},
   "outputs": [
    {
     "data": {
      "text/html": [
       "<div>\n",
       "<style scoped>\n",
       "    .dataframe tbody tr th:only-of-type {\n",
       "        vertical-align: middle;\n",
       "    }\n",
       "\n",
       "    .dataframe tbody tr th {\n",
       "        vertical-align: top;\n",
       "    }\n",
       "\n",
       "    .dataframe thead th {\n",
       "        text-align: right;\n",
       "    }\n",
       "</style>\n",
       "<table border=\"1\" class=\"dataframe\">\n",
       "  <thead>\n",
       "    <tr style=\"text-align: right;\">\n",
       "      <th></th>\n",
       "      <th>smiles</th>\n",
       "      <th>fragment</th>\n",
       "      <th>kinase</th>\n",
       "      <th>family</th>\n",
       "      <th>group</th>\n",
       "      <th>complex_pdb</th>\n",
       "      <th>ligand_pdb</th>\n",
       "      <th>alt</th>\n",
       "      <th>chain</th>\n",
       "      <th>klifs_code</th>\n",
       "      <th>atom.prop.subpocket</th>\n",
       "      <th>atom.prop.environment</th>\n",
       "    </tr>\n",
       "  </thead>\n",
       "  <tbody>\n",
       "    <tr>\n",
       "      <th>0</th>\n",
       "      <td>c1cnc2[nH]c3cnccc3c2c1</td>\n",
       "      <td>&lt;rdkit.Chem.rdchem.Mol object at 0x7f14247b4f30&gt;</td>\n",
       "      <td>CHK1</td>\n",
       "      <td>CAMKL</td>\n",
       "      <td>CAMK</td>\n",
       "      <td>4qyg</td>\n",
       "      <td>3DW</td>\n",
       "      <td></td>\n",
       "      <td>A</td>\n",
       "      <td>4qyg_chainA</td>\n",
       "      <td>AP AP AP AP AP AP AP AP AP AP AP AP AP AP AP A...</td>\n",
       "      <td>16 16 16 16 16 16 16 16 16 16 16 16 16 16 16 1...</td>\n",
       "    </tr>\n",
       "    <tr>\n",
       "      <th>1</th>\n",
       "      <td>Nc1cccc2ncccc12</td>\n",
       "      <td>&lt;rdkit.Chem.rdchem.Mol object at 0x7f1424292b70&gt;</td>\n",
       "      <td>PIM1</td>\n",
       "      <td>PIM</td>\n",
       "      <td>CAMK</td>\n",
       "      <td>5mzl</td>\n",
       "      <td>8ET</td>\n",
       "      <td>A</td>\n",
       "      <td>A</td>\n",
       "      <td>5mzl_altA_chainA</td>\n",
       "      <td>AP AP AP AP AP AP AP AP AP AP AP AP AP AP AP A...</td>\n",
       "      <td>16 16 16 16 16 16 5 5 16 16 16 16 16 16 16 16 ...</td>\n",
       "    </tr>\n",
       "    <tr>\n",
       "      <th>2</th>\n",
       "      <td>Nc1nc(N)c2ncccc2n1</td>\n",
       "      <td>&lt;rdkit.Chem.rdchem.Mol object at 0x7f14247b4f80&gt;</td>\n",
       "      <td>IRAK4</td>\n",
       "      <td>IRAK</td>\n",
       "      <td>TKL</td>\n",
       "      <td>6rfj</td>\n",
       "      <td>K1E</td>\n",
       "      <td></td>\n",
       "      <td>A</td>\n",
       "      <td>6rfj_chainA</td>\n",
       "      <td>AP AP AP AP AP AP AP AP AP AP AP AP AP AP AP A...</td>\n",
       "      <td>14 14 14 14 14 14 14 14 14 5 5 14 14 14 5 5 na...</td>\n",
       "    </tr>\n",
       "    <tr>\n",
       "      <th>3</th>\n",
       "      <td>Cc1cnc2ccnn2c1N</td>\n",
       "      <td>&lt;rdkit.Chem.rdchem.Mol object at 0x7f14247b4da0&gt;</td>\n",
       "      <td>CDK2</td>\n",
       "      <td>CDK</td>\n",
       "      <td>CMGC</td>\n",
       "      <td>3wbl</td>\n",
       "      <td>PDY</td>\n",
       "      <td></td>\n",
       "      <td>A</td>\n",
       "      <td>3wbl_chainA</td>\n",
       "      <td>AP AP AP AP AP AP AP AP AP AP AP AP AP AP AP A...</td>\n",
       "      <td>16 16 8 8 8 8 16 16 16 16 16 16 16 16 16 5 5 n...</td>\n",
       "    </tr>\n",
       "    <tr>\n",
       "      <th>4</th>\n",
       "      <td>c1ccc2[nH]ncc2c1</td>\n",
       "      <td>&lt;rdkit.Chem.rdchem.Mol object at 0x7f1424292990&gt;</td>\n",
       "      <td>BARK1</td>\n",
       "      <td>GRK</td>\n",
       "      <td>AGC</td>\n",
       "      <td>5he1</td>\n",
       "      <td>ZS2</td>\n",
       "      <td>A</td>\n",
       "      <td>A</td>\n",
       "      <td>5he1_altA_chainA</td>\n",
       "      <td>AP AP AP AP AP AP AP AP AP AP AP AP AP AP FP</td>\n",
       "      <td>16 16 16 16 16 16 16 16 16 16 16 16 16 16 na</td>\n",
       "    </tr>\n",
       "  </tbody>\n",
       "</table>\n",
       "</div>"
      ],
      "text/plain": [
       "                   smiles                                          fragment  \\\n",
       "0  c1cnc2[nH]c3cnccc3c2c1  <rdkit.Chem.rdchem.Mol object at 0x7f14247b4f30>   \n",
       "1         Nc1cccc2ncccc12  <rdkit.Chem.rdchem.Mol object at 0x7f1424292b70>   \n",
       "2      Nc1nc(N)c2ncccc2n1  <rdkit.Chem.rdchem.Mol object at 0x7f14247b4f80>   \n",
       "3         Cc1cnc2ccnn2c1N  <rdkit.Chem.rdchem.Mol object at 0x7f14247b4da0>   \n",
       "4        c1ccc2[nH]ncc2c1  <rdkit.Chem.rdchem.Mol object at 0x7f1424292990>   \n",
       "\n",
       "  kinase family group complex_pdb ligand_pdb alt chain        klifs_code  \\\n",
       "0   CHK1  CAMKL  CAMK        4qyg        3DW         A       4qyg_chainA   \n",
       "1   PIM1    PIM  CAMK        5mzl        8ET   A     A  5mzl_altA_chainA   \n",
       "2  IRAK4   IRAK   TKL        6rfj        K1E         A       6rfj_chainA   \n",
       "3   CDK2    CDK  CMGC        3wbl        PDY         A       3wbl_chainA   \n",
       "4  BARK1    GRK   AGC        5he1        ZS2   A     A  5he1_altA_chainA   \n",
       "\n",
       "                                 atom.prop.subpocket  \\\n",
       "0  AP AP AP AP AP AP AP AP AP AP AP AP AP AP AP A...   \n",
       "1  AP AP AP AP AP AP AP AP AP AP AP AP AP AP AP A...   \n",
       "2  AP AP AP AP AP AP AP AP AP AP AP AP AP AP AP A...   \n",
       "3  AP AP AP AP AP AP AP AP AP AP AP AP AP AP AP A...   \n",
       "4       AP AP AP AP AP AP AP AP AP AP AP AP AP AP FP   \n",
       "\n",
       "                               atom.prop.environment  \n",
       "0  16 16 16 16 16 16 16 16 16 16 16 16 16 16 16 1...  \n",
       "1  16 16 16 16 16 16 5 5 16 16 16 16 16 16 16 16 ...  \n",
       "2  14 14 14 14 14 14 14 14 14 5 5 14 14 14 5 5 na...  \n",
       "3  16 16 8 8 8 8 16 16 16 16 16 16 16 16 16 5 5 n...  \n",
       "4       16 16 16 16 16 16 16 16 16 16 16 16 16 16 na  "
      ]
     },
     "execution_count": 56,
     "metadata": {},
     "output_type": "execute_result"
    }
   ],
   "source": [
    "fragment_library['AP'].head()"
   ]
  },
  {
   "cell_type": "markdown",
   "metadata": {},
   "source": [
    "## Load original ligands"
   ]
  },
  {
   "cell_type": "code",
   "execution_count": 14,
   "metadata": {},
   "outputs": [
    {
     "name": "stdout",
     "output_type": "stream",
     "text": [
      "Fragments: 801\n",
      "Deduplicated kinase-structure pairs from which fragments originate: 694\n"
     ]
    }
   ],
   "source": [
    "# Get deduplicated kinase-structure pairs\n",
    "kinase_structure_pairs = kffl.analysis.fragment_analysis.util.get_deduplicated_original_complexes(fragment_library)\n",
    "kinase_structure_pairs['species'] = 'HUMAN'\n",
    "\n",
    "# Get ligands\n",
    "original_ligands = klifs.ligands.mols_from_mol2s(PROJECT_PATH / 'KinaseFocusedFragmentLibraryData', kinase_structure_pairs)"
   ]
  },
  {
   "cell_type": "markdown",
   "metadata": {},
   "source": [
    "## Load and work with recombined ligands"
   ]
  },
  {
   "cell_type": "markdown",
   "metadata": {},
   "source": [
    "Initially, Paula saved the combinatorial library as `pickle` file. \n",
    "\n",
    "Since this format apparently cannot be read in any more after making structural changes to the the code (refactoring the code to be used as library), the pickled data was reformatted and saved as text files additionally.\n",
    "\n",
    "* `pickle` file\n",
    "  * `combinatorial_library.pickle`\n",
    "  \n",
    "* text files\n",
    "  * `combinatorial_library_fragment_bonds.json`\n",
    "  * `combinatorial_library_fragment_ids.json`\n",
    "  * `combinatorial_library_properties.csv`"
   ]
  },
  {
   "cell_type": "markdown",
   "metadata": {},
   "source": [
    "### Use `pickle` file"
   ]
  },
  {
   "cell_type": "code",
   "execution_count": 32,
   "metadata": {},
   "outputs": [],
   "source": [
    "combinatorial_library_path = COMBINATORIAL_LIBRARY_PATH / 'combinatorial_library.pickle'"
   ]
  },
  {
   "cell_type": "markdown",
   "metadata": {},
   "source": [
    "#### Perform calculations on each ligand"
   ]
  },
  {
   "cell_type": "raw",
   "metadata": {},
   "source": [
    "# takes about 1-2 minutes\n",
    "with open(combinatorial_library_path, 'rb') as pickle_file:\n",
    "\n",
    "    for i, ligand in enumerate(pickle_loader(pickle_file)):\n",
    "\n",
    "        # perform some calculations on each\n",
    "        ligand"
   ]
  },
  {
   "cell_type": "markdown",
   "metadata": {},
   "source": [
    "Reading *and* storing all ligands takes a lot of memory, therefore any calculations needed to be done on all ligands should be done within this for-loop."
   ]
  },
  {
   "cell_type": "markdown",
   "metadata": {},
   "source": [
    "#### Read in a single specific ligand"
   ]
  },
  {
   "cell_type": "raw",
   "metadata": {},
   "source": [
    "with open(combinatorial_library_path, 'rb') as pickle_file:\n",
    "    \n",
    "    # fenclozic acid (approved drug): 3509547\n",
    "    for i in range(3509547):\n",
    "        ligand = next(pickle_loader(pickle_file))"
   ]
  },
  {
   "cell_type": "code",
   "execution_count": 34,
   "metadata": {},
   "outputs": [],
   "source": [
    "with open(combinatorial_library_path, 'rb') as pickle_file:\n",
    "    \n",
    "    # first ligand\n",
    "    for i in range(1):\n",
    "        ligand = next(pickle_loader(pickle_file))"
   ]
  },
  {
   "cell_type": "markdown",
   "metadata": {},
   "source": [
    "#### Read in several ligands from a given list of ligand IDs (sorted ascendingly!):"
   ]
  },
  {
   "cell_type": "code",
   "execution_count": 30,
   "metadata": {},
   "outputs": [],
   "source": [
    "ligand_ids = [345, 83759, 3509547]"
   ]
  },
  {
   "cell_type": "code",
   "execution_count": 35,
   "metadata": {},
   "outputs": [
    {
     "name": "stdout",
     "output_type": "stream",
     "text": [
      "345\n",
      "83759\n",
      "3509547\n"
     ]
    }
   ],
   "source": [
    "ligands = []\n",
    "\n",
    "counter = 0\n",
    "current_id = ligand_ids[counter]\n",
    "\n",
    "with open(combinatorial_library_path, 'rb') as pickle_file:\n",
    "    \n",
    "    for i in range(max(ligand_ids)):\n",
    "        ligand = next(pickle_loader(pickle_file))\n",
    "        \n",
    "        current_id = ligand_ids[counter]\n",
    "        # store ligand corresponding to an ID in ligand_ids in list of ligands\n",
    "        if i == current_id-1:\n",
    "            print(current_id)\n",
    "            ligands.append(ligand)\n",
    "            counter += 1"
   ]
  },
  {
   "cell_type": "code",
   "execution_count": 36,
   "metadata": {},
   "outputs": [
    {
     "data": {
      "text/plain": [
       "[<Result.Result at 0x7f14231ff080>,\n",
       " <Result.Result at 0x7f14231ff3c8>,\n",
       " <Result.Result at 0x7f14231ff710>]"
      ]
     },
     "execution_count": 36,
     "metadata": {},
     "output_type": "execute_result"
    }
   ],
   "source": [
    "ligands"
   ]
  },
  {
   "cell_type": "markdown",
   "metadata": {},
   "source": [
    "### Work with ligands\n",
    "\n",
    "Example ligand for cells below: Fenclozic acid (3509547)."
   ]
  },
  {
   "cell_type": "code",
   "execution_count": 37,
   "metadata": {},
   "outputs": [],
   "source": [
    "ligand = ligands[2]"
   ]
  },
  {
   "cell_type": "markdown",
   "metadata": {},
   "source": [
    "#### Access ligand properties"
   ]
  },
  {
   "cell_type": "code",
   "execution_count": 38,
   "metadata": {},
   "outputs": [
    {
     "data": {
      "text/plain": [
       "{'meta': <classes_meta.Combination at 0x7f142321be10>,\n",
       " 'n_subpockets': 3,\n",
       " 'lipinski': 1,\n",
       " 'mwt': 1,\n",
       " 'logp': 1,\n",
       " 'hbd': 1,\n",
       " 'hba': 1,\n",
       " 'n_atoms': 16,\n",
       " 'original': 0,\n",
       " 'original_sub': 0,\n",
       " 'chembl_match': 1}"
      ]
     },
     "execution_count": 38,
     "metadata": {},
     "output_type": "execute_result"
    }
   ],
   "source": [
    "vars(ligand)"
   ]
  },
  {
   "cell_type": "code",
   "execution_count": 39,
   "metadata": {},
   "outputs": [
    {
     "data": {
      "text/plain": [
       "{'frag_ids': frozenset({'AP_213', 'GA_51', 'SE_41'}),\n",
       " 'bonds': frozenset({frozenset({'AP_6', 'SE_7'}),\n",
       "            frozenset({'AP_5', 'GA_4'})})}"
      ]
     },
     "execution_count": 39,
     "metadata": {},
     "output_type": "execute_result"
    }
   ],
   "source": [
    "# metadata containing information which fragments need to be connected at which bond\n",
    "vars(ligand.meta)"
   ]
  },
  {
   "cell_type": "markdown",
   "metadata": {},
   "source": [
    "#### Generate a molecule object for this ligand and standardize the molecule"
   ]
  },
  {
   "cell_type": "code",
   "execution_count": 51,
   "metadata": {},
   "outputs": [
    {
     "name": "stdout",
     "output_type": "stream",
     "text": [
      "Number of fragments in AP : 230\n",
      "Number of fragments in FP : 254\n",
      "Number of fragments in SE : 160\n",
      "Number of fragments in GA : 100\n",
      "Number of fragments in B1 : 23\n",
      "Number of fragments in B2 : 34\n"
     ]
    }
   ],
   "source": [
    "fragment_library_mols = read_fragment_library(FRAGMENT_LIBRARY_PATH, SUBPOCKETS)"
   ]
  },
  {
   "cell_type": "code",
   "execution_count": 52,
   "metadata": {},
   "outputs": [
    {
     "data": {
      "image/png": "[encoded data removed]",
      "text/plain": [
       "<rdkit.Chem.rdchem.Mol at 0x7f14232c58a0>"
      ]
     },
     "execution_count": 52,
     "metadata": {},
     "output_type": "execute_result"
    }
   ],
   "source": [
    "mol = standardize_mol(construct_ligand(ligand.meta, fragment_library_mols))\n",
    "mol"
   ]
  },
  {
   "cell_type": "code",
   "execution_count": 53,
   "metadata": {},
   "outputs": [
    {
     "data": {
      "image/png": "[encoded data removed]",
      "text/plain": [
       "<rdkit.Chem.rdchem.Mol at 0x7f14232c58a0>"
      ]
     },
     "execution_count": 53,
     "metadata": {},
     "output_type": "execute_result"
    }
   ],
   "source": [
    "AllChem.Compute2DCoords(mol)\n",
    "mol"
   ]
  },
  {
   "cell_type": "markdown",
   "metadata": {},
   "source": [
    "#### Subpocket and KLIFS metadata\n",
    "\n",
    "To which subpockets were the fragments assigned and from which ligands do the fragment originate?"
   ]
  },
  {
   "cell_type": "code",
   "execution_count": 54,
   "metadata": {},
   "outputs": [],
   "source": [
    "highlightAtomLists = []\n",
    "legends = []\n",
    "\n",
    "for subpocket in SUBPOCKETS:\n",
    "    highlight_atoms = []\n",
    "    legend = subpocket\n",
    "    \n",
    "    for atom in mol.GetAtoms():\n",
    "        \n",
    "        if atom.HasProp('subpocket'):\n",
    "            \n",
    "            if atom.GetProp('subpocket') == subpocket:\n",
    "                \n",
    "                highlight_atoms.append(atom.GetIdx())\n",
    "                legend = subpocket + ': '+atom.GetProp('frag_id')\n",
    "    \n",
    "    highlightAtomLists.append(highlight_atoms)\n",
    "    legends.append(legend)"
   ]
  },
  {
   "cell_type": "code",
   "execution_count": 55,
   "metadata": {},
   "outputs": [
    {
     "data": {
      "image/png": "[encoded data removed]",
      "text/plain": [
       "<PIL.PngImagePlugin.PngImageFile image mode=RGB size=700x480 at 0x7F14232B0F28>"
      ]
     },
     "execution_count": 55,
     "metadata": {},
     "output_type": "execute_result"
    }
   ],
   "source": [
    "Draw.MolsToGridImage([mol, mol, mol, mol, mol, mol], \n",
    "                     highlightAtomLists=highlightAtomLists, legends=legends, molsPerRow=2, subImgSize=(350, 160))"
   ]
  }
 ],
 "metadata": {
  "kernelspec": {
   "display_name": "Python 3",
   "language": "python",
   "name": "python3"
  },
  "language_info": {
   "codemirror_mode": {
    "name": "ipython",
    "version": 3
   },
   "file_extension": ".py",
   "mimetype": "text/x-python",
   "name": "python",
   "nbconvert_exporter": "python",
   "pygments_lexer": "ipython3",
   "version": "3.6.8"
  }
 },
 "nbformat": 4,
 "nbformat_minor": 4
}
