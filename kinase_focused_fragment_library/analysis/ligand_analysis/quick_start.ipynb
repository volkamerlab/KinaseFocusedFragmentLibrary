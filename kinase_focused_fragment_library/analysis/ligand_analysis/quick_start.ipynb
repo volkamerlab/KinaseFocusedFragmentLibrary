{
 "cells": [
  {
   "cell_type": "markdown",
   "metadata": {},
   "source": [
    "## Quick start for working with the combinatorial library"
   ]
  },
  {
   "cell_type": "code",
   "execution_count": 1,
   "metadata": {},
   "outputs": [],
   "source": [
    "working_path = '/home/paula/Masterarbeit/'"
   ]
  },
  {
   "cell_type": "code",
   "execution_count": 2,
   "metadata": {},
   "outputs": [],
   "source": [
    "from rdkit import Chem\n",
    "from rdkit.Chem import AllChem\n",
    "from rdkit.Chem import Draw\n",
    "from rdkit.Chem.Draw import IPythonConsole\n",
    "from rdkit.Chem.PropertyMol import PropertyMol\n",
    "Chem.SetDefaultPickleProperties(Chem.PropertyPickleOptions.AllProps)\n",
    "import pickle\n",
    "import sys\n",
    "from pathlib import Path"
   ]
  },
  {
   "cell_type": "code",
   "execution_count": 3,
   "metadata": {},
   "outputs": [],
   "source": [
    "sys.path.append(working_path+'KinaseFocusedFragmentLibrary/kinase_focused_fragment_library/analysis/ligand_analysis')\n",
    "sys.path.append(working_path+'KinaseFocusedFragmentLibrary/kinase_focused_fragment_library/recombination')\n",
    "from construct_ligand import construct_ligand, read_fragment_library\n",
    "from standardize import standardize_mol\n",
    "from pickle_loader import pickle_loader"
   ]
  },
  {
   "cell_type": "markdown",
   "metadata": {},
   "source": [
    "### Load (reduced) fragment library:"
   ]
  },
  {
   "cell_type": "code",
   "execution_count": 5,
   "metadata": {},
   "outputs": [
    {
     "name": "stdout",
     "output_type": "stream",
     "text": [
      "Number of fragments in AP : 230\n",
      "Number of fragments in FP : 254\n",
      "Number of fragments in SE : 160\n",
      "Number of fragments in GA : 100\n",
      "Number of fragments in B1 : 23\n",
      "Number of fragments in B2 : 34\n"
     ]
    }
   ],
   "source": [
    "subpockets = ['AP', 'FP', 'SE', 'GA', 'B1', 'B2']\n",
    "fragment_library = read_fragment_library(Path(working_path+'FragmentLibrary'), subpockets)"
   ]
  },
  {
   "cell_type": "code",
   "execution_count": 6,
   "metadata": {},
   "outputs": [
    {
     "data": {
      "text/plain": [
       "dict_keys(['AP', 'FP', 'SE', 'GA', 'B1', 'B2'])"
      ]
     },
     "execution_count": 6,
     "metadata": {},
     "output_type": "execute_result"
    }
   ],
   "source": [
    "fragment_library.keys()"
   ]
  },
  {
   "cell_type": "markdown",
   "metadata": {},
   "source": [
    "### Load original ligands:"
   ]
  },
  {
   "cell_type": "code",
   "execution_count": 7,
   "metadata": {},
   "outputs": [],
   "source": [
    "kinases_pdbs = set()\n",
    "for sp in fragment_library:\n",
    "    for frag in fragment_library[sp]:\n",
    "        kinases_pdbs.add((frag.GetProp('kinase'), frag.GetProp('_Name')))"
   ]
  },
  {
   "cell_type": "code",
   "execution_count": 8,
   "metadata": {},
   "outputs": [],
   "source": [
    "# load KLIFS ligands where those fragments originated from\n",
    "klifs_ligands = []\n",
    "for kinase, pdb in kinases_pdbs:\n",
    "    f = working_path+'data/KLIFS_download/HUMAN/'+kinase+'/'+pdb+'/ligand.mol2'\n",
    "    ligand = Chem.MolFromMol2File(f)\n",
    "    ligand.SetProp('complex_pdb', pdb)\n",
    "    klifs_ligands.append(ligand)"
   ]
  },
  {
   "cell_type": "code",
   "execution_count": 9,
   "metadata": {},
   "outputs": [
    {
     "data": {
      "text/plain": [
       "694"
      ]
     },
     "execution_count": 9,
     "metadata": {},
     "output_type": "execute_result"
    }
   ],
   "source": [
    "len(klifs_ligands)"
   ]
  },
  {
   "cell_type": "markdown",
   "metadata": {},
   "source": [
    "## Load and work with recombined ligands:"
   ]
  },
  {
   "cell_type": "code",
   "execution_count": 22,
   "metadata": {},
   "outputs": [],
   "source": [
    "combinatorial_library_folder = Path(working_path+'CombinatorialLibrary/')\n",
    "file_name = combinatorial_library_folder / 'combinatorial_library.pickle'"
   ]
  },
  {
   "cell_type": "markdown",
   "metadata": {},
   "source": [
    "* Perform calculations on each ligand:"
   ]
  },
  {
   "cell_type": "code",
   "execution_count": 10,
   "metadata": {},
   "outputs": [],
   "source": [
    "# takes about 1-2 minutes\n",
    "with open(file_name, 'rb') as pickle_file:\n",
    "\n",
    "    for i, ligand in enumerate(pickle_loader(pickle_file)):\n",
    "\n",
    "        # perform some calculations on each\n",
    "        ligand"
   ]
  },
  {
   "cell_type": "markdown",
   "metadata": {},
   "source": [
    "Reading *and* storing all ligands takes a lot of memory, therefore any calculations needed to be done on all ligands should be done within this for-loop."
   ]
  },
  {
   "cell_type": "markdown",
   "metadata": {},
   "source": [
    "* Read in a single specific ligand, e.g. with ID 3509547 (fenclozic acid):"
   ]
  },
  {
   "cell_type": "code",
   "execution_count": 11,
   "metadata": {},
   "outputs": [],
   "source": [
    "with open(file_name, 'rb') as pickle_file:\n",
    "    \n",
    "    # fenclozic acid (approved drug): 3509547\n",
    "    for i in range(3509547):\n",
    "        ligand = next(pickle_loader(pickle_file))"
   ]
  },
  {
   "cell_type": "markdown",
   "metadata": {},
   "source": [
    "* Read in several ligands from a given list of ligand IDs (sorted ascendingly!):"
   ]
  },
  {
   "cell_type": "code",
   "execution_count": 12,
   "metadata": {},
   "outputs": [],
   "source": [
    "ligand_ids = [345, 83759, 3509547]"
   ]
  },
  {
   "cell_type": "code",
   "execution_count": 13,
   "metadata": {},
   "outputs": [
    {
     "name": "stdout",
     "output_type": "stream",
     "text": [
      "345\n",
      "83759\n",
      "3509547\n"
     ]
    }
   ],
   "source": [
    "ligands = []\n",
    "\n",
    "counter = 0\n",
    "current_id = ligand_ids[counter]\n",
    "\n",
    "with open(file_name, 'rb') as pickle_file:\n",
    "    \n",
    "    for i in range(max(ligand_ids)):\n",
    "        ligand = next(pickle_loader(pickle_file))\n",
    "        \n",
    "        current_id = ligand_ids[counter]\n",
    "        # store ligand corresponding to an ID in ligand_ids in list of ligands\n",
    "        if i == current_id-1:\n",
    "            print(current_id)\n",
    "            ligands.append(ligand)\n",
    "            counter += 1"
   ]
  },
  {
   "cell_type": "code",
   "execution_count": 14,
   "metadata": {},
   "outputs": [
    {
     "data": {
      "text/plain": [
       "[<Result.Result at 0x7fc0cd642a20>,\n",
       " <Result.Result at 0x7fc0cd642390>,\n",
       " <Result.Result at 0x7fc0cd65cda0>]"
      ]
     },
     "execution_count": 14,
     "metadata": {},
     "output_type": "execute_result"
    }
   ],
   "source": [
    "ligands"
   ]
  },
  {
   "cell_type": "markdown",
   "metadata": {},
   "source": [
    "Example ligand for cells below: Fenclozic acid (3509547)."
   ]
  },
  {
   "cell_type": "code",
   "execution_count": 15,
   "metadata": {},
   "outputs": [],
   "source": [
    "ligand = ligands[2]"
   ]
  },
  {
   "cell_type": "markdown",
   "metadata": {},
   "source": [
    "* Access ligand properties:"
   ]
  },
  {
   "cell_type": "code",
   "execution_count": 16,
   "metadata": {},
   "outputs": [
    {
     "data": {
      "text/plain": [
       "{'meta': <classes_meta.Combination at 0x7fc0cd65c668>,\n",
       " 'n_subpockets': 3,\n",
       " 'lipinski': 1,\n",
       " 'mwt': 1,\n",
       " 'logp': 1,\n",
       " 'hbd': 1,\n",
       " 'hba': 1,\n",
       " 'n_atoms': 16,\n",
       " 'original': 0,\n",
       " 'original_sub': 0,\n",
       " 'chembl_match': 1}"
      ]
     },
     "execution_count": 16,
     "metadata": {},
     "output_type": "execute_result"
    }
   ],
   "source": [
    "vars(ligand)"
   ]
  },
  {
   "cell_type": "code",
   "execution_count": 17,
   "metadata": {},
   "outputs": [
    {
     "data": {
      "text/plain": [
       "{'frag_ids': frozenset({'AP_213', 'GA_51', 'SE_41'}),\n",
       " 'bonds': frozenset({frozenset({'AP_5', 'GA_4'}),\n",
       "            frozenset({'AP_6', 'SE_7'})})}"
      ]
     },
     "execution_count": 17,
     "metadata": {},
     "output_type": "execute_result"
    }
   ],
   "source": [
    "# metadata containing information which fragments need to be connected at which bond\n",
    "vars(ligand.meta)"
   ]
  },
  {
   "cell_type": "markdown",
   "metadata": {},
   "source": [
    "* Generate a molecule object for this ligand and standardize the molecule:"
   ]
  },
  {
   "cell_type": "code",
   "execution_count": 18,
   "metadata": {},
   "outputs": [
    {
     "data": {
      "image/png": "[encoded data removed]",
      "text/plain": [
       "<rdkit.Chem.rdchem.Mol at 0x7fc0cd658170>"
      ]
     },
     "execution_count": 18,
     "metadata": {},
     "output_type": "execute_result"
    }
   ],
   "source": [
    "mol = standardize_mol(construct_ligand(ligand.meta, fragment_library))\n",
    "mol"
   ]
  },
  {
   "cell_type": "code",
   "execution_count": 19,
   "metadata": {},
   "outputs": [
    {
     "data": {
      "image/png": "[encoded data removed]",
      "text/plain": [
       "<rdkit.Chem.rdchem.Mol at 0x7fc0cd658170>"
      ]
     },
     "execution_count": 19,
     "metadata": {},
     "output_type": "execute_result"
    }
   ],
   "source": [
    "AllChem.Compute2DCoords(mol)\n",
    "mol"
   ]
  },
  {
   "cell_type": "markdown",
   "metadata": {},
   "source": [
    "* To which subpockets were the fragments assigned and from which ligands do the fragment originate?"
   ]
  },
  {
   "cell_type": "code",
   "execution_count": 20,
   "metadata": {},
   "outputs": [],
   "source": [
    "highlightAtomLists = []\n",
    "legends = []\n",
    "for subpocket in subpockets:\n",
    "    highlight_atoms = []\n",
    "    legend = subpocket\n",
    "    for atom in mol.GetAtoms():\n",
    "        if atom.HasProp('subpocket'):\n",
    "            if atom.GetProp('subpocket') == subpocket:\n",
    "                highlight_atoms.append(atom.GetIdx())\n",
    "                legend = subpocket + ': '+atom.GetProp('frag_id')\n",
    "    highlightAtomLists.append(highlight_atoms)\n",
    "    legends.append(legend)"
   ]
  },
  {
   "cell_type": "code",
   "execution_count": 21,
   "metadata": {},
   "outputs": [
    {
     "data": {
      "image/png": "[encoded data removed]",
      "text/plain": [
       "<PIL.PngImagePlugin.PngImageFile image mode=RGB size=700x480 at 0x7FC0CD6667B8>"
      ]
     },
     "execution_count": 21,
     "metadata": {},
     "output_type": "execute_result"
    }
   ],
   "source": [
    "Draw.MolsToGridImage([mol, mol, mol, mol, mol, mol], \n",
    "                     highlightAtomLists=highlightAtomLists, legends=legends, molsPerRow=2, subImgSize=(350, 160))"
   ]
  },
  {
   "cell_type": "code",
   "execution_count": null,
   "metadata": {},
   "outputs": [],
   "source": []
  }
 ],
 "metadata": {
  "kernelspec": {
   "display_name": "Python 3",
   "language": "python",
   "name": "python3"
  },
  "language_info": {
   "codemirror_mode": {
    "name": "ipython",
    "version": 3
   },
   "file_extension": ".py",
   "mimetype": "text/x-python",
   "name": "python",
   "nbconvert_exporter": "python",
   "pygments_lexer": "ipython3",
   "version": "3.6.8"
  }
 },
 "nbformat": 4,
 "nbformat_minor": 2
}
