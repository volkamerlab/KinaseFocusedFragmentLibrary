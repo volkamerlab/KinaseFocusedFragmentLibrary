{
 "cells": [
  {
   "cell_type": "markdown",
   "metadata": {},
   "source": [
    "# Drug-likeness of recombined ligands vs. PKIDB ligands\n",
    "\n",
    "In order to assess the drug-likeness of our > 15M recombined ligands,\n",
    "\n",
    "* calculate the drug-likeness of our recombined ligands and \n",
    "* compare it to the drug-likeness of ligands from the PKIDB, which are approved and investigorial kinase inhibitors and therefore give an idea on how an ideal kinase inhibitor's drug-likeness looks like."
   ]
  },
  {
   "cell_type": "code",
   "execution_count": 1,
   "metadata": {},
   "outputs": [],
   "source": [
    "%load_ext autoreload\n",
    "%autoreload 2"
   ]
  },
  {
   "cell_type": "code",
   "execution_count": 2,
   "metadata": {},
   "outputs": [
    {
     "name": "stderr",
     "output_type": "stream",
     "text": [
      "RDKit WARNING: [14:14:55] Enabling RDKit 2019.09.3 jupyter extensions\n"
     ]
    }
   ],
   "source": [
    "from pathlib import Path\n",
    "\n",
    "import matplotlib.pyplot as plt\n",
    "import numpy as np\n",
    "import pandas as pd\n",
    "from rdkit import Chem\n",
    "from rdkit.Chem import Draw\n",
    "from rdkit.Chem import AllChem, PandasTools\n",
    "from rdkit.Chem.Draw import IPythonConsole\n",
    "\n",
    "import kinase_focused_fragment_library as kffl\n",
    "import klifs_utils as klifs"
   ]
  },
  {
   "cell_type": "code",
   "execution_count": 3,
   "metadata": {},
   "outputs": [],
   "source": [
    "url = 'https://raw.githubusercontent.com/dominiquesydow/pkidb_klifs/master/results/pkidb_20200218.csv'"
   ]
  },
  {
   "cell_type": "code",
   "execution_count": 4,
   "metadata": {},
   "outputs": [],
   "source": [
    "PROJECT_PATH = Path('/home/dominique/Documents/Projects/KinaseFocusedFragmentLibraryData')\n",
    "\n",
    "recomb_ligands_path = PROJECT_PATH / 'CombinatorialLibrary' / 'combinatorial_library.pickle'\n",
    "fragment_path = PROJECT_PATH / 'FragmentLibrary/'"
   ]
  },
  {
   "cell_type": "markdown",
   "metadata": {},
   "source": [
    "## Load ligand data"
   ]
  },
  {
   "cell_type": "markdown",
   "metadata": {},
   "source": [
    "### PKIDB ligands\n",
    "\n",
    "PKIDB ligands: approved and investigorial kinase inhibitors"
   ]
  },
  {
   "cell_type": "code",
   "execution_count": 5,
   "metadata": {},
   "outputs": [
    {
     "name": "stdout",
     "output_type": "stream",
     "text": [
      "PKIDB ligands: 218\n"
     ]
    }
   ],
   "source": [
    "pkidb_ligands = pd.read_csv(url, index_col=0)\n",
    "print(f'PKIDB ligands: {pkidb_ligands.shape[0]}')"
   ]
  },
  {
   "cell_type": "markdown",
   "metadata": {},
   "source": [
    "### Original ligands"
   ]
  },
  {
   "cell_type": "code",
   "execution_count": 6,
   "metadata": {},
   "outputs": [],
   "source": [
    "def get_ligands(data_path, kinase_structure_pairs):\n",
    "    \n",
    "    mols = []\n",
    "    \n",
    "    for i, kinase_structure_pair in kinase_structure_pairs.iterrows():\n",
    "        \n",
    "        mol = klifs.ligands.mol_from_mol2(\n",
    "            data_path, \n",
    "            kinase_structure_pair.species, \n",
    "            kinase_structure_pair.kinase, \n",
    "            kinase_structure_pair.klifs_code\n",
    "        )\n",
    "        mols.append(mol)\n",
    "        \n",
    "    return mols"
   ]
  },
  {
   "cell_type": "code",
   "execution_count": 7,
   "metadata": {},
   "outputs": [
    {
     "name": "stdout",
     "output_type": "stream",
     "text": [
      "Fragments: 7486\n",
      "Deduplicated kinase-structure pairs from which fragments originate: 2553\n"
     ]
    }
   ],
   "source": [
    "# Load fragment library\n",
    "fragment_library = kffl.analysis.fragment_analysis.util.read_fragment_library(fragment_path, remove_dummy=True)\n",
    "\n",
    "# Get deduplicated kinase-structure pairs\n",
    "kinase_structure_pairs = kffl.analysis.fragment_analysis.util.get_deduplicated_original_complexes(fragment_library)\n",
    "kinase_structure_pairs['species'] = 'HUMAN'\n",
    "\n",
    "# Get ligands\n",
    "original_ligands = get_ligands(PROJECT_PATH, kinase_structure_pairs)"
   ]
  },
  {
   "cell_type": "markdown",
   "metadata": {},
   "source": [
    "### Recombined ligands"
   ]
  },
  {
   "cell_type": "code",
   "execution_count": 8,
   "metadata": {},
   "outputs": [
    {
     "name": "stdout",
     "output_type": "stream",
     "text": [
      "Full library: 7\n",
      "Ligand indices of deduplicated library entries: 3\n",
      "Deduplicated library: 3\n"
     ]
    }
   ],
   "source": [
    "ligand_indices_deduplicated = kffl.analysis.ligand_analysis.util.load_ligand_indices_deduplicated(\n",
    "    recomb_ligands_path.parent / 'unique_molecule_ids.txt'\n",
    ")\n",
    "\n",
    "recombined_ligands_properties = kffl.analysis.ligand_analysis.util.load_combinatorial_library_properties(\n",
    "    recomb_ligands_path.parent / 'combinatorial_library_properties.csv',\n",
    "    ligand_indices_deduplicated[0:3]\n",
    ")"
   ]
  },
  {
   "cell_type": "markdown",
   "metadata": {},
   "source": [
    "## Get drug-likeness"
   ]
  },
  {
   "cell_type": "markdown",
   "metadata": {},
   "source": [
    "### PKIDB ligands"
   ]
  },
  {
   "cell_type": "code",
   "execution_count": 9,
   "metadata": {},
   "outputs": [
    {
     "name": "stdout",
     "output_type": "stream",
     "text": [
      "Number of molecules: 218\n"
     ]
    }
   ],
   "source": [
    "drug_likeness_pkidb = kffl.analysis.ligand_analysis.util.drug_likeness_from_smiles(pkidb_ligands.Canonical_Smiles)"
   ]
  },
  {
   "cell_type": "markdown",
   "metadata": {},
   "source": [
    "### Original ligands"
   ]
  },
  {
   "cell_type": "code",
   "execution_count": 10,
   "metadata": {},
   "outputs": [
    {
     "name": "stdout",
     "output_type": "stream",
     "text": [
      "Number of molecules: 2553\n"
     ]
    }
   ],
   "source": [
    "drug_likeness_klifs = kffl.analysis.ligand_analysis.util.drug_likeness_from_mols(original_ligands)"
   ]
  },
  {
   "cell_type": "markdown",
   "metadata": {},
   "source": [
    "### Recombined ligands"
   ]
  },
  {
   "cell_type": "code",
   "execution_count": 11,
   "metadata": {},
   "outputs": [],
   "source": [
    "drug_likeness_recomb = kffl.analysis.ligand_analysis.util.drug_likeness_from_combinatorial_library(recombined_ligands_properties)\n",
    "# [24.6, 63.6, 95.5, 55.9, 39.5]"
   ]
  },
  {
   "cell_type": "markdown",
   "metadata": {},
   "source": [
    "## Plot drug likeness"
   ]
  },
  {
   "cell_type": "code",
   "execution_count": 12,
   "metadata": {},
   "outputs": [
    {
     "data": {
      "text/html": [
       "<div>\n",
       "<style scoped>\n",
       "    .dataframe tbody tr th:only-of-type {\n",
       "        vertical-align: middle;\n",
       "    }\n",
       "\n",
       "    .dataframe tbody tr th {\n",
       "        vertical-align: top;\n",
       "    }\n",
       "\n",
       "    .dataframe thead th {\n",
       "        text-align: right;\n",
       "    }\n",
       "</style>\n",
       "<table border=\"1\" class=\"dataframe\">\n",
       "  <thead>\n",
       "    <tr style=\"text-align: right;\">\n",
       "      <th></th>\n",
       "      <th>Recombined ligands</th>\n",
       "      <th>Original ligands (KLIFS)</th>\n",
       "      <th>PKIDB ligands</th>\n",
       "    </tr>\n",
       "  </thead>\n",
       "  <tbody>\n",
       "    <tr>\n",
       "      <th>mw</th>\n",
       "      <td>33</td>\n",
       "      <td>88</td>\n",
       "      <td>70</td>\n",
       "    </tr>\n",
       "    <tr>\n",
       "      <th>logp</th>\n",
       "      <td>33</td>\n",
       "      <td>94</td>\n",
       "      <td>74</td>\n",
       "    </tr>\n",
       "    <tr>\n",
       "      <th>hbd</th>\n",
       "      <td>100</td>\n",
       "      <td>99</td>\n",
       "      <td>100</td>\n",
       "    </tr>\n",
       "    <tr>\n",
       "      <th>hba</th>\n",
       "      <td>67</td>\n",
       "      <td>99</td>\n",
       "      <td>99</td>\n",
       "    </tr>\n",
       "    <tr>\n",
       "      <th>lipinski</th>\n",
       "      <td>33</td>\n",
       "      <td>97</td>\n",
       "      <td>85</td>\n",
       "    </tr>\n",
       "  </tbody>\n",
       "</table>\n",
       "</div>"
      ],
      "text/plain": [
       "          Recombined ligands  Original ligands (KLIFS)  PKIDB ligands\n",
       "mw                        33                        88             70\n",
       "logp                      33                        94             74\n",
       "hbd                      100                        99            100\n",
       "hba                       67                        99             99\n",
       "lipinski                  33                        97             85"
      ]
     },
     "execution_count": 12,
     "metadata": {},
     "output_type": "execute_result"
    }
   ],
   "source": [
    "bar_data = pd.DataFrame([drug_likeness_recomb, drug_likeness_klifs, drug_likeness_pkidb])\n",
    "bar_data.index = ['Recombined ligands', 'Original ligands (KLIFS)', 'PKIDB ligands']\n",
    "bar_data = bar_data.transpose()\n",
    "bar_data = bar_data.astype('int32')\n",
    "bar_data"
   ]
  },
  {
   "cell_type": "code",
   "execution_count": 13,
   "metadata": {},
   "outputs": [
    {
     "data": {
      "image/png": "[encoded data removed]",
      "text/plain": [
       "<Figure size 504x432 with 1 Axes>"
      ]
     },
     "metadata": {
      "needs_background": "light"
     },
     "output_type": "display_data"
    }
   ],
   "source": [
    "# Plot data\n",
    "ax = bar_data.plot(\n",
    "    kind='bar',\n",
    "    width=0.85,\n",
    "    rot=0,\n",
    "    figsize=(7, 6),\n",
    "    color=['cornflowerblue', 'darkgrey', 'grey']\n",
    ")\n",
    "\n",
    "# Edit labels for y axis and x/y ticks\n",
    "plt.ylabel('# Molecules [%]', fontsize=14)\n",
    "plt.xticks(range(5), ['MWT\\n'+r'$\\leq 500$', 'logP\\n'+r'$\\leq 5$', 'HBD\\n'+r'$\\leq 5$', 'HBA\\n'+r'$\\leq 10$', 'Rule\\nof 5'], fontsize=14)\n",
    "plt.yticks(fontsize=14)\n",
    "plt.legend(fontsize=12, loc='lower right')\n",
    "#plt.ylim([120, 1])\n",
    "\n",
    "# Add percentages to bars\n",
    "bars = ax.patches\n",
    "bar_labels = bar_data.transpose().values.flatten()\n",
    "for bar, label in zip(bars, bar_labels):\n",
    "    \n",
    "    plt.text(\n",
    "        bar.get_x() + bar.get_width() / 2, \n",
    "        bar.get_height() - 6,\n",
    "        label, \n",
    "        ha='center', \n",
    "        va='center', \n",
    "        fontsize=12,\n",
    "        color='white',\n",
    "        rotation=90\n",
    "    )"
   ]
  },
  {
   "cell_type": "code",
   "execution_count": 14,
   "metadata": {},
   "outputs": [],
   "source": [
    "ax.get_figure().savefig('/home/dominique/Desktop/ra_lipinski.pdf')"
   ]
  }
 ],
 "metadata": {
  "kernelspec": {
   "display_name": "kffl",
   "language": "python",
   "name": "kffl"
  },
  "language_info": {
   "codemirror_mode": {
    "name": "ipython",
    "version": 3
   },
   "file_extension": ".py",
   "mimetype": "text/x-python",
   "name": "python",
   "nbconvert_exporter": "python",
   "pygments_lexer": "ipython3",
   "version": "3.6.8"
  }
 },
 "nbformat": 4,
 "nbformat_minor": 4
}
