{
 "cells": [
  {
   "cell_type": "markdown",
   "metadata": {},
   "source": [
    "# Drug-likeness of recombined ligands vs. PKIDB ligands\n",
    "\n",
    "In order to assess the drug-likeness of our > 15M recombined ligands, we (i) calculate the drug-likeness of our recombined ligands and (ii) compare it to the drug-likeness of ligands from the PKIDB, which are approved and investigorial kinase inhibitors and therefore give an idea on how an ideal kinase inhibitor's drug-likeness looks like."
   ]
  },
  {
   "cell_type": "code",
   "execution_count": 1,
   "metadata": {},
   "outputs": [
    {
     "name": "stderr",
     "output_type": "stream",
     "text": [
      "RDKit WARNING: [10:53:08] Enabling RDKit 2019.09.3 jupyter extensions\n"
     ]
    }
   ],
   "source": [
    "from pathlib import Path\n",
    "\n",
    "import matplotlib.pyplot as plt\n",
    "import pandas as pd\n",
    "from rdkit import Chem\n",
    "from rdkit.Chem import Descriptors, Lipinski"
   ]
  },
  {
   "cell_type": "markdown",
   "metadata": {},
   "source": [
    "## Get PKIDB ligands"
   ]
  },
  {
   "cell_type": "code",
   "execution_count": 2,
   "metadata": {},
   "outputs": [],
   "source": [
    "url = 'https://raw.githubusercontent.com/dominiquesydow/pkidb_klifs/master/results/pkidb_20200218.csv'\n",
    "pkidb_ligands = pd.read_csv(url, index_col=0)"
   ]
  },
  {
   "cell_type": "markdown",
   "metadata": {},
   "source": [
    "## Get recombined ligands"
   ]
  },
  {
   "cell_type": "code",
   "execution_count": 3,
   "metadata": {},
   "outputs": [],
   "source": [
    "recomb_ligands_path = Path('/home/paula/Masterarbeit/CombinatorialLibrary_manuscript/combinatorial_library.pickle')"
   ]
  },
  {
   "cell_type": "markdown",
   "metadata": {},
   "source": [
    "## Get drug-likeness"
   ]
  },
  {
   "cell_type": "markdown",
   "metadata": {},
   "source": [
    "### Definitions"
   ]
  },
  {
   "cell_type": "code",
   "execution_count": 4,
   "metadata": {},
   "outputs": [],
   "source": [
    "def drug_likeness_from_mol(mol):\n",
    "    \"\"\"\n",
    "    Get drug-likeness criteria for a molecule, i.e. molecular weight, logP, number of hydrogen bond acceptors/donors and \n",
    "    accordance to Lipinski's rule of five. \n",
    "    (Takes about 1s for 2000 mols.)\n",
    "    \n",
    "    Parameters\n",
    "    ----------\n",
    "    mol : rdkit.Chem.rdchem.Mol\n",
    "        Molecule.\n",
    "        \n",
    "    Returns\n",
    "    -------\n",
    "    pd.Series\n",
    "        Drug-likeness criteria for input molecule.\n",
    "    \"\"\"\n",
    "\n",
    "    mw = 1 if Descriptors.ExactMolWt(mol) <= 500 else 0\n",
    "    logp = 1 if Descriptors.MolLogP(mol) <= 5 else 0\n",
    "    hbd = 1 if Lipinski.NumHDonors(mol) <= 5 else 0\n",
    "    hba = 1 if Lipinski.NumHAcceptors(mol) <= 10 else 0\n",
    "    lipinski = 1 if mw + logp + hbd + hba >= 3 else 0\n",
    "\n",
    "    return pd.Series([mw, logp, hbd, hba, lipinski], index='mw logp hbd hba lipinski'.split())"
   ]
  },
  {
   "cell_type": "code",
   "execution_count": 5,
   "metadata": {},
   "outputs": [],
   "source": [
    "def drug_likeness_from_smiles(smiles):\n",
    "    \"\"\"\n",
    "    Get drug-likeness for a set of SMILES\n",
    "    \n",
    "    Parameters\n",
    "    ----------\n",
    "    smiles : pd.Series\n",
    "        Set of SMILES.\n",
    "        \n",
    "    Returns\n",
    "    -------\n",
    "    pd.DataFrame\n",
    "        Drug-likeness criteria (columns) for all input SMILES (rows).\n",
    "    \"\"\"\n",
    "    \n",
    "    drug_likeness = pd.DataFrame(\n",
    "        smiles.apply(\n",
    "            lambda x: drug_likeness_from_mol(Chem.MolFromSmiles(x))\n",
    "        )\n",
    "    )\n",
    "    return drug_likeness"
   ]
  },
  {
   "cell_type": "markdown",
   "metadata": {},
   "source": [
    "### Drug likeness for PKIDB ligands (approved and investigorial kinase inhibitors)"
   ]
  },
  {
   "cell_type": "code",
   "execution_count": 6,
   "metadata": {},
   "outputs": [
    {
     "data": {
      "text/plain": [
       "mw           70.2\n",
       "logp         74.3\n",
       "hbd         100.0\n",
       "hba          98.6\n",
       "lipinski     85.3\n",
       "dtype: float64"
      ]
     },
     "execution_count": 6,
     "metadata": {},
     "output_type": "execute_result"
    }
   ],
   "source": [
    "drug_likeness_pkidb = drug_likeness_from_smiles(pkidb_ligands.Canonical_Smiles)\n",
    "bar_pkidb = round(drug_likeness_pkidb.apply(sum) / len(drug_likeness_pkidb) * 100, 1)\n",
    "bar_pkidb"
   ]
  },
  {
   "cell_type": "markdown",
   "metadata": {},
   "source": [
    "### Drug likeness for recombined ligands"
   ]
  },
  {
   "cell_type": "code",
   "execution_count": 7,
   "metadata": {},
   "outputs": [
    {
     "data": {
      "text/plain": [
       "mw          24.6\n",
       "logp        63.6\n",
       "hbd         95.5\n",
       "hba         55.9\n",
       "lipinski    39.5\n",
       "dtype: float64"
      ]
     },
     "execution_count": 7,
     "metadata": {},
     "output_type": "execute_result"
    }
   ],
   "source": [
    "bar_recomb = pd.Series([24.6, 63.6, 95.5, 55.9, 39.5], index='mw logp hbd hba lipinski'.split())\n",
    "bar_recomb"
   ]
  },
  {
   "cell_type": "markdown",
   "metadata": {},
   "source": [
    "## Plot drug likeness"
   ]
  },
  {
   "cell_type": "code",
   "execution_count": 8,
   "metadata": {},
   "outputs": [],
   "source": [
    "bar_data = pd.DataFrame([bar_pkidb, bar_recomb])\n",
    "bar_data.index = ['PKIDB ligands', 'Recombined ligands']\n",
    "bar_data = bar_data.transpose()"
   ]
  },
  {
   "cell_type": "code",
   "execution_count": 9,
   "metadata": {},
   "outputs": [
    {
     "data": {
      "image/png": "[encoded data removed]",
      "text/plain": [
       "<Figure size 504x432 with 1 Axes>"
      ]
     },
     "metadata": {
      "needs_background": "light"
     },
     "output_type": "display_data"
    }
   ],
   "source": [
    "# Plot data\n",
    "ax = bar_data.plot(\n",
    "    kind='bar',\n",
    "    width=0.8,\n",
    "    rot=0,\n",
    "    figsize=(7,6)\n",
    ")\n",
    "\n",
    "# Edit labels for y axis and x/y ticks\n",
    "plt.ylabel('# Molecules [%]', fontsize=14)\n",
    "plt.xticks(range(5), ['MWT\\n'+r'$\\leq 500$', 'logP\\n'+r'$\\leq 5$', 'HBD\\n'+r'$\\leq 5$', 'HBA\\n'+r'$\\leq 10$', 'Rule\\nof 5'], fontsize=14)\n",
    "plt.yticks(fontsize=14)\n",
    "\n",
    "# Add percentages to bars\n",
    "bars = ax.patches\n",
    "bar_labels = bar_data.transpose().values.flatten()\n",
    "for bar, label in zip(bars, bar_labels):\n",
    "    \n",
    "    plt.text(\n",
    "        bar.get_x() + bar.get_width() / 2, \n",
    "        bar.get_height() + 0.2, \n",
    "        label, \n",
    "        ha='center', \n",
    "        va='bottom', \n",
    "        fontsize=12\n",
    "    )"
   ]
  },
  {
   "cell_type": "code",
   "execution_count": null,
   "metadata": {},
   "outputs": [],
   "source": []
  }
 ],
 "metadata": {
  "kernelspec": {
   "display_name": "teachopencadd",
   "language": "python",
   "name": "teachopencadd"
  },
  "language_info": {
   "codemirror_mode": {
    "name": "ipython",
    "version": 3
   },
   "file_extension": ".py",
   "mimetype": "text/x-python",
   "name": "python",
   "nbconvert_exporter": "python",
   "pygments_lexer": "ipython3",
   "version": "3.6.7"
  }
 },
 "nbformat": 4,
 "nbformat_minor": 4
}
