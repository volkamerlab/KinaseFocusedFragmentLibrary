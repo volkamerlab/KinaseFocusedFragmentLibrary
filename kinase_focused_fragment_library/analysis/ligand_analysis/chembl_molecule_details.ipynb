{
 "cells": [
  {
   "cell_type": "markdown",
   "metadata": {},
   "source": [
    "# ChEMBL molecules details\n",
    "\n",
    "Get more details on molecules from the recombined library that were found in ChEMBL:\n",
    "- Get targets that these molecules are active on\n",
    "- Get classification for these targets (e.g. are these targets kinases?)"
   ]
  },
  {
   "cell_type": "code",
   "execution_count": 1,
   "metadata": {},
   "outputs": [
    {
     "name": "stderr",
     "output_type": "stream",
     "text": [
      "/home/dominique/anaconda3/envs/teachopencadd/lib/python3.6/site-packages/grequests.py:21: MonkeyPatchWarning: Monkey-patching ssl after ssl has already been imported may lead to errors, including RecursionError on Python 3.6. It may also silently lead to incorrect behaviour on Python 3.7. Please monkey-patch earlier. See https://github.com/gevent/gevent/issues/1016. Modules that had direct imports (NOT patched): ['urllib3.contrib.pyopenssl (/home/dominique/anaconda3/envs/teachopencadd/lib/python3.6/site-packages/urllib3/contrib/pyopenssl.py)']. \n",
      "  curious_george.patch_all(thread=False, select=False)\n"
     ]
    }
   ],
   "source": [
    "from chembl_webresource_client.new_client import new_client\n",
    "import pandas as pd\n",
    "import requests\n",
    "from rdkit import Chem\n",
    "from rdkit.Chem.Draw import IPythonConsole"
   ]
  },
  {
   "cell_type": "markdown",
   "metadata": {},
   "source": [
    "## Load ChEMBL molecules\n",
    "\n",
    "These are the molecules from the recombined library that were found in ChEMBL."
   ]
  },
  {
   "cell_type": "code",
   "execution_count": 2,
   "metadata": {},
   "outputs": [],
   "source": [
    "with open('novel_chembl_mols.txt', 'r') as f:\n",
    "    lines = f.readlines()\n",
    "    \n",
    "molecules = [i[:-1] for i in lines]\n",
    "molecules = [Chem.InchiToInchiKey(inchi) for inchi in molecules]"
   ]
  },
  {
   "cell_type": "code",
   "execution_count": 3,
   "metadata": {},
   "outputs": [
    {
     "data": {
      "text/plain": [
       "121"
      ]
     },
     "execution_count": 3,
     "metadata": {},
     "output_type": "execute_result"
    }
   ],
   "source": [
    "len(molecules)"
   ]
  },
  {
   "cell_type": "markdown",
   "metadata": {},
   "source": [
    "## Get molecules details from ChEMBL"
   ]
  },
  {
   "cell_type": "code",
   "execution_count": 4,
   "metadata": {},
   "outputs": [],
   "source": [
    "similarity = new_client.similarity\n",
    "compound = new_client.molecule\n",
    "activity = new_client.activity\n",
    "target = new_client.target"
   ]
  },
  {
   "cell_type": "markdown",
   "metadata": {},
   "source": [
    "### Get molecule ChEMBL IDs"
   ]
  },
  {
   "cell_type": "code",
   "execution_count": 5,
   "metadata": {},
   "outputs": [],
   "source": [
    "details = []\n",
    "\n",
    "for molecule in molecules:\n",
    "    \n",
    "    result = compound.get(molecule) # similarity.filter(smiles=molecule, similarity=100)\n",
    "    \n",
    "    details.append({\n",
    "            'smiles': result['molecule_structures']['canonical_smiles'], \n",
    "            'inchi': result['molecule_structures']['standard_inchi'],\n",
    "            'atc_classification': result['atc_classifications'], \n",
    "            'first_approval': result['first_approval'],\n",
    "            'chembl_id': result['molecule_chembl_id']\n",
    "    })\n",
    "        \n",
    "details = pd.DataFrame(details)"
   ]
  },
  {
   "cell_type": "code",
   "execution_count": 6,
   "metadata": {},
   "outputs": [
    {
     "name": "stdout",
     "output_type": "stream",
     "text": [
      "Number of queries: 121\n",
      "Number of query results: 121\n"
     ]
    }
   ],
   "source": [
    "print(f'Number of queries: {len(molecules)}')\n",
    "print(f'Number of query results: {details.shape[0]}')"
   ]
  },
  {
   "cell_type": "code",
   "execution_count": 7,
   "metadata": {
    "scrolled": true
   },
   "outputs": [
    {
     "data": {
      "text/html": [
       "<div>\n",
       "<style scoped>\n",
       "    .dataframe tbody tr th:only-of-type {\n",
       "        vertical-align: middle;\n",
       "    }\n",
       "\n",
       "    .dataframe tbody tr th {\n",
       "        vertical-align: top;\n",
       "    }\n",
       "\n",
       "    .dataframe thead th {\n",
       "        text-align: right;\n",
       "    }\n",
       "</style>\n",
       "<table border=\"1\" class=\"dataframe\">\n",
       "  <thead>\n",
       "    <tr style=\"text-align: right;\">\n",
       "      <th></th>\n",
       "      <th>atc_classification</th>\n",
       "      <th>chembl_id</th>\n",
       "      <th>first_approval</th>\n",
       "      <th>inchi</th>\n",
       "      <th>smiles</th>\n",
       "    </tr>\n",
       "  </thead>\n",
       "  <tbody>\n",
       "    <tr>\n",
       "      <th>0</th>\n",
       "      <td>[]</td>\n",
       "      <td>CHEMBL520734</td>\n",
       "      <td>None</td>\n",
       "      <td>InChI=1S/C15H18N4O2S2/c16-15(21)19-14-11(6-12(...</td>\n",
       "      <td>NC(=O)Nc1sc(cc1C(=O)N[C@H]2CCCNC2)c3ccsc3</td>\n",
       "    </tr>\n",
       "    <tr>\n",
       "      <th>1</th>\n",
       "      <td>[]</td>\n",
       "      <td>CHEMBL2064599</td>\n",
       "      <td>None</td>\n",
       "      <td>InChI=1S/C14H13NO2/c1-17-13-9-7-11(8-10-13)14(...</td>\n",
       "      <td>COc1ccc(cc1)C(=O)Nc2ccccc2</td>\n",
       "    </tr>\n",
       "    <tr>\n",
       "      <th>2</th>\n",
       "      <td>[]</td>\n",
       "      <td>CHEMBL1562513</td>\n",
       "      <td>None</td>\n",
       "      <td>InChI=1S/C13H17NO/c15-13(11-7-3-1-4-8-11)14-12...</td>\n",
       "      <td>O=C(Nc1ccccc1)C2CCCCC2</td>\n",
       "    </tr>\n",
       "    <tr>\n",
       "      <th>3</th>\n",
       "      <td>[]</td>\n",
       "      <td>CHEMBL487776</td>\n",
       "      <td>None</td>\n",
       "      <td>InChI=1S/C18H21N5/c1-13-16-12-19-18(21-15-10-6...</td>\n",
       "      <td>Cc1nc(c2ccccc2)n3nc(NC4CCCCC4)ncc13</td>\n",
       "    </tr>\n",
       "    <tr>\n",
       "      <th>4</th>\n",
       "      <td>[]</td>\n",
       "      <td>CHEMBL1446166</td>\n",
       "      <td>None</td>\n",
       "      <td>InChI=1S/C16H11ClN2OS/c17-12-6-8-13(9-7-12)18-...</td>\n",
       "      <td>Clc1ccc(NC(=O)c2csc(n2)c3ccccc3)cc1</td>\n",
       "    </tr>\n",
       "  </tbody>\n",
       "</table>\n",
       "</div>"
      ],
      "text/plain": [
       "  atc_classification      chembl_id first_approval  \\\n",
       "0                 []   CHEMBL520734           None   \n",
       "1                 []  CHEMBL2064599           None   \n",
       "2                 []  CHEMBL1562513           None   \n",
       "3                 []   CHEMBL487776           None   \n",
       "4                 []  CHEMBL1446166           None   \n",
       "\n",
       "                                               inchi  \\\n",
       "0  InChI=1S/C15H18N4O2S2/c16-15(21)19-14-11(6-12(...   \n",
       "1  InChI=1S/C14H13NO2/c1-17-13-9-7-11(8-10-13)14(...   \n",
       "2  InChI=1S/C13H17NO/c15-13(11-7-3-1-4-8-11)14-12...   \n",
       "3  InChI=1S/C18H21N5/c1-13-16-12-19-18(21-15-10-6...   \n",
       "4  InChI=1S/C16H11ClN2OS/c17-12-6-8-13(9-7-12)18-...   \n",
       "\n",
       "                                      smiles  \n",
       "0  NC(=O)Nc1sc(cc1C(=O)N[C@H]2CCCNC2)c3ccsc3  \n",
       "1                 COc1ccc(cc1)C(=O)Nc2ccccc2  \n",
       "2                     O=C(Nc1ccccc1)C2CCCCC2  \n",
       "3        Cc1nc(c2ccccc2)n3nc(NC4CCCCC4)ncc13  \n",
       "4        Clc1ccc(NC(=O)c2csc(n2)c3ccccc3)cc1  "
      ]
     },
     "execution_count": 7,
     "metadata": {},
     "output_type": "execute_result"
    }
   ],
   "source": [
    "details.head()"
   ]
  },
  {
   "cell_type": "markdown",
   "metadata": {},
   "source": [
    "### Get measured activities for molecules"
   ]
  },
  {
   "cell_type": "code",
   "execution_count": 8,
   "metadata": {},
   "outputs": [],
   "source": [
    "activities = activity.filter(molecule_chembl_id__in = list(details.chembl_id),\n",
    "                             type = 'IC50', \n",
    "                             relation = '=', \n",
    "                             assay_type = 'B') \\\n",
    "                    .only('activity_id','assay_chembl_id', 'assay_description', 'assay_type', \\\n",
    "                        'molecule_chembl_id', 'type', 'units', 'relation', 'value', \\\n",
    "                        'target_chembl_id', 'target_organism', 'target_pref_name')"
   ]
  },
  {
   "cell_type": "code",
   "execution_count": 9,
   "metadata": {},
   "outputs": [
    {
     "data": {
      "text/plain": [
       "69"
      ]
     },
     "execution_count": 9,
     "metadata": {},
     "output_type": "execute_result"
    }
   ],
   "source": [
    "len(activities)"
   ]
  },
  {
   "cell_type": "code",
   "execution_count": 10,
   "metadata": {},
   "outputs": [
    {
     "data": {
      "text/plain": [
       "(70, 12)"
      ]
     },
     "execution_count": 10,
     "metadata": {},
     "output_type": "execute_result"
    }
   ],
   "source": [
    "# TO DO: run for all activities\n",
    "bioact_df = pd.DataFrame.from_records(activities)\n",
    "bioact_df.shape"
   ]
  },
  {
   "cell_type": "code",
   "execution_count": 11,
   "metadata": {},
   "outputs": [
    {
     "name": "stdout",
     "output_type": "stream",
     "text": [
      "Number of unique molecules: 33\n"
     ]
    }
   ],
   "source": [
    "print(f'Number of unique molecules: {len(bioact_df.molecule_chembl_id.unique())}')"
   ]
  },
  {
   "cell_type": "code",
   "execution_count": 12,
   "metadata": {},
   "outputs": [
    {
     "data": {
      "text/plain": [
       "array(['mM', 'uM', 'nM', 'mmol/L'], dtype=object)"
      ]
     },
     "execution_count": 12,
     "metadata": {},
     "output_type": "execute_result"
    }
   ],
   "source": [
    "bioact_df.units.unique()"
   ]
  },
  {
   "cell_type": "code",
   "execution_count": 13,
   "metadata": {},
   "outputs": [],
   "source": [
    "def convert_to_nM(unit, bioactivity):\n",
    "    \n",
    "    conversion_factors = {\n",
    "        \"pM\": 1e-3,\n",
    "        \"10'-11M\": 1e-2,\n",
    "        \"10'-10M\": 1e-1,\n",
    "        \"nM\": 1e+0,\n",
    "        \"10'-8M\": 1e+1,\n",
    "        \"10'-1microM\": 1e+2,\n",
    "        \"10'-7M\": 1e+2,\n",
    "        \"uM\": 1e+3,\n",
    "        \"/uM\": 1e+3,\n",
    "        \"10'-6M\": 1e+3,\n",
    "        \"10'1 uM\": 1e+4,\n",
    "        \"10'2 uM\": 1e+5,\n",
    "        \"mM\": 1e+6,\n",
    "        \"mmol/L\": 1e+6,\n",
    "        \"M\": 1e+9\n",
    "    }\n",
    "    \n",
    "    try:\n",
    "        return float(bioactivity) * conversion_factors[unit]\n",
    "        \n",
    "    except KeyError:\n",
    "        print(f'Unit not recognized: {unit}')\n",
    "        return"
   ]
  },
  {
   "cell_type": "code",
   "execution_count": 14,
   "metadata": {},
   "outputs": [],
   "source": [
    "bioact_df.rename(columns={\"units\": \"units_original\", \"value\": \"value_original\"}, inplace=True)"
   ]
  },
  {
   "cell_type": "code",
   "execution_count": 15,
   "metadata": {},
   "outputs": [
    {
     "data": {
      "text/plain": [
       "(70, 14)"
      ]
     },
     "execution_count": 15,
     "metadata": {},
     "output_type": "execute_result"
    }
   ],
   "source": [
    "# convert all to nM\n",
    "bioactivity_nM = []\n",
    "for i, row in bioact_df.iterrows():\n",
    "    bioact_nM = convert_to_nM(row['units_original'], row['value_original'])\n",
    "    bioactivity_nM.append(bioact_nM)\n",
    "bioact_df['value'] = bioactivity_nM\n",
    "bioact_df['units'] = 'nM'\n",
    "bioact_df.shape"
   ]
  },
  {
   "cell_type": "code",
   "execution_count": 16,
   "metadata": {},
   "outputs": [
    {
     "data": {
      "text/html": [
       "<div>\n",
       "<style scoped>\n",
       "    .dataframe tbody tr th:only-of-type {\n",
       "        vertical-align: middle;\n",
       "    }\n",
       "\n",
       "    .dataframe tbody tr th {\n",
       "        vertical-align: top;\n",
       "    }\n",
       "\n",
       "    .dataframe thead th {\n",
       "        text-align: right;\n",
       "    }\n",
       "</style>\n",
       "<table border=\"1\" class=\"dataframe\">\n",
       "  <thead>\n",
       "    <tr style=\"text-align: right;\">\n",
       "      <th></th>\n",
       "      <th>activity_id</th>\n",
       "      <th>assay_chembl_id</th>\n",
       "      <th>assay_description</th>\n",
       "      <th>assay_type</th>\n",
       "      <th>molecule_chembl_id</th>\n",
       "      <th>relation</th>\n",
       "      <th>target_chembl_id</th>\n",
       "      <th>target_organism</th>\n",
       "      <th>target_pref_name</th>\n",
       "      <th>type</th>\n",
       "      <th>units_original</th>\n",
       "      <th>value_original</th>\n",
       "      <th>value</th>\n",
       "      <th>units</th>\n",
       "    </tr>\n",
       "  </thead>\n",
       "  <tbody>\n",
       "    <tr>\n",
       "      <th>0</th>\n",
       "      <td>314877</td>\n",
       "      <td>CHEMBL751094</td>\n",
       "      <td>In vitro inhibitory activity against H1N9 stra...</td>\n",
       "      <td>B</td>\n",
       "      <td>CHEMBL414</td>\n",
       "      <td>=</td>\n",
       "      <td>CHEMBL3046</td>\n",
       "      <td>Homo sapiens</td>\n",
       "      <td>Sialidase 3</td>\n",
       "      <td>IC50</td>\n",
       "      <td>mM</td>\n",
       "      <td>2.5</td>\n",
       "      <td>2500000.0</td>\n",
       "      <td>nM</td>\n",
       "    </tr>\n",
       "    <tr>\n",
       "      <th>1</th>\n",
       "      <td>314877</td>\n",
       "      <td>CHEMBL751094</td>\n",
       "      <td>In vitro inhibitory activity against H1N9 stra...</td>\n",
       "      <td>B</td>\n",
       "      <td>CHEMBL414</td>\n",
       "      <td>=</td>\n",
       "      <td>CHEMBL3046</td>\n",
       "      <td>Homo sapiens</td>\n",
       "      <td>Sialidase 3</td>\n",
       "      <td>IC50</td>\n",
       "      <td>mM</td>\n",
       "      <td>2.5</td>\n",
       "      <td>2500000.0</td>\n",
       "      <td>nM</td>\n",
       "    </tr>\n",
       "    <tr>\n",
       "      <th>2</th>\n",
       "      <td>388701</td>\n",
       "      <td>CHEMBL615559</td>\n",
       "      <td>In vitro inhibition against of 4-Hydroxyphenyl...</td>\n",
       "      <td>B</td>\n",
       "      <td>CHEMBL297343</td>\n",
       "      <td>=</td>\n",
       "      <td>CHEMBL3203</td>\n",
       "      <td>Sus scrofa</td>\n",
       "      <td>4-hydroxyphenylpyruvate dioxygenase</td>\n",
       "      <td>IC50</td>\n",
       "      <td>uM</td>\n",
       "      <td>6</td>\n",
       "      <td>6000.0</td>\n",
       "      <td>nM</td>\n",
       "    </tr>\n",
       "    <tr>\n",
       "      <th>3</th>\n",
       "      <td>477909</td>\n",
       "      <td>CHEMBL661123</td>\n",
       "      <td>Evaluated for inhibition of human cyclin depen...</td>\n",
       "      <td>B</td>\n",
       "      <td>CHEMBL269827</td>\n",
       "      <td>=</td>\n",
       "      <td>CHEMBL301</td>\n",
       "      <td>Homo sapiens</td>\n",
       "      <td>Cyclin-dependent kinase 2</td>\n",
       "      <td>IC50</td>\n",
       "      <td>nM</td>\n",
       "      <td>2.3</td>\n",
       "      <td>2.3</td>\n",
       "      <td>nM</td>\n",
       "    </tr>\n",
       "    <tr>\n",
       "      <th>4</th>\n",
       "      <td>479851</td>\n",
       "      <td>CHEMBL658939</td>\n",
       "      <td>In vitro inhibition of Cyclin-dependent kinase 2</td>\n",
       "      <td>B</td>\n",
       "      <td>CHEMBL311992</td>\n",
       "      <td>=</td>\n",
       "      <td>CHEMBL301</td>\n",
       "      <td>Homo sapiens</td>\n",
       "      <td>Cyclin-dependent kinase 2</td>\n",
       "      <td>IC50</td>\n",
       "      <td>nM</td>\n",
       "      <td>12</td>\n",
       "      <td>12.0</td>\n",
       "      <td>nM</td>\n",
       "    </tr>\n",
       "  </tbody>\n",
       "</table>\n",
       "</div>"
      ],
      "text/plain": [
       "   activity_id assay_chembl_id  \\\n",
       "0       314877    CHEMBL751094   \n",
       "1       314877    CHEMBL751094   \n",
       "2       388701    CHEMBL615559   \n",
       "3       477909    CHEMBL661123   \n",
       "4       479851    CHEMBL658939   \n",
       "\n",
       "                                   assay_description assay_type  \\\n",
       "0  In vitro inhibitory activity against H1N9 stra...          B   \n",
       "1  In vitro inhibitory activity against H1N9 stra...          B   \n",
       "2  In vitro inhibition against of 4-Hydroxyphenyl...          B   \n",
       "3  Evaluated for inhibition of human cyclin depen...          B   \n",
       "4   In vitro inhibition of Cyclin-dependent kinase 2          B   \n",
       "\n",
       "  molecule_chembl_id relation target_chembl_id target_organism  \\\n",
       "0          CHEMBL414        =       CHEMBL3046    Homo sapiens   \n",
       "1          CHEMBL414        =       CHEMBL3046    Homo sapiens   \n",
       "2       CHEMBL297343        =       CHEMBL3203      Sus scrofa   \n",
       "3       CHEMBL269827        =        CHEMBL301    Homo sapiens   \n",
       "4       CHEMBL311992        =        CHEMBL301    Homo sapiens   \n",
       "\n",
       "                      target_pref_name  type units_original value_original  \\\n",
       "0                          Sialidase 3  IC50             mM            2.5   \n",
       "1                          Sialidase 3  IC50             mM            2.5   \n",
       "2  4-hydroxyphenylpyruvate dioxygenase  IC50             uM              6   \n",
       "3            Cyclin-dependent kinase 2  IC50             nM            2.3   \n",
       "4            Cyclin-dependent kinase 2  IC50             nM             12   \n",
       "\n",
       "       value units  \n",
       "0  2500000.0    nM  \n",
       "1  2500000.0    nM  \n",
       "2     6000.0    nM  \n",
       "3        2.3    nM  \n",
       "4       12.0    nM  "
      ]
     },
     "execution_count": 16,
     "metadata": {},
     "output_type": "execute_result"
    }
   ],
   "source": [
    "bioact_df.head()"
   ]
  },
  {
   "cell_type": "code",
   "execution_count": 17,
   "metadata": {},
   "outputs": [],
   "source": [
    "bioact_df = bioact_df.astype({'value': 'float'})"
   ]
  },
  {
   "cell_type": "markdown",
   "metadata": {},
   "source": [
    "### Get all active molecules"
   ]
  },
  {
   "cell_type": "code",
   "execution_count": 18,
   "metadata": {},
   "outputs": [],
   "source": [
    "activity_threshold = 500"
   ]
  },
  {
   "cell_type": "code",
   "execution_count": 19,
   "metadata": {},
   "outputs": [],
   "source": [
    "bioact_df_active = bioact_df[bioact_df.value <= activity_threshold].copy()  # try out with 500, 50, 5"
   ]
  },
  {
   "cell_type": "code",
   "execution_count": 20,
   "metadata": {},
   "outputs": [
    {
     "data": {
      "text/plain": [
       "(28, 14)"
      ]
     },
     "execution_count": 20,
     "metadata": {},
     "output_type": "execute_result"
    }
   ],
   "source": [
    "bioact_df_active.shape"
   ]
  },
  {
   "cell_type": "code",
   "execution_count": 21,
   "metadata": {},
   "outputs": [
    {
     "data": {
      "text/html": [
       "<div>\n",
       "<style scoped>\n",
       "    .dataframe tbody tr th:only-of-type {\n",
       "        vertical-align: middle;\n",
       "    }\n",
       "\n",
       "    .dataframe tbody tr th {\n",
       "        vertical-align: top;\n",
       "    }\n",
       "\n",
       "    .dataframe thead th {\n",
       "        text-align: right;\n",
       "    }\n",
       "</style>\n",
       "<table border=\"1\" class=\"dataframe\">\n",
       "  <thead>\n",
       "    <tr style=\"text-align: right;\">\n",
       "      <th></th>\n",
       "      <th>activity_id</th>\n",
       "      <th>assay_chembl_id</th>\n",
       "      <th>assay_description</th>\n",
       "      <th>assay_type</th>\n",
       "      <th>molecule_chembl_id</th>\n",
       "      <th>relation</th>\n",
       "      <th>target_chembl_id</th>\n",
       "      <th>target_organism</th>\n",
       "      <th>target_pref_name</th>\n",
       "      <th>type</th>\n",
       "      <th>units_original</th>\n",
       "      <th>value_original</th>\n",
       "      <th>value</th>\n",
       "      <th>units</th>\n",
       "    </tr>\n",
       "  </thead>\n",
       "  <tbody>\n",
       "    <tr>\n",
       "      <th>3</th>\n",
       "      <td>477909</td>\n",
       "      <td>CHEMBL661123</td>\n",
       "      <td>Evaluated for inhibition of human cyclin depen...</td>\n",
       "      <td>B</td>\n",
       "      <td>CHEMBL269827</td>\n",
       "      <td>=</td>\n",
       "      <td>CHEMBL301</td>\n",
       "      <td>Homo sapiens</td>\n",
       "      <td>Cyclin-dependent kinase 2</td>\n",
       "      <td>IC50</td>\n",
       "      <td>nM</td>\n",
       "      <td>2.3</td>\n",
       "      <td>2.3</td>\n",
       "      <td>nM</td>\n",
       "    </tr>\n",
       "    <tr>\n",
       "      <th>4</th>\n",
       "      <td>479851</td>\n",
       "      <td>CHEMBL658939</td>\n",
       "      <td>In vitro inhibition of Cyclin-dependent kinase 2</td>\n",
       "      <td>B</td>\n",
       "      <td>CHEMBL311992</td>\n",
       "      <td>=</td>\n",
       "      <td>CHEMBL301</td>\n",
       "      <td>Homo sapiens</td>\n",
       "      <td>Cyclin-dependent kinase 2</td>\n",
       "      <td>IC50</td>\n",
       "      <td>nM</td>\n",
       "      <td>12</td>\n",
       "      <td>12.0</td>\n",
       "      <td>nM</td>\n",
       "    </tr>\n",
       "    <tr>\n",
       "      <th>5</th>\n",
       "      <td>1021445</td>\n",
       "      <td>CHEMBL732386</td>\n",
       "      <td>Inhibitory concentration against rat brain mit...</td>\n",
       "      <td>B</td>\n",
       "      <td>CHEMBL300999</td>\n",
       "      <td>=</td>\n",
       "      <td>CHEMBL3358</td>\n",
       "      <td>Rattus norvegicus</td>\n",
       "      <td>Monoamine oxidase A</td>\n",
       "      <td>IC50</td>\n",
       "      <td>uM</td>\n",
       "      <td>0.002</td>\n",
       "      <td>2.0</td>\n",
       "      <td>nM</td>\n",
       "    </tr>\n",
       "    <tr>\n",
       "      <th>6</th>\n",
       "      <td>1168727</td>\n",
       "      <td>CHEMBL666140</td>\n",
       "      <td>Inhibitory activity against human cyclin-depen...</td>\n",
       "      <td>B</td>\n",
       "      <td>CHEMBL269827</td>\n",
       "      <td>=</td>\n",
       "      <td>CHEMBL308</td>\n",
       "      <td>Homo sapiens</td>\n",
       "      <td>Cyclin-dependent kinase 1</td>\n",
       "      <td>IC50</td>\n",
       "      <td>nM</td>\n",
       "      <td>10</td>\n",
       "      <td>10.0</td>\n",
       "      <td>nM</td>\n",
       "    </tr>\n",
       "    <tr>\n",
       "      <th>7</th>\n",
       "      <td>1168728</td>\n",
       "      <td>CHEMBL661125</td>\n",
       "      <td>Inhibitory activity against human cyclin-depen...</td>\n",
       "      <td>B</td>\n",
       "      <td>CHEMBL269827</td>\n",
       "      <td>=</td>\n",
       "      <td>CHEMBL301</td>\n",
       "      <td>Homo sapiens</td>\n",
       "      <td>Cyclin-dependent kinase 2</td>\n",
       "      <td>IC50</td>\n",
       "      <td>nM</td>\n",
       "      <td>2.3</td>\n",
       "      <td>2.3</td>\n",
       "      <td>nM</td>\n",
       "    </tr>\n",
       "  </tbody>\n",
       "</table>\n",
       "</div>"
      ],
      "text/plain": [
       "   activity_id assay_chembl_id  \\\n",
       "3       477909    CHEMBL661123   \n",
       "4       479851    CHEMBL658939   \n",
       "5      1021445    CHEMBL732386   \n",
       "6      1168727    CHEMBL666140   \n",
       "7      1168728    CHEMBL661125   \n",
       "\n",
       "                                   assay_description assay_type  \\\n",
       "3  Evaluated for inhibition of human cyclin depen...          B   \n",
       "4   In vitro inhibition of Cyclin-dependent kinase 2          B   \n",
       "5  Inhibitory concentration against rat brain mit...          B   \n",
       "6  Inhibitory activity against human cyclin-depen...          B   \n",
       "7  Inhibitory activity against human cyclin-depen...          B   \n",
       "\n",
       "  molecule_chembl_id relation target_chembl_id    target_organism  \\\n",
       "3       CHEMBL269827        =        CHEMBL301       Homo sapiens   \n",
       "4       CHEMBL311992        =        CHEMBL301       Homo sapiens   \n",
       "5       CHEMBL300999        =       CHEMBL3358  Rattus norvegicus   \n",
       "6       CHEMBL269827        =        CHEMBL308       Homo sapiens   \n",
       "7       CHEMBL269827        =        CHEMBL301       Homo sapiens   \n",
       "\n",
       "            target_pref_name  type units_original value_original  value units  \n",
       "3  Cyclin-dependent kinase 2  IC50             nM            2.3    2.3    nM  \n",
       "4  Cyclin-dependent kinase 2  IC50             nM             12   12.0    nM  \n",
       "5        Monoamine oxidase A  IC50             uM          0.002    2.0    nM  \n",
       "6  Cyclin-dependent kinase 1  IC50             nM             10   10.0    nM  \n",
       "7  Cyclin-dependent kinase 2  IC50             nM            2.3    2.3    nM  "
      ]
     },
     "execution_count": 21,
     "metadata": {},
     "output_type": "execute_result"
    }
   ],
   "source": [
    "bioact_df_active.head()"
   ]
  },
  {
   "cell_type": "markdown",
   "metadata": {},
   "source": [
    "#### Check number of unique target names"
   ]
  },
  {
   "cell_type": "code",
   "execution_count": 22,
   "metadata": {},
   "outputs": [
    {
     "data": {
      "text/plain": [
       "Cyclin-dependent kinase 2                                4\n",
       "Cyclooxygenase-2                                         2\n",
       "Serine/threonine-protein kinase Chk1                     2\n",
       "Serine/threonine-protein kinase PIM1                     2\n",
       "Cyclin-dependent kinase 1                                2\n",
       "Cell division cycle 7-related protein kinase             2\n",
       "Epoxide hydrolase 1                                      2\n",
       "Casein kinase II alpha'/ beta                            1\n",
       "Casein kinase II alpha/beta                              1\n",
       "CDK1/Cyclin A                                            1\n",
       "Leucine-rich repeat serine/threonine-protein kinase 2    1\n",
       "CDK2/Cyclin A                                            1\n",
       "Monoamine oxidase A                                      1\n",
       "Serine/threonine-protein kinase PIM2                     1\n",
       "7,8-dihydro-8-oxoguanine triphosphatase                  1\n",
       "ATP-binding cassette sub-family G member 2               1\n",
       "Serine/threonine-protein kinase PIM3                     1\n",
       "Serine/threonine-protein kinase mTOR                     1\n",
       "Unchecked                                                1\n",
       "Name: target_pref_name, dtype: int64"
      ]
     },
     "execution_count": 22,
     "metadata": {},
     "output_type": "execute_result"
    }
   ],
   "source": [
    "bioact_df_active.target_pref_name.value_counts()"
   ]
  },
  {
   "cell_type": "code",
   "execution_count": 23,
   "metadata": {},
   "outputs": [
    {
     "data": {
      "text/plain": [
       "28"
      ]
     },
     "execution_count": 23,
     "metadata": {},
     "output_type": "execute_result"
    }
   ],
   "source": [
    "len(bioact_df_active.target_pref_name)"
   ]
  },
  {
   "cell_type": "code",
   "execution_count": 24,
   "metadata": {},
   "outputs": [
    {
     "data": {
      "text/plain": [
       "19"
      ]
     },
     "execution_count": 24,
     "metadata": {},
     "output_type": "execute_result"
    }
   ],
   "source": [
    "len(bioact_df_active.target_pref_name.value_counts())"
   ]
  },
  {
   "cell_type": "markdown",
   "metadata": {},
   "source": [
    "#### Check number of unique ChEMBL target IDs"
   ]
  },
  {
   "cell_type": "code",
   "execution_count": 25,
   "metadata": {},
   "outputs": [
    {
     "data": {
      "text/plain": [
       "CHEMBL301        4\n",
       "CHEMBL5443       2\n",
       "CHEMBL4630       2\n",
       "CHEMBL308        2\n",
       "CHEMBL2147       2\n",
       "CHEMBL4102       2\n",
       "CHEMBL5407       1\n",
       "CHEMBL5393       1\n",
       "CHEMBL3038477    1\n",
       "CHEMBL1075104    1\n",
       "CHEMBL4523       1\n",
       "CHEMBL3038467    1\n",
       "CHEMBL3708265    1\n",
       "CHEMBL1075293    1\n",
       "CHEMBL3038469    1\n",
       "CHEMBL1968       1\n",
       "CHEMBL2842       1\n",
       "CHEMBL612545     1\n",
       "CHEMBL3358       1\n",
       "CHEMBL3883328    1\n",
       "Name: target_chembl_id, dtype: int64"
      ]
     },
     "execution_count": 25,
     "metadata": {},
     "output_type": "execute_result"
    }
   ],
   "source": [
    "bioact_df_active.target_chembl_id.value_counts()"
   ]
  },
  {
   "cell_type": "code",
   "execution_count": 26,
   "metadata": {},
   "outputs": [
    {
     "data": {
      "text/plain": [
       "28"
      ]
     },
     "execution_count": 26,
     "metadata": {},
     "output_type": "execute_result"
    }
   ],
   "source": [
    "len(bioact_df_active.target_chembl_id)"
   ]
  },
  {
   "cell_type": "code",
   "execution_count": 27,
   "metadata": {},
   "outputs": [
    {
     "data": {
      "text/plain": [
       "20"
      ]
     },
     "execution_count": 27,
     "metadata": {},
     "output_type": "execute_result"
    }
   ],
   "source": [
    "len(bioact_df_active.target_chembl_id.value_counts())"
   ]
  },
  {
   "cell_type": "markdown",
   "metadata": {},
   "source": [
    "### Get all ATC classified molecules"
   ]
  },
  {
   "cell_type": "code",
   "execution_count": 28,
   "metadata": {},
   "outputs": [
    {
     "data": {
      "text/html": [
       "<div>\n",
       "<style scoped>\n",
       "    .dataframe tbody tr th:only-of-type {\n",
       "        vertical-align: middle;\n",
       "    }\n",
       "\n",
       "    .dataframe tbody tr th {\n",
       "        vertical-align: top;\n",
       "    }\n",
       "\n",
       "    .dataframe thead th {\n",
       "        text-align: right;\n",
       "    }\n",
       "</style>\n",
       "<table border=\"1\" class=\"dataframe\">\n",
       "  <thead>\n",
       "    <tr style=\"text-align: right;\">\n",
       "      <th></th>\n",
       "      <th>atc_classification</th>\n",
       "      <th>chembl_id</th>\n",
       "      <th>first_approval</th>\n",
       "      <th>inchi</th>\n",
       "      <th>smiles</th>\n",
       "    </tr>\n",
       "  </thead>\n",
       "  <tbody>\n",
       "  </tbody>\n",
       "</table>\n",
       "</div>"
      ],
      "text/plain": [
       "Empty DataFrame\n",
       "Columns: [atc_classification, chembl_id, first_approval, inchi, smiles]\n",
       "Index: []"
      ]
     },
     "execution_count": 28,
     "metadata": {},
     "output_type": "execute_result"
    }
   ],
   "source": [
    "# check if first_approval field is not empty\n",
    "details[details.first_approval == details.first_approval]"
   ]
  },
  {
   "cell_type": "code",
   "execution_count": 29,
   "metadata": {},
   "outputs": [
    {
     "data": {
      "text/html": [
       "<div>\n",
       "<style scoped>\n",
       "    .dataframe tbody tr th:only-of-type {\n",
       "        vertical-align: middle;\n",
       "    }\n",
       "\n",
       "    .dataframe tbody tr th {\n",
       "        vertical-align: top;\n",
       "    }\n",
       "\n",
       "    .dataframe thead th {\n",
       "        text-align: right;\n",
       "    }\n",
       "</style>\n",
       "<table border=\"1\" class=\"dataframe\">\n",
       "  <thead>\n",
       "    <tr style=\"text-align: right;\">\n",
       "      <th></th>\n",
       "      <th>atc_classification</th>\n",
       "      <th>chembl_id</th>\n",
       "      <th>first_approval</th>\n",
       "      <th>inchi</th>\n",
       "      <th>smiles</th>\n",
       "    </tr>\n",
       "  </thead>\n",
       "  <tbody>\n",
       "  </tbody>\n",
       "</table>\n",
       "</div>"
      ],
      "text/plain": [
       "Empty DataFrame\n",
       "Columns: [atc_classification, chembl_id, first_approval, inchi, smiles]\n",
       "Index: []"
      ]
     },
     "execution_count": 29,
     "metadata": {},
     "output_type": "execute_result"
    }
   ],
   "source": [
    "# check if atc classified field is not empty\n",
    "details[details.atc_classification.str.len() != 0]"
   ]
  },
  {
   "cell_type": "markdown",
   "metadata": {},
   "source": [
    "### Get all approved drugs"
   ]
  },
  {
   "cell_type": "code",
   "execution_count": 30,
   "metadata": {},
   "outputs": [],
   "source": [
    "approved_drugs = compound.filter(molecule_chembl_id__in = list(details.chembl_id), max_phase=4)"
   ]
  },
  {
   "cell_type": "code",
   "execution_count": 31,
   "metadata": {},
   "outputs": [
    {
     "data": {
      "text/plain": [
       "1"
      ]
     },
     "execution_count": 31,
     "metadata": {},
     "output_type": "execute_result"
    }
   ],
   "source": [
    "len(approved_drugs)"
   ]
  },
  {
   "cell_type": "code",
   "execution_count": 32,
   "metadata": {},
   "outputs": [],
   "source": [
    "approved_mol = approved_drugs[0]"
   ]
  },
  {
   "cell_type": "code",
   "execution_count": 33,
   "metadata": {},
   "outputs": [
    {
     "data": {
      "text/plain": [
       "'CHEMBL1909282'"
      ]
     },
     "execution_count": 33,
     "metadata": {},
     "output_type": "execute_result"
    }
   ],
   "source": [
    "chembl_id = approved_mol['molecule_chembl_id']\n",
    "chembl_id"
   ]
  },
  {
   "cell_type": "code",
   "execution_count": 34,
   "metadata": {},
   "outputs": [],
   "source": [
    "activities = activity.filter(molecule_chembl_id = chembl_id) \\\n",
    "              .filter(type = 'IC50') \\\n",
    "              .filter(assay_type = 'B') \\\n",
    "              .only('activity_id','assay_chembl_id', 'assay_description', 'assay_type', \\\n",
    "                    'molecule_chembl_id', 'type', 'units', 'relation', 'value', \\\n",
    "                    'target_chembl_id', 'target_organism')"
   ]
  },
  {
   "cell_type": "code",
   "execution_count": 35,
   "metadata": {},
   "outputs": [
    {
     "data": {
      "text/html": [
       "<div>\n",
       "<style scoped>\n",
       "    .dataframe tbody tr th:only-of-type {\n",
       "        vertical-align: middle;\n",
       "    }\n",
       "\n",
       "    .dataframe tbody tr th {\n",
       "        vertical-align: top;\n",
       "    }\n",
       "\n",
       "    .dataframe thead th {\n",
       "        text-align: right;\n",
       "    }\n",
       "</style>\n",
       "<table border=\"1\" class=\"dataframe\">\n",
       "  <thead>\n",
       "    <tr style=\"text-align: right;\">\n",
       "      <th></th>\n",
       "      <th>activity_id</th>\n",
       "      <th>assay_chembl_id</th>\n",
       "      <th>assay_description</th>\n",
       "      <th>assay_type</th>\n",
       "      <th>molecule_chembl_id</th>\n",
       "      <th>relation</th>\n",
       "      <th>target_chembl_id</th>\n",
       "      <th>target_organism</th>\n",
       "      <th>type</th>\n",
       "      <th>units</th>\n",
       "      <th>value</th>\n",
       "    </tr>\n",
       "  </thead>\n",
       "  <tbody>\n",
       "    <tr>\n",
       "      <th>0</th>\n",
       "      <td>15460367</td>\n",
       "      <td>CHEMBL3540574</td>\n",
       "      <td>Inhibition of Sprague-Dawley rat Bsep expresse...</td>\n",
       "      <td>B</td>\n",
       "      <td>CHEMBL1909282</td>\n",
       "      <td>&gt;</td>\n",
       "      <td>CHEMBL2073674</td>\n",
       "      <td>Rattus norvegicus</td>\n",
       "      <td>IC50</td>\n",
       "      <td>uM</td>\n",
       "      <td>1000</td>\n",
       "    </tr>\n",
       "    <tr>\n",
       "      <th>1</th>\n",
       "      <td>15460435</td>\n",
       "      <td>CHEMBL3540573</td>\n",
       "      <td>Inhibition of human BSEP expressed in plasma m...</td>\n",
       "      <td>B</td>\n",
       "      <td>CHEMBL1909282</td>\n",
       "      <td>&gt;</td>\n",
       "      <td>CHEMBL6020</td>\n",
       "      <td>Homo sapiens</td>\n",
       "      <td>IC50</td>\n",
       "      <td>uM</td>\n",
       "      <td>1000</td>\n",
       "    </tr>\n",
       "  </tbody>\n",
       "</table>\n",
       "</div>"
      ],
      "text/plain": [
       "   activity_id assay_chembl_id  \\\n",
       "0     15460367   CHEMBL3540574   \n",
       "1     15460435   CHEMBL3540573   \n",
       "\n",
       "                                   assay_description assay_type  \\\n",
       "0  Inhibition of Sprague-Dawley rat Bsep expresse...          B   \n",
       "1  Inhibition of human BSEP expressed in plasma m...          B   \n",
       "\n",
       "  molecule_chembl_id relation target_chembl_id    target_organism  type units  \\\n",
       "0      CHEMBL1909282        >    CHEMBL2073674  Rattus norvegicus  IC50    uM   \n",
       "1      CHEMBL1909282        >       CHEMBL6020       Homo sapiens  IC50    uM   \n",
       "\n",
       "  value  \n",
       "0  1000  \n",
       "1  1000  "
      ]
     },
     "execution_count": 35,
     "metadata": {},
     "output_type": "execute_result"
    }
   ],
   "source": [
    "act = pd.DataFrame(list(activities))\n",
    "act"
   ]
  },
  {
   "cell_type": "markdown",
   "metadata": {},
   "source": [
    "### Get ChEMBL target details: Protein target classification"
   ]
  },
  {
   "cell_type": "markdown",
   "metadata": {},
   "source": [
    "In order to access the protein target classification, we follow the instructions given here:\n",
    "\n",
    "https://github.com/chembl/chembl_webservices_2/issues/95"
   ]
  },
  {
   "cell_type": "code",
   "execution_count": 36,
   "metadata": {},
   "outputs": [
    {
     "data": {
      "text/plain": [
       "['CHEMBL301',\n",
       " 'CHEMBL3358',\n",
       " 'CHEMBL308',\n",
       " 'CHEMBL4102',\n",
       " 'CHEMBL5443',\n",
       " 'CHEMBL4630',\n",
       " 'CHEMBL3038477',\n",
       " 'CHEMBL2147',\n",
       " 'CHEMBL4523',\n",
       " 'CHEMBL5407',\n",
       " 'CHEMBL3883328',\n",
       " 'CHEMBL1075104',\n",
       " 'CHEMBL1075293',\n",
       " 'CHEMBL1968',\n",
       " 'CHEMBL3038467',\n",
       " 'CHEMBL3038469',\n",
       " 'CHEMBL3708265',\n",
       " 'CHEMBL5393',\n",
       " 'CHEMBL2842',\n",
       " 'CHEMBL612545']"
      ]
     },
     "execution_count": 36,
     "metadata": {},
     "output_type": "execute_result"
    }
   ],
   "source": [
    "target_chembl_ids = list(bioact_df_active.target_chembl_id.unique())\n",
    "target_chembl_ids"
   ]
  },
  {
   "cell_type": "markdown",
   "metadata": {},
   "source": [
    "#### Define request functions for `target`, `target_components` and `protein_class` ChEMBL endpoints"
   ]
  },
  {
   "cell_type": "code",
   "execution_count": 37,
   "metadata": {},
   "outputs": [],
   "source": [
    "def extract_component_id_from_target(target_chembl_id):\n",
    "    \"\"\"\n",
    "    Go to `target` endpoint and extract `component_id`\n",
    "    \"\"\"\n",
    "    \n",
    "    target_url = f'https://www.ebi.ac.uk/chembl/api/data/target/{target_chembl_id}.json'\n",
    "    #print(target_url)\n",
    "    \n",
    "    response = requests.get(target_url)\n",
    "    response.raise_for_status()\n",
    "    result = response.json()\n",
    "\n",
    "    component_ids = [i['component_id'] for i in result['target_components']]\n",
    "    return component_ids\n"
   ]
  },
  {
   "cell_type": "code",
   "execution_count": 38,
   "metadata": {},
   "outputs": [],
   "source": [
    "def extract_protein_classification_id_from_target_components(component_id):\n",
    "    \"\"\"\n",
    "    Go to `target_components` endpoint and extract `protein_classification_id`\n",
    "    \"\"\"\n",
    "    \n",
    "    target_components_url = f'https://www.ebi.ac.uk/chembl/api/data/target_component/{component_id}.json'\n",
    "    #print(target_components_url)\n",
    "\n",
    "    response = requests.get(target_components_url)\n",
    "    response.raise_for_status()  # this line checks for potential errors\n",
    "    result = response.json()\n",
    "\n",
    "    protein_classification_ids = [i['protein_classification_id'] for i in result['protein_classifications']]\n",
    "\n",
    "    return protein_classification_ids"
   ]
  },
  {
   "cell_type": "code",
   "execution_count": 39,
   "metadata": {},
   "outputs": [],
   "source": [
    "def get_protein_target_classification_from_protein_class(protein_classification_id):\n",
    "    \"\"\"\n",
    "    Go to `protein_class` endpoint and extract protein target classification.\n",
    "    \"\"\"\n",
    "\n",
    "    protein_class_url = f'https://www.ebi.ac.uk/chembl/api/data/protein_class/{protein_classification_id}.json'\n",
    "    #print(protein_class_url)\n",
    "\n",
    "    response = requests.get(protein_class_url)\n",
    "    response.raise_for_status()  # this line checks for potential errors\n",
    "    result = response.json()\n",
    "\n",
    "    return pd.Series(result)"
   ]
  },
  {
   "cell_type": "code",
   "execution_count": 40,
   "metadata": {},
   "outputs": [],
   "source": [
    "def get_protein_target_classifications(target_chembl_ids):\n",
    "    \"\"\"\n",
    "    Get protein target classifications for a list of target ChEMBL IDs (in the form of a DataFrame).\n",
    "    \"\"\"\n",
    "\n",
    "    results = []\n",
    "\n",
    "    for target_chembl_id in target_chembl_ids:\n",
    "        #print(target_chembl_id)\n",
    "\n",
    "        # Go to `target` endpoint and extract `component_id`\n",
    "        component_ids = extract_component_id_from_target(target_chembl_id)\n",
    "\n",
    "        for component_id in component_ids:\n",
    "            #print(component_id)\n",
    "\n",
    "            # Go to `target_components` endpoint and extract `protein_classification_id`\n",
    "            protein_classification_ids = extract_protein_classification_id_from_target_components(component_id)\n",
    "\n",
    "            for protein_classification_id in protein_classification_ids:\n",
    "                #print(protein_classification_id)\n",
    "\n",
    "                # Go to `protein_class` endpoint and extract protein target classification.\n",
    "                protein_target_classification = get_protein_target_classification_from_protein_class(protein_classification_id)\n",
    "\n",
    "                # Add ID details\n",
    "                protein_target_classification['target_chembl_id'] = target_chembl_id\n",
    "                protein_target_classification['component_id'] = component_id\n",
    "                protein_target_classification['protein_classification_id'] = protein_classification_id\n",
    "\n",
    "                results.append(protein_target_classification)\n",
    "                \n",
    "    return pd.DataFrame(results)"
   ]
  },
  {
   "cell_type": "code",
   "execution_count": 41,
   "metadata": {},
   "outputs": [],
   "source": [
    "protein_target_classifications = get_protein_target_classifications(target_chembl_ids)"
   ]
  },
  {
   "cell_type": "code",
   "execution_count": 42,
   "metadata": {},
   "outputs": [
    {
     "data": {
      "text/html": [
       "<div>\n",
       "<style scoped>\n",
       "    .dataframe tbody tr th:only-of-type {\n",
       "        vertical-align: middle;\n",
       "    }\n",
       "\n",
       "    .dataframe tbody tr th {\n",
       "        vertical-align: top;\n",
       "    }\n",
       "\n",
       "    .dataframe thead th {\n",
       "        text-align: right;\n",
       "    }\n",
       "</style>\n",
       "<table border=\"1\" class=\"dataframe\">\n",
       "  <thead>\n",
       "    <tr style=\"text-align: right;\">\n",
       "      <th></th>\n",
       "      <th>l1</th>\n",
       "      <th>l2</th>\n",
       "      <th>l3</th>\n",
       "      <th>l4</th>\n",
       "      <th>l5</th>\n",
       "      <th>l6</th>\n",
       "      <th>l7</th>\n",
       "      <th>l8</th>\n",
       "      <th>protein_class_id</th>\n",
       "      <th>target_chembl_id</th>\n",
       "      <th>component_id</th>\n",
       "      <th>protein_classification_id</th>\n",
       "    </tr>\n",
       "  </thead>\n",
       "  <tbody>\n",
       "    <tr>\n",
       "      <th>0</th>\n",
       "      <td>Enzyme</td>\n",
       "      <td>Kinase</td>\n",
       "      <td>Protein Kinase</td>\n",
       "      <td>CMGC protein kinase group</td>\n",
       "      <td>CMGC protein kinase CDK family</td>\n",
       "      <td>CMGC protein kinase CDC2 subfamily</td>\n",
       "      <td>None</td>\n",
       "      <td>None</td>\n",
       "      <td>323</td>\n",
       "      <td>CHEMBL301</td>\n",
       "      <td>36</td>\n",
       "      <td>323</td>\n",
       "    </tr>\n",
       "    <tr>\n",
       "      <th>1</th>\n",
       "      <td>Enzyme</td>\n",
       "      <td>None</td>\n",
       "      <td>None</td>\n",
       "      <td>None</td>\n",
       "      <td>None</td>\n",
       "      <td>None</td>\n",
       "      <td>None</td>\n",
       "      <td>None</td>\n",
       "      <td>1</td>\n",
       "      <td>CHEMBL3358</td>\n",
       "      <td>1680</td>\n",
       "      <td>1</td>\n",
       "    </tr>\n",
       "    <tr>\n",
       "      <th>2</th>\n",
       "      <td>Enzyme</td>\n",
       "      <td>Kinase</td>\n",
       "      <td>Protein Kinase</td>\n",
       "      <td>CMGC protein kinase group</td>\n",
       "      <td>CMGC protein kinase CDK family</td>\n",
       "      <td>CMGC protein kinase CDC2 subfamily</td>\n",
       "      <td>None</td>\n",
       "      <td>None</td>\n",
       "      <td>323</td>\n",
       "      <td>CHEMBL308</td>\n",
       "      <td>7</td>\n",
       "      <td>323</td>\n",
       "    </tr>\n",
       "    <tr>\n",
       "      <th>3</th>\n",
       "      <td>Enzyme</td>\n",
       "      <td>Oxidoreductase</td>\n",
       "      <td>None</td>\n",
       "      <td>None</td>\n",
       "      <td>None</td>\n",
       "      <td>None</td>\n",
       "      <td>None</td>\n",
       "      <td>None</td>\n",
       "      <td>10</td>\n",
       "      <td>CHEMBL4102</td>\n",
       "      <td>2420</td>\n",
       "      <td>10</td>\n",
       "    </tr>\n",
       "    <tr>\n",
       "      <th>4</th>\n",
       "      <td>Enzyme</td>\n",
       "      <td>Kinase</td>\n",
       "      <td>Protein Kinase</td>\n",
       "      <td>Other protein kinase group</td>\n",
       "      <td>Other protein kinase CDC7 family</td>\n",
       "      <td>None</td>\n",
       "      <td>None</td>\n",
       "      <td>None</td>\n",
       "      <td>271</td>\n",
       "      <td>CHEMBL5443</td>\n",
       "      <td>5015</td>\n",
       "      <td>271</td>\n",
       "    </tr>\n",
       "    <tr>\n",
       "      <th>5</th>\n",
       "      <td>Enzyme</td>\n",
       "      <td>Kinase</td>\n",
       "      <td>Protein Kinase</td>\n",
       "      <td>CAMK protein kinase group</td>\n",
       "      <td>CAMK protein kinase CAMK1 family</td>\n",
       "      <td>CAMK protein kinase CHK1 subfamily</td>\n",
       "      <td>None</td>\n",
       "      <td>None</td>\n",
       "      <td>411</td>\n",
       "      <td>CHEMBL4630</td>\n",
       "      <td>2947</td>\n",
       "      <td>411</td>\n",
       "    </tr>\n",
       "    <tr>\n",
       "      <th>6</th>\n",
       "      <td>Enzyme</td>\n",
       "      <td>Kinase</td>\n",
       "      <td>Protein kinase regulatory subunit</td>\n",
       "      <td>None</td>\n",
       "      <td>None</td>\n",
       "      <td>None</td>\n",
       "      <td>None</td>\n",
       "      <td>None</td>\n",
       "      <td>129</td>\n",
       "      <td>CHEMBL3038477</td>\n",
       "      <td>699</td>\n",
       "      <td>129</td>\n",
       "    </tr>\n",
       "    <tr>\n",
       "      <th>7</th>\n",
       "      <td>Enzyme</td>\n",
       "      <td>Kinase</td>\n",
       "      <td>Protein Kinase</td>\n",
       "      <td>Other protein kinase group</td>\n",
       "      <td>Other protein kinase CK2 family</td>\n",
       "      <td>None</td>\n",
       "      <td>None</td>\n",
       "      <td>None</td>\n",
       "      <td>252</td>\n",
       "      <td>CHEMBL3038477</td>\n",
       "      <td>1946</td>\n",
       "      <td>252</td>\n",
       "    </tr>\n",
       "    <tr>\n",
       "      <th>8</th>\n",
       "      <td>Enzyme</td>\n",
       "      <td>Kinase</td>\n",
       "      <td>Protein Kinase</td>\n",
       "      <td>CAMK protein kinase group</td>\n",
       "      <td>CAMK protein kinase PIM family</td>\n",
       "      <td>None</td>\n",
       "      <td>None</td>\n",
       "      <td>None</td>\n",
       "      <td>235</td>\n",
       "      <td>CHEMBL2147</td>\n",
       "      <td>489</td>\n",
       "      <td>235</td>\n",
       "    </tr>\n",
       "    <tr>\n",
       "      <th>9</th>\n",
       "      <td>Enzyme</td>\n",
       "      <td>Kinase</td>\n",
       "      <td>Protein Kinase</td>\n",
       "      <td>CAMK protein kinase group</td>\n",
       "      <td>CAMK protein kinase PIM family</td>\n",
       "      <td>None</td>\n",
       "      <td>None</td>\n",
       "      <td>None</td>\n",
       "      <td>235</td>\n",
       "      <td>CHEMBL4523</td>\n",
       "      <td>2840</td>\n",
       "      <td>235</td>\n",
       "    </tr>\n",
       "    <tr>\n",
       "      <th>10</th>\n",
       "      <td>Enzyme</td>\n",
       "      <td>Kinase</td>\n",
       "      <td>Protein Kinase</td>\n",
       "      <td>CAMK protein kinase group</td>\n",
       "      <td>CAMK protein kinase PIM family</td>\n",
       "      <td>None</td>\n",
       "      <td>None</td>\n",
       "      <td>None</td>\n",
       "      <td>235</td>\n",
       "      <td>CHEMBL5407</td>\n",
       "      <td>3702</td>\n",
       "      <td>235</td>\n",
       "    </tr>\n",
       "    <tr>\n",
       "      <th>11</th>\n",
       "      <td>Enzyme</td>\n",
       "      <td>Kinase</td>\n",
       "      <td>Protein kinase regulatory subunit</td>\n",
       "      <td>None</td>\n",
       "      <td>None</td>\n",
       "      <td>None</td>\n",
       "      <td>None</td>\n",
       "      <td>None</td>\n",
       "      <td>129</td>\n",
       "      <td>CHEMBL3883328</td>\n",
       "      <td>699</td>\n",
       "      <td>129</td>\n",
       "    </tr>\n",
       "    <tr>\n",
       "      <th>12</th>\n",
       "      <td>Enzyme</td>\n",
       "      <td>Kinase</td>\n",
       "      <td>Protein Kinase</td>\n",
       "      <td>Other protein kinase group</td>\n",
       "      <td>Other protein kinase CK2 family</td>\n",
       "      <td>None</td>\n",
       "      <td>None</td>\n",
       "      <td>None</td>\n",
       "      <td>252</td>\n",
       "      <td>CHEMBL3883328</td>\n",
       "      <td>2389</td>\n",
       "      <td>252</td>\n",
       "    </tr>\n",
       "    <tr>\n",
       "      <th>13</th>\n",
       "      <td>Enzyme</td>\n",
       "      <td>Kinase</td>\n",
       "      <td>Protein Kinase</td>\n",
       "      <td>TKL protein kinase group</td>\n",
       "      <td>TKL protein kinase LRRK family</td>\n",
       "      <td>None</td>\n",
       "      <td>None</td>\n",
       "      <td>None</td>\n",
       "      <td>240</td>\n",
       "      <td>CHEMBL1075104</td>\n",
       "      <td>3994</td>\n",
       "      <td>240</td>\n",
       "    </tr>\n",
       "    <tr>\n",
       "      <th>14</th>\n",
       "      <td>Enzyme</td>\n",
       "      <td>Protease</td>\n",
       "      <td>Serine protease</td>\n",
       "      <td>Serine protease SC clan</td>\n",
       "      <td>Serine protease S33 family</td>\n",
       "      <td>None</td>\n",
       "      <td>None</td>\n",
       "      <td>None</td>\n",
       "      <td>20</td>\n",
       "      <td>CHEMBL1075293</td>\n",
       "      <td>4727</td>\n",
       "      <td>20</td>\n",
       "    </tr>\n",
       "    <tr>\n",
       "      <th>15</th>\n",
       "      <td>Enzyme</td>\n",
       "      <td>Protease</td>\n",
       "      <td>Serine protease</td>\n",
       "      <td>Serine protease SC clan</td>\n",
       "      <td>Serine protease S33 family</td>\n",
       "      <td>None</td>\n",
       "      <td>None</td>\n",
       "      <td>None</td>\n",
       "      <td>20</td>\n",
       "      <td>CHEMBL1968</td>\n",
       "      <td>291</td>\n",
       "      <td>20</td>\n",
       "    </tr>\n",
       "    <tr>\n",
       "      <th>16</th>\n",
       "      <td>Enzyme</td>\n",
       "      <td>Kinase</td>\n",
       "      <td>Protein Kinase</td>\n",
       "      <td>CMGC protein kinase group</td>\n",
       "      <td>CMGC protein kinase CDK family</td>\n",
       "      <td>CMGC protein kinase CDC2 subfamily</td>\n",
       "      <td>None</td>\n",
       "      <td>None</td>\n",
       "      <td>323</td>\n",
       "      <td>CHEMBL3038467</td>\n",
       "      <td>7</td>\n",
       "      <td>323</td>\n",
       "    </tr>\n",
       "    <tr>\n",
       "      <th>17</th>\n",
       "      <td>Other cytosolic protein</td>\n",
       "      <td>None</td>\n",
       "      <td>None</td>\n",
       "      <td>None</td>\n",
       "      <td>None</td>\n",
       "      <td>None</td>\n",
       "      <td>None</td>\n",
       "      <td>None</td>\n",
       "      <td>8</td>\n",
       "      <td>CHEMBL3038467</td>\n",
       "      <td>918</td>\n",
       "      <td>8</td>\n",
       "    </tr>\n",
       "    <tr>\n",
       "      <th>18</th>\n",
       "      <td>Enzyme</td>\n",
       "      <td>Kinase</td>\n",
       "      <td>Protein Kinase</td>\n",
       "      <td>CMGC protein kinase group</td>\n",
       "      <td>CMGC protein kinase CDK family</td>\n",
       "      <td>CMGC protein kinase CDC2 subfamily</td>\n",
       "      <td>None</td>\n",
       "      <td>None</td>\n",
       "      <td>323</td>\n",
       "      <td>CHEMBL3038469</td>\n",
       "      <td>36</td>\n",
       "      <td>323</td>\n",
       "    </tr>\n",
       "    <tr>\n",
       "      <th>19</th>\n",
       "      <td>Other cytosolic protein</td>\n",
       "      <td>None</td>\n",
       "      <td>None</td>\n",
       "      <td>None</td>\n",
       "      <td>None</td>\n",
       "      <td>None</td>\n",
       "      <td>None</td>\n",
       "      <td>None</td>\n",
       "      <td>8</td>\n",
       "      <td>CHEMBL3038469</td>\n",
       "      <td>918</td>\n",
       "      <td>8</td>\n",
       "    </tr>\n",
       "    <tr>\n",
       "      <th>20</th>\n",
       "      <td>Enzyme</td>\n",
       "      <td>None</td>\n",
       "      <td>None</td>\n",
       "      <td>None</td>\n",
       "      <td>None</td>\n",
       "      <td>None</td>\n",
       "      <td>None</td>\n",
       "      <td>None</td>\n",
       "      <td>1</td>\n",
       "      <td>CHEMBL3708265</td>\n",
       "      <td>10418</td>\n",
       "      <td>1</td>\n",
       "    </tr>\n",
       "    <tr>\n",
       "      <th>21</th>\n",
       "      <td>Transporter</td>\n",
       "      <td>Primary active transporter</td>\n",
       "      <td>ATP-binding cassette</td>\n",
       "      <td>ABCG subfamily</td>\n",
       "      <td>None</td>\n",
       "      <td>None</td>\n",
       "      <td>None</td>\n",
       "      <td>None</td>\n",
       "      <td>750</td>\n",
       "      <td>CHEMBL5393</td>\n",
       "      <td>3688</td>\n",
       "      <td>750</td>\n",
       "    </tr>\n",
       "    <tr>\n",
       "      <th>22</th>\n",
       "      <td>Enzyme</td>\n",
       "      <td>Kinase</td>\n",
       "      <td>Protein Kinase</td>\n",
       "      <td>Atypical protein kinase group</td>\n",
       "      <td>Atypical protein kinase PIKK family</td>\n",
       "      <td>Atypical protein kinase FRAP subfamily</td>\n",
       "      <td>None</td>\n",
       "      <td>None</td>\n",
       "      <td>450</td>\n",
       "      <td>CHEMBL2842</td>\n",
       "      <td>1172</td>\n",
       "      <td>450</td>\n",
       "    </tr>\n",
       "  </tbody>\n",
       "</table>\n",
       "</div>"
      ],
      "text/plain": [
       "                         l1                          l2  \\\n",
       "0                    Enzyme                      Kinase   \n",
       "1                    Enzyme                        None   \n",
       "2                    Enzyme                      Kinase   \n",
       "3                    Enzyme              Oxidoreductase   \n",
       "4                    Enzyme                      Kinase   \n",
       "5                    Enzyme                      Kinase   \n",
       "6                    Enzyme                      Kinase   \n",
       "7                    Enzyme                      Kinase   \n",
       "8                    Enzyme                      Kinase   \n",
       "9                    Enzyme                      Kinase   \n",
       "10                   Enzyme                      Kinase   \n",
       "11                   Enzyme                      Kinase   \n",
       "12                   Enzyme                      Kinase   \n",
       "13                   Enzyme                      Kinase   \n",
       "14                   Enzyme                    Protease   \n",
       "15                   Enzyme                    Protease   \n",
       "16                   Enzyme                      Kinase   \n",
       "17  Other cytosolic protein                        None   \n",
       "18                   Enzyme                      Kinase   \n",
       "19  Other cytosolic protein                        None   \n",
       "20                   Enzyme                        None   \n",
       "21              Transporter  Primary active transporter   \n",
       "22                   Enzyme                      Kinase   \n",
       "\n",
       "                                   l3                             l4  \\\n",
       "0                      Protein Kinase      CMGC protein kinase group   \n",
       "1                                None                           None   \n",
       "2                      Protein Kinase      CMGC protein kinase group   \n",
       "3                                None                           None   \n",
       "4                      Protein Kinase     Other protein kinase group   \n",
       "5                      Protein Kinase      CAMK protein kinase group   \n",
       "6   Protein kinase regulatory subunit                           None   \n",
       "7                      Protein Kinase     Other protein kinase group   \n",
       "8                      Protein Kinase      CAMK protein kinase group   \n",
       "9                      Protein Kinase      CAMK protein kinase group   \n",
       "10                     Protein Kinase      CAMK protein kinase group   \n",
       "11  Protein kinase regulatory subunit                           None   \n",
       "12                     Protein Kinase     Other protein kinase group   \n",
       "13                     Protein Kinase       TKL protein kinase group   \n",
       "14                    Serine protease        Serine protease SC clan   \n",
       "15                    Serine protease        Serine protease SC clan   \n",
       "16                     Protein Kinase      CMGC protein kinase group   \n",
       "17                               None                           None   \n",
       "18                     Protein Kinase      CMGC protein kinase group   \n",
       "19                               None                           None   \n",
       "20                               None                           None   \n",
       "21               ATP-binding cassette                 ABCG subfamily   \n",
       "22                     Protein Kinase  Atypical protein kinase group   \n",
       "\n",
       "                                     l5  \\\n",
       "0        CMGC protein kinase CDK family   \n",
       "1                                  None   \n",
       "2        CMGC protein kinase CDK family   \n",
       "3                                  None   \n",
       "4      Other protein kinase CDC7 family   \n",
       "5      CAMK protein kinase CAMK1 family   \n",
       "6                                  None   \n",
       "7       Other protein kinase CK2 family   \n",
       "8        CAMK protein kinase PIM family   \n",
       "9        CAMK protein kinase PIM family   \n",
       "10       CAMK protein kinase PIM family   \n",
       "11                                 None   \n",
       "12      Other protein kinase CK2 family   \n",
       "13       TKL protein kinase LRRK family   \n",
       "14           Serine protease S33 family   \n",
       "15           Serine protease S33 family   \n",
       "16       CMGC protein kinase CDK family   \n",
       "17                                 None   \n",
       "18       CMGC protein kinase CDK family   \n",
       "19                                 None   \n",
       "20                                 None   \n",
       "21                                 None   \n",
       "22  Atypical protein kinase PIKK family   \n",
       "\n",
       "                                        l6    l7    l8  protein_class_id  \\\n",
       "0       CMGC protein kinase CDC2 subfamily  None  None               323   \n",
       "1                                     None  None  None                 1   \n",
       "2       CMGC protein kinase CDC2 subfamily  None  None               323   \n",
       "3                                     None  None  None                10   \n",
       "4                                     None  None  None               271   \n",
       "5       CAMK protein kinase CHK1 subfamily  None  None               411   \n",
       "6                                     None  None  None               129   \n",
       "7                                     None  None  None               252   \n",
       "8                                     None  None  None               235   \n",
       "9                                     None  None  None               235   \n",
       "10                                    None  None  None               235   \n",
       "11                                    None  None  None               129   \n",
       "12                                    None  None  None               252   \n",
       "13                                    None  None  None               240   \n",
       "14                                    None  None  None                20   \n",
       "15                                    None  None  None                20   \n",
       "16      CMGC protein kinase CDC2 subfamily  None  None               323   \n",
       "17                                    None  None  None                 8   \n",
       "18      CMGC protein kinase CDC2 subfamily  None  None               323   \n",
       "19                                    None  None  None                 8   \n",
       "20                                    None  None  None                 1   \n",
       "21                                    None  None  None               750   \n",
       "22  Atypical protein kinase FRAP subfamily  None  None               450   \n",
       "\n",
       "   target_chembl_id  component_id  protein_classification_id  \n",
       "0         CHEMBL301            36                        323  \n",
       "1        CHEMBL3358          1680                          1  \n",
       "2         CHEMBL308             7                        323  \n",
       "3        CHEMBL4102          2420                         10  \n",
       "4        CHEMBL5443          5015                        271  \n",
       "5        CHEMBL4630          2947                        411  \n",
       "6     CHEMBL3038477           699                        129  \n",
       "7     CHEMBL3038477          1946                        252  \n",
       "8        CHEMBL2147           489                        235  \n",
       "9        CHEMBL4523          2840                        235  \n",
       "10       CHEMBL5407          3702                        235  \n",
       "11    CHEMBL3883328           699                        129  \n",
       "12    CHEMBL3883328          2389                        252  \n",
       "13    CHEMBL1075104          3994                        240  \n",
       "14    CHEMBL1075293          4727                         20  \n",
       "15       CHEMBL1968           291                         20  \n",
       "16    CHEMBL3038467             7                        323  \n",
       "17    CHEMBL3038467           918                          8  \n",
       "18    CHEMBL3038469            36                        323  \n",
       "19    CHEMBL3038469           918                          8  \n",
       "20    CHEMBL3708265         10418                          1  \n",
       "21       CHEMBL5393          3688                        750  \n",
       "22       CHEMBL2842          1172                        450  "
      ]
     },
     "execution_count": 42,
     "metadata": {},
     "output_type": "execute_result"
    }
   ],
   "source": [
    "protein_target_classifications"
   ]
  },
  {
   "cell_type": "code",
   "execution_count": null,
   "metadata": {},
   "outputs": [],
   "source": []
  }
 ],
 "metadata": {
  "kernelspec": {
   "display_name": "teachopencadd",
   "language": "python",
   "name": "teachopencadd"
  },
  "language_info": {
   "codemirror_mode": {
    "name": "ipython",
    "version": 3
   },
   "file_extension": ".py",
   "mimetype": "text/x-python",
   "name": "python",
   "nbconvert_exporter": "python",
   "pygments_lexer": "ipython3",
   "version": "3.6.7"
  }
 },
 "nbformat": 4,
 "nbformat_minor": 2
}
