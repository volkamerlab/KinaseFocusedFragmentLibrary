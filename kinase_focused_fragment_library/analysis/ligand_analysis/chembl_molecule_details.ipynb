{
 "cells": [
  {
   "cell_type": "markdown",
   "metadata": {},
   "source": [
    "# ChEMBL molecules details\n",
    "\n",
    "Get more details on molecules from the recombined library that were found in ChEMBL:\n",
    "- Get targets that these molecules are active on\n",
    "- Get classification for these targets (e.g. are these targets kinases?)"
   ]
  },
  {
   "cell_type": "code",
   "execution_count": 1,
   "metadata": {},
   "outputs": [],
   "source": [
    "from chembl_webresource_client.new_client import new_client\n",
    "import pandas as pd\n",
    "import requests\n",
    "from rdkit import Chem\n",
    "from rdkit.Chem.Draw import IPythonConsole"
   ]
  },
  {
   "cell_type": "markdown",
   "metadata": {},
   "source": [
    "## Load ChEMBL molecules\n",
    "\n",
    "These are the molecules from the recombined library that were found in ChEMBL."
   ]
  },
  {
   "cell_type": "code",
   "execution_count": 2,
   "metadata": {},
   "outputs": [],
   "source": [
    "with open('novel_chembl_mols.txt', 'r') as f:\n",
    "    lines = f.readlines()\n",
    "    \n",
    "molecules = [i[:-1] for i in lines]\n",
    "molecules = [Chem.InchiToInchiKey(inchi) for inchi in molecules]"
   ]
  },
  {
   "cell_type": "code",
   "execution_count": 3,
   "metadata": {},
   "outputs": [
    {
     "data": {
      "text/plain": [
       "121"
      ]
     },
     "execution_count": 3,
     "metadata": {},
     "output_type": "execute_result"
    }
   ],
   "source": [
    "len(molecules)"
   ]
  },
  {
   "cell_type": "markdown",
   "metadata": {},
   "source": [
    "## Get molecules details from ChEMBL"
   ]
  },
  {
   "cell_type": "code",
   "execution_count": 4,
   "metadata": {},
   "outputs": [],
   "source": [
    "similarity = new_client.similarity\n",
    "compound = new_client.molecule\n",
    "activity = new_client.activity\n",
    "target = new_client.target"
   ]
  },
  {
   "cell_type": "markdown",
   "metadata": {},
   "source": [
    "### Get molecule ChEMBL IDs"
   ]
  },
  {
   "cell_type": "code",
   "execution_count": null,
   "metadata": {},
   "outputs": [],
   "source": [
    "details = []\n",
    "\n",
    "for molecule in molecules:\n",
    "    \n",
    "    result = compound.get(molecule) # similarity.filter(smiles=molecule, similarity=100)\n",
    "    \n",
    "    details.append({\n",
    "            'smiles': result['molecule_structures']['canonical_smiles'], \n",
    "            'inchi': result['molecule_structures']['standard_inchi'],\n",
    "            'atc_classification': result['atc_classifications'], \n",
    "            'first_approval': result['first_approval'],\n",
    "            'chembl_id': result['molecule_chembl_id']\n",
    "    })\n",
    "        \n",
    "details = pd.DataFrame(details)"
   ]
  },
  {
   "cell_type": "code",
   "execution_count": null,
   "metadata": {},
   "outputs": [],
   "source": [
    "print(f'Number of queries: {len(molecules)}')\n",
    "print(f'Number of query results: {details.shape[0]}')"
   ]
  },
  {
   "cell_type": "code",
   "execution_count": null,
   "metadata": {
    "scrolled": true
   },
   "outputs": [],
   "source": [
    "details.head()"
   ]
  },
  {
   "cell_type": "markdown",
   "metadata": {},
   "source": [
    "### Get measured activities for molecules"
   ]
  },
  {
   "cell_type": "code",
   "execution_count": null,
   "metadata": {},
   "outputs": [],
   "source": [
    "activities = activity.filter(\n",
    "    molecule_chembl_id__in = list(details.chembl_id),\n",
    "    type = 'IC50', \n",
    "    relation = '=', \n",
    "    assay_type = 'B'\n",
    ").only(\n",
    "    'activity_id','assay_chembl_id', 'assay_description', 'assay_type', \\\n",
    "    'molecule_chembl_id', 'type', 'units', 'relation', 'value', \\\n",
    "    'target_chembl_id', 'target_organism', 'target_pref_name'\n",
    ")"
   ]
  },
  {
   "cell_type": "code",
   "execution_count": null,
   "metadata": {},
   "outputs": [],
   "source": [
    "len(activities)"
   ]
  },
  {
   "cell_type": "code",
   "execution_count": null,
   "metadata": {},
   "outputs": [],
   "source": [
    "bioact_df = pd.DataFrame.from_records(activities)\n",
    "bioact_df.shape"
   ]
  },
  {
   "cell_type": "code",
   "execution_count": null,
   "metadata": {},
   "outputs": [],
   "source": [
    "print(f'Number of unique molecules: {len(bioact_df.molecule_chembl_id.unique())}')"
   ]
  },
  {
   "cell_type": "code",
   "execution_count": null,
   "metadata": {},
   "outputs": [],
   "source": [
    "bioact_df.units.unique()"
   ]
  },
  {
   "cell_type": "code",
   "execution_count": null,
   "metadata": {},
   "outputs": [],
   "source": [
    "def convert_to_nM(unit, bioactivity):\n",
    "    \n",
    "    conversion_factors = {\n",
    "        \"pM\": 1e-3,\n",
    "        \"10'-11M\": 1e-2,\n",
    "        \"10'-10M\": 1e-1,\n",
    "        \"nM\": 1e+0,\n",
    "        \"10'-8M\": 1e+1,\n",
    "        \"10'-1microM\": 1e+2,\n",
    "        \"10'-7M\": 1e+2,\n",
    "        \"uM\": 1e+3,\n",
    "        \"/uM\": 1e+3,\n",
    "        \"10'-6M\": 1e+3,\n",
    "        \"10'1 uM\": 1e+4,\n",
    "        \"10'2 uM\": 1e+5,\n",
    "        \"mM\": 1e+6,\n",
    "        \"mmol/L\": 1e+6,\n",
    "        \"M\": 1e+9\n",
    "    }\n",
    "    \n",
    "    try:\n",
    "        return float(bioactivity) * conversion_factors[unit]\n",
    "        \n",
    "    except KeyError:\n",
    "        print(f'Unit not recognized: {unit}')\n",
    "        return"
   ]
  },
  {
   "cell_type": "code",
   "execution_count": null,
   "metadata": {},
   "outputs": [],
   "source": [
    "bioact_df.rename(columns={\"units\": \"units_original\", \"value\": \"value_original\"}, inplace=True)"
   ]
  },
  {
   "cell_type": "code",
   "execution_count": null,
   "metadata": {},
   "outputs": [],
   "source": [
    "# Convert all to nM\n",
    "bioactivity_nM = []\n",
    "for i, row in bioact_df.iterrows():\n",
    "    bioact_nM = convert_to_nM(row['units_original'], row['value_original'])\n",
    "    bioactivity_nM.append(bioact_nM)\n",
    "bioact_df['value'] = bioactivity_nM\n",
    "bioact_df['units'] = 'nM'\n",
    "bioact_df.shape"
   ]
  },
  {
   "cell_type": "code",
   "execution_count": null,
   "metadata": {},
   "outputs": [],
   "source": [
    "bioact_df.head()"
   ]
  },
  {
   "cell_type": "code",
   "execution_count": null,
   "metadata": {},
   "outputs": [],
   "source": [
    "bioact_df = bioact_df.astype({'value': 'float'})"
   ]
  },
  {
   "cell_type": "markdown",
   "metadata": {},
   "source": [
    "### Get all active molecules"
   ]
  },
  {
   "cell_type": "code",
   "execution_count": null,
   "metadata": {},
   "outputs": [],
   "source": [
    "activity_threshold = 500"
   ]
  },
  {
   "cell_type": "code",
   "execution_count": null,
   "metadata": {},
   "outputs": [],
   "source": [
    "bioact_df_active = bioact_df[bioact_df.value <= activity_threshold].copy()  # try out with 500, 50, 5"
   ]
  },
  {
   "cell_type": "code",
   "execution_count": null,
   "metadata": {},
   "outputs": [],
   "source": [
    "bioact_df_active.shape"
   ]
  },
  {
   "cell_type": "code",
   "execution_count": null,
   "metadata": {},
   "outputs": [],
   "source": [
    "len(bioact_df_active.molecule_chembl_id.unique())"
   ]
  },
  {
   "cell_type": "code",
   "execution_count": null,
   "metadata": {},
   "outputs": [],
   "source": [
    "bioact_df_active.head()"
   ]
  },
  {
   "cell_type": "markdown",
   "metadata": {},
   "source": [
    "#### Check number of unique target names"
   ]
  },
  {
   "cell_type": "code",
   "execution_count": null,
   "metadata": {},
   "outputs": [],
   "source": [
    "bioact_df_active.target_pref_name.value_counts()"
   ]
  },
  {
   "cell_type": "code",
   "execution_count": null,
   "metadata": {},
   "outputs": [],
   "source": [
    "len(bioact_df_active.target_pref_name)"
   ]
  },
  {
   "cell_type": "code",
   "execution_count": null,
   "metadata": {},
   "outputs": [],
   "source": [
    "len(bioact_df_active.target_pref_name.value_counts())"
   ]
  },
  {
   "cell_type": "markdown",
   "metadata": {},
   "source": [
    "#### Check number of unique ChEMBL target IDs"
   ]
  },
  {
   "cell_type": "code",
   "execution_count": null,
   "metadata": {},
   "outputs": [],
   "source": [
    "bioact_df_active.target_chembl_id.value_counts()"
   ]
  },
  {
   "cell_type": "code",
   "execution_count": null,
   "metadata": {},
   "outputs": [],
   "source": [
    "len(bioact_df_active.target_chembl_id)"
   ]
  },
  {
   "cell_type": "code",
   "execution_count": null,
   "metadata": {},
   "outputs": [],
   "source": [
    "len(bioact_df_active.target_chembl_id.value_counts())"
   ]
  },
  {
   "cell_type": "markdown",
   "metadata": {},
   "source": [
    "### Multiple assay tests per molecule"
   ]
  },
  {
   "cell_type": "code",
   "execution_count": null,
   "metadata": {},
   "outputs": [],
   "source": [
    "bioact_df_active.groupby(by='molecule_chembl_id')['value'].describe()"
   ]
  },
  {
   "cell_type": "code",
   "execution_count": null,
   "metadata": {},
   "outputs": [],
   "source": [
    "len(bioact_df_active.molecule_chembl_id.unique())"
   ]
  },
  {
   "cell_type": "markdown",
   "metadata": {},
   "source": [
    "### Get all ATC classified molecules"
   ]
  },
  {
   "cell_type": "code",
   "execution_count": null,
   "metadata": {},
   "outputs": [],
   "source": [
    "# check if first_approval field is not empty\n",
    "details[details.first_approval == details.first_approval]"
   ]
  },
  {
   "cell_type": "code",
   "execution_count": null,
   "metadata": {},
   "outputs": [],
   "source": [
    "# check if atc classified field is not empty\n",
    "details[details.atc_classification.str.len() != 0]"
   ]
  },
  {
   "cell_type": "markdown",
   "metadata": {},
   "source": [
    "### Get all approved drugs"
   ]
  },
  {
   "cell_type": "code",
   "execution_count": null,
   "metadata": {},
   "outputs": [],
   "source": [
    "approved_drugs = compound.filter(molecule_chembl_id__in = list(details.chembl_id), max_phase=4)"
   ]
  },
  {
   "cell_type": "code",
   "execution_count": null,
   "metadata": {},
   "outputs": [],
   "source": [
    "len(approved_drugs)"
   ]
  },
  {
   "cell_type": "code",
   "execution_count": null,
   "metadata": {},
   "outputs": [],
   "source": [
    "approved_mol = approved_drugs[0]"
   ]
  },
  {
   "cell_type": "code",
   "execution_count": null,
   "metadata": {},
   "outputs": [],
   "source": [
    "chembl_id = approved_mol['molecule_chembl_id']\n",
    "chembl_id"
   ]
  },
  {
   "cell_type": "code",
   "execution_count": null,
   "metadata": {},
   "outputs": [],
   "source": [
    "activities = activity.filter(molecule_chembl_id = chembl_id) \\\n",
    "              .filter(type = 'IC50') \\\n",
    "              .filter(assay_type = 'B') \\\n",
    "              .only('activity_id','assay_chembl_id', 'assay_description', 'assay_type', \\\n",
    "                    'molecule_chembl_id', 'type', 'units', 'relation', 'value', \\\n",
    "                    'target_chembl_id', 'target_organism')"
   ]
  },
  {
   "cell_type": "code",
   "execution_count": null,
   "metadata": {},
   "outputs": [],
   "source": [
    "act = pd.DataFrame(list(activities))\n",
    "act"
   ]
  },
  {
   "cell_type": "markdown",
   "metadata": {},
   "source": [
    "### Get ChEMBL target details: Protein target classification"
   ]
  },
  {
   "cell_type": "markdown",
   "metadata": {},
   "source": [
    "In order to access the protein target classification, we follow the instructions given here:\n",
    "\n",
    "https://github.com/chembl/chembl_webservices_2/issues/95"
   ]
  },
  {
   "cell_type": "code",
   "execution_count": null,
   "metadata": {},
   "outputs": [],
   "source": [
    "target_chembl_ids = list(bioact_df_active.target_chembl_id.unique())\n",
    "print(len(target_chembl_ids))\n",
    "target_chembl_ids"
   ]
  },
  {
   "cell_type": "markdown",
   "metadata": {},
   "source": [
    "#### Define request functions for `target`, `target_components` and `protein_class` ChEMBL endpoints"
   ]
  },
  {
   "cell_type": "code",
   "execution_count": null,
   "metadata": {},
   "outputs": [],
   "source": [
    "def extract_component_id_from_target(target_chembl_id):\n",
    "    \"\"\"\n",
    "    Go to `target` endpoint and extract `component_id`\n",
    "    \"\"\"\n",
    "    \n",
    "    target_url = f'https://www.ebi.ac.uk/chembl/api/data/target/{target_chembl_id}.json'\n",
    "    #print(target_url)\n",
    "    \n",
    "    response = requests.get(target_url)\n",
    "    response.raise_for_status()\n",
    "    result = response.json()\n",
    "\n",
    "    component_ids = [i['component_id'] for i in result['target_components']]\n",
    "    return component_ids\n"
   ]
  },
  {
   "cell_type": "code",
   "execution_count": null,
   "metadata": {},
   "outputs": [],
   "source": [
    "def extract_protein_classification_id_from_target_components(component_id):\n",
    "    \"\"\"\n",
    "    Go to `target_components` endpoint and extract `protein_classification_id`\n",
    "    \"\"\"\n",
    "    \n",
    "    target_components_url = f'https://www.ebi.ac.uk/chembl/api/data/target_component/{component_id}.json'\n",
    "    #print(target_components_url)\n",
    "\n",
    "    response = requests.get(target_components_url)\n",
    "    response.raise_for_status()  # this line checks for potential errors\n",
    "    result = response.json()\n",
    "\n",
    "    protein_classification_ids = [i['protein_classification_id'] for i in result['protein_classifications']]\n",
    "\n",
    "    return protein_classification_ids"
   ]
  },
  {
   "cell_type": "code",
   "execution_count": null,
   "metadata": {},
   "outputs": [],
   "source": [
    "def get_protein_target_classification_from_protein_class(protein_classification_id):\n",
    "    \"\"\"\n",
    "    Go to `protein_class` endpoint and extract protein target classification.\n",
    "    \"\"\"\n",
    "\n",
    "    protein_class_url = f'https://www.ebi.ac.uk/chembl/api/data/protein_class/{protein_classification_id}.json'\n",
    "    #print(protein_class_url)\n",
    "\n",
    "    response = requests.get(protein_class_url)\n",
    "    response.raise_for_status()  # this line checks for potential errors\n",
    "    result = response.json()\n",
    "\n",
    "    return pd.Series(result)"
   ]
  },
  {
   "cell_type": "code",
   "execution_count": null,
   "metadata": {},
   "outputs": [],
   "source": [
    "def get_protein_target_classifications(target_chembl_ids):\n",
    "    \"\"\"\n",
    "    Get protein target classifications for a list of target ChEMBL IDs (in the form of a DataFrame).\n",
    "    \"\"\"\n",
    "\n",
    "    results = []\n",
    "\n",
    "    for target_chembl_id in target_chembl_ids:\n",
    "        #print(target_chembl_id)\n",
    "\n",
    "        # Go to `target` endpoint and extract `component_id`\n",
    "        component_ids = extract_component_id_from_target(target_chembl_id)\n",
    "        \n",
    "        if len(component_ids) != 1:\n",
    "            print(f'{target_chembl_id}: {len(component_ids)} component IDs for target ChEMBL ID.')\n",
    "\n",
    "        for component_id in component_ids:\n",
    "            #print(component_id)\n",
    "\n",
    "            # Go to `target_components` endpoint and extract `protein_classification_id`\n",
    "            protein_classification_ids = extract_protein_classification_id_from_target_components(component_id)\n",
    "\n",
    "            if len(protein_classification_ids) != 1:\n",
    "                print(f'{target_chembl_id}: {len(protein_classification_ids)} protein classification IDs for target ChEMBL ID.\\n')    \n",
    "            \n",
    "            for protein_classification_id in protein_classification_ids:\n",
    "                #print(protein_classification_id)\n",
    "\n",
    "                # Go to `protein_class` endpoint and extract protein target classification.\n",
    "                protein_target_classification = get_protein_target_classification_from_protein_class(protein_classification_id)\n",
    "\n",
    "                # Add ID details\n",
    "                protein_target_classification['target_chembl_id'] = target_chembl_id\n",
    "                protein_target_classification['component_id'] = component_id\n",
    "                protein_target_classification['protein_classification_id'] = protein_classification_id\n",
    "\n",
    "                results.append(protein_target_classification)\n",
    "                \n",
    "    return pd.DataFrame(results)"
   ]
  },
  {
   "cell_type": "markdown",
   "metadata": {},
   "source": [
    "#### Get protein target classification for target ChEMBL IDs"
   ]
  },
  {
   "cell_type": "markdown",
   "metadata": {},
   "source": [
    "Check for each query, how many protein target classification entries are available!"
   ]
  },
  {
   "cell_type": "code",
   "execution_count": null,
   "metadata": {},
   "outputs": [],
   "source": [
    "len(target_chembl_ids)"
   ]
  },
  {
   "cell_type": "code",
   "execution_count": null,
   "metadata": {},
   "outputs": [],
   "source": [
    "protein_target_classifications = get_protein_target_classifications(target_chembl_ids)"
   ]
  },
  {
   "cell_type": "code",
   "execution_count": null,
   "metadata": {},
   "outputs": [],
   "source": [
    "protein_target_classifications.shape"
   ]
  },
  {
   "cell_type": "code",
   "execution_count": null,
   "metadata": {},
   "outputs": [],
   "source": [
    "len(protein_target_classifications.target_chembl_id.unique())"
   ]
  },
  {
   "cell_type": "markdown",
   "metadata": {},
   "source": [
    "#### Look at protein target classifications"
   ]
  },
  {
   "cell_type": "code",
   "execution_count": null,
   "metadata": {},
   "outputs": [],
   "source": [
    "protein_target_classifications"
   ]
  },
  {
   "cell_type": "markdown",
   "metadata": {},
   "source": [
    "#### Per target ChEMBL ID, drop duplicated content (manually!)"
   ]
  },
  {
   "cell_type": "markdown",
   "metadata": {},
   "source": [
    "Get indices that we want to drop - this is a manual step because we need to decide which entry per target ChEMBL ID we would like to keep/toss."
   ]
  },
  {
   "cell_type": "code",
   "execution_count": null,
   "metadata": {},
   "outputs": [],
   "source": [
    "protein_target_classifications.groupby(by='target_chembl_id').apply(lambda x: x if (x.shape[0] > 1) else None).dropna(how='all')"
   ]
  },
  {
   "cell_type": "code",
   "execution_count": null,
   "metadata": {},
   "outputs": [],
   "source": [
    "# Manual step!!\n",
    "drop_class_ix = [6, 11, 17, 19]"
   ]
  },
  {
   "cell_type": "code",
   "execution_count": null,
   "metadata": {},
   "outputs": [],
   "source": [
    "protein_target_classifications.shape"
   ]
  },
  {
   "cell_type": "code",
   "execution_count": null,
   "metadata": {},
   "outputs": [],
   "source": [
    "protein_target_classifications.drop(drop_class_ix, inplace=True)"
   ]
  },
  {
   "cell_type": "code",
   "execution_count": null,
   "metadata": {},
   "outputs": [],
   "source": [
    "protein_target_classifications.shape"
   ]
  },
  {
   "cell_type": "markdown",
   "metadata": {},
   "source": [
    "#### Show enzyme group distribution"
   ]
  },
  {
   "cell_type": "code",
   "execution_count": null,
   "metadata": {},
   "outputs": [],
   "source": [
    "protein_target_classifications.groupby(by='l2').size()"
   ]
  },
  {
   "cell_type": "markdown",
   "metadata": {},
   "source": [
    "### Now combine molecule with target information!"
   ]
  },
  {
   "cell_type": "code",
   "execution_count": null,
   "metadata": {},
   "outputs": [],
   "source": [
    "protein_target_classifications.shape"
   ]
  },
  {
   "cell_type": "code",
   "execution_count": null,
   "metadata": {},
   "outputs": [],
   "source": [
    "bioact_df_active.shape"
   ]
  },
  {
   "cell_type": "code",
   "execution_count": null,
   "metadata": {},
   "outputs": [],
   "source": [
    "molecules_targets_details = pd.merge(bioact_df_active, protein_target_classifications, on='target_chembl_id', how='left')"
   ]
  },
  {
   "cell_type": "code",
   "execution_count": null,
   "metadata": {},
   "outputs": [],
   "source": [
    "molecules_targets_details.sort_values(by='molecule_chembl_id')"
   ]
  },
  {
   "cell_type": "code",
   "execution_count": null,
   "metadata": {},
   "outputs": [],
   "source": [
    "columns_of_interest = 'molecule_chembl_id target_chembl_id assay_chembl_id target_organism target_pref_name l2 l3 l4 l4 l5 l6 value units assay_description'.split()"
   ]
  },
  {
   "cell_type": "code",
   "execution_count": null,
   "metadata": {},
   "outputs": [],
   "source": [
    "molecules_of_interest = molecules_targets_details[columns_of_interest]\n",
    "molecules_of_interest.shape"
   ]
  },
  {
   "cell_type": "code",
   "execution_count": null,
   "metadata": {},
   "outputs": [],
   "source": [
    "molecules_of_interest"
   ]
  },
  {
   "cell_type": "markdown",
   "metadata": {},
   "source": [
    "#### Filter molecules of interest\n",
    "\n",
    "- Human targets\n",
    "- Kinases"
   ]
  },
  {
   "cell_type": "code",
   "execution_count": null,
   "metadata": {},
   "outputs": [],
   "source": [
    "molecules_selected = molecules_of_interest[molecules_of_interest.target_organism == 'Homo sapiens'].copy()\n",
    "molecules_selected.drop(['target_organism'], axis=1, inplace=True)\n",
    "molecules_selected.shape"
   ]
  },
  {
   "cell_type": "code",
   "execution_count": null,
   "metadata": {},
   "outputs": [],
   "source": [
    "molecules_selected"
   ]
  },
  {
   "cell_type": "code",
   "execution_count": null,
   "metadata": {},
   "outputs": [],
   "source": [
    "molecules_selected = molecules_selected[molecules_selected.l2 == 'Kinase'].copy()\n",
    "molecules_selected.drop(['l2'], axis=1, inplace=True)\n",
    "molecules_selected.shape"
   ]
  },
  {
   "cell_type": "code",
   "execution_count": null,
   "metadata": {},
   "outputs": [],
   "source": [
    "molecules_selected.sort_values(by=['molecule_chembl_id', 'value'])"
   ]
  },
  {
   "cell_type": "code",
   "execution_count": null,
   "metadata": {},
   "outputs": [],
   "source": [
    "len(molecules_selected.molecule_chembl_id.unique())"
   ]
  },
  {
   "cell_type": "code",
   "execution_count": null,
   "metadata": {},
   "outputs": [],
   "source": [
    "molecules_selected.groupby(by='molecule_chembl_id').mean().sort_values('value')"
   ]
  },
  {
   "cell_type": "code",
   "execution_count": null,
   "metadata": {},
   "outputs": [],
   "source": [
    "molecules_selected"
   ]
  }
 ],
 "metadata": {
  "kernelspec": {
   "display_name": "teachopencadd",
   "language": "python",
   "name": "teachopencadd"
  },
  "language_info": {
   "codemirror_mode": {
    "name": "ipython",
    "version": 3
   },
   "file_extension": ".py",
   "mimetype": "text/x-python",
   "name": "python",
   "nbconvert_exporter": "python",
   "pygments_lexer": "ipython3",
   "version": "3.6.7"
  }
 },
 "nbformat": 4,
 "nbformat_minor": 4
}
