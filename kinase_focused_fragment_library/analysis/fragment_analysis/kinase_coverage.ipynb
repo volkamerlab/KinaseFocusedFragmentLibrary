{
 "cells": [
  {
   "cell_type": "code",
   "execution_count": 102,
   "metadata": {},
   "outputs": [],
   "source": [
    "import glob\n",
    "from rdkit import Chem\n",
    "from rdkit.Chem import AllChem\n",
    "from rdkit.Chem import Draw\n",
    "from rdkit.Chem.Draw import IPythonConsole\n",
    "\n",
    "import seaborn as sns\n",
    "import pandas as pd\n",
    "import numpy as np\n",
    "import matplotlib.pyplot as plt"
   ]
  },
  {
   "cell_type": "code",
   "execution_count": 103,
   "metadata": {},
   "outputs": [],
   "source": [
    "path_to_library = '/home/paula/Masterarbeit/FragmentLibrary/'\n",
    "\n",
    "# list of folders for each subpocket\n",
    "subpockets = ['AP', 'FP', 'SE', 'GA', 'B1', 'B2']\n",
    "folders = [path_to_library+subpocket for subpocket in subpockets]"
   ]
  },
  {
   "cell_type": "code",
   "execution_count": 104,
   "metadata": {},
   "outputs": [
    {
     "data": {
      "text/plain": [
       "(7201, 6)"
      ]
     },
     "execution_count": 104,
     "metadata": {},
     "output_type": "execute_result"
    }
   ],
   "source": [
    "# read data\n",
    "\n",
    "data = pd.DataFrame()\n",
    "\n",
    "# iterate over subpockets\n",
    "for i, folder in enumerate(folders):\n",
    "    \n",
    "    subpocket = subpockets[i]\n",
    "    \n",
    "    file = folder+'/'+subpocket+'.sdf' \n",
    "    df = pd.DataFrame()\n",
    "    suppl = Chem.SDMolSupplier(file, removeHs=False)\n",
    "        \n",
    "    fragments = []\n",
    "    smiles = []\n",
    "    groups = []\n",
    "    families = []\n",
    "    kinases = []\n",
    "\n",
    "    for frag in suppl:\n",
    "        \n",
    "        # delete dummy atoms\n",
    "        du = Chem.MolFromSmiles('*')\n",
    "        h = Chem.MolFromSmiles('[H]', sanitize=False)\n",
    "        fixed_frag = AllChem.ReplaceSubstructs(frag, du, h, replaceAll=True)[0]\n",
    "        fixed_frag = Chem.RemoveHs(fixed_frag)\n",
    "        # remove duplicates based on smiles\n",
    "        #if s in smiles:\n",
    "        #    continue\n",
    "        s = Chem.MolToSmiles(fixed_frag)\n",
    "        smiles.append(s)\n",
    "        fragments.append(Chem.MolFromSmiles(s))\n",
    "        \n",
    "        groups.append(frag.GetProp('group'))\n",
    "        families.append(frag.GetProp('family'))\n",
    "        kinases.append(frag.GetProp('kinase'))\n",
    "    \n",
    "    df['fragment'] = fragments\n",
    "    df['smiles'] = smiles\n",
    "    df['subpocket'] = subpocket\n",
    "    df['group'] = groups\n",
    "    df['family'] = families\n",
    "    df['kinase'] = kinases\n",
    "    \n",
    "    data = data.append(df)\n",
    "    \n",
    "data = data.reset_index(drop=True)\n",
    "data.shape"
   ]
  },
  {
   "cell_type": "code",
   "execution_count": 105,
   "metadata": {},
   "outputs": [],
   "source": [
    "df_AP = data[data.subpocket=='AP']\n",
    "df_FP = data[data.subpocket=='FP']\n",
    "df_SE = data[data.subpocket=='SE']\n",
    "df_GA = data[data.subpocket=='GA']\n",
    "df_B1 = data[data.subpocket=='B1']\n",
    "df_B2 = data[data.subpocket=='B2']"
   ]
  },
  {
   "cell_type": "code",
   "execution_count": 106,
   "metadata": {},
   "outputs": [
    {
     "data": {
      "text/plain": [
       "(1115, 6)"
      ]
     },
     "execution_count": 106,
     "metadata": {},
     "output_type": "execute_result"
    }
   ],
   "source": [
    "df_AP.drop_duplicates(subset='smiles').shape"
   ]
  },
  {
   "cell_type": "code",
   "execution_count": 107,
   "metadata": {},
   "outputs": [
    {
     "data": {
      "text/plain": [
       "1115"
      ]
     },
     "execution_count": 107,
     "metadata": {},
     "output_type": "execute_result"
    }
   ],
   "source": [
    "df_AP.smiles.nunique()"
   ]
  },
  {
   "cell_type": "code",
   "execution_count": 108,
   "metadata": {},
   "outputs": [
    {
     "data": {
      "text/plain": [
       "array(['Other', 'TK', 'TKL', 'AGC', 'CMGC', 'CAMK', 'CK1', 'STE'],\n",
       "      dtype=object)"
      ]
     },
     "execution_count": 108,
     "metadata": {},
     "output_type": "execute_result"
    }
   ],
   "source": [
    "groups = df_AP.group.unique()\n",
    "groups"
   ]
  },
  {
   "cell_type": "markdown",
   "metadata": {},
   "source": [
    "Calculate number of fragments and unique fragments per kinase group per subpocket."
   ]
  },
  {
   "cell_type": "code",
   "execution_count": 109,
   "metadata": {},
   "outputs": [],
   "source": [
    "n_frags = {}\n",
    "n_unique_frags = {}\n",
    "\n",
    "for subpocket in subpockets:\n",
    "    \n",
    "    df = data[data.subpocket==subpocket]\n",
    "    \n",
    "    n_frags_group = {}\n",
    "    n_unique_frags_group = {}\n",
    "    \n",
    "    for group in groups:\n",
    "        \n",
    "        df_group = df[df.group==group]\n",
    "        n = df_group.shape[0]\n",
    "        n_unique = df_group.smiles.nunique()\n",
    "        \n",
    "        n_frags_group[group] = n\n",
    "        n_unique_frags_group[group] = n_unique\n",
    "        \n",
    "    n_frags[subpocket] = n_frags_group\n",
    "    n_unique_frags[subpocket] = n_unique_frags_group\n"
   ]
  },
  {
   "cell_type": "code",
   "execution_count": 110,
   "metadata": {},
   "outputs": [],
   "source": [
    "n_frags = pd.DataFrame(data=n_frags)\n",
    "n_frags.loc[\"Total\"] = n_frags.sum(axis=0)\n",
    "n_frags[\"Total\"] = n_frags.sum(axis=1)"
   ]
  },
  {
   "cell_type": "code",
   "execution_count": 111,
   "metadata": {},
   "outputs": [],
   "source": [
    "n_unique_frags = pd.DataFrame(data=n_unique_frags)\n",
    "n_unique_frags.loc[\"Total\"] = n_unique_frags.sum(axis=0)\n",
    "n_unique_frags[\"Total\"] = n_unique_frags.sum(axis=1)"
   ]
  },
  {
   "cell_type": "code",
   "execution_count": 112,
   "metadata": {},
   "outputs": [
    {
     "data": {
      "text/html": [
       "<div>\n",
       "<style scoped>\n",
       "    .dataframe tbody tr th:only-of-type {\n",
       "        vertical-align: middle;\n",
       "    }\n",
       "\n",
       "    .dataframe tbody tr th {\n",
       "        vertical-align: top;\n",
       "    }\n",
       "\n",
       "    .dataframe thead th {\n",
       "        text-align: right;\n",
       "    }\n",
       "</style>\n",
       "<table border=\"1\" class=\"dataframe\">\n",
       "  <thead>\n",
       "    <tr style=\"text-align: right;\">\n",
       "      <th></th>\n",
       "      <th></th>\n",
       "      <th>AP</th>\n",
       "      <th>B1</th>\n",
       "      <th>B2</th>\n",
       "      <th>FP</th>\n",
       "      <th>GA</th>\n",
       "      <th>SE</th>\n",
       "      <th>Total</th>\n",
       "    </tr>\n",
       "  </thead>\n",
       "  <tbody>\n",
       "    <tr>\n",
       "      <th rowspan=\"2\" valign=\"top\">AGC</th>\n",
       "      <th>All</th>\n",
       "      <td>137</td>\n",
       "      <td>0</td>\n",
       "      <td>2</td>\n",
       "      <td>128</td>\n",
       "      <td>21</td>\n",
       "      <td>16</td>\n",
       "      <td>304</td>\n",
       "    </tr>\n",
       "    <tr>\n",
       "      <th>Unique</th>\n",
       "      <td>70</td>\n",
       "      <td>0</td>\n",
       "      <td>1</td>\n",
       "      <td>102</td>\n",
       "      <td>10</td>\n",
       "      <td>11</td>\n",
       "      <td>194</td>\n",
       "    </tr>\n",
       "    <tr>\n",
       "      <th rowspan=\"2\" valign=\"top\">CAMK</th>\n",
       "      <th>All</th>\n",
       "      <td>368</td>\n",
       "      <td>0</td>\n",
       "      <td>1</td>\n",
       "      <td>241</td>\n",
       "      <td>127</td>\n",
       "      <td>157</td>\n",
       "      <td>894</td>\n",
       "    </tr>\n",
       "    <tr>\n",
       "      <th>Unique</th>\n",
       "      <td>264</td>\n",
       "      <td>0</td>\n",
       "      <td>1</td>\n",
       "      <td>156</td>\n",
       "      <td>54</td>\n",
       "      <td>101</td>\n",
       "      <td>576</td>\n",
       "    </tr>\n",
       "    <tr>\n",
       "      <th rowspan=\"2\" valign=\"top\">CK1</th>\n",
       "      <th>All</th>\n",
       "      <td>49</td>\n",
       "      <td>0</td>\n",
       "      <td>0</td>\n",
       "      <td>33</td>\n",
       "      <td>33</td>\n",
       "      <td>20</td>\n",
       "      <td>135</td>\n",
       "    </tr>\n",
       "    <tr>\n",
       "      <th>Unique</th>\n",
       "      <td>35</td>\n",
       "      <td>0</td>\n",
       "      <td>0</td>\n",
       "      <td>22</td>\n",
       "      <td>11</td>\n",
       "      <td>15</td>\n",
       "      <td>83</td>\n",
       "    </tr>\n",
       "    <tr>\n",
       "      <th rowspan=\"2\" valign=\"top\">CMGC</th>\n",
       "      <th>All</th>\n",
       "      <td>820</td>\n",
       "      <td>3</td>\n",
       "      <td>57</td>\n",
       "      <td>550</td>\n",
       "      <td>331</td>\n",
       "      <td>480</td>\n",
       "      <td>2241</td>\n",
       "    </tr>\n",
       "    <tr>\n",
       "      <th>Unique</th>\n",
       "      <td>411</td>\n",
       "      <td>3</td>\n",
       "      <td>26</td>\n",
       "      <td>286</td>\n",
       "      <td>118</td>\n",
       "      <td>182</td>\n",
       "      <td>1026</td>\n",
       "    </tr>\n",
       "    <tr>\n",
       "      <th rowspan=\"2\" valign=\"top\">Other</th>\n",
       "      <th>All</th>\n",
       "      <td>247</td>\n",
       "      <td>10</td>\n",
       "      <td>9</td>\n",
       "      <td>193</td>\n",
       "      <td>98</td>\n",
       "      <td>209</td>\n",
       "      <td>766</td>\n",
       "    </tr>\n",
       "    <tr>\n",
       "      <th>Unique</th>\n",
       "      <td>140</td>\n",
       "      <td>6</td>\n",
       "      <td>6</td>\n",
       "      <td>102</td>\n",
       "      <td>47</td>\n",
       "      <td>114</td>\n",
       "      <td>415</td>\n",
       "    </tr>\n",
       "    <tr>\n",
       "      <th rowspan=\"2\" valign=\"top\">STE</th>\n",
       "      <th>All</th>\n",
       "      <td>113</td>\n",
       "      <td>6</td>\n",
       "      <td>0</td>\n",
       "      <td>69</td>\n",
       "      <td>51</td>\n",
       "      <td>74</td>\n",
       "      <td>313</td>\n",
       "    </tr>\n",
       "    <tr>\n",
       "      <th>Unique</th>\n",
       "      <td>74</td>\n",
       "      <td>5</td>\n",
       "      <td>0</td>\n",
       "      <td>48</td>\n",
       "      <td>31</td>\n",
       "      <td>56</td>\n",
       "      <td>214</td>\n",
       "    </tr>\n",
       "    <tr>\n",
       "      <th rowspan=\"2\" valign=\"top\">TK</th>\n",
       "      <th>All</th>\n",
       "      <td>666</td>\n",
       "      <td>42</td>\n",
       "      <td>20</td>\n",
       "      <td>552</td>\n",
       "      <td>248</td>\n",
       "      <td>501</td>\n",
       "      <td>2029</td>\n",
       "    </tr>\n",
       "    <tr>\n",
       "      <th>Unique</th>\n",
       "      <td>308</td>\n",
       "      <td>13</td>\n",
       "      <td>13</td>\n",
       "      <td>313</td>\n",
       "      <td>95</td>\n",
       "      <td>264</td>\n",
       "      <td>1006</td>\n",
       "    </tr>\n",
       "    <tr>\n",
       "      <th rowspan=\"2\" valign=\"top\">TKL</th>\n",
       "      <th>All</th>\n",
       "      <td>161</td>\n",
       "      <td>37</td>\n",
       "      <td>3</td>\n",
       "      <td>100</td>\n",
       "      <td>115</td>\n",
       "      <td>103</td>\n",
       "      <td>519</td>\n",
       "    </tr>\n",
       "    <tr>\n",
       "      <th>Unique</th>\n",
       "      <td>97</td>\n",
       "      <td>18</td>\n",
       "      <td>3</td>\n",
       "      <td>58</td>\n",
       "      <td>57</td>\n",
       "      <td>70</td>\n",
       "      <td>303</td>\n",
       "    </tr>\n",
       "    <tr>\n",
       "      <th rowspan=\"2\" valign=\"top\">Total</th>\n",
       "      <th>All</th>\n",
       "      <td>2561</td>\n",
       "      <td>98</td>\n",
       "      <td>92</td>\n",
       "      <td>1866</td>\n",
       "      <td>1024</td>\n",
       "      <td>1560</td>\n",
       "      <td>7201</td>\n",
       "    </tr>\n",
       "    <tr>\n",
       "      <th>Unique</th>\n",
       "      <td>1399</td>\n",
       "      <td>45</td>\n",
       "      <td>50</td>\n",
       "      <td>1087</td>\n",
       "      <td>423</td>\n",
       "      <td>813</td>\n",
       "      <td>3817</td>\n",
       "    </tr>\n",
       "  </tbody>\n",
       "</table>\n",
       "</div>"
      ],
      "text/plain": [
       "                AP  B1  B2    FP    GA    SE  Total\n",
       "AGC   All      137   0   2   128    21    16    304\n",
       "      Unique    70   0   1   102    10    11    194\n",
       "CAMK  All      368   0   1   241   127   157    894\n",
       "      Unique   264   0   1   156    54   101    576\n",
       "CK1   All       49   0   0    33    33    20    135\n",
       "      Unique    35   0   0    22    11    15     83\n",
       "CMGC  All      820   3  57   550   331   480   2241\n",
       "      Unique   411   3  26   286   118   182   1026\n",
       "Other All      247  10   9   193    98   209    766\n",
       "      Unique   140   6   6   102    47   114    415\n",
       "STE   All      113   6   0    69    51    74    313\n",
       "      Unique    74   5   0    48    31    56    214\n",
       "TK    All      666  42  20   552   248   501   2029\n",
       "      Unique   308  13  13   313    95   264   1006\n",
       "TKL   All      161  37   3   100   115   103    519\n",
       "      Unique    97  18   3    58    57    70    303\n",
       "Total All     2561  98  92  1866  1024  1560   7201\n",
       "      Unique  1399  45  50  1087   423   813   3817"
      ]
     },
     "execution_count": 112,
     "metadata": {},
     "output_type": "execute_result"
    }
   ],
   "source": [
    "df_n_frags = pd.concat([n_frags,n_unique_frags], axis=1, keys=['All', 'Unique'])\n",
    "df_n_frags.stack(0)"
   ]
  },
  {
   "cell_type": "code",
   "execution_count": 113,
   "metadata": {},
   "outputs": [
    {
     "data": {
      "text/html": [
       "<div>\n",
       "<style scoped>\n",
       "    .dataframe tbody tr th:only-of-type {\n",
       "        vertical-align: middle;\n",
       "    }\n",
       "\n",
       "    .dataframe tbody tr th {\n",
       "        vertical-align: top;\n",
       "    }\n",
       "\n",
       "    .dataframe thead th {\n",
       "        text-align: right;\n",
       "    }\n",
       "</style>\n",
       "<table border=\"1\" class=\"dataframe\">\n",
       "  <thead>\n",
       "    <tr style=\"text-align: right;\">\n",
       "      <th></th>\n",
       "      <th>AP</th>\n",
       "      <th>FP</th>\n",
       "      <th>SE</th>\n",
       "      <th>GA</th>\n",
       "      <th>B1</th>\n",
       "      <th>B2</th>\n",
       "      <th>Total</th>\n",
       "    </tr>\n",
       "  </thead>\n",
       "  <tbody>\n",
       "    <tr>\n",
       "      <th>AGC</th>\n",
       "      <td>137</td>\n",
       "      <td>128</td>\n",
       "      <td>16</td>\n",
       "      <td>21</td>\n",
       "      <td>0</td>\n",
       "      <td>2</td>\n",
       "      <td>304</td>\n",
       "    </tr>\n",
       "    <tr>\n",
       "      <th>CAMK</th>\n",
       "      <td>368</td>\n",
       "      <td>241</td>\n",
       "      <td>157</td>\n",
       "      <td>127</td>\n",
       "      <td>0</td>\n",
       "      <td>1</td>\n",
       "      <td>894</td>\n",
       "    </tr>\n",
       "    <tr>\n",
       "      <th>CK1</th>\n",
       "      <td>49</td>\n",
       "      <td>33</td>\n",
       "      <td>20</td>\n",
       "      <td>33</td>\n",
       "      <td>0</td>\n",
       "      <td>0</td>\n",
       "      <td>135</td>\n",
       "    </tr>\n",
       "    <tr>\n",
       "      <th>CMGC</th>\n",
       "      <td>820</td>\n",
       "      <td>550</td>\n",
       "      <td>480</td>\n",
       "      <td>331</td>\n",
       "      <td>3</td>\n",
       "      <td>57</td>\n",
       "      <td>2241</td>\n",
       "    </tr>\n",
       "    <tr>\n",
       "      <th>Other</th>\n",
       "      <td>247</td>\n",
       "      <td>193</td>\n",
       "      <td>209</td>\n",
       "      <td>98</td>\n",
       "      <td>10</td>\n",
       "      <td>9</td>\n",
       "      <td>766</td>\n",
       "    </tr>\n",
       "    <tr>\n",
       "      <th>STE</th>\n",
       "      <td>113</td>\n",
       "      <td>69</td>\n",
       "      <td>74</td>\n",
       "      <td>51</td>\n",
       "      <td>6</td>\n",
       "      <td>0</td>\n",
       "      <td>313</td>\n",
       "    </tr>\n",
       "    <tr>\n",
       "      <th>TK</th>\n",
       "      <td>666</td>\n",
       "      <td>552</td>\n",
       "      <td>501</td>\n",
       "      <td>248</td>\n",
       "      <td>42</td>\n",
       "      <td>20</td>\n",
       "      <td>2029</td>\n",
       "    </tr>\n",
       "    <tr>\n",
       "      <th>TKL</th>\n",
       "      <td>161</td>\n",
       "      <td>100</td>\n",
       "      <td>103</td>\n",
       "      <td>115</td>\n",
       "      <td>37</td>\n",
       "      <td>3</td>\n",
       "      <td>519</td>\n",
       "    </tr>\n",
       "    <tr>\n",
       "      <th>Total</th>\n",
       "      <td>2561</td>\n",
       "      <td>1866</td>\n",
       "      <td>1560</td>\n",
       "      <td>1024</td>\n",
       "      <td>98</td>\n",
       "      <td>92</td>\n",
       "      <td>7201</td>\n",
       "    </tr>\n",
       "  </tbody>\n",
       "</table>\n",
       "</div>"
      ],
      "text/plain": [
       "         AP    FP    SE    GA  B1  B2  Total\n",
       "AGC     137   128    16    21   0   2    304\n",
       "CAMK    368   241   157   127   0   1    894\n",
       "CK1      49    33    20    33   0   0    135\n",
       "CMGC    820   550   480   331   3  57   2241\n",
       "Other   247   193   209    98  10   9    766\n",
       "STE     113    69    74    51   6   0    313\n",
       "TK      666   552   501   248  42  20   2029\n",
       "TKL     161   100   103   115  37   3    519\n",
       "Total  2561  1866  1560  1024  98  92   7201"
      ]
     },
     "execution_count": 113,
     "metadata": {},
     "output_type": "execute_result"
    }
   ],
   "source": [
    "n_frags"
   ]
  },
  {
   "cell_type": "code",
   "execution_count": 114,
   "metadata": {},
   "outputs": [
    {
     "data": {
      "image/png": "[encoded data removed]",
      "text/plain": [
       "<Figure size 432x288 with 2 Axes>"
      ]
     },
     "metadata": {
      "needs_background": "light"
     },
     "output_type": "display_data"
    }
   ],
   "source": [
    "sns.heatmap(n_frags.drop(['Total'], axis=0).drop(['Total'], axis=1), linewidths=1, annot=True, cbar_kws={\"label\": \"# Fragments\"}, cmap=\"Blues\", fmt='g')\n",
    "plt.show()"
   ]
  },
  {
   "cell_type": "code",
   "execution_count": 115,
   "metadata": {},
   "outputs": [
    {
     "data": {
      "text/plain": [
       "array(['Other', 'TK', 'TKL', 'AGC', 'CMGC', 'CAMK', 'CK1', 'STE'],\n",
       "      dtype=object)"
      ]
     },
     "execution_count": 115,
     "metadata": {},
     "output_type": "execute_result"
    }
   ],
   "source": [
    "groups = df_AP.group.unique()\n",
    "groups"
   ]
  },
  {
   "cell_type": "code",
   "execution_count": 116,
   "metadata": {},
   "outputs": [
    {
     "data": {
      "image/png": "[encoded data removed]",
      "text/plain": [
       "<Figure size 432x288 with 2 Axes>"
      ]
     },
     "metadata": {
      "needs_background": "light"
     },
     "output_type": "display_data"
    }
   ],
   "source": [
    "# heatmap without total distribution\n",
    "sns.heatmap(n_frags.drop('Total', axis=0).drop('Total', axis=1), linewidths=1, annot=True, cbar_kws={\"label\": \"# Fragments\"}, cmap=\"Reds\", fmt='g')\n",
    "plt.show()"
   ]
  },
  {
   "cell_type": "code",
   "execution_count": 117,
   "metadata": {},
   "outputs": [],
   "source": [
    "n_unique = pd.Series(0, index=groups)\n",
    "n_frags_per_group = pd.Series(0, index=groups)\n",
    "\n",
    "# iterate over kinase groups\n",
    "for group in groups:\n",
    "    \n",
    "    dg = data[data.group==group]\n",
    "    \n",
    "    n_frags_per_group[group] = len(dg)\n",
    "    \n",
    "    # iterate over subpockets\n",
    "    for sp in subpockets:\n",
    "        \n",
    "        dgsp = dg[dg.subpocket==sp]\n",
    "        nu = dgsp.smiles.nunique()\n",
    "        \n",
    "        n_unique.loc[group] += nu"
   ]
  },
  {
   "cell_type": "code",
   "execution_count": 118,
   "metadata": {},
   "outputs": [
    {
     "data": {
      "image/png": "[encoded data removed]",
      "text/plain": [
       "<Figure size 432x288 with 1 Axes>"
      ]
     },
     "metadata": {
      "needs_background": "light"
     },
     "output_type": "display_data"
    }
   ],
   "source": [
    "plt.figure()\n",
    "plt.bar(groups, n_frags_per_group, fill=False, edgecolor='tab:blue')\n",
    "plt.bar(groups, n_unique, color='tab:blue')\n",
    "plt.legend(['All fragments', 'Unique\\nfragments'], fontsize=12)\n",
    "plt.ylabel('# Fragments', fontsize=13)\n",
    "plt.yticks(fontsize=12)\n",
    "plt.xticks(fontsize=12)\n",
    "plt.show()"
   ]
  },
  {
   "cell_type": "code",
   "execution_count": 119,
   "metadata": {},
   "outputs": [
    {
     "data": {
      "image/png": "[encoded data removed]",
      "text/plain": [
       "<Figure size 432x288 with 1 Axes>"
      ]
     },
     "metadata": {
      "needs_background": "light"
     },
     "output_type": "display_data"
    },
    {
     "data": {
      "text/plain": [
       "58.252582964794854"
      ]
     },
     "execution_count": 119,
     "metadata": {},
     "output_type": "execute_result"
    }
   ],
   "source": [
    "p_unique = np.asarray(n_unique)/np.asarray(n_frags_per_group)*100\n",
    "average = sum(p_unique)/len(groups)\n",
    "plt.figure()\n",
    "plt.bar(groups, [100 for x in groups], fill=False, edgecolor='tab:blue')\n",
    "plt.bar(groups, p_unique, color='tab:blue')\n",
    "plt.axhline(average, color='grey')\n",
    "plt.ylabel('# Unique fragments [%]', fontsize=13)\n",
    "plt.yticks(range(0,101,20), fontsize=12)\n",
    "plt.xticks(fontsize=12)\n",
    "plt.show()\n",
    "average"
   ]
  },
  {
   "cell_type": "markdown",
   "metadata": {},
   "source": [
    "Fragment distribution across subpockets in each kinase group:"
   ]
  },
  {
   "cell_type": "code",
   "execution_count": 120,
   "metadata": {},
   "outputs": [],
   "source": [
    "# convert to relative numbers\n",
    "n_frags.loc['Total'] = n_frags.sum()\n",
    "total = n_frags.sum(axis=1)\n",
    "for index, row in n_frags.iterrows():\n",
    "    n_frags.loc[index] = row/total[index]\n",
    "n_frags = n_frags*100"
   ]
  },
  {
   "cell_type": "code",
   "execution_count": 121,
   "metadata": {},
   "outputs": [
    {
     "data": {
      "image/png": "[encoded data removed]",
      "text/plain": [
       "<Figure size 504x360 with 1 Axes>"
      ]
     },
     "metadata": {
      "needs_background": "light"
     },
     "output_type": "display_data"
    }
   ],
   "source": [
    "# n_frags as stacked bar plot\n",
    "r = range(len(groups)+1)\n",
    "df = n_frags\n",
    " \n",
    "# plot\n",
    "barWidth = 0.7\n",
    "\n",
    "plt.figure(figsize=(7,5))\n",
    "plt.bar(r, df['AP'], edgecolor='white', width=barWidth, color='m', label='AP')\n",
    "plt.bar(r, df['FP'], bottom=df['AP'], edgecolor='white', width=barWidth, color='g', label='FP')\n",
    "plt.bar(r, df['SE'], bottom=[i+j for i,j in zip(df['AP'], df['FP'])], edgecolor='white', width=barWidth, color='c', label='SE')\n",
    "plt.bar(r, df['GA'], bottom=[i+j+k for i,j,k in zip(df['AP'], df['FP'], df['SE'])], \n",
    "        edgecolor='white', width=barWidth, color='darkorange', label='GA')\n",
    "plt.bar(r, df['B1'], bottom=[i+j+k+l for i,j,k,l in zip(df['AP'], df['FP'], df['SE'], df['GA'])], \n",
    "        edgecolor='white', width=barWidth, color='royalblue', label='B1')\n",
    "plt.bar(r, df['B2'], bottom=[i+j+k+l+m for i,j,k,l,m in zip(df['AP'], df['FP'], df['SE'], df['GA'], df['B1'])], \n",
    "        edgecolor='white', width=barWidth, color='darkslateblue', label='B2')\n",
    " \n",
    "# Custom x axis\n",
    "plt.xticks(r, list(groups)+['Total'], fontsize=15, rotation=70)\n",
    "plt.ylabel('# Fragments [%]', fontsize=15)\n",
    "plt.yticks(fontsize=15)\n",
    "# Add a legend\n",
    "\n",
    "legend = plt.legend(loc='upper left', bbox_to_anchor=(1,1), ncol=1, prop={'size': 15, 'family': 'monospace'})\n",
    " \n",
    "# Show graphic\n",
    "plt.show()"
   ]
  },
  {
   "cell_type": "code",
   "execution_count": null,
   "metadata": {},
   "outputs": [],
   "source": []
  }
 ],
 "metadata": {
  "kernelspec": {
   "display_name": "Python 3",
   "language": "python",
   "name": "python3"
  },
  "language_info": {
   "codemirror_mode": {
    "name": "ipython",
    "version": 3
   },
   "file_extension": ".py",
   "mimetype": "text/x-python",
   "name": "python",
   "nbconvert_exporter": "python",
   "pygments_lexer": "ipython3",
   "version": "3.6.8"
  }
 },
 "nbformat": 4,
 "nbformat_minor": 2
}
