{
 "cells": [
  {
   "cell_type": "markdown",
   "metadata": {},
   "source": [
    "Distribution of observed subpocket connections"
   ]
  },
  {
   "cell_type": "code",
   "execution_count": 28,
   "metadata": {},
   "outputs": [],
   "source": [
    "import pandas as pd\n",
    "import matplotlib.pyplot as plt"
   ]
  },
  {
   "cell_type": "code",
   "execution_count": 36,
   "metadata": {},
   "outputs": [],
   "source": [
    "# all connections including from ligands discarded due to unwanted connections\n",
    "connections = {frozenset({'AP', 'FP'}): 1569, frozenset({'AP', 'SE'}): 1502, frozenset({'AP', 'GA'}): 920, frozenset({'X-SE', 'SE'}): 125, frozenset({'SE', 'FP'}): 196, frozenset({'GA', 'FP'}): 198, frozenset({'GA', 'B1'}): 94, frozenset({'X-B2', 'FP'}): 99, frozenset({'FP', 'X-FP'}): 22, frozenset({'X-FP', 'X-GA'}): 1, frozenset({'B1', 'B2'}): 10, frozenset({'GA', 'B2'}): 84, frozenset({'GA', 'X-GA'}): 1, frozenset({'X-B2'}): 4, frozenset({'X-SE', 'FP'}): 9, frozenset({'SE', 'X-FP'}): 5, frozenset({'X-B1', 'FP'}): 1, frozenset({'X-B1', 'B2'}): 3, frozenset({'AP', 'X-SE'}): 5, frozenset({'AP', 'B2'}): 3, frozenset({'X-SE', 'X-FP'}): 2, frozenset({'AP', 'X-FP'}): 1, frozenset({'X-B2', 'B2'}): 5, frozenset({'X-AP', 'X-SE'}): 1, frozenset({'X-AP', 'AP'}): 2, frozenset({'AP', 'B1'}): 4}"
   ]
  },
  {
   "cell_type": "code",
   "execution_count": 37,
   "metadata": {},
   "outputs": [],
   "source": [
    "# only allowed subpocket connections\n",
    "connections ={frozenset({'AP', 'FP'}): 1569, frozenset({'AP', 'SE'}): 1502, frozenset({'X-SE', 'SE'}): 125, frozenset({'GA', 'AP'}): 920, frozenset({'SE', 'FP'}): 196, frozenset({'GA', 'FP'}): 198, frozenset({'GA', 'B1'}): 94, frozenset({'X-B2', 'FP'}): 99, frozenset({'X-FP', 'FP'}): 22, frozenset({'X-FP', 'X-GA'}): 1, frozenset({'B1', 'B2'}): 10, frozenset({'GA', 'B2'}): 84, frozenset({'X-GA', 'GA'}): 1, frozenset({'X-B2'}): 4, frozenset({'X-SE', 'FP'}): 9, frozenset({'X-FP', 'SE'}): 5, frozenset({'FP', 'X-B1'}): 1, frozenset({'B2', 'X-B1'}): 3, frozenset({'X-SE', 'AP'}): 5, frozenset({'X-FP', 'X-SE'}): 2, frozenset({'X-FP', 'AP'}): 1, frozenset({'X-B2', 'B2'}): 5, frozenset({'X-AP', 'X-SE'}): 1, frozenset({'X-AP', 'AP'}): 2}"
   ]
  },
  {
   "cell_type": "code",
   "execution_count": 38,
   "metadata": {},
   "outputs": [
    {
     "data": {
      "text/plain": [
       "<matplotlib.axes._subplots.AxesSubplot at 0x7fd120db0978>"
      ]
     },
     "execution_count": 38,
     "metadata": {},
     "output_type": "execute_result"
    },
    {
     "data": {
      "image/png": "[encoded data removed]",
      "text/plain": [
       "<Figure size 432x288 with 1 Axes>"
      ]
     },
     "metadata": {
      "needs_background": "light"
     },
     "output_type": "display_data"
    }
   ],
   "source": [
    "connections = pd.Series(data=connections).sort_values(ascending=False)\n",
    "connections.plot.bar()"
   ]
  },
  {
   "cell_type": "code",
   "execution_count": 39,
   "metadata": {},
   "outputs": [],
   "source": [
    "valid_subpocket_connections = [{'SE', 'AP'},\n",
    "                               {'SE', 'FP'},\n",
    "                               {'AP', 'FP'},\n",
    "                               {'AP', 'GA'},\n",
    "                               {'FP', 'GA'},\n",
    "                               {'GA', 'B1'},\n",
    "                               {'GA', 'B2'},\n",
    "                               {'B1', 'B2'}]\n",
    "valid_subpocket_connections = [frozenset(conn) for conn in valid_subpocket_connections]"
   ]
  },
  {
   "cell_type": "code",
   "execution_count": 40,
   "metadata": {},
   "outputs": [
    {
     "data": {
      "text/plain": [
       "(AP, FP)    1569\n",
       "(AP, SE)    1502\n",
       "(AP, GA)     920\n",
       "(FP, GA)     198\n",
       "(FP, SE)     196\n",
       "(B1, GA)      94\n",
       "(B2, GA)      84\n",
       "(B2, B1)      10\n",
       "dtype: int64"
      ]
     },
     "execution_count": 40,
     "metadata": {},
     "output_type": "execute_result"
    }
   ],
   "source": [
    "hist = connections[valid_subpocket_connections].sort_values(ascending=False)\n",
    "hist"
   ]
  },
  {
   "cell_type": "code",
   "execution_count": 41,
   "metadata": {},
   "outputs": [
    {
     "data": {
      "text/plain": [
       "(AP, FP)    0.614571\n",
       "(AP, SE)    0.588327\n",
       "(AP, GA)    0.360360\n",
       "(FP, GA)    0.077556\n",
       "(FP, SE)    0.076772\n",
       "(B1, GA)    0.036819\n",
       "(B2, GA)    0.032902\n",
       "(B2, B1)    0.003917\n",
       "dtype: float64"
      ]
     },
     "execution_count": 41,
     "metadata": {},
     "output_type": "execute_result"
    }
   ],
   "source": [
    "hist/2553"
   ]
  },
  {
   "cell_type": "code",
   "execution_count": 44,
   "metadata": {},
   "outputs": [
    {
     "data": {
      "text/plain": [
       "AP\\nFP    1569\n",
       "AP\\nSE    1502\n",
       "AP\\nGA     920\n",
       "FP\\nGA     198\n",
       "SE\\nFP     196\n",
       "GA\\nB1      94\n",
       "GA\\nB2      84\n",
       "B1\\nB2      10\n",
       "dtype: int64"
      ]
     },
     "execution_count": 44,
     "metadata": {},
     "output_type": "execute_result"
    }
   ],
   "source": [
    "hist.index = ['AP\\nFP', 'AP\\nSE', 'AP\\nGA', 'FP\\nGA', 'SE\\nFP', 'GA\\nB1', 'GA\\nB2', 'B1\\nB2']\n",
    "hist"
   ]
  },
  {
   "cell_type": "code",
   "execution_count": 45,
   "metadata": {},
   "outputs": [
    {
     "data": {
      "text/plain": [
       "(array([0, 1, 2, 3, 4, 5, 6, 7]), <a list of 8 Text xticklabel objects>)"
      ]
     },
     "execution_count": 45,
     "metadata": {},
     "output_type": "execute_result"
    },
    {
     "data": {
      "image/png": "[encoded data removed]",
      "text/plain": [
       "<Figure size 576x576 with 1 Axes>"
      ]
     },
     "metadata": {
      "needs_background": "light"
     },
     "output_type": "display_data"
    }
   ],
   "source": [
    "plt.figure(figsize=(8,8))\n",
    "hist.plot.bar()\n",
    "plt.ylabel('# Ligands', fontsize=17)\n",
    "plt.xlabel('Subpocket connection', fontsize=17)\n",
    "plt.yticks(fontsize=17)\n",
    "plt.xticks(fontsize=17, rotation=0)"
   ]
  },
  {
   "cell_type": "code",
   "execution_count": null,
   "metadata": {},
   "outputs": [],
   "source": []
  }
 ],
 "metadata": {
  "kernelspec": {
   "display_name": "Python 3",
   "language": "python",
   "name": "python3"
  },
  "language_info": {
   "codemirror_mode": {
    "name": "ipython",
    "version": 3
   },
   "file_extension": ".py",
   "mimetype": "text/x-python",
   "name": "python",
   "nbconvert_exporter": "python",
   "pygments_lexer": "ipython3",
   "version": "3.6.8"
  }
 },
 "nbformat": 4,
 "nbformat_minor": 2
}
