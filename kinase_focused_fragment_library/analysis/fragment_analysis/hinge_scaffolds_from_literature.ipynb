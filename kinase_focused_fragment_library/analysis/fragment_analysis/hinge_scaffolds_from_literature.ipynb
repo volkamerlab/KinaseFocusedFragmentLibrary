{
 "cells": [
  {
   "cell_type": "markdown",
   "metadata": {},
   "source": [
    "# Hinge scaffolds in literature\n",
    "\n",
    "Compare most common hinge scaffolds found by \n",
    "\n",
    "- Xing et al. (https://link.springer.com/article/10.1007%2Fs10822-013-9700-4)\n",
    "- Mukherjee et al. (https://pubs.acs.org/doi/10.1021/acs.jcim.7b00213)\n",
    "\n",
    "to the AP fragments in the *KinFragLib* library."
   ]
  },
  {
   "cell_type": "code",
   "execution_count": 1,
   "metadata": {},
   "outputs": [
    {
     "name": "stderr",
     "output_type": "stream",
     "text": [
      "RDKit WARNING: [13:02:44] Enabling RDKit 2019.09.3 jupyter extensions\n"
     ]
    }
   ],
   "source": [
    "from pathlib import Path\n",
    "\n",
    "import numpy as np\n",
    "import pandas as pd\n",
    "from rdkit import Chem\n",
    "from rdkit.Chem import Draw\n",
    "from rdkit.Chem import AllChem\n",
    "from rdkit.Chem.Draw import IPythonConsole\n",
    "from rdkit.Chem import PandasTools  \n",
    "\n",
    "from util import _read_subpocket_fragments\n",
    "import klifs_utils as klifs"
   ]
  },
  {
   "cell_type": "code",
   "execution_count": 2,
   "metadata": {},
   "outputs": [],
   "source": [
    "pd.options.display.max_rows = 100"
   ]
  },
  {
   "cell_type": "markdown",
   "metadata": {},
   "source": [
    "## Data"
   ]
  },
  {
   "cell_type": "markdown",
   "metadata": {},
   "source": [
    "### Xing et al."
   ]
  },
  {
   "cell_type": "code",
   "execution_count": 3,
   "metadata": {},
   "outputs": [],
   "source": [
    "# 10 most common fragments (ranked)\n",
    "smiles_xing = [\n",
    "    'C1=NC2=C(N1)C(=NC=N2)N',\n",
    "    'C12C(C(CC(O1)N3C4=CC=CC=C4C5=C6C(=C7C8=CC=CC=C8N2C7=C53)CNC6=O)N)O',\n",
    "    'C1=C(NN=C1)N',\n",
    "    'C1=CC=NC(=N1)N',\n",
    "    'C1=CC2=C(NC=C2)N=C1',\n",
    "    'C1=CC=C2C(=C1)C=NN2',\n",
    "    'C1=CNC2=C1C(=NC=N2)N',\n",
    "    'C1=C(N=CN=C1N)N',\n",
    "    'C1=CC=NC=C1',\n",
    "    'C1=CNC2=NC=NC=C21'\n",
    "]"
   ]
  },
  {
   "cell_type": "markdown",
   "metadata": {},
   "source": [
    "### Mukherjee et al."
   ]
  },
  {
   "cell_type": "code",
   "execution_count": 4,
   "metadata": {},
   "outputs": [],
   "source": [
    "# 10 most common fragments (ranked)\n",
    "smiles_mukh = [\n",
    "        'C1=NC2=C(N1)C(=NC=N2)N',\n",
    "        'C1=CC=NC(=N1)N',\n",
    "        'C1=CC=NC=C1',\n",
    "        'C12C(C(CC(O1)N3C4=CC=CC=C4C5=C6C(=C7C8=CC=CC=C8N2C7=C53)CNC6=O)N)O',\n",
    "        'C1=CC=NC=C1',\n",
    "        'C1=CC=NC(=N1)N',\n",
    "        'C1=NC2=C(N1)C(=NC=N2)N',\n",
    "        'c1ncc2nc[nH]c2n1',\n",
    "        'C1=CC2=C(NC=C2)N=C1',\n",
    "        '[N]2C1=NC=NC(=C1C=N2)N'\n",
    "    ]"
   ]
  },
  {
   "cell_type": "markdown",
   "metadata": {},
   "source": [
    "### AP fragments (KinFragLib)"
   ]
  },
  {
   "cell_type": "code",
   "execution_count": 5,
   "metadata": {},
   "outputs": [],
   "source": [
    "PATH_TO_DATA = Path('../../../..') / 'KinaseFocusedFragmentLibraryData'"
   ]
  },
  {
   "cell_type": "markdown",
   "metadata": {},
   "source": [
    "### Draw fragments and save to individual files"
   ]
  },
  {
   "cell_type": "code",
   "execution_count": 6,
   "metadata": {},
   "outputs": [],
   "source": [
    "def draw_smiles_to_files(smiles_list, name, ranks, file_suffix, output_folder):\n",
    "    \n",
    "    output_folder = Path(output_folder) / 'hinge_fragments_literature'\n",
    "    output_folder.mkdir(parents=True, exist_ok=True)\n",
    "    \n",
    "    for i, smiles in zip(ranks, smiles_list):\n",
    "        mol=Chem.MolFromSmiles(smiles)\n",
    "        Chem.Draw.MolToFile(mol, output_folder / f'{name}_{i}.{file_suffix}', size=(250, 250))"
   ]
  },
  {
   "cell_type": "code",
   "execution_count": 7,
   "metadata": {},
   "outputs": [],
   "source": [
    "draw_smiles_to_files(smiles_xing, 'xing', range(1, len(smiles_xing)+1), 'png', PATH_TO_DATA / 'Media')\n",
    "draw_smiles_to_files(smiles_mukh, 'mukh', range(1, len(smiles_mukh)+1), 'png', PATH_TO_DATA / 'Media')"
   ]
  },
  {
   "cell_type": "markdown",
   "metadata": {},
   "source": [
    "## Load data\n",
    "\n",
    "Load scaffolds/fragments as SMILES"
   ]
  },
  {
   "cell_type": "code",
   "execution_count": 8,
   "metadata": {},
   "outputs": [],
   "source": [
    "def get_literature_data(smiles, author):\n",
    "    \n",
    "    data = pd.DataFrame(smiles, columns=['smiles'])\n",
    "    PandasTools.AddMoleculeColumnToFrame(data, 'smiles')\n",
    "    data[f'rank_{author}'] = np.arange(1, 11, 1)\n",
    "    \n",
    "    return data"
   ]
  },
  {
   "cell_type": "markdown",
   "metadata": {},
   "source": [
    "### Xing et al."
   ]
  },
  {
   "cell_type": "code",
   "execution_count": 9,
   "metadata": {},
   "outputs": [],
   "source": [
    "data_xing = get_literature_data(smiles_xing, 'xing')"
   ]
  },
  {
   "cell_type": "markdown",
   "metadata": {},
   "source": [
    "### Mukherjee et al."
   ]
  },
  {
   "cell_type": "code",
   "execution_count": 10,
   "metadata": {},
   "outputs": [],
   "source": [
    "data_mukh = get_literature_data(smiles_mukh, 'mukh')"
   ]
  },
  {
   "cell_type": "markdown",
   "metadata": {},
   "source": [
    "### Merge literature data"
   ]
  },
  {
   "cell_type": "code",
   "execution_count": 11,
   "metadata": {},
   "outputs": [],
   "source": [
    "def merge_literature_data(data_literature1, data_literature2):\n",
    "    \n",
    "    data_joined = data_literature1.drop('ROMol', axis=1).join(\n",
    "        data_literature2.drop('ROMol', axis=1).set_index('smiles'), \n",
    "        on='smiles', \n",
    "        how='outer'\n",
    "    ).reset_index(drop=True)\n",
    "    PandasTools.AddMoleculeColumnToFrame(data_joined, 'smiles')\n",
    "    data_joined = data_joined[['smiles', 'ROMol', 'rank_xing', 'rank_mukh']]\n",
    "    return data_joined"
   ]
  },
  {
   "cell_type": "code",
   "execution_count": 12,
   "metadata": {},
   "outputs": [],
   "source": [
    "data_literature = merge_literature_data(data_xing, data_mukh)"
   ]
  },
  {
   "cell_type": "markdown",
   "metadata": {},
   "source": [
    "### AP fragments (KinFragLib)"
   ]
  },
  {
   "cell_type": "code",
   "execution_count": 13,
   "metadata": {},
   "outputs": [],
   "source": [
    "def _get_ranks(data_ap):\n",
    "\n",
    "    ranks = []\n",
    "    \n",
    "    rank = 1\n",
    "    last_count = int(data_ap.count_ap[0])\n",
    "\n",
    "    for index, row in data_ap.iterrows():\n",
    "\n",
    "        current_count = row.count_ap\n",
    "\n",
    "        if current_count != last_count:\n",
    "            rank = row.rank_ap_uncorrected\n",
    "\n",
    "        ranks.append(rank)\n",
    "\n",
    "        last_count = current_count\n",
    "\n",
    "    return ranks"
   ]
  },
  {
   "cell_type": "code",
   "execution_count": 14,
   "metadata": {},
   "outputs": [],
   "source": [
    "def get_data_ap(path_to_lib):\n",
    "    \n",
    "    fragments_ap = _read_subpocket_fragments('AP', path_to_lib, remove_dummy=True)\n",
    "    \n",
    "    print('Number of fragments: ', len(fragments_ap))\n",
    "    print('Number of unique fragments: ', len(fragments_ap.smiles.unique()))\n",
    "    \n",
    "    # Count fragments\n",
    "    fragments_ap_counts = fragments_ap.smiles.value_counts(sort=True)\n",
    "    fragments_ap_counts.name = 'count_ap'\n",
    "    \n",
    "    # Cast to DataFrame\n",
    "    data_ap = pd.DataFrame(fragments_ap_counts)\n",
    "    data_ap.reset_index(drop=False, inplace=True)\n",
    "    data_ap.rename(columns={'index': 'smiles'}, inplace=True)\n",
    "    PandasTools.AddMoleculeColumnToFrame(data_ap, 'smiles')\n",
    "    \n",
    "    # Set rank\n",
    "    data_ap['rank_ap_uncorrected'] = np.arange(1, len(data_ap)+1, 1)\n",
    "    data_ap['rank_ap'] = _get_ranks(data_ap)\n",
    "    \n",
    "    return data_ap"
   ]
  },
  {
   "cell_type": "code",
   "execution_count": 15,
   "metadata": {},
   "outputs": [
    {
     "name": "stdout",
     "output_type": "stream",
     "text": [
      "Number of fragments:  2561\n",
      "Number of unique fragments:  1115\n"
     ]
    }
   ],
   "source": [
    "data_ap = get_data_ap(PATH_TO_DATA / 'FragmentLibrary')"
   ]
  },
  {
   "cell_type": "markdown",
   "metadata": {},
   "source": [
    "## Compare literature scaffolds/fragments to AP fragments"
   ]
  },
  {
   "cell_type": "code",
   "execution_count": 16,
   "metadata": {},
   "outputs": [],
   "source": [
    "def _get_ap_rank(data_ap, romol):\n",
    "    \n",
    "    for index_ap, row_ap in data_ap.iterrows():\n",
    "        \n",
    "        if Chem.MolToSmiles(romol) == Chem.MolToSmiles(row_ap.ROMol):\n",
    "            return int(row_ap.rank_ap)"
   ]
  },
  {
   "cell_type": "code",
   "execution_count": 17,
   "metadata": {},
   "outputs": [],
   "source": [
    "def _get_ap_count(data_ap, romol):\n",
    "    \n",
    "    for index_ap, row_ap in data_ap.iterrows():\n",
    "        \n",
    "        if Chem.MolToSmiles(romol) == Chem.MolToSmiles(row_ap.ROMol):\n",
    "            return int(row_ap.count_ap)"
   ]
  },
  {
   "cell_type": "code",
   "execution_count": 18,
   "metadata": {},
   "outputs": [],
   "source": [
    "def compare_ranks(data_literature, data_ap):\n",
    "    \n",
    "    data = data_literature.copy()\n",
    "    data['rank_ap'] = data.apply(lambda x: _get_ap_rank(data_ap, x.ROMol), axis=1)\n",
    "    data['count_ap'] = data.apply(lambda x: _get_ap_count(data_ap, x.ROMol), axis=1)\n",
    "    \n",
    "    return data"
   ]
  },
  {
   "cell_type": "code",
   "execution_count": 19,
   "metadata": {},
   "outputs": [
    {
     "data": {
      "text/html": [
       "<div>\n",
       "<style scoped>\n",
       "    .dataframe tbody tr th:only-of-type {\n",
       "        vertical-align: middle;\n",
       "    }\n",
       "\n",
       "    .dataframe tbody tr th {\n",
       "        vertical-align: top;\n",
       "    }\n",
       "\n",
       "    .dataframe thead th {\n",
       "        text-align: right;\n",
       "    }\n",
       "</style>\n",
       "<table border=\"1\" class=\"dataframe\">\n",
       "  <thead>\n",
       "    <tr style=\"text-align: right;\">\n",
       "      <th></th>\n",
       "      <th>smiles</th>\n",
       "      <th>ROMol</th>\n",
       "      <th>rank_xing</th>\n",
       "      <th>rank_mukh</th>\n",
       "      <th>rank_ap</th>\n",
       "      <th>count_ap</th>\n",
       "    </tr>\n",
       "  </thead>\n",
       "  <tbody>\n",
       "    <tr>\n",
       "      <th>0</th>\n",
       "      <td>C1=NC2=C(N1)C(=NC=N2)N</td>\n",
       "      <td><img data-content=\"rdkit/molecule\" src=\"data:image/png;base64,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\" alt=\"Mol\"/></td>\n",
       "      <td>1.0</td>\n",
       "      <td>1.0</td>\n",
       "      <td>205.0</td>\n",
       "      <td>2.0</td>\n",
       "    </tr>\n",
       "    <tr>\n",
       "      <th>1</th>\n",
       "      <td>C1=NC2=C(N1)C(=NC=N2)N</td>\n",
       "      <td><img data-content=\"rdkit/molecule\" src=\"data:image/png;base64,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\" alt=\"Mol\"/></td>\n",
       "      <td>1.0</td>\n",
       "      <td>7.0</td>\n",
       "      <td>205.0</td>\n",
       "      <td>2.0</td>\n",
       "    </tr>\n",
       "    <tr>\n",
       "      <th>2</th>\n",
       "      <td>C12C(C(CC(O1)N3C4=CC=CC=C4C5=C6C(=C7C8=CC=CC=C...</td>\n",
       "      <td><img data-content=\"rdkit/molecule\" src=\"data:image/png;base64,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\" alt=\"Mol\"/></td>\n",
       "      <td>2.0</td>\n",
       "      <td>4.0</td>\n",
       "      <td>NaN</td>\n",
       "      <td>NaN</td>\n",
       "    </tr>\n",
       "    <tr>\n",
       "      <th>3</th>\n",
       "      <td>C1=C(NN=C1)N</td>\n",
       "      <td><img data-content=\"rdkit/molecule\" src=\"data:image/png;base64,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\" alt=\"Mol\"/></td>\n",
       "      <td>3.0</td>\n",
       "      <td>NaN</td>\n",
       "      <td>80.0</td>\n",
       "      <td>5.0</td>\n",
       "    </tr>\n",
       "    <tr>\n",
       "      <th>4</th>\n",
       "      <td>C1=CC=NC(=N1)N</td>\n",
       "      <td><img data-content=\"rdkit/molecule\" src=\"data:image/png;base64,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\" alt=\"Mol\"/></td>\n",
       "      <td>4.0</td>\n",
       "      <td>2.0</td>\n",
       "      <td>1.0</td>\n",
       "      <td>103.0</td>\n",
       "    </tr>\n",
       "    <tr>\n",
       "      <th>5</th>\n",
       "      <td>C1=CC=NC(=N1)N</td>\n",
       "      <td><img data-content=\"rdkit/molecule\" src=\"data:image/png;base64,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\" alt=\"Mol\"/></td>\n",
       "      <td>4.0</td>\n",
       "      <td>6.0</td>\n",
       "      <td>1.0</td>\n",
       "      <td>103.0</td>\n",
       "    </tr>\n",
       "    <tr>\n",
       "      <th>6</th>\n",
       "      <td>C1=CC2=C(NC=C2)N=C1</td>\n",
       "      <td><img data-content=\"rdkit/molecule\" src=\"data:image/png;base64,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\" alt=\"Mol\"/></td>\n",
       "      <td>5.0</td>\n",
       "      <td>9.0</td>\n",
       "      <td>7.0</td>\n",
       "      <td>25.0</td>\n",
       "    </tr>\n",
       "    <tr>\n",
       "      <th>7</th>\n",
       "      <td>C1=CC=C2C(=C1)C=NN2</td>\n",
       "      <td><img data-content=\"rdkit/molecule\" src=\"data:image/png;base64,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\" alt=\"Mol\"/></td>\n",
       "      <td>6.0</td>\n",
       "      <td>NaN</td>\n",
       "      <td>8.0</td>\n",
       "      <td>24.0</td>\n",
       "    </tr>\n",
       "    <tr>\n",
       "      <th>8</th>\n",
       "      <td>C1=CNC2=C1C(=NC=N2)N</td>\n",
       "      <td><img data-content=\"rdkit/molecule\" src=\"data:image/png;base64,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\" alt=\"Mol\"/></td>\n",
       "      <td>7.0</td>\n",
       "      <td>NaN</td>\n",
       "      <td>5.0</td>\n",
       "      <td>30.0</td>\n",
       "    </tr>\n",
       "    <tr>\n",
       "      <th>9</th>\n",
       "      <td>C1=C(N=CN=C1N)N</td>\n",
       "      <td><img data-content=\"rdkit/molecule\" src=\"data:image/png;base64,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\" alt=\"Mol\"/></td>\n",
       "      <td>8.0</td>\n",
       "      <td>NaN</td>\n",
       "      <td>80.0</td>\n",
       "      <td>5.0</td>\n",
       "    </tr>\n",
       "    <tr>\n",
       "      <th>10</th>\n",
       "      <td>C1=CC=NC=C1</td>\n",
       "      <td><img data-content=\"rdkit/molecule\" src=\"data:image/png;base64,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\" alt=\"Mol\"/></td>\n",
       "      <td>9.0</td>\n",
       "      <td>3.0</td>\n",
       "      <td>2.0</td>\n",
       "      <td>50.0</td>\n",
       "    </tr>\n",
       "    <tr>\n",
       "      <th>11</th>\n",
       "      <td>C1=CC=NC=C1</td>\n",
       "      <td><img data-content=\"rdkit/molecule\" src=\"data:image/png;base64,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\" alt=\"Mol\"/></td>\n",
       "      <td>9.0</td>\n",
       "      <td>5.0</td>\n",
       "      <td>2.0</td>\n",
       "      <td>50.0</td>\n",
       "    </tr>\n",
       "    <tr>\n",
       "      <th>12</th>\n",
       "      <td>C1=CNC2=NC=NC=C21</td>\n",
       "      <td><img data-content=\"rdkit/molecule\" src=\"data:image/png;base64,iVBORw0KGgoAAAANSUhEUgAAAMgAAADICAIAAAAiOjnJAAAABmJLR0QA/wD/AP+gvaeTAAAX7ElEQVR4nO2de1jUVfrA37lwERUFEVEhA/ESqCuhmRKUK6yms65Pia2tw2abKNUOXrKhZ7PRNBvctsbWR8VVt3HVWvIpGlOfgsQVryiiCCqIqCClggLJfZh5f3985zciwjCX75kZ4P08/KHMmfe8Ax++l/ec7zkCRASC4BuhoxMguickFsEEEotgAolFMIHEIphAYhFMILEIJpBYBBNILIIJJBbBBBKLYAKJRTCBxCKYQGIRTCCxCCaQWAQTSCyCCSQWwQQSi2ACiUUwgcQimEBiEUwgsQgmkFgEE0gsggkkFsEEEotgAolFMIHEIphAYhFMILEIJpBYBBNILIIJJBbBBBKLYAKJRTCBxCKYQGIRTCCxCCaQWAQTSCyCCSQWwQQSi2ACieXsHD9+/Pr16wUFBY5OxDJILOelvLw8Li4uMjJyzpw548ePX7x4cUVFhaOTMhsknI+6ujqFQuHh4QEAHh4ekydPFovFADBgwIBNmzZptVpHJ9g5JJbTodFonnzySe7PXiKRXL9+HREvX7784osvct8cNWrUwYMHHZ1mJ5BYTkROTk5kZCRnz9NPP3306NE2DTQazfDhw43OFRcXOyRPcyCxnILKykqZTCYSibjznUqlamlpabdlc3OzSqXy9PQEABcXF5lMVlNTY+dszYHEcjCcKP369TOKUl1d3em7fv755/j4eE5EHx8fEyI6ChLLkaSnp4eEhHCntujo6IKCAovefvbs2eeee8546szKymKUpxWQWI7hypUrM2fONF6MHzhwwLo4er0+NTV12LBhxguvGzdu8JuqdZBY9ub+/ftyudzV1RUAvLy8lEplU1OTjTHr6uqUSmWfPn248oRcLn/w4AEv2VqNI8VqaGhwYO/2R6fTqdXqgQMHAoBQKJRKpXfu3OExfllZmVQqFQgEAODv769Wq/V6PY/xLcIxYjU3NyclJcXExISEhCgUCkuvLboihw8fHjduHHfCmjp16oULFxh1dOrUqUmTJnEdTZo06dSpU4w6Mo1jxFq5ciV3E2QcAAgNDV21atX58+cdkg9TSktLpVIp9zEDAgLUajXrHltaWlJSUnx9fQEgKGh0fLyO1yOjWThArMOHDwuFQrFYfOzYsaysLJlMNmjQIKNhTz75pEwmy8rKcuBhnC9qa2sVCoW7uzsA9O7dW6FQ2PPsX11dvXz58mef/R4A+/XDTz5Bm6/lLMDeYt29e3fw4MEAsH79euM3W1paOMOGDBliNCwgIEAmk6Wnp3eJobE26PV6tVrt5+cHAAKBIDY2trS01KIIjY2NSqVy9erVNmZSVISxsQiAADhiBKam2hjPXOwqll6vl0gkAPD888+3W9DT6XRZWVlyuTw4ONhomI+Pj1Qq1Wg0zc3N9szWarKzsydPnswlP3HixOPHj1saIS0tjRu6cXV1LS8vtz2ljAwcM8ag17RpePGi7SE7wa5iffLJJ5wo5vyw8vPzFQrFqFGjjIZ5e3tzhtl+f86I8vJy433ZkCFDUlJSdDqdRRGuXLnSerDZ6vrW42i1mJKCPj4IgGIxxsdjRQVfsdvBfmLl5OS4uroKBILvvvvOojdyhhkr1ADQv3//2NhYtVrt8GqNkfr6eqVS2bdvXwDo1auXXC7/9ddfLYpw//59mUzGTY/hq771OPfuoUyGIhECoLc3qlTI6ELDTmLV1tZyx57ExESrg1y7dk2lUkVERHCHBO5XKJFI1Gq1YwdiNRpNYGCgsfZdUlJi0du1Wm1KSgpX3xKLxfHx8Xfv3mWUKselSzh9uuHMOHo0HjrEfxd2EuvPf/4zAIwZM6a+vt72aNevX29jmLu7O2dYVVWV7fHN59y5c1FRUVwO48eP/9///mdphJ9++mns2LFchN/+9rfs6luPo9FgUJBBL4kEr13jM7g9xPrvf//L3W9funSJ38ilpaUqlSo6Opo7gwCASCSKiIhQqVS3b9/mt682mD/RpSOuXr0aGxvLpR0cHJxqtxu2VjQ1oUqFnp4IgK6uKJMhX4d+5mJdu3aNmzy0fft2dr1UVFSo1WqJRGIsuhoN4+WuqjXWTXRpjWPrW49TXo7x8SgUIgAOHowpKWjhLUc7sBVLq9VyN95z585l2pGRe/fucYa5ublxhgmFwoiICKVSefXqVdvjp6enh4aGcpGjo6Pz8/Mtenub+pZUKv3ll19sz4oXzpzBiAjDmXHCBDx2zKZobMWSy+VcqfPevXtMO3qcqqqq1NRUqVTKjflzcEOTV65csSJgYWHhrFmzuDgjR47cv3+/pRHa1LdOnDhhRRpM0etRrcYhQxAABQKUSvHXX/HkSYNtH3/ctv2gQRga2n4ohmJlZmaKRCKxWGy6QqjT6datW2fp2cR86uvrNRqNVCrlzsitDTt79qw5EaqqqowTXfr3769UKhsbGy3K4datW8b61tChQx0776BT6upQoUB3dwwLQ53uoVj9+mFl5SMtHSCWcehm3bp1pluuW7cOAKZMmcIoEyMNDQ0ajSY+Pp67secICgoyMTTJTXThRnOtm+jC1be4o6Z19S1HUVKC3B0qJ9aECQiAy5Y90sbeYun1+t///vcAEBUVZfpe6fTp0y4uLkKh8Mcff2SRSbsYhya5ax2OYcOGtTEsMzPzN7/5DffqCy+8YMXMizYPclla33ISOLHkcoyJQTc3bD1B1d5iffrpp1z5+ObNmyaaVVdXc3XFpKQkFml0SktLS0ZGRkJCAndw5QgICFi0aNGMGTO4/wYGBu7bt8/SyK3rW2FhYVbUt5wHo1jnzqFAgAsWPHzJrmLl5eW5u7sLBIK0tDTTLefPnw8AEyZMcPjYn06nO3v2rEKhMA5+9+3b18PDw4pCgO31LWfDKBYizp+PAgHm5hpesp9YtbW1o0ePBoC//vWvplv+61//AoA+ffoUFhbym4Mt6PX67OxsLy8vALD0rs32+pZz0lqskhJ0dcXp0w0v2U+shQsXmjN0U1RUxI3X7t69m98EeIE7QV+zZIzDxge5nJnWYiGiTIYAmJGBaDexUlNTuWG7vLw8E80aGxvDwsIA4LXXXuOxdx6xSKw29a3vv/+edXp2po1YFRXo6Ynh4ajX20WsmzdvcmeQbdu2mW4pk8m40TGnvfE2U6zWD3Jx9S2HXyyyoI1YiLh2LQLgl1+yF8s4dPPyyy+bbnnw4EGBQODi4uKop0fMwUyxEhISuEHJhISECqaz5hzK42LV1aGfHwYFobc3Y7Hee+89c4Zubt++zT038Y9//IOXfhlhpljl5eUSicSeE10cwuNiIeKWLYZyPEOxjhw5IhKJRCJRZmamiWY6nS46OhoApk+f7swDGmjVxXs3pl2xtFocOZKlWBUVFdyjNR9++KHplh999BEA+Pr6Os94fkeQWB1RXIyrVqE5T0baJJZer589ezYAREZGmi4DZmdnu7i4CASCLnHTRGJ1xA8/IADGxHTe0qbFbT///HONRuPl5bV7926u1twuNTU1r7zyilarXblypfHOnOjeWC9Wfn4+d82+c+fOJ554wkTLN9988/r16+Hh4WvXrrW6O6JrYaVYdXV18+bNa2hoeOutt+bMmWOi5c6dO/fu3dunT5+9e/dyJR+iJ2ClWImJiZcvXw4NDf373/9uollxcfHSpUsBYMuWLSNHjrSuL6IrYo1Y+/bt27Fjh7u7+969e3v16tVRs6ampnnz5j148CAuLm7BggU2JEl0PSwWq6ysbPHixQCgUqmMCz61S1JSUm5u7vDhw//5z39anyBhR27fhnXrYMcOPmJZdLep1WqnTJkCAC+99JLplocOHXL+oZuO6LHlhpwcBMCwsA4bsCo3rF69+sSJE/7+/tu2bTPR7M6dOwsXLkTE9evXG1eXI3oUFoh19OhRpVIpFAp37do1YMCAjprp9XqpVHr79u3f/e53y5cv5yNJouthrlhVVVVSqVSn033wwQdTp0410XLDhg3p6em+vr5ffPGFUEi7i/VQzPrFI+LChQtLS0sjIyPff/99Ey25meMCgWDHjh2tn1AgehpmibVp06bvvvuuf//+//nPf0wM3dTW1v7pT39qbm5esWIFt3If0WPpXKyCggLuSfmtW7cad0BolyVLlhQVFYWHh3MTGYieTCdiNTY2vvrqqw0NDQkJCa+88oqJll988cWePXt69+69Z88eGrohOhErMTExLy8vJCSEWz60I4qLi7mZ7Js3b269aijRYzEl1jfffLNt2zZu6IbbRrZdtFrtggULHjx4MG/evLi4OAZJEl2PDsW6devWokWLAODTTz81LmHQLklJSadPnw4KCuKeQSUIMCFWWlpaVVXVzJkzuWdROgIRa2pqXFxcvvrqq9brBBE9HFsLmAKBYPv27fn5+RMnTuQlIaJ70KFYc+bM8fLyOnjw4ObNmzuNQnOtiDZ0KJa/vz93zbRixYoLFy7YMSWiO2DqVPjSSy/Fx8dzpaz6+nq75UQ4CqGwxddX17+/tqMGIpHW11fXt29z56FMv7xx48Zx48ZdunRpxYoVFqdJdDX0+ry7d8XV1R3OdNLpMu/eFT940Pl4XSdiGecfb926ldsHgCDMofO7wtDQ0A0bNgDAkiVLbt68yT4lojtgVrnh7bff/sMf/lBdXb1gwQKdTsc6J6IbYG4d69///vcTTzxx7NgxeuiUMAdzxfLy8uImY61duzYzM5NpTkQ3wILKe1RU1HvvvafX6+Pi4u7du8cuJ6IbYNmQjkKhiIiIMI5PE0RHWCaWWCz+8ssvvb29v/32261btzLKiegGWDwIHRAQwD1UuGzZsry8PAYpEd0Ba2Y3vPzyy2+88YZx1jLvORHdACunzWzcuPGpp54qKCh45513+E2I6B5YKZaHh0dqamqvXr02b96clpbGb05EN8D6iX5jxoxJTk4GgOXL15aVtfCXEtEdsGkG6dtvv71o0aamptMLFohppIdojU1iCQSC5OS3xGLx0aNAz6gSrbF1zruXF+zaBSIRrFkDR47wkVEXobm5ef/+/Y7OgmeCg4MPHjy4adMm20PxsBrM88+DXA56PUilcP++7fG6Bhs3bpw9e/bUqVO707xtT0/PF198kVtbz0b4WWZozRqYMgVu3YKeM9IzcOBAHx+fI0eOhIeHJyQkVFZWOjoj54IfscRi+Oor8PKCb74Bk2v9dR9ee+21q1evyuVykUi0devWESNGJCcnNzd3Phm8h8DbwmgBAQalEhOhh4z0cHsUXrx4cdasWdXV1UlJSWPHjj1w4ICj83IK+Fxxb+5ceP11aGyEV1+FnjPSw+2qmp6eHhoaWlRUJJFIYmJiCgoKHJ2Xg+F5KcfPP4fRo6GgAN59l9/AdgIRz5w5U11dDQB37twx/43R0dG5ubncZuMZGRlhYWGJiYk1NTXMMnUMZWVl5jblaSHnh+Tlobs7AmBaGu+xWaHT6bhFLoODg7kfS9++fT08PBQKRUNDg0WhKisrZTIZt+7hgAEDVCqV6X3RugpVVVXcPsUBAQFZWVmdtudfLET87DMEQC8vvHmTRXjeaGlpycjIePPNN1svlxoQELBo0aIZM2Zw/w0MDNy3b5+lkXNyciIjI7kIYWFhx4/XsMjfPrS0tGzZssXHxwcARCLR4sWLHzx40Om7mIil1+Ps2QiAUVHohH+uLS0tWVlZMpnMz8/P6NOwYcNkMllWVpZx99fMzEzj+k0vvPDC+fPnLe1Io9EEBgaGhb0DgBIJlpTw/UnYY/UPgYlYiHj3Lg4ZggC4bh2jHiymoaFBo9HEx8cPHDjQ6FNQUFAbn1qj0+nUarWvry8ACIVCqVR6584dizqtr6/fsKHKwwMBsFcv/OADrKvj6fMwprS0VCqVcj8lf39/tVpt0YbLrMRCxCNHUCRCsRiPH2fXSefU19drNBqpVNp6+a6QkBCFQnH27FlzInCXF25ubvD/JYbGxkaLcrh1C6VSFAgQAIcORbUanXlT7Lq6OoVC4e7uDgDWXWgiU7EQUS5HAAwIQJOb2zOhuhr37q2fM2eOcX8ygUDwzDPPJCcnFxcXWxGwsLDQuMb4yJEj9+/fb2mE7GycPNmw+fvEiXjihBVZsEWv16empnLbmgoEgtjY2JvWXiazFUurNfwo585l2s9D7t1DtRolEnRzQwAMDh4jFArDw8MVCsXVq1dtj8/Vqzi9oqOj8/PzLXq7Xo9qNfr5IQAKBCiVovPsvH7mzJmIiAjuo4WHhx87dsyWaGzFQsRr19DTEwFw+3aGvfzyC27ejNOmoVhsOCSIRDhtGqrVZ37++Wd++2pububqVQDg4uIik8mqqqosilBbiwqFoSjTuzcqFGj5qYZPysvL4+Pjuf1pBg8enJKSotPpbIzJXCxE3LPH8BMsLeU5cmkppqSgRPKITxERqFIxPxK0rld5e3tbUa+6ehVjYw1pDx+OqamMMjVFU1OTSqXirj5dXV1lMllNDT+VEXuIhYgJCZiSwlu0GzdQpcKICMPlMAC6u6NEgmo1WnjssJVz585FRUVxp4/x48cfOXLE0gg//oihoYZPER2N5eUs0mwfjUYTFBTEJS+RSPjdn9FOYvHCtWttferVy+ATT39mVsLVq4y/oRILC1ZaLaak4MCB6O9vp2LEpUuXpk+fziU8evToQ4cO8d5FFxCrqQnffx+fesogEwD2749SKX77LdbXOzq5/6e+vv7DDz/s3bs3AERH71+1CmtrLYtQWYnZ2WySa0VFBS5ZgpMnzwUAHx+fLVu2MBpxYiLWyZMGAz7+uO1LgwZhaGjblm+91U6QoUNx0CDDv0eNQgD09kapFDUabGpikTUPlJWVvf760r599QDo74+7dztRvaq5GT/7DL28EAADA0uWLl12//59dt2xFatfP6ysfOQl68RKS8OMDGccHWqXNvUqx9aHOTIycMwYQ0rTpuHFi8x7ZCjWhAkIgMuWPfKSdWJ1OfR6TE3FgABDvSo21mHj8UVFD+89R4yw370nw611p02DmBjYvBl64MKlAgHExsLly6BQgJsbfP01hITA6tXQ2Gi/HGprYfVqGDsWvv4a+vQBhQIuXoTYWDv1znbP5uRkaG4Gk5v9AgDU1EBxcduvbvAEbO/esHo1FBWBVAp1dbBmDYwcCbt2Me9Xr4dduyA4GNasAa0WpFIoLobVq8HNjXnXD2FxGOROcHI5IuL8+SgQYG6u4aV2T4UdfXXdU+HjHD6M48YZPtfUqXjhAquOTp3CSZMMHU2ahCdPsurINMx3mf/oI3BxgaQkU21mzICvv2775e3NOjW7MnUq5OaCWg0DB0JmJoSFQVwc3L3LZxe3bkFcHEyeDKdPg78/qNVw8iQ8+yyfXVgAC1tbH7EQUSZDAMzIQOwxF+8muH8f5XJ0dTVMslUqeaie1NWhUol9+iAAenigXI5mzPFkiz3EqqhAT08MD0e9nsQycOUKzpxpOGGNGoUHDlgZh7v9HDbMEEoiwRs3eE3UWpifCgHAxwdWroScHKA9U4yMGgUHDkB6OoSEQGEhzJoFMTFw6ZJlQXJyICoK5s2Dmzfh6achKwv274dhw9hkbCH2EAsAli8HPz/4299A2+HGUj2R6GjIzYXkZPD0hIwMCAuDNWvg1CkQCEAgAKWybXs/PxgzBgBAr4e//AWeeQaOHQM/P9i5E86cgeees/8n6BA7ieXhAQoFlJT0oFVDzMTVFd59F0pKQCYDne6RioBSCR0tpy8UgkAAIhHIZFBYCAsXgtBOv0lzsV86b7wBtA9rRwwYABs3QnY2LF1q+M6ECVBTY2rVsfXr4fJl2LgRnHMnbgEiOjoH4hFOnYLJk0Euh3Pn4OhRKCx8eNnk5wc+PpCf79D8zMPJDqBEK8wct3BOSCznJSwM/vhH2LMHzp93dCqWQ2I5NeaMWzgnJJZTExgIS5bADz/ATz85OhULIbGcnVWrwNMT5HLoWndZJJaz00XHLUisLkBXHLcgsboAXXHcgsTqGnS5cQuqvBNMoCMWwQQSi2ACiUUwgcQimEBiEUwgsQgmkFgEE0gsggkkFsEEEotgAolFMIHEIphAYhFMILEIJpBYBBNILIIJJBbBBBKLYAKJRTCBxCKYQGIRTCCxCCaQWAQTSCyCCSQWwQQSi2ACiUUwgcQimEBiEUwgsQgmkFgEE0gsggkkFsEEEotgAolFMIHEIphAYhFM+D++1s7wYsDVAQAAAABJRU5ErkJggg==\" alt=\"Mol\"/></td>\n",
       "      <td>10.0</td>\n",
       "      <td>NaN</td>\n",
       "      <td>11.0</td>\n",
       "      <td>18.0</td>\n",
       "    </tr>\n",
       "    <tr>\n",
       "      <th>13</th>\n",
       "      <td>c1ncc2nc[nH]c2n1</td>\n",
       "      <td><img data-content=\"rdkit/molecule\" src=\"data:image/png;base64,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\" alt=\"Mol\"/></td>\n",
       "      <td>NaN</td>\n",
       "      <td>8.0</td>\n",
       "      <td>48.0</td>\n",
       "      <td>8.0</td>\n",
       "    </tr>\n",
       "    <tr>\n",
       "      <th>14</th>\n",
       "      <td>[N]2C1=NC=NC(=C1C=N2)N</td>\n",
       "      <td><img data-content=\"rdkit/molecule\" src=\"data:image/png;base64,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\" alt=\"Mol\"/></td>\n",
       "      <td>NaN</td>\n",
       "      <td>10.0</td>\n",
       "      <td>NaN</td>\n",
       "      <td>NaN</td>\n",
       "    </tr>\n",
       "  </tbody>\n",
       "</table>\n",
       "</div>"
      ],
      "text/plain": [
       "                                               smiles  \\\n",
       "0                              C1=NC2=C(N1)C(=NC=N2)N   \n",
       "1                              C1=NC2=C(N1)C(=NC=N2)N   \n",
       "2   C12C(C(CC(O1)N3C4=CC=CC=C4C5=C6C(=C7C8=CC=CC=C...   \n",
       "3                                        C1=C(NN=C1)N   \n",
       "4                                      C1=CC=NC(=N1)N   \n",
       "5                                      C1=CC=NC(=N1)N   \n",
       "6                                 C1=CC2=C(NC=C2)N=C1   \n",
       "7                                 C1=CC=C2C(=C1)C=NN2   \n",
       "8                                C1=CNC2=C1C(=NC=N2)N   \n",
       "9                                     C1=C(N=CN=C1N)N   \n",
       "10                                        C1=CC=NC=C1   \n",
       "11                                        C1=CC=NC=C1   \n",
       "12                                  C1=CNC2=NC=NC=C21   \n",
       "13                                   c1ncc2nc[nH]c2n1   \n",
       "14                             [N]2C1=NC=NC(=C1C=N2)N   \n",
       "\n",
       "                                                ROMol  rank_xing  rank_mukh  \\\n",
       "0   <img data-content=\"rdkit/molecule\" src=\"data:i...        1.0        1.0   \n",
       "1   <img data-content=\"rdkit/molecule\" src=\"data:i...        1.0        7.0   \n",
       "2   <img data-content=\"rdkit/molecule\" src=\"data:i...        2.0        4.0   \n",
       "3   <img data-content=\"rdkit/molecule\" src=\"data:i...        3.0        NaN   \n",
       "4   <img data-content=\"rdkit/molecule\" src=\"data:i...        4.0        2.0   \n",
       "5   <img data-content=\"rdkit/molecule\" src=\"data:i...        4.0        6.0   \n",
       "6   <img data-content=\"rdkit/molecule\" src=\"data:i...        5.0        9.0   \n",
       "7   <img data-content=\"rdkit/molecule\" src=\"data:i...        6.0        NaN   \n",
       "8   <img data-content=\"rdkit/molecule\" src=\"data:i...        7.0        NaN   \n",
       "9   <img data-content=\"rdkit/molecule\" src=\"data:i...        8.0        NaN   \n",
       "10  <img data-content=\"rdkit/molecule\" src=\"data:i...        9.0        3.0   \n",
       "11  <img data-content=\"rdkit/molecule\" src=\"data:i...        9.0        5.0   \n",
       "12  <img data-content=\"rdkit/molecule\" src=\"data:i...       10.0        NaN   \n",
       "13  <img data-content=\"rdkit/molecule\" src=\"data:i...        NaN        8.0   \n",
       "14  <img data-content=\"rdkit/molecule\" src=\"data:i...        NaN       10.0   \n",
       "\n",
       "    rank_ap  count_ap  \n",
       "0     205.0       2.0  \n",
       "1     205.0       2.0  \n",
       "2       NaN       NaN  \n",
       "3      80.0       5.0  \n",
       "4       1.0     103.0  \n",
       "5       1.0     103.0  \n",
       "6       7.0      25.0  \n",
       "7       8.0      24.0  \n",
       "8       5.0      30.0  \n",
       "9      80.0       5.0  \n",
       "10      2.0      50.0  \n",
       "11      2.0      50.0  \n",
       "12     11.0      18.0  \n",
       "13     48.0       8.0  \n",
       "14      NaN       NaN  "
      ]
     },
     "execution_count": 19,
     "metadata": {},
     "output_type": "execute_result"
    }
   ],
   "source": [
    "ranks = compare_ranks(data_literature, data_ap)\n",
    "ranks"
   ]
  },
  {
   "cell_type": "markdown",
   "metadata": {},
   "source": [
    "### Check adenine-containing ligands"
   ]
  },
  {
   "cell_type": "code",
   "execution_count": 20,
   "metadata": {},
   "outputs": [],
   "source": [
    "fragments_ap = _read_subpocket_fragments('AP', PATH_TO_DATA / 'FragmentLibrary', remove_dummy=True)"
   ]
  },
  {
   "cell_type": "code",
   "execution_count": 21,
   "metadata": {},
   "outputs": [],
   "source": [
    "adenines = fragments_ap[fragments_ap.smiles == Chem.MolToSmiles(Chem.MolFromSmiles('C1=NC2=C(N1)C(=NC=N2)N'))]"
   ]
  },
  {
   "cell_type": "code",
   "execution_count": 22,
   "metadata": {},
   "outputs": [
    {
     "data": {
      "text/html": [
       "<div>\n",
       "<style scoped>\n",
       "    .dataframe tbody tr th:only-of-type {\n",
       "        vertical-align: middle;\n",
       "    }\n",
       "\n",
       "    .dataframe tbody tr th {\n",
       "        vertical-align: top;\n",
       "    }\n",
       "\n",
       "    .dataframe thead th {\n",
       "        text-align: right;\n",
       "    }\n",
       "</style>\n",
       "<table border=\"1\" class=\"dataframe\">\n",
       "  <thead>\n",
       "    <tr style=\"text-align: right;\">\n",
       "      <th></th>\n",
       "      <th>smiles</th>\n",
       "      <th>fragment</th>\n",
       "      <th>kinase</th>\n",
       "      <th>family</th>\n",
       "      <th>group</th>\n",
       "      <th>complex_pdb</th>\n",
       "      <th>ligand_pdb</th>\n",
       "      <th>alt</th>\n",
       "      <th>chain</th>\n",
       "      <th>klifs_code</th>\n",
       "      <th>atom.prop.subpocket</th>\n",
       "      <th>atom.prop.environment</th>\n",
       "    </tr>\n",
       "  </thead>\n",
       "  <tbody>\n",
       "    <tr>\n",
       "      <th>224</th>\n",
       "      <td>Nc1ncnc2nc[nH]c12</td>\n",
       "      <td><img data-content=\"rdkit/molecule\" src=\"data:image/png;base64,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\" alt=\"Mol\"/></td>\n",
       "      <td>BTK</td>\n",
       "      <td>Tec</td>\n",
       "      <td>TK</td>\n",
       "      <td>4nwm</td>\n",
       "      <td>2P5</td>\n",
       "      <td>A</td>\n",
       "      <td>B</td>\n",
       "      <td>4nwm_altA_chainB</td>\n",
       "      <td>AP AP AP AP AP AP AP AP AP AP AP AP AP SE FP</td>\n",
       "      <td>14 14 14 14 14 14 14 14 14 14 14 5 5 na na</td>\n",
       "    </tr>\n",
       "    <tr>\n",
       "      <th>668</th>\n",
       "      <td>Nc1ncnc2nc[nH]c12</td>\n",
       "      <td><img data-content=\"rdkit/molecule\" src=\"data:image/png;base64,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\" alt=\"Mol\"/></td>\n",
       "      <td>CHK1</td>\n",
       "      <td>CAMKL</td>\n",
       "      <td>CAMK</td>\n",
       "      <td>2cgx</td>\n",
       "      <td>3D3</td>\n",
       "      <td></td>\n",
       "      <td>A</td>\n",
       "      <td>2cgx_chainA</td>\n",
       "      <td>AP AP AP AP AP AP AP AP AP AP AP AP AP AP FP</td>\n",
       "      <td>14 14 14 14 14 14 14 5 5 5 14 14 14 14 na</td>\n",
       "    </tr>\n",
       "  </tbody>\n",
       "</table>\n",
       "</div>"
      ],
      "text/plain": [
       "                smiles                                           fragment  \\\n",
       "224  Nc1ncnc2nc[nH]c12  <img data-content=\"rdkit/molecule\" src=\"data:i...   \n",
       "668  Nc1ncnc2nc[nH]c12  <img data-content=\"rdkit/molecule\" src=\"data:i...   \n",
       "\n",
       "    kinase family group complex_pdb ligand_pdb alt chain        klifs_code  \\\n",
       "224    BTK    Tec    TK        4nwm        2P5   A     B  4nwm_altA_chainB   \n",
       "668   CHK1  CAMKL  CAMK        2cgx        3D3         A       2cgx_chainA   \n",
       "\n",
       "                              atom.prop.subpocket  \\\n",
       "224  AP AP AP AP AP AP AP AP AP AP AP AP AP SE FP   \n",
       "668  AP AP AP AP AP AP AP AP AP AP AP AP AP AP FP   \n",
       "\n",
       "                          atom.prop.environment  \n",
       "224  14 14 14 14 14 14 14 14 14 14 14 5 5 na na  \n",
       "668   14 14 14 14 14 14 14 5 5 5 14 14 14 14 na  "
      ]
     },
     "execution_count": 22,
     "metadata": {},
     "output_type": "execute_result"
    }
   ],
   "source": [
    "adenines"
   ]
  },
  {
   "cell_type": "code",
   "execution_count": 23,
   "metadata": {},
   "outputs": [
    {
     "data": {
      "text/html": [
       "<div>\n",
       "<style scoped>\n",
       "    .dataframe tbody tr th:only-of-type {\n",
       "        vertical-align: middle;\n",
       "    }\n",
       "\n",
       "    .dataframe tbody tr th {\n",
       "        vertical-align: top;\n",
       "    }\n",
       "\n",
       "    .dataframe thead th {\n",
       "        text-align: right;\n",
       "    }\n",
       "</style>\n",
       "<table border=\"1\" class=\"dataframe\">\n",
       "  <thead>\n",
       "    <tr style=\"text-align: right;\">\n",
       "      <th></th>\n",
       "      <th>structure_ID</th>\n",
       "      <th>kinase</th>\n",
       "      <th>species</th>\n",
       "      <th>kinase_ID</th>\n",
       "      <th>pdb</th>\n",
       "      <th>alt</th>\n",
       "      <th>chain</th>\n",
       "      <th>rmsd1</th>\n",
       "      <th>rmsd2</th>\n",
       "      <th>pocket</th>\n",
       "      <th>...</th>\n",
       "      <th>bp_I_A</th>\n",
       "      <th>bp_I_B</th>\n",
       "      <th>bp_II_in</th>\n",
       "      <th>bp_II_A_in</th>\n",
       "      <th>bp_II_B_in</th>\n",
       "      <th>bp_II_out</th>\n",
       "      <th>bp_II_B</th>\n",
       "      <th>bp_III</th>\n",
       "      <th>bp_IV</th>\n",
       "      <th>bp_V</th>\n",
       "    </tr>\n",
       "  </thead>\n",
       "  <tbody>\n",
       "    <tr>\n",
       "      <th>0</th>\n",
       "      <td>1595</td>\n",
       "      <td>CHK1</td>\n",
       "      <td>Human</td>\n",
       "      <td>121</td>\n",
       "      <td>2cgx</td>\n",
       "      <td></td>\n",
       "      <td>A</td>\n",
       "      <td>0.779</td>\n",
       "      <td>2.094</td>\n",
       "      <td>QTLGEGAYGEVQLVAVKIVNIKKEICINKMLNENVVKFYGHYLFLE...</td>\n",
       "      <td>...</td>\n",
       "      <td>False</td>\n",
       "      <td>False</td>\n",
       "      <td>False</td>\n",
       "      <td>False</td>\n",
       "      <td>False</td>\n",
       "      <td>False</td>\n",
       "      <td>False</td>\n",
       "      <td>False</td>\n",
       "      <td>False</td>\n",
       "      <td>False</td>\n",
       "    </tr>\n",
       "    <tr>\n",
       "      <th>1</th>\n",
       "      <td>2898</td>\n",
       "      <td>BTK</td>\n",
       "      <td>Human</td>\n",
       "      <td>473</td>\n",
       "      <td>4nwm</td>\n",
       "      <td>A</td>\n",
       "      <td>B</td>\n",
       "      <td>0.819</td>\n",
       "      <td>2.158</td>\n",
       "      <td>KELGTGQFGVVKYVAIKMIEFIEEAKVMMNLSEKLVQLYGVFIITE...</td>\n",
       "      <td>...</td>\n",
       "      <td>False</td>\n",
       "      <td>False</td>\n",
       "      <td>False</td>\n",
       "      <td>False</td>\n",
       "      <td>False</td>\n",
       "      <td>False</td>\n",
       "      <td>False</td>\n",
       "      <td>False</td>\n",
       "      <td>False</td>\n",
       "      <td>False</td>\n",
       "    </tr>\n",
       "    <tr>\n",
       "      <th>2</th>\n",
       "      <td>2903</td>\n",
       "      <td>BTK</td>\n",
       "      <td>Human</td>\n",
       "      <td>473</td>\n",
       "      <td>4nwm</td>\n",
       "      <td>B</td>\n",
       "      <td>B</td>\n",
       "      <td>0.819</td>\n",
       "      <td>2.158</td>\n",
       "      <td>KELGTGQFGVVKYVAIKMIEFIEEAKVMMNLSEKLVQLYGVFIITE...</td>\n",
       "      <td>...</td>\n",
       "      <td>False</td>\n",
       "      <td>False</td>\n",
       "      <td>False</td>\n",
       "      <td>False</td>\n",
       "      <td>False</td>\n",
       "      <td>False</td>\n",
       "      <td>False</td>\n",
       "      <td>False</td>\n",
       "      <td>False</td>\n",
       "      <td>False</td>\n",
       "    </tr>\n",
       "    <tr>\n",
       "      <th>3</th>\n",
       "      <td>2917</td>\n",
       "      <td>BTK</td>\n",
       "      <td>Human</td>\n",
       "      <td>473</td>\n",
       "      <td>4nwm</td>\n",
       "      <td>B</td>\n",
       "      <td>A</td>\n",
       "      <td>0.818</td>\n",
       "      <td>2.157</td>\n",
       "      <td>KELGTGQFGVVKYVAIKMIEFIEEAKVMMNLSEKLVQLYGVFIITE...</td>\n",
       "      <td>...</td>\n",
       "      <td>False</td>\n",
       "      <td>False</td>\n",
       "      <td>False</td>\n",
       "      <td>False</td>\n",
       "      <td>False</td>\n",
       "      <td>False</td>\n",
       "      <td>False</td>\n",
       "      <td>False</td>\n",
       "      <td>False</td>\n",
       "      <td>False</td>\n",
       "    </tr>\n",
       "    <tr>\n",
       "      <th>4</th>\n",
       "      <td>2930</td>\n",
       "      <td>BTK</td>\n",
       "      <td>Human</td>\n",
       "      <td>473</td>\n",
       "      <td>4nwm</td>\n",
       "      <td>A</td>\n",
       "      <td>A</td>\n",
       "      <td>0.818</td>\n",
       "      <td>2.157</td>\n",
       "      <td>KELGTGQFGVVKYVAIKMIEFIEEAKVMMNLSEKLVQLYGVFIITE...</td>\n",
       "      <td>...</td>\n",
       "      <td>False</td>\n",
       "      <td>False</td>\n",
       "      <td>False</td>\n",
       "      <td>False</td>\n",
       "      <td>False</td>\n",
       "      <td>False</td>\n",
       "      <td>False</td>\n",
       "      <td>False</td>\n",
       "      <td>False</td>\n",
       "      <td>False</td>\n",
       "    </tr>\n",
       "  </tbody>\n",
       "</table>\n",
       "<p>5 rows × 36 columns</p>\n",
       "</div>"
      ],
      "text/plain": [
       "   structure_ID kinase species  kinase_ID   pdb alt chain  rmsd1  rmsd2  \\\n",
       "0          1595   CHK1   Human        121  2cgx         A  0.779  2.094   \n",
       "1          2898    BTK   Human        473  4nwm   A     B  0.819  2.158   \n",
       "2          2903    BTK   Human        473  4nwm   B     B  0.819  2.158   \n",
       "3          2917    BTK   Human        473  4nwm   B     A  0.818  2.157   \n",
       "4          2930    BTK   Human        473  4nwm   A     A  0.818  2.157   \n",
       "\n",
       "                                              pocket  ...  bp_I_A  bp_I_B  \\\n",
       "0  QTLGEGAYGEVQLVAVKIVNIKKEICINKMLNENVVKFYGHYLFLE...  ...   False   False   \n",
       "1  KELGTGQFGVVKYVAIKMIEFIEEAKVMMNLSEKLVQLYGVFIITE...  ...   False   False   \n",
       "2  KELGTGQFGVVKYVAIKMIEFIEEAKVMMNLSEKLVQLYGVFIITE...  ...   False   False   \n",
       "3  KELGTGQFGVVKYVAIKMIEFIEEAKVMMNLSEKLVQLYGVFIITE...  ...   False   False   \n",
       "4  KELGTGQFGVVKYVAIKMIEFIEEAKVMMNLSEKLVQLYGVFIITE...  ...   False   False   \n",
       "\n",
       "   bp_II_in  bp_II_A_in bp_II_B_in  bp_II_out bp_II_B bp_III  bp_IV   bp_V  \n",
       "0     False       False      False      False   False  False  False  False  \n",
       "1     False       False      False      False   False  False  False  False  \n",
       "2     False       False      False      False   False  False  False  False  \n",
       "3     False       False      False      False   False  False  False  False  \n",
       "4     False       False      False      False   False  False  False  False  \n",
       "\n",
       "[5 rows x 36 columns]"
      ]
     },
     "execution_count": 23,
     "metadata": {},
     "output_type": "execute_result"
    }
   ],
   "source": [
    "structures = klifs.remote.structures.structures_from_pdb_id(adenines.complex_pdb.tolist())\n",
    "structures"
   ]
  },
  {
   "cell_type": "code",
   "execution_count": 24,
   "metadata": {},
   "outputs": [
    {
     "data": {
      "image/png": "[encoded data removed]",
      "text/plain": [
       "<rdkit.Chem.rdchem.Mol at 0x7f9e5f3f1a80>"
      ]
     },
     "execution_count": 24,
     "metadata": {},
     "output_type": "execute_result"
    }
   ],
   "source": [
    "mol = klifs.remote.coordinates.ligand.mol2_to_rdkit_mol(1595)\n",
    "AllChem.Compute2DCoords(mol)\n",
    "mol"
   ]
  },
  {
   "cell_type": "code",
   "execution_count": 25,
   "metadata": {},
   "outputs": [
    {
     "data": {
      "image/png": "[encoded data removed]",
      "text/plain": [
       "<rdkit.Chem.rdchem.Mol at 0x7f9e5e46ad50>"
      ]
     },
     "execution_count": 25,
     "metadata": {},
     "output_type": "execute_result"
    }
   ],
   "source": [
    "mol = klifs.remote.coordinates.ligand.mol2_to_rdkit_mol(2898)\n",
    "AllChem.Compute2DCoords(mol)\n",
    "mol"
   ]
  },
  {
   "cell_type": "markdown",
   "metadata": {},
   "source": [
    "## AP fragments similar to literature fragments \n",
    "\n",
    "Some literature fragments do not have extact matches with AP fragments but have high similarity to AP fragments.\n",
    "\n",
    "Here is a list of hand-picked similar AP fragments - draw molecules to file, since we need this for the manuscript appendix table."
   ]
  },
  {
   "cell_type": "code",
   "execution_count": 26,
   "metadata": {},
   "outputs": [],
   "source": [
    "similar_ap_ids = [3, 4, 10, 15]"
   ]
  },
  {
   "cell_type": "code",
   "execution_count": 27,
   "metadata": {},
   "outputs": [],
   "source": [
    "draw_smiles_to_files(\n",
    "    data_ap.iloc[similar_ap_ids].smiles.to_list(), \n",
    "    'ap_similar', \n",
    "    [4, 5, 11, 15],\n",
    "    'png', \n",
    "    PATH_TO_DATA / 'Media'\n",
    ")"
   ]
  }
 ],
 "metadata": {
  "kernelspec": {
   "display_name": "kffl",
   "language": "python",
   "name": "kffl"
  },
  "language_info": {
   "codemirror_mode": {
    "name": "ipython",
    "version": 3
   },
   "file_extension": ".py",
   "mimetype": "text/x-python",
   "name": "python",
   "nbconvert_exporter": "python",
   "pygments_lexer": "ipython3",
   "version": "3.6.8"
  }
 },
 "nbformat": 4,
 "nbformat_minor": 4
}
