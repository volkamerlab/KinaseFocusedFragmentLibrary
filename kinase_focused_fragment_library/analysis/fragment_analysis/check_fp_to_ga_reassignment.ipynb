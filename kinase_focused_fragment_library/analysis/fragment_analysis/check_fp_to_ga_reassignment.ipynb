{
 "cells": [
  {
   "cell_type": "code",
   "execution_count": 11,
   "metadata": {},
   "outputs": [],
   "source": [
    "import matplotlib.pyplot as plt\n",
    "import pandas as pd"
   ]
  },
  {
   "cell_type": "code",
   "execution_count": 9,
   "metadata": {},
   "outputs": [
    {
     "data": {
      "text/plain": [
       "15"
      ]
     },
     "execution_count": 9,
     "metadata": {},
     "output_type": "execute_result"
    }
   ],
   "source": [
    "distances = {\n",
    "    '4uyn': [ 4.6697299078467385 , 4.583376453239644 ],\n",
    "    '4uzd': [ 4.829461317363161 , 4.599990342812913 ],\n",
    "    '4qta': [ 4.444760285038815 , 4.339128888062931 ],\n",
    "    '5bue': [ 3.132810982719831 , 4.989043326450477 ],\n",
    "    '6g9d': [ 3.77503932773632 , 4.561293023913285 ],\n",
    "    '6g9h': [ 3.4920467940402613 , 4.8672876589464815 ],\n",
    "    '6g9j': [ 3.8969893262543476 , 4.401556892613774 ],\n",
    "    '6g9k': [ 3.801912123615459 , 4.555847805132791 ],\n",
    "    '6g9m': [ 3.2747603369355684 , 4.894922481358048 ],\n",
    "    '6g9n': [ 3.642984541675504 , 4.753418531397873 ],\n",
    "    '6ge0': [ 3.831878648390996 , 4.480635727073067 ],\n",
    "    '6gjd': [ 4.413621516073288 , 4.372183983293185 ],\n",
    "    '5w5q': [ 3.765392090946278 , 4.7280887214535 ],\n",
    "    '6e9w': [ 3.547758348992051 , 4.893358668147147 ],\n",
    "    '6ed6': [ 3.423821569528536 , 4.851324904346707 ]\n",
    "}\n",
    "\n",
    "len(distances)"
   ]
  },
  {
   "cell_type": "markdown",
   "metadata": {},
   "source": [
    "For each fragment that was reassigned from FP to GA:\n",
    "\n",
    "PDB, distance to FP, distance to GA"
   ]
  },
  {
   "cell_type": "code",
   "execution_count": 17,
   "metadata": {},
   "outputs": [
    {
     "data": {
      "text/html": [
       "<div>\n",
       "<style scoped>\n",
       "    .dataframe tbody tr th:only-of-type {\n",
       "        vertical-align: middle;\n",
       "    }\n",
       "\n",
       "    .dataframe tbody tr th {\n",
       "        vertical-align: top;\n",
       "    }\n",
       "\n",
       "    .dataframe thead th {\n",
       "        text-align: right;\n",
       "    }\n",
       "</style>\n",
       "<table border=\"1\" class=\"dataframe\">\n",
       "  <thead>\n",
       "    <tr style=\"text-align: right;\">\n",
       "      <th></th>\n",
       "      <th>FP</th>\n",
       "      <th>GA</th>\n",
       "    </tr>\n",
       "  </thead>\n",
       "  <tbody>\n",
       "    <tr>\n",
       "      <th>4uyn</th>\n",
       "      <td>4.669730</td>\n",
       "      <td>4.583376</td>\n",
       "    </tr>\n",
       "    <tr>\n",
       "      <th>4uzd</th>\n",
       "      <td>4.829461</td>\n",
       "      <td>4.599990</td>\n",
       "    </tr>\n",
       "    <tr>\n",
       "      <th>4qta</th>\n",
       "      <td>4.444760</td>\n",
       "      <td>4.339129</td>\n",
       "    </tr>\n",
       "    <tr>\n",
       "      <th>5bue</th>\n",
       "      <td>3.132811</td>\n",
       "      <td>4.989043</td>\n",
       "    </tr>\n",
       "    <tr>\n",
       "      <th>6g9d</th>\n",
       "      <td>3.775039</td>\n",
       "      <td>4.561293</td>\n",
       "    </tr>\n",
       "    <tr>\n",
       "      <th>6g9h</th>\n",
       "      <td>3.492047</td>\n",
       "      <td>4.867288</td>\n",
       "    </tr>\n",
       "    <tr>\n",
       "      <th>6g9j</th>\n",
       "      <td>3.896989</td>\n",
       "      <td>4.401557</td>\n",
       "    </tr>\n",
       "    <tr>\n",
       "      <th>6g9k</th>\n",
       "      <td>3.801912</td>\n",
       "      <td>4.555848</td>\n",
       "    </tr>\n",
       "    <tr>\n",
       "      <th>6g9m</th>\n",
       "      <td>3.274760</td>\n",
       "      <td>4.894922</td>\n",
       "    </tr>\n",
       "    <tr>\n",
       "      <th>6g9n</th>\n",
       "      <td>3.642985</td>\n",
       "      <td>4.753419</td>\n",
       "    </tr>\n",
       "    <tr>\n",
       "      <th>6ge0</th>\n",
       "      <td>3.831879</td>\n",
       "      <td>4.480636</td>\n",
       "    </tr>\n",
       "    <tr>\n",
       "      <th>6gjd</th>\n",
       "      <td>4.413622</td>\n",
       "      <td>4.372184</td>\n",
       "    </tr>\n",
       "    <tr>\n",
       "      <th>5w5q</th>\n",
       "      <td>3.765392</td>\n",
       "      <td>4.728089</td>\n",
       "    </tr>\n",
       "    <tr>\n",
       "      <th>6e9w</th>\n",
       "      <td>3.547758</td>\n",
       "      <td>4.893359</td>\n",
       "    </tr>\n",
       "    <tr>\n",
       "      <th>6ed6</th>\n",
       "      <td>3.423822</td>\n",
       "      <td>4.851325</td>\n",
       "    </tr>\n",
       "  </tbody>\n",
       "</table>\n",
       "</div>"
      ],
      "text/plain": [
       "            FP        GA\n",
       "4uyn  4.669730  4.583376\n",
       "4uzd  4.829461  4.599990\n",
       "4qta  4.444760  4.339129\n",
       "5bue  3.132811  4.989043\n",
       "6g9d  3.775039  4.561293\n",
       "6g9h  3.492047  4.867288\n",
       "6g9j  3.896989  4.401557\n",
       "6g9k  3.801912  4.555848\n",
       "6g9m  3.274760  4.894922\n",
       "6g9n  3.642985  4.753419\n",
       "6ge0  3.831879  4.480636\n",
       "6gjd  4.413622  4.372184\n",
       "5w5q  3.765392  4.728089\n",
       "6e9w  3.547758  4.893359\n",
       "6ed6  3.423822  4.851325"
      ]
     },
     "execution_count": 17,
     "metadata": {},
     "output_type": "execute_result"
    }
   ],
   "source": [
    "pd.DataFrame.from_dict(distances, orient='index', columns=['FP', 'GA'])"
   ]
  },
  {
   "cell_type": "code",
   "execution_count": 35,
   "metadata": {},
   "outputs": [
    {
     "data": {
      "text/plain": [
       "<matplotlib.legend.Legend at 0x7f33533894a8>"
      ]
     },
     "execution_count": 35,
     "metadata": {},
     "output_type": "execute_result"
    },
    {
     "data": {
      "image/png": "[encoded data removed]",
      "text/plain": [
       "<Figure size 432x288 with 1 Axes>"
      ]
     },
     "metadata": {
      "needs_background": "light"
     },
     "output_type": "display_data"
    }
   ],
   "source": [
    "plt.plot(list(distances.values()))\n",
    "plt.xticks(range(len(distances)), list(distances.keys()), rotation=90)\n",
    "plt.legend(['FP', 'GA'])"
   ]
  },
  {
   "cell_type": "code",
   "execution_count": null,
   "metadata": {},
   "outputs": [],
   "source": []
  }
 ],
 "metadata": {
  "kernelspec": {
   "display_name": "Python 3",
   "language": "python",
   "name": "python3"
  },
  "language_info": {
   "codemirror_mode": {
    "name": "ipython",
    "version": 3
   },
   "file_extension": ".py",
   "mimetype": "text/x-python",
   "name": "python",
   "nbconvert_exporter": "python",
   "pygments_lexer": "ipython3",
   "version": "3.6.8"
  }
 },
 "nbformat": 4,
 "nbformat_minor": 2
}
