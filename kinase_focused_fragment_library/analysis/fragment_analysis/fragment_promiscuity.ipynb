{
 "cells": [
  {
   "cell_type": "code",
   "execution_count": 13,
   "metadata": {},
   "outputs": [],
   "source": [
    "import glob\n",
    "from rdkit import Chem\n",
    "from rdkit.Chem import AllChem\n",
    "from rdkit.Chem import Draw\n",
    "from rdkit.Chem.Draw import IPythonConsole # Enables RDKit IPython integration\n",
    "from rdkit.Chem import PandasTools\n",
    "import seaborn as sns\n",
    "\n",
    "import pandas as pd\n",
    "import numpy as np\n",
    "import matplotlib.pyplot as plt\n",
    "import pandas as pd"
   ]
  },
  {
   "cell_type": "code",
   "execution_count": 14,
   "metadata": {},
   "outputs": [],
   "source": [
    "path_to_library = '/home/paula/Masterarbeit/FragmentLibrary/'\n",
    "\n",
    "# list of folders for each subpocket\n",
    "subpockets = ['AP', 'FP', 'SE', 'GA', 'B1', 'B2']\n",
    "folders = [path_to_library+subpocket for subpocket in subpockets]"
   ]
  },
  {
   "cell_type": "code",
   "execution_count": 16,
   "metadata": {},
   "outputs": [
    {
     "data": {
      "text/plain": [
       "(7201, 5)"
      ]
     },
     "execution_count": 16,
     "metadata": {},
     "output_type": "execute_result"
    }
   ],
   "source": [
    "# read data\n",
    "\n",
    "data = pd.DataFrame()\n",
    "\n",
    "# iterate over subpockets\n",
    "for i, folder in enumerate(folders):\n",
    "    \n",
    "    subpocket = subpockets[i]\n",
    "    \n",
    "    file = folder+'/'+subpocket+'.sdf' \n",
    "    df = pd.DataFrame()\n",
    "    suppl = Chem.SDMolSupplier(file, removeHs=False)\n",
    "        \n",
    "    fragments = []\n",
    "    smiles = []\n",
    "    groups = []\n",
    "    kinases = []\n",
    "\n",
    "    for frag in suppl:\n",
    "        # remove dummy atoms from fragments and create smiles\n",
    "        du = Chem.MolFromSmiles('*')\n",
    "        h = Chem.MolFromSmiles('[H]', sanitize=False)\n",
    "        fixed_frag = AllChem.ReplaceSubstructs(frag, du, h, replaceAll=True)[0]\n",
    "        fixed_frag = Chem.RemoveHs(fixed_frag)\n",
    "        s = Chem.MolToSmiles(fixed_frag)\n",
    "        fragments.append(fixed_frag)\n",
    "        # smiles for comparing fragments\n",
    "        smiles.append(s)\n",
    "        # kinase groups\n",
    "        groups.append(frag.GetProp('group'))\n",
    "        kinases.append(frag.GetProp('kinase'))\n",
    "      \n",
    "    df['smiles'] = smiles\n",
    "    df['fragment'] = fragments\n",
    "    df['subpocket'] = subpocket\n",
    "    df['group'] = groups\n",
    "    df['kinase'] = kinases\n",
    "    \n",
    "    data = data.append(df)\n",
    "    \n",
    "data = data.reset_index(drop=True)\n",
    "data.shape"
   ]
  },
  {
   "cell_type": "code",
   "execution_count": 17,
   "metadata": {},
   "outputs": [
    {
     "data": {
      "text/plain": [
       "array(['Other', 'TK', 'TKL', 'AGC', 'CMGC', 'CAMK', 'CK1', 'STE'],\n",
       "      dtype=object)"
      ]
     },
     "execution_count": 17,
     "metadata": {},
     "output_type": "execute_result"
    }
   ],
   "source": [
    "groups = data.group.unique()\n",
    "groups"
   ]
  },
  {
   "cell_type": "markdown",
   "metadata": {},
   "source": [
    "For each fragment (group by subpocket and smiles), find the number of kinases/kinase groups it is bound to."
   ]
  },
  {
   "cell_type": "code",
   "execution_count": 93,
   "metadata": {
    "scrolled": true
   },
   "outputs": [
    {
     "name": "stdout",
     "output_type": "stream",
     "text": [
      "Fragments with multiple occurrences:\n",
      "False    2003\n",
      "True      974\n",
      "Name: fragment, dtype: int64\n",
      "Fragments with multiple kinases assigned:\n",
      "True     605\n",
      "False    369\n",
      "Name: kinase, dtype: int64\n",
      "Fragments with multiple groups assigned:\n",
      "False    519\n",
      "True     455\n",
      "Name: group, dtype: int64\n"
     ]
    }
   ],
   "source": [
    "n_multi_frags = 0\n",
    "n_multi_kin = 0\n",
    "n_multi_groups = 0\n",
    "\n",
    "for subpocket in subpockets:\n",
    "    \n",
    "    # get data for this subpocket\n",
    "    ds = data[data.subpocket==subpocket]\n",
    "    # deduplicate based on SMILES\n",
    "    #dg = dg.drop_duplicates(['smiles', 'subpocket'])\n",
    "    \n",
    "    # count number of fragments per smiles (# occurrence of each fragment)\n",
    "    n_frags = ds.groupby('smiles').count()['fragment']\n",
    "    # count number of fragments that occur only once and that occur several times\n",
    "    n_multi_frags += (n_frags>1).value_counts()\n",
    "    # smiles of fragments occurring multiple times\n",
    "    multi_frags = n_frags[n_frags>1].index\n",
    "    \n",
    "    # data for only those multi fragments\n",
    "    ds_multi_frags = ds[ds.smiles.isin(multi_frags)]\n",
    "    \n",
    "    # group by smiles and count kinases and kinase groups bound to\n",
    "    promisc = ds_multi_frags.groupby('smiles').nunique()[['kinase', 'group']]\n",
    "    # count number of fragments with multiple kinases assigned\n",
    "    n_multi_kin += (promisc.kinase>1).value_counts()\n",
    "    # count number of fragments with multiple kinase groups assigned\n",
    "    n_multi_groups += (promisc.group>1).value_counts()\n",
    "\n",
    "print('Fragments with multiple occurrences:')\n",
    "print(n_multi_frags)\n",
    "print('Fragments with multiple kinases assigned:')\n",
    "print(n_multi_kin)\n",
    "print('Fragments with multiple groups assigned:')\n",
    "print(n_multi_groups)"
   ]
  },
  {
   "cell_type": "code",
   "execution_count": 95,
   "metadata": {},
   "outputs": [
    {
     "name": "stdout",
     "output_type": "stream",
     "text": [
      "Number of multiple occurring fragments that bind to multiple kinases:\n"
     ]
    },
    {
     "data": {
      "text/plain": [
       "0.6211498973305954"
      ]
     },
     "execution_count": 95,
     "metadata": {},
     "output_type": "execute_result"
    }
   ],
   "source": [
    "print('Number of multiple occurring fragments that bind to multiple kinases:')\n",
    "605/974"
   ]
  },
  {
   "cell_type": "code",
   "execution_count": 96,
   "metadata": {},
   "outputs": [
    {
     "name": "stdout",
     "output_type": "stream",
     "text": [
      "Number of multiple occurring fragments that bind to multiple groups:\n"
     ]
    },
    {
     "data": {
      "text/plain": [
       "0.4671457905544148"
      ]
     },
     "execution_count": 96,
     "metadata": {},
     "output_type": "execute_result"
    }
   ],
   "source": [
    "print('Number of multiple occurring fragments that bind to multiple groups:')\n",
    "455/974"
   ]
  },
  {
   "cell_type": "code",
   "execution_count": null,
   "metadata": {},
   "outputs": [],
   "source": []
  }
 ],
 "metadata": {
  "kernelspec": {
   "display_name": "Python 3",
   "language": "python",
   "name": "python3"
  },
  "language_info": {
   "codemirror_mode": {
    "name": "ipython",
    "version": 3
   },
   "file_extension": ".py",
   "mimetype": "text/x-python",
   "name": "python",
   "nbconvert_exporter": "python",
   "pygments_lexer": "ipython3",
   "version": "3.6.8"
  }
 },
 "nbformat": 4,
 "nbformat_minor": 2
}
