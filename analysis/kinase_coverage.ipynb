{
 "cells": [
  {
   "cell_type": "code",
   "execution_count": 4,
   "metadata": {},
   "outputs": [],
   "source": [
    "import glob\n",
    "from rdkit import Chem\n",
    "from rdkit.Chem import AllChem\n",
    "from rdkit.Chem import Draw\n",
    "from rdkit.Chem.Draw import IPythonConsole\n",
    "\n",
    "import pandas as pd\n",
    "import numpy as np\n",
    "import matplotlib.pyplot as plt"
   ]
  },
  {
   "cell_type": "code",
   "execution_count": 5,
   "metadata": {},
   "outputs": [
    {
     "data": {
      "text/plain": [
       "['FP', 'B2', 'AP', 'SE', 'B1', 'GA']"
      ]
     },
     "execution_count": 5,
     "metadata": {},
     "output_type": "execute_result"
    }
   ],
   "source": [
    "path_to_library = '../FragmentLibrary'\n",
    "\n",
    "# list of folders for each subpocket\n",
    "folders = glob.glob(path_to_library+'/*')\n",
    "subpockets = [folder[-2:] for folder in folders]\n",
    "subpockets"
   ]
  },
  {
   "cell_type": "code",
   "execution_count": 6,
   "metadata": {},
   "outputs": [
    {
     "data": {
      "text/plain": [
       "(7475, 6)"
      ]
     },
     "execution_count": 6,
     "metadata": {},
     "output_type": "execute_result"
    }
   ],
   "source": [
    "# read data\n",
    "\n",
    "data = pd.DataFrame()\n",
    "\n",
    "# iterate over subpockets\n",
    "for i, folder in enumerate(folders):\n",
    "    \n",
    "    subpocket = subpockets[i]\n",
    "    \n",
    "    file = folder+'/'+subpocket+'.sdf' \n",
    "    df = pd.DataFrame()\n",
    "    suppl = Chem.SDMolSupplier(file, removeHs=False)\n",
    "        \n",
    "    fragments = []\n",
    "    smiles = []\n",
    "    groups = []\n",
    "    families = []\n",
    "    kinases = []\n",
    "\n",
    "    for frag in suppl:\n",
    "        \n",
    "        # delete dummy atoms\n",
    "        du = Chem.MolFromSmiles('*')\n",
    "        h = Chem.MolFromSmiles('[H]', sanitize=False)\n",
    "        fixed_frag = AllChem.ReplaceSubstructs(frag, du, h, replaceAll=True)[0]\n",
    "        fixed_frag = Chem.RemoveHs(fixed_frag)\n",
    "        # remove duplicates based on smiles\n",
    "        #if s in smiles:\n",
    "        #    continue\n",
    "        s = Chem.MolToSmiles(fixed_frag)\n",
    "        smiles.append(s)\n",
    "        fragments.append(Chem.MolFromSmiles(s))\n",
    "        \n",
    "        groups.append(frag.GetProp('group'))\n",
    "        families.append(frag.GetProp('family'))\n",
    "        kinases.append(frag.GetProp('kinase'))\n",
    "    \n",
    "    df['fragment'] = fragments\n",
    "    df['smiles'] = smiles\n",
    "    df['subpocket'] = subpocket\n",
    "    df['group'] = groups\n",
    "    df['family'] = families\n",
    "    df['kinase'] = kinases\n",
    "    \n",
    "    data = data.append(df)\n",
    "    \n",
    "data = data.reset_index(drop=True)\n",
    "data.shape"
   ]
  },
  {
   "cell_type": "code",
   "execution_count": 7,
   "metadata": {},
   "outputs": [],
   "source": [
    "df_AP = data[data.subpocket=='AP']\n",
    "df_FP = data[data.subpocket=='FP']\n",
    "df_SE = data[data.subpocket=='SE']\n",
    "df_GA = data[data.subpocket=='GA']\n",
    "df_B1 = data[data.subpocket=='B1']\n",
    "df_B2 = data[data.subpocket=='B2']"
   ]
  },
  {
   "cell_type": "code",
   "execution_count": 8,
   "metadata": {},
   "outputs": [
    {
     "data": {
      "text/plain": [
       "(1234, 6)"
      ]
     },
     "execution_count": 8,
     "metadata": {},
     "output_type": "execute_result"
    }
   ],
   "source": [
    "df_AP.drop_duplicates(subset='smiles').shape"
   ]
  },
  {
   "cell_type": "code",
   "execution_count": 9,
   "metadata": {},
   "outputs": [
    {
     "data": {
      "text/plain": [
       "1234"
      ]
     },
     "execution_count": 9,
     "metadata": {},
     "output_type": "execute_result"
    }
   ],
   "source": [
    "df_AP.smiles.nunique()"
   ]
  },
  {
   "cell_type": "code",
   "execution_count": 10,
   "metadata": {},
   "outputs": [
    {
     "data": {
      "text/plain": [
       "array(['Other', 'TK', 'TKL', 'AGC', 'CMGC', 'CAMK', 'CK1', 'STE',\n",
       "       'Atypical'], dtype=object)"
      ]
     },
     "execution_count": 10,
     "metadata": {},
     "output_type": "execute_result"
    }
   ],
   "source": [
    "groups = df_AP.group.unique()\n",
    "groups"
   ]
  },
  {
   "cell_type": "markdown",
   "metadata": {},
   "source": [
    "Calculate number of fragments and unique fragments per kinase group per subpocket."
   ]
  },
  {
   "cell_type": "code",
   "execution_count": 11,
   "metadata": {},
   "outputs": [],
   "source": [
    "n_frags = {}\n",
    "n_unique_frags = {}\n",
    "\n",
    "for subpocket in subpockets:\n",
    "    \n",
    "    df = data[data.subpocket==subpocket]\n",
    "    \n",
    "    n_frags_group = {}\n",
    "    n_unique_frags_group = {}\n",
    "    \n",
    "    for group in groups:\n",
    "        \n",
    "        df_group = df[df.group==group]\n",
    "        n = df_group.shape[0]\n",
    "        n_unique = df_group.smiles.nunique()\n",
    "        \n",
    "        n_frags_group[group] = n\n",
    "        n_unique_frags_group[group] = n_unique\n",
    "        \n",
    "    n_frags[subpocket] = n_frags_group\n",
    "    n_unique_frags[subpocket] = n_unique_frags_group\n"
   ]
  },
  {
   "cell_type": "code",
   "execution_count": 12,
   "metadata": {},
   "outputs": [],
   "source": [
    "n_frags = pd.DataFrame(data=n_frags)\n",
    "n_frags.loc[\"Total\"] = n_frags.sum(axis=0)\n",
    "n_frags[\"Total\"] = n_frags.sum(axis=1)"
   ]
  },
  {
   "cell_type": "code",
   "execution_count": 13,
   "metadata": {},
   "outputs": [],
   "source": [
    "n_unique_frags = pd.DataFrame(data=n_unique_frags)\n",
    "n_unique_frags.loc[\"Total\"] = n_unique_frags.sum(axis=0)\n",
    "n_unique_frags[\"Total\"] = n_unique_frags.sum(axis=1)"
   ]
  },
  {
   "cell_type": "code",
   "execution_count": 14,
   "metadata": {},
   "outputs": [
    {
     "data": {
      "text/html": [
       "<div>\n",
       "<style scoped>\n",
       "    .dataframe tbody tr th:only-of-type {\n",
       "        vertical-align: middle;\n",
       "    }\n",
       "\n",
       "    .dataframe tbody tr th {\n",
       "        vertical-align: top;\n",
       "    }\n",
       "\n",
       "    .dataframe thead th {\n",
       "        text-align: right;\n",
       "    }\n",
       "</style>\n",
       "<table border=\"1\" class=\"dataframe\">\n",
       "  <thead>\n",
       "    <tr style=\"text-align: right;\">\n",
       "      <th></th>\n",
       "      <th></th>\n",
       "      <th>AP</th>\n",
       "      <th>B1</th>\n",
       "      <th>B2</th>\n",
       "      <th>FP</th>\n",
       "      <th>GA</th>\n",
       "      <th>SE</th>\n",
       "      <th>Total</th>\n",
       "    </tr>\n",
       "  </thead>\n",
       "  <tbody>\n",
       "    <tr>\n",
       "      <th rowspan=\"2\" valign=\"top\">AGC</th>\n",
       "      <th>All</th>\n",
       "      <td>146</td>\n",
       "      <td>0</td>\n",
       "      <td>63</td>\n",
       "      <td>121</td>\n",
       "      <td>36</td>\n",
       "      <td>16</td>\n",
       "      <td>382</td>\n",
       "    </tr>\n",
       "    <tr>\n",
       "      <th>Unique</th>\n",
       "      <td>82</td>\n",
       "      <td>0</td>\n",
       "      <td>38</td>\n",
       "      <td>88</td>\n",
       "      <td>18</td>\n",
       "      <td>12</td>\n",
       "      <td>238</td>\n",
       "    </tr>\n",
       "    <tr>\n",
       "      <th rowspan=\"2\" valign=\"top\">Atypical</th>\n",
       "      <th>All</th>\n",
       "      <td>136</td>\n",
       "      <td>0</td>\n",
       "      <td>1</td>\n",
       "      <td>61</td>\n",
       "      <td>113</td>\n",
       "      <td>39</td>\n",
       "      <td>350</td>\n",
       "    </tr>\n",
       "    <tr>\n",
       "      <th>Unique</th>\n",
       "      <td>97</td>\n",
       "      <td>0</td>\n",
       "      <td>1</td>\n",
       "      <td>44</td>\n",
       "      <td>67</td>\n",
       "      <td>30</td>\n",
       "      <td>239</td>\n",
       "    </tr>\n",
       "    <tr>\n",
       "      <th rowspan=\"2\" valign=\"top\">CAMK</th>\n",
       "      <th>All</th>\n",
       "      <td>359</td>\n",
       "      <td>2</td>\n",
       "      <td>15</td>\n",
       "      <td>209</td>\n",
       "      <td>158</td>\n",
       "      <td>148</td>\n",
       "      <td>891</td>\n",
       "    </tr>\n",
       "    <tr>\n",
       "      <th>Unique</th>\n",
       "      <td>269</td>\n",
       "      <td>2</td>\n",
       "      <td>14</td>\n",
       "      <td>129</td>\n",
       "      <td>83</td>\n",
       "      <td>98</td>\n",
       "      <td>595</td>\n",
       "    </tr>\n",
       "    <tr>\n",
       "      <th rowspan=\"2\" valign=\"top\">CK1</th>\n",
       "      <th>All</th>\n",
       "      <td>48</td>\n",
       "      <td>0</td>\n",
       "      <td>0</td>\n",
       "      <td>23</td>\n",
       "      <td>32</td>\n",
       "      <td>19</td>\n",
       "      <td>122</td>\n",
       "    </tr>\n",
       "    <tr>\n",
       "      <th>Unique</th>\n",
       "      <td>39</td>\n",
       "      <td>0</td>\n",
       "      <td>0</td>\n",
       "      <td>18</td>\n",
       "      <td>11</td>\n",
       "      <td>13</td>\n",
       "      <td>81</td>\n",
       "    </tr>\n",
       "    <tr>\n",
       "      <th rowspan=\"2\" valign=\"top\">CMGC</th>\n",
       "      <th>All</th>\n",
       "      <td>776</td>\n",
       "      <td>12</td>\n",
       "      <td>89</td>\n",
       "      <td>505</td>\n",
       "      <td>308</td>\n",
       "      <td>444</td>\n",
       "      <td>2134</td>\n",
       "    </tr>\n",
       "    <tr>\n",
       "      <th>Unique</th>\n",
       "      <td>413</td>\n",
       "      <td>8</td>\n",
       "      <td>40</td>\n",
       "      <td>280</td>\n",
       "      <td>153</td>\n",
       "      <td>189</td>\n",
       "      <td>1083</td>\n",
       "    </tr>\n",
       "    <tr>\n",
       "      <th rowspan=\"2\" valign=\"top\">Other</th>\n",
       "      <th>All</th>\n",
       "      <td>244</td>\n",
       "      <td>7</td>\n",
       "      <td>18</td>\n",
       "      <td>172</td>\n",
       "      <td>87</td>\n",
       "      <td>200</td>\n",
       "      <td>728</td>\n",
       "    </tr>\n",
       "    <tr>\n",
       "      <th>Unique</th>\n",
       "      <td>139</td>\n",
       "      <td>7</td>\n",
       "      <td>10</td>\n",
       "      <td>87</td>\n",
       "      <td>45</td>\n",
       "      <td>110</td>\n",
       "      <td>398</td>\n",
       "    </tr>\n",
       "    <tr>\n",
       "      <th rowspan=\"2\" valign=\"top\">STE</th>\n",
       "      <th>All</th>\n",
       "      <td>110</td>\n",
       "      <td>11</td>\n",
       "      <td>10</td>\n",
       "      <td>56</td>\n",
       "      <td>61</td>\n",
       "      <td>68</td>\n",
       "      <td>316</td>\n",
       "    </tr>\n",
       "    <tr>\n",
       "      <th>Unique</th>\n",
       "      <td>71</td>\n",
       "      <td>9</td>\n",
       "      <td>8</td>\n",
       "      <td>41</td>\n",
       "      <td>40</td>\n",
       "      <td>50</td>\n",
       "      <td>219</td>\n",
       "    </tr>\n",
       "    <tr>\n",
       "      <th rowspan=\"2\" valign=\"top\">TK</th>\n",
       "      <th>All</th>\n",
       "      <td>680</td>\n",
       "      <td>53</td>\n",
       "      <td>49</td>\n",
       "      <td>552</td>\n",
       "      <td>300</td>\n",
       "      <td>486</td>\n",
       "      <td>2120</td>\n",
       "    </tr>\n",
       "    <tr>\n",
       "      <th>Unique</th>\n",
       "      <td>318</td>\n",
       "      <td>20</td>\n",
       "      <td>25</td>\n",
       "      <td>305</td>\n",
       "      <td>104</td>\n",
       "      <td>262</td>\n",
       "      <td>1034</td>\n",
       "    </tr>\n",
       "    <tr>\n",
       "      <th rowspan=\"2\" valign=\"top\">TKL</th>\n",
       "      <th>All</th>\n",
       "      <td>141</td>\n",
       "      <td>32</td>\n",
       "      <td>1</td>\n",
       "      <td>83</td>\n",
       "      <td>107</td>\n",
       "      <td>68</td>\n",
       "      <td>432</td>\n",
       "    </tr>\n",
       "    <tr>\n",
       "      <th>Unique</th>\n",
       "      <td>88</td>\n",
       "      <td>14</td>\n",
       "      <td>1</td>\n",
       "      <td>56</td>\n",
       "      <td>55</td>\n",
       "      <td>49</td>\n",
       "      <td>263</td>\n",
       "    </tr>\n",
       "    <tr>\n",
       "      <th rowspan=\"2\" valign=\"top\">Total</th>\n",
       "      <th>All</th>\n",
       "      <td>2640</td>\n",
       "      <td>117</td>\n",
       "      <td>246</td>\n",
       "      <td>1782</td>\n",
       "      <td>1202</td>\n",
       "      <td>1488</td>\n",
       "      <td>7475</td>\n",
       "    </tr>\n",
       "    <tr>\n",
       "      <th>Unique</th>\n",
       "      <td>1516</td>\n",
       "      <td>60</td>\n",
       "      <td>137</td>\n",
       "      <td>1048</td>\n",
       "      <td>576</td>\n",
       "      <td>813</td>\n",
       "      <td>4150</td>\n",
       "    </tr>\n",
       "  </tbody>\n",
       "</table>\n",
       "</div>"
      ],
      "text/plain": [
       "                   AP   B1   B2    FP    GA    SE  Total\n",
       "AGC      All      146    0   63   121    36    16    382\n",
       "         Unique    82    0   38    88    18    12    238\n",
       "Atypical All      136    0    1    61   113    39    350\n",
       "         Unique    97    0    1    44    67    30    239\n",
       "CAMK     All      359    2   15   209   158   148    891\n",
       "         Unique   269    2   14   129    83    98    595\n",
       "CK1      All       48    0    0    23    32    19    122\n",
       "         Unique    39    0    0    18    11    13     81\n",
       "CMGC     All      776   12   89   505   308   444   2134\n",
       "         Unique   413    8   40   280   153   189   1083\n",
       "Other    All      244    7   18   172    87   200    728\n",
       "         Unique   139    7   10    87    45   110    398\n",
       "STE      All      110   11   10    56    61    68    316\n",
       "         Unique    71    9    8    41    40    50    219\n",
       "TK       All      680   53   49   552   300   486   2120\n",
       "         Unique   318   20   25   305   104   262   1034\n",
       "TKL      All      141   32    1    83   107    68    432\n",
       "         Unique    88   14    1    56    55    49    263\n",
       "Total    All     2640  117  246  1782  1202  1488   7475\n",
       "         Unique  1516   60  137  1048   576   813   4150"
      ]
     },
     "execution_count": 14,
     "metadata": {},
     "output_type": "execute_result"
    }
   ],
   "source": [
    "df_n_frags = pd.concat([n_frags,n_unique_frags], axis=1, keys=['All', 'Unique'])\n",
    "df_n_frags.stack(0)"
   ]
  },
  {
   "cell_type": "code",
   "execution_count": 15,
   "metadata": {},
   "outputs": [],
   "source": [
    "groups = df_AP.group.unique()"
   ]
  },
  {
   "cell_type": "code",
   "execution_count": 16,
   "metadata": {},
   "outputs": [
    {
     "name": "stdout",
     "output_type": "stream",
     "text": [
      "Other 398\n",
      "TK 1034\n",
      "TKL 263\n",
      "AGC 238\n",
      "CMGC 1083\n",
      "CAMK 595\n",
      "CK1 81\n",
      "STE 219\n",
      "Atypical 239\n"
     ]
    }
   ],
   "source": [
    "# unique fragments per group per subpocket\n",
    "for group in groups:\n",
    "    \n",
    "    df = data[data.group==group]\n",
    "    n = 0\n",
    "    \n",
    "    for subpocket in subpockets:\n",
    "        \n",
    "        n_s = df[df.subpocket==subpocket].smiles.nunique()\n",
    "        n += n_s\n",
    "    \n",
    "    print(group, n)"
   ]
  },
  {
   "cell_type": "code",
   "execution_count": null,
   "metadata": {},
   "outputs": [],
   "source": []
  }
 ],
 "metadata": {
  "kernelspec": {
   "display_name": "Python 3",
   "language": "python",
   "name": "python3"
  },
  "language_info": {
   "codemirror_mode": {
    "name": "ipython",
    "version": 3
   },
   "file_extension": ".py",
   "mimetype": "text/x-python",
   "name": "python",
   "nbconvert_exporter": "python",
   "pygments_lexer": "ipython3",
   "version": "3.6.8"
  }
 },
 "nbformat": 4,
 "nbformat_minor": 2
}
