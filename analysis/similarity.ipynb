{
 "cells": [
  {
   "cell_type": "code",
   "execution_count": 26,
   "metadata": {},
   "outputs": [],
   "source": [
    "import glob\n",
    "from rdkit import Chem\n",
    "from rdkit.Chem import AllChem\n",
    "from rdkit.Chem import Draw\n",
    "from rdkit import DataStructs\n",
    "from rdkit.Chem import rdFingerprintGenerator\n",
    "from rdkit.Chem.Draw import IPythonConsole # Enables RDKit IPython integration\n",
    "\n",
    "import numpy as np\n",
    "import matplotlib.pyplot as plt\n",
    "import pandas as pd"
   ]
  },
  {
   "cell_type": "code",
   "execution_count": 12,
   "metadata": {},
   "outputs": [
    {
     "data": {
      "text/plain": [
       "['FP', 'B2', 'AP', 'SE', 'B1', 'GA']"
      ]
     },
     "execution_count": 12,
     "metadata": {},
     "output_type": "execute_result"
    }
   ],
   "source": [
    "path_to_library = '/home/paula/Masterarbeit/KinaseFocusedFragmentLibrary/FragmentLibrary'\n",
    "\n",
    "# list of folders for each subpocket\n",
    "folders = glob.glob(path_to_library+'/*')\n",
    "subpockets = [folder[-2:] for folder in folders]\n",
    "subpockets"
   ]
  },
  {
   "cell_type": "code",
   "execution_count": 94,
   "metadata": {},
   "outputs": [],
   "source": [
    "# iterate over subpockets\n",
    "\n",
    "data = [] # [[(frag, fp, kinase), (frag, fp, kinase), ...],[...]]\n",
    "n_frags = {}\n",
    "\n",
    "rdkit_gen = rdFingerprintGenerator.GetRDKitFPGenerator(maxPath=5)\n",
    "\n",
    "for i, folder in enumerate(folders):\n",
    "    \n",
    "    subpocket = subpockets[i]\n",
    "    frag_smiles = []\n",
    "    data_sb = []\n",
    "    #print(subpocket)\n",
    "    \n",
    "    files = glob.glob(folder+'/*.sdf')\n",
    "    kinases = []\n",
    "    # iterate over kinases\n",
    "    for file in files:\n",
    "        \n",
    "        fragments = [f for f in Chem.SDMolSupplier(file)]\n",
    "        # kinase that the fragments correspond to\n",
    "        kinase = file.split('/')[-1].split('.')[0]\n",
    "        \n",
    "        # count fragments per kinase\n",
    "        if kinase in n_frags:\n",
    "            n_frags[kinase] += len(fragments)\n",
    "        else:\n",
    "            n_frags[kinase] = len(fragments)\n",
    "        \n",
    "        # all fragments for this kinase\n",
    "        for f, frag in enumerate(fragments):\n",
    "            # remove dummy atoms from fragments and create smiles\n",
    "            du = Chem.MolFromSmiles('*')\n",
    "            h = Chem.MolFromSmiles('[H]', sanitize=False)\n",
    "            fixed_frag = AllChem.ReplaceSubstructs(frag, du, h, replaceAll=True)[0]\n",
    "            fixed_frag = Chem.RemoveHs(fixed_frag)\n",
    "            fragments[f] = fixed_frag\n",
    "            # smiles for drawing fragment\n",
    "            frag_smiles.append(Chem.MolToSmiles(fixed_frag))\n",
    "            # fingerprint of fragment\n",
    "            fp = rdkit_gen.GetFingerprint(fixed_frag)\n",
    "            \n",
    "            data_sb.append((fixed_frag, fp, kinase))\n",
    "            \n",
    "    data.append(data_sb)"
   ]
  },
  {
   "cell_type": "code",
   "execution_count": 98,
   "metadata": {},
   "outputs": [
    {
     "name": "stdout",
     "output_type": "stream",
     "text": [
      "0.1413586026997841\n"
     ]
    },
    {
     "data": {
      "text/html": [
       "<div>\n",
       "<style scoped>\n",
       "    .dataframe tbody tr th:only-of-type {\n",
       "        vertical-align: middle;\n",
       "    }\n",
       "\n",
       "    .dataframe tbody tr th {\n",
       "        vertical-align: top;\n",
       "    }\n",
       "\n",
       "    .dataframe thead th {\n",
       "        text-align: right;\n",
       "    }\n",
       "</style>\n",
       "<table border=\"1\" class=\"dataframe\">\n",
       "  <thead>\n",
       "    <tr style=\"text-align: right;\">\n",
       "      <th></th>\n",
       "      <th>number of fragments</th>\n",
       "      <th>mean similarity</th>\n",
       "      <th>similar fragment pairs</th>\n",
       "    </tr>\n",
       "  </thead>\n",
       "  <tbody>\n",
       "    <tr>\n",
       "      <th>AP</th>\n",
       "      <td>2670.0</td>\n",
       "      <td>0.175561</td>\n",
       "      <td>0.003991</td>\n",
       "    </tr>\n",
       "    <tr>\n",
       "      <th>B1</th>\n",
       "      <td>112.0</td>\n",
       "      <td>0.184452</td>\n",
       "      <td>0.074485</td>\n",
       "    </tr>\n",
       "    <tr>\n",
       "      <th>B2</th>\n",
       "      <td>245.0</td>\n",
       "      <td>0.116487</td>\n",
       "      <td>0.018501</td>\n",
       "    </tr>\n",
       "    <tr>\n",
       "      <th>FP</th>\n",
       "      <td>1811.0</td>\n",
       "      <td>0.099723</td>\n",
       "      <td>0.005170</td>\n",
       "    </tr>\n",
       "    <tr>\n",
       "      <th>GA</th>\n",
       "      <td>1202.0</td>\n",
       "      <td>0.142869</td>\n",
       "      <td>0.009124</td>\n",
       "    </tr>\n",
       "    <tr>\n",
       "      <th>SE</th>\n",
       "      <td>1487.0</td>\n",
       "      <td>0.129060</td>\n",
       "      <td>0.008635</td>\n",
       "    </tr>\n",
       "  </tbody>\n",
       "</table>\n",
       "</div>"
      ],
      "text/plain": [
       "    number of fragments  mean similarity  similar fragment pairs\n",
       "AP               2670.0         0.175561                0.003991\n",
       "B1                112.0         0.184452                0.074485\n",
       "B2                245.0         0.116487                0.018501\n",
       "FP               1811.0         0.099723                0.005170\n",
       "GA               1202.0         0.142869                0.009124\n",
       "SE               1487.0         0.129060                0.008635"
      ]
     },
     "execution_count": 98,
     "metadata": {},
     "output_type": "execute_result"
    }
   ],
   "source": [
    "# mean similarity per subpocket\n",
    "cutoff = 0.85\n",
    "means = {}\n",
    "n_frags_sp = {}\n",
    "dups = {}\n",
    "for sp, subpocket in enumerate(subpockets):\n",
    "\n",
    "    mean = 0\n",
    "    count = 0\n",
    "    dup = 0\n",
    "    \n",
    "    n_frags_sp[subpocket] = 0\n",
    "    for i, frag1 in enumerate(data[sp]):\n",
    "        n_frags_sp[subpocket] += 1\n",
    "        for j, frag2 in enumerate(data[sp]):\n",
    "            # do not compare the very same fragment\n",
    "            if i < j:\n",
    "                sim = DataStructs.FingerprintSimilarity(frag1[1],frag2[1]) # tanimoto similarity\n",
    "                mean += sim\n",
    "                count += 1\n",
    "                if sim >= cutoff:\n",
    "                    dup += 1\n",
    "                    \n",
    "    means[subpocket] = mean/count\n",
    "    dups[subpocket] = dup/count\n",
    "    \n",
    "# convert to pandas df for displaying\n",
    "df = pd.DataFrame([n_frags_sp, means, dups]).T\n",
    "df.columns = ['number of fragments', 'mean similarity', 'similar fragment pairs']\n",
    "print(np.mean(df['mean similarity']))\n",
    "df     "
   ]
  },
  {
   "cell_type": "code",
   "execution_count": 108,
   "metadata": {},
   "outputs": [
    {
     "name": "stdout",
     "output_type": "stream",
     "text": [
      "0.2806726893700995\n"
     ]
    }
   ],
   "source": [
    "# mean similarity per kinase (per subpocket)\n",
    "cutoff = 0.85\n",
    "means = {}\n",
    "counts = {}\n",
    "dups = {}\n",
    "for sp, subpocket in enumerate(subpockets):\n",
    "    for i, frag1 in enumerate(data[sp]):\n",
    "        for j, frag2 in enumerate(data[sp]):\n",
    "            # if fragments belong to the same kinase\n",
    "            if i < j and frag1[2] == frag2[2]:\n",
    "                kinase = frag1[2]\n",
    "                sim = DataStructs.FingerprintSimilarity(frag1[1],frag2[1]) # tanimoto similarity\n",
    "                # if kinase is already in dict, update\n",
    "                if kinase in means:\n",
    "                    means[kinase] += sim\n",
    "                    counts[kinase] += 1\n",
    "                    if sim >= cutoff:\n",
    "                        dups[kinase] += 1\n",
    "                # else make new entry\n",
    "                else:\n",
    "                    means[kinase] = sim\n",
    "                    counts[kinase] = 1\n",
    "                    if sim >= cutoff:\n",
    "                        dups[kinase] = 1\n",
    "                    else:\n",
    "                        dups[kinase] = 0\n",
    "            \n",
    "\n",
    "# calculate means\n",
    "for kinase in sorted(means.keys()):\n",
    "    means[kinase] = means[kinase]/counts[kinase] \n",
    "    dups[kinase] = dups[kinase]/counts[kinase]\n",
    "\n",
    "# convert to pandas df for displaying\n",
    "df = pd.DataFrame([n_frags, means, dups]).T\n",
    "df.columns = ['number of fragments', 'mean similarity', 'similar fragment pairs']\n",
    "print(np.mean(df['mean similarity']))\n",
    "#df      "
   ]
  },
  {
   "cell_type": "code",
   "execution_count": 109,
   "metadata": {},
   "outputs": [
    {
     "data": {
      "text/html": [
       "<div>\n",
       "<style scoped>\n",
       "    .dataframe tbody tr th:only-of-type {\n",
       "        vertical-align: middle;\n",
       "    }\n",
       "\n",
       "    .dataframe tbody tr th {\n",
       "        vertical-align: top;\n",
       "    }\n",
       "\n",
       "    .dataframe thead th {\n",
       "        text-align: right;\n",
       "    }\n",
       "</style>\n",
       "<table border=\"1\" class=\"dataframe\">\n",
       "  <thead>\n",
       "    <tr style=\"text-align: right;\">\n",
       "      <th></th>\n",
       "      <th>number of fragments</th>\n",
       "      <th>mean similarity</th>\n",
       "      <th>similar fragment pairs</th>\n",
       "    </tr>\n",
       "  </thead>\n",
       "  <tbody>\n",
       "    <tr>\n",
       "      <th>BRAF</th>\n",
       "      <td>126.0</td>\n",
       "      <td>0.306001</td>\n",
       "      <td>0.091200</td>\n",
       "    </tr>\n",
       "    <tr>\n",
       "      <th>CDK2</th>\n",
       "      <td>820.0</td>\n",
       "      <td>0.166435</td>\n",
       "      <td>0.023304</td>\n",
       "    </tr>\n",
       "    <tr>\n",
       "      <th>EGFR</th>\n",
       "      <td>322.0</td>\n",
       "      <td>0.228091</td>\n",
       "      <td>0.041522</td>\n",
       "    </tr>\n",
       "    <tr>\n",
       "      <th>p38a</th>\n",
       "      <td>290.0</td>\n",
       "      <td>0.230423</td>\n",
       "      <td>0.038579</td>\n",
       "    </tr>\n",
       "  </tbody>\n",
       "</table>\n",
       "</div>"
      ],
      "text/plain": [
       "      number of fragments  mean similarity  similar fragment pairs\n",
       "BRAF                126.0         0.306001                0.091200\n",
       "CDK2                820.0         0.166435                0.023304\n",
       "EGFR                322.0         0.228091                0.041522\n",
       "p38a                290.0         0.230423                0.038579"
      ]
     },
     "execution_count": 109,
     "metadata": {},
     "output_type": "execute_result"
    }
   ],
   "source": [
    "df.loc[['BRAF','CDK2','EGFR','p38a']]"
   ]
  },
  {
   "cell_type": "code",
   "execution_count": 110,
   "metadata": {},
   "outputs": [],
   "source": [
    "# promiscuity assessment\n",
    "# How similar are fragments across kinases?\n"
   ]
  },
  {
   "cell_type": "code",
   "execution_count": null,
   "metadata": {},
   "outputs": [],
   "source": []
  }
 ],
 "metadata": {
  "kernelspec": {
   "display_name": "Python 3",
   "language": "python",
   "name": "python3"
  },
  "language_info": {
   "codemirror_mode": {
    "name": "ipython",
    "version": 3
   },
   "file_extension": ".py",
   "mimetype": "text/x-python",
   "name": "python",
   "nbconvert_exporter": "python",
   "pygments_lexer": "ipython3",
   "version": "3.6.8"
  }
 },
 "nbformat": 4,
 "nbformat_minor": 2
}
