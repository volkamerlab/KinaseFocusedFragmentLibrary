{
 "cells": [
  {
   "cell_type": "code",
   "execution_count": 1,
   "metadata": {},
   "outputs": [],
   "source": [
    "import glob\n",
    "from rdkit import Chem\n",
    "from rdkit.Chem import AllChem\n",
    "from rdkit.Chem import Draw\n",
    "from rdkit import DataStructs\n",
    "from rdkit.Chem import rdFingerprintGenerator\n",
    "from rdkit.Chem.Draw import IPythonConsole # Enables RDKit IPython integration\n",
    "from rdkit.Chem import PandasTools\n",
    "\n",
    "import pandas as pd\n",
    "import numpy as np\n",
    "import matplotlib.pyplot as plt\n",
    "import pandas as pd"
   ]
  },
  {
   "cell_type": "code",
   "execution_count": 2,
   "metadata": {},
   "outputs": [
    {
     "data": {
      "text/plain": [
       "['FP', 'B2', 'AP', 'SE', 'B1', 'GA']"
      ]
     },
     "execution_count": 2,
     "metadata": {},
     "output_type": "execute_result"
    }
   ],
   "source": [
    "path_to_library = '../FragmentLibrary'\n",
    "\n",
    "# list of folders for each subpocket\n",
    "folders = glob.glob(path_to_library+'/*')\n",
    "subpockets = [folder[-2:] for folder in folders]\n",
    "subpockets"
   ]
  },
  {
   "cell_type": "code",
   "execution_count": 84,
   "metadata": {},
   "outputs": [
    {
     "data": {
      "text/plain": [
       "(7529, 11)"
      ]
     },
     "execution_count": 84,
     "metadata": {},
     "output_type": "execute_result"
    }
   ],
   "source": [
    "# read data\n",
    "\n",
    "data = pd.DataFrame()\n",
    "#data = [] # [[(frag, fp, kinase), (frag, fp, kinase), ...],[...]]\n",
    "# number of fragments per kinase\n",
    "\n",
    "rdkit_gen = rdFingerprintGenerator.GetRDKitFPGenerator(maxPath=5)\n",
    "\n",
    "# iterate over subpockets\n",
    "for i, folder in enumerate(folders):\n",
    "    \n",
    "    subpocket = subpockets[i]\n",
    "    #frag_smiles = []\n",
    "    #data_sb = []\n",
    "    #kinases = []\n",
    "    \n",
    "    file = folder+'/'+subpocket+'.sdf' \n",
    "    df = PandasTools.LoadSDF(file, includeFingerprints=True, embedProps=True)\n",
    "    df['NumHeavyAtoms'] = df.apply(lambda x: x['ROMol'].GetNumHeavyAtoms(), axis=1)\n",
    "        \n",
    "    fragments = []\n",
    "    fingerprints = []\n",
    "\n",
    "    for frag in df.ROMol:\n",
    "        # remove dummy atoms from fragments and create smiles\n",
    "        du = Chem.MolFromSmiles('*')\n",
    "        h = Chem.MolFromSmiles('[H]', sanitize=False)\n",
    "        fixed_frag = AllChem.ReplaceSubstructs(frag, du, h, replaceAll=True)[0]\n",
    "        fixed_frag = Chem.RemoveHs(fixed_frag)\n",
    "        fragments.append(fixed_frag)\n",
    "        # smiles for drawing fragment\n",
    "        #frag_smiles.append(Chem.MolToSmiles(fixed_frag))\n",
    "        # fingerprint of fragment\n",
    "        fingerprints.append(rdkit_gen.GetFingerprint(fixed_frag))\n",
    "\n",
    "        #data_sb.append((fixed_frag, fp, kinase))\n",
    "        \n",
    "    df['fragment'] = fragments\n",
    "    df['fingerprint'] = fingerprints\n",
    "    df['subpocket'] = subpocket\n",
    "    #data.append(data_sb)\n",
    "    \n",
    "    data = data.append(df)\n",
    "    \n",
    "data = data.reset_index(drop=True)\n",
    "data.shape"
   ]
  },
  {
   "cell_type": "code",
   "execution_count": 65,
   "metadata": {},
   "outputs": [],
   "source": [
    "# number of fragments per subpocket\n",
    "n_frags_sp = data.subpocket.value_counts()"
   ]
  },
  {
   "cell_type": "code",
   "execution_count": 62,
   "metadata": {},
   "outputs": [
    {
     "name": "stdout",
     "output_type": "stream",
     "text": [
      "0.14134414130200068\n"
     ]
    }
   ],
   "source": [
    "# mean similarity per subpocket\n",
    "cutoff = 0.85\n",
    "means = pd.Series(index=n_frags_sp.index)\n",
    "dups = pd.Series(index=n_frags_sp.index)\n",
    "for sp, subpocket in enumerate(subpockets):\n",
    "\n",
    "    data_sp = data[data.subpocket == subpocket]\n",
    "    \n",
    "    mean = 0\n",
    "    count = 0\n",
    "    dup = 0\n",
    "    \n",
    "    for i, frag1 in enumerate(data_sp.fingerprint):\n",
    "        for j, frag2 in enumerate(data_sp.fingerprint):\n",
    "            # do not compare the very same fragment\n",
    "            if i < j:\n",
    "                sim = DataStructs.FingerprintSimilarity(frag1,frag2) # tanimoto similarity\n",
    "                mean += sim\n",
    "                count += 1\n",
    "                if sim >= cutoff:\n",
    "                    dup += 1\n",
    "                    \n",
    "    means[subpocket] = mean/count\n",
    "    dups[subpocket] = dup/count\n",
    "    \n",
    "# convert to pandas df for displaying\n",
    "df = pd.DataFrame([n_frags_sp, means, dups]).T\n",
    "df.columns = ['number of fragments', 'mean similarity', 'similar fragment pairs']\n",
    "print(np.mean(df['mean similarity']))"
   ]
  },
  {
   "cell_type": "code",
   "execution_count": 63,
   "metadata": {},
   "outputs": [
    {
     "data": {
      "text/html": [
       "<table border=\"1\" class=\"dataframe\">\n",
       "  <thead>\n",
       "    <tr style=\"text-align: right;\">\n",
       "      <th></th>\n",
       "      <th>number of fragments</th>\n",
       "      <th>mean similarity</th>\n",
       "      <th>similar fragment pairs</th>\n",
       "    </tr>\n",
       "  </thead>\n",
       "  <tbody>\n",
       "    <tr>\n",
       "      <th>AP</th>\n",
       "      <td>2671.0</td>\n",
       "      <td>0.175534</td>\n",
       "      <td>0.003988</td>\n",
       "    </tr>\n",
       "    <tr>\n",
       "      <th>FP</th>\n",
       "      <td>1811.0</td>\n",
       "      <td>0.099695</td>\n",
       "      <td>0.005170</td>\n",
       "    </tr>\n",
       "    <tr>\n",
       "      <th>SE</th>\n",
       "      <td>1488.0</td>\n",
       "      <td>0.129028</td>\n",
       "      <td>0.008624</td>\n",
       "    </tr>\n",
       "    <tr>\n",
       "      <th>GA</th>\n",
       "      <td>1202.0</td>\n",
       "      <td>0.142869</td>\n",
       "      <td>0.009124</td>\n",
       "    </tr>\n",
       "    <tr>\n",
       "      <th>B2</th>\n",
       "      <td>245.0</td>\n",
       "      <td>0.116487</td>\n",
       "      <td>0.018501</td>\n",
       "    </tr>\n",
       "    <tr>\n",
       "      <th>B1</th>\n",
       "      <td>112.0</td>\n",
       "      <td>0.184452</td>\n",
       "      <td>0.074485</td>\n",
       "    </tr>\n",
       "  </tbody>\n",
       "</table>"
      ],
      "text/plain": [
       "    number of fragments  mean similarity  similar fragment pairs\n",
       "AP               2671.0         0.175534                0.003988\n",
       "FP               1811.0         0.099695                0.005170\n",
       "SE               1488.0         0.129028                0.008624\n",
       "GA               1202.0         0.142869                0.009124\n",
       "B2                245.0         0.116487                0.018501\n",
       "B1                112.0         0.184452                0.074485"
      ]
     },
     "execution_count": 63,
     "metadata": {},
     "output_type": "execute_result"
    }
   ],
   "source": [
    "df     "
   ]
  },
  {
   "cell_type": "code",
   "execution_count": 91,
   "metadata": {},
   "outputs": [
    {
     "data": {
      "text/plain": [
       "CDK2    820\n",
       "EGFR    322\n",
       "CHK1    316\n",
       "p38a    290\n",
       "PIM1    268\n",
       "Name: kinase, dtype: int64"
      ]
     },
     "execution_count": 91,
     "metadata": {},
     "output_type": "execute_result"
    }
   ],
   "source": [
    "# number of fragments per kinase\n",
    "n_frags = data.kinase.value_counts()\n",
    "n_frags.head()"
   ]
  },
  {
   "cell_type": "code",
   "execution_count": 85,
   "metadata": {},
   "outputs": [
    {
     "data": {
      "text/plain": [
       "RangeIndex(start=0, stop=7529, step=1)"
      ]
     },
     "execution_count": 85,
     "metadata": {},
     "output_type": "execute_result"
    }
   ],
   "source": [
    "# mean similarity per kinase (per subpocket)\n",
    "data.index"
   ]
  },
  {
   "cell_type": "code",
   "execution_count": 92,
   "metadata": {},
   "outputs": [
    {
     "name": "stdout",
     "output_type": "stream",
     "text": [
      "FP\n",
      "B2\n",
      "AP\n",
      "SE\n",
      "B1\n",
      "GA\n",
      "0.280584631844504\n"
     ]
    }
   ],
   "source": [
    "# mean similarity per kinase (per subpocket)\n",
    "cutoff = 0.85\n",
    "means = {}\n",
    "counts = {}\n",
    "dups = {}\n",
    "for sp, subpocket in enumerate(subpockets):\n",
    "    \n",
    "    data_sp = data[data.subpocket == subpocket].reset_index()\n",
    "    \n",
    "    kinases = data_sp.kinase\n",
    "    \n",
    "    for i, frag1 in enumerate(data_sp.fingerprint):\n",
    "        for j, frag2 in enumerate(data_sp.fingerprint):\n",
    "            # if fragments belong to the same kinase\n",
    "            if i < j and kinases[i] == kinases[j]:\n",
    "                kinase = kinases[i]\n",
    "                sim = DataStructs.FingerprintSimilarity(frag1, frag2) # tanimoto similarity\n",
    "                # if kinase is already in dict, update\n",
    "                if kinase in means:\n",
    "                    means[kinase] += sim\n",
    "                    counts[kinase] += 1\n",
    "                    if sim >= cutoff:\n",
    "                        dups[kinase] += 1\n",
    "                # else make new entry\n",
    "                else:\n",
    "                    means[kinase] = sim\n",
    "                    counts[kinase] = 1\n",
    "                    if sim >= cutoff:\n",
    "                        dups[kinase] = 1\n",
    "                    else:\n",
    "                        dups[kinase] = 0\n",
    "            \n",
    "\n",
    "# calculate means\n",
    "for kinase in sorted(means.keys()):\n",
    "    means[kinase] = means[kinase]/counts[kinase] \n",
    "    dups[kinase] = dups[kinase]/counts[kinase]\n",
    "\n",
    "# convert to pandas df for displaying\n",
    "df = pd.DataFrame([dict(n_frags), means, dups]).T\n",
    "df.columns = ['number of fragments', 'mean similarity', 'similar fragment pairs']\n",
    "print(np.mean(df['mean similarity']))\n",
    "#df      "
   ]
  },
  {
   "cell_type": "code",
   "execution_count": 98,
   "metadata": {},
   "outputs": [
    {
     "data": {
      "text/html": [
       "<table border=\"1\" class=\"dataframe\">\n",
       "  <thead>\n",
       "    <tr style=\"text-align: right;\">\n",
       "      <th></th>\n",
       "      <th>number of fragments</th>\n",
       "      <th>mean similarity</th>\n",
       "      <th>similar fragment pairs</th>\n",
       "    </tr>\n",
       "  </thead>\n",
       "  <tbody>\n",
       "    <tr>\n",
       "      <th>CDK2</th>\n",
       "      <td>820.0</td>\n",
       "      <td>0.166337</td>\n",
       "      <td>0.023304</td>\n",
       "    </tr>\n",
       "    <tr>\n",
       "      <th>EGFR</th>\n",
       "      <td>322.0</td>\n",
       "      <td>0.228091</td>\n",
       "      <td>0.041522</td>\n",
       "    </tr>\n",
       "    <tr>\n",
       "      <th>CHK1</th>\n",
       "      <td>316.0</td>\n",
       "      <td>0.175206</td>\n",
       "      <td>0.027601</td>\n",
       "    </tr>\n",
       "    <tr>\n",
       "      <th>p38a</th>\n",
       "      <td>290.0</td>\n",
       "      <td>0.230423</td>\n",
       "      <td>0.038579</td>\n",
       "    </tr>\n",
       "    <tr>\n",
       "      <th>PIM1</th>\n",
       "      <td>268.0</td>\n",
       "      <td>0.158193</td>\n",
       "      <td>0.008666</td>\n",
       "    </tr>\n",
       "  </tbody>\n",
       "</table>"
      ],
      "text/plain": [
       "      number of fragments  mean similarity  similar fragment pairs\n",
       "CDK2                820.0         0.166337                0.023304\n",
       "EGFR                322.0         0.228091                0.041522\n",
       "CHK1                316.0         0.175206                0.027601\n",
       "p38a                290.0         0.230423                0.038579\n",
       "PIM1                268.0         0.158193                0.008666"
      ]
     },
     "execution_count": 98,
     "metadata": {},
     "output_type": "execute_result"
    }
   ],
   "source": [
    "df.sort_values(by='number of fragments', ascending=False).head()"
   ]
  },
  {
   "cell_type": "code",
   "execution_count": 110,
   "metadata": {},
   "outputs": [],
   "source": [
    "# promiscuity assessment\n",
    "# How similar are fragments across kinases?\n"
   ]
  },
  {
   "cell_type": "code",
   "execution_count": null,
   "metadata": {},
   "outputs": [],
   "source": []
  }
 ],
 "metadata": {
  "kernelspec": {
   "display_name": "Python 3",
   "language": "python",
   "name": "python3"
  },
  "language_info": {
   "codemirror_mode": {
    "name": "ipython",
    "version": 3
   },
   "file_extension": ".py",
   "mimetype": "text/x-python",
   "name": "python",
   "nbconvert_exporter": "python",
   "pygments_lexer": "ipython3",
   "version": "3.6.7"
  }
 },
 "nbformat": 4,
 "nbformat_minor": 2
}
