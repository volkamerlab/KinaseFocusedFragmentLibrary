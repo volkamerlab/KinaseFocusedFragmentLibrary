{
 "cells": [
  {
   "cell_type": "code",
   "execution_count": 1,
   "metadata": {},
   "outputs": [
    {
     "data": {
      "text/plain": [
       "'2018.09.3'"
      ]
     },
     "execution_count": 1,
     "metadata": {},
     "output_type": "execute_result"
    }
   ],
   "source": [
    "from rdkit import rdBase\n",
    "rdBase.rdkitVersion"
   ]
  },
  {
   "cell_type": "code",
   "execution_count": 2,
   "metadata": {},
   "outputs": [],
   "source": [
    "import glob\n",
    "from rdkit import Chem\n",
    "from rdkit.Chem import AllChem\n",
    "from rdkit.ML.Cluster import Butina\n",
    "from rdkit.Chem import Draw\n",
    "from rdkit.Chem import rdFingerprintGenerator\n",
    "from rdkit.Chem.Draw import IPythonConsole\n",
    "\n",
    "import numpy as np\n",
    "import matplotlib.pyplot as plt"
   ]
  },
  {
   "cell_type": "code",
   "execution_count": 3,
   "metadata": {},
   "outputs": [
    {
     "data": {
      "text/plain": [
       "['FP', 'B2', 'AP', 'SE', 'B1', 'GA']"
      ]
     },
     "execution_count": 3,
     "metadata": {},
     "output_type": "execute_result"
    }
   ],
   "source": [
    "path_to_library = '/home/paula/Masterarbeit/KinaseFocusedFragmentLibrary/FragmentLibrary'\n",
    "\n",
    "# list of folders for each subpocket\n",
    "folders = glob.glob(path_to_library+'/*')\n",
    "subpockets = [folder[-2:] for folder in folders]\n",
    "subpockets"
   ]
  },
  {
   "cell_type": "code",
   "execution_count": 13,
   "metadata": {},
   "outputs": [],
   "source": [
    "# iterate over subpockets\n",
    "for i, folder in enumerate(folders):\n",
    "    \n",
    "    subpocket = subpockets[i]\n",
    "    # print(subpocket)\n",
    "    \n",
    "    files = glob.glob(folder+'/*.sdf')\n",
    "    # iterate over kinases\n",
    "    for file in files:\n",
    "        fragments = Chem.SDMolSupplier(file)\n",
    "        # iterate over fragments\n",
    "        rdkit_gen = rdFingerprintGenerator.GetRDKitFPGenerator(maxPath=5)\n",
    "        fingerprints = [rdkit_gen.GetFingerprint(m) for m in fragments]\n",
    "        # How many compounds/fingerprints do we have?\n",
    "        # print('Number of compounds converted:',len(fingerprints))\n",
    "        # print('Fingerprint length per compound:',len(fingerprints[0]))"
   ]
  },
  {
   "cell_type": "code",
   "execution_count": 10,
   "metadata": {},
   "outputs": [],
   "source": [
    "# Calculate distance matrix for fingerprint list\n",
    "def Tanimoto_distance_matrix(fp_list):\n",
    "    dissimilarity_matrix = []\n",
    "    for i in range(1,len(fp_list)):\n",
    "        similarities = DataStructs.BulkTanimotoSimilarity(fp_list[i],fp_list[:i])\n",
    "        # Since we need a distance matrix, calculate 1-x for every element in similarity matrix\n",
    "        dissimilarity_matrix.extend([1-x for x in similarities])\n",
    "    return dissimilarity_matrix"
   ]
  },
  {
   "cell_type": "code",
   "execution_count": 11,
   "metadata": {},
   "outputs": [],
   "source": [
    "# Input: Fingerprints and a threshold for the clustering\n",
    "def ClusterFps(fps,cutoff=0.2):\n",
    "    # Calculate Tanimoto distance matrix\n",
    "    distance_matr = Tanimoto_distance_matrix(fps)\n",
    "    # Now cluster the data with the implemented Butina algorithm:\n",
    "    clusters = Butina.ClusterData(distance_matr,len(fps),cutoff,isDistData=True)\n",
    "    return clusters"
   ]
  },
  {
   "cell_type": "code",
   "execution_count": null,
   "metadata": {},
   "outputs": [],
   "source": []
  }
 ],
 "metadata": {
  "kernelspec": {
   "display_name": "Python 3",
   "language": "python",
   "name": "python3"
  },
  "language_info": {
   "codemirror_mode": {
    "name": "ipython",
    "version": 3
   },
   "file_extension": ".py",
   "mimetype": "text/x-python",
   "name": "python",
   "nbconvert_exporter": "python",
   "pygments_lexer": "ipython3",
   "version": "3.6.8"
  }
 },
 "nbformat": 4,
 "nbformat_minor": 2
}
