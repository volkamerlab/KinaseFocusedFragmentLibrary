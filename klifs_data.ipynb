{
 "cells": [
  {
   "cell_type": "code",
   "execution_count": 1,
   "metadata": {},
   "outputs": [],
   "source": [
    "from bravado.client import SwaggerClient"
   ]
  },
  {
   "cell_type": "code",
   "execution_count": 2,
   "metadata": {},
   "outputs": [],
   "source": [
    "KLIFS_API_JSON = \"http://klifs.vu-compmedchem.nl/swagger/swagger.json\""
   ]
  },
  {
   "cell_type": "code",
   "execution_count": 3,
   "metadata": {},
   "outputs": [],
   "source": [
    "# The OpenAPI scheme has some self-validation issues, so we need to skip those\n",
    "client = SwaggerClient.from_url(KLIFS_API_JSON, config={'validate_responses': False})"
   ]
  },
  {
   "cell_type": "code",
   "execution_count": 48,
   "metadata": {},
   "outputs": [],
   "source": [
    "s = client.Structures\n",
    "s_3w2s = s.get_structures_pdb_list(**{'pdb-codes': ['3w2s']}).response().result[0]\n",
    "s_3w2s_id = s_3w2s['structure_ID']"
   ]
  },
  {
   "cell_type": "code",
   "execution_count": 52,
   "metadata": {},
   "outputs": [],
   "source": [
    "ligandMol2 = s.get_structure_get_ligand(structure_ID=s_3w2s_id).response().result\n",
    "pocketMol2 = s.get_structure_get_pocket(structure_ID=s_3w2s_id).response().result"
   ]
  },
  {
   "cell_type": "code",
   "execution_count": 61,
   "metadata": {},
   "outputs": [
    {
     "data": {
      "text/plain": [
       "595"
      ]
     },
     "execution_count": 61,
     "metadata": {},
     "output_type": "execute_result"
    }
   ],
   "source": [
    "i = client.Interactions\n",
    "i_3w2s = i.get_interactions_get_IFP(structure_ID=[s_3w2s_id]).response().result[0]\n",
    "ifp = i_3w2s['IFP']\n",
    "len(ifp)"
   ]
  },
  {
   "cell_type": "code",
   "execution_count": 70,
   "metadata": {},
   "outputs": [
    {
     "data": {
      "text/plain": [
       "[17, 48, 81, 82, 83]"
      ]
     },
     "execution_count": 70,
     "metadata": {},
     "output_type": "execute_result"
    }
   ],
   "source": [
    "# find H bond donors and acceptors\n",
    "resID = 1\n",
    "resIDs = []\n",
    "for i in range(0, len(ifp), 7):\n",
    "    bits = ifp[i:i+7]\n",
    "    if bits[3] == '1' or bits[4] == '1': \n",
    "        resIDs.append(resID)\n",
    "    resID += 1\n",
    "resIDs"
   ]
  },
  {
   "cell_type": "code",
   "execution_count": null,
   "metadata": {},
   "outputs": [],
   "source": []
  },
  {
   "cell_type": "code",
   "execution_count": null,
   "metadata": {},
   "outputs": [],
   "source": []
  }
 ],
 "metadata": {
  "kernelspec": {
   "display_name": "Python 3",
   "language": "python",
   "name": "python3"
  },
  "language_info": {
   "codemirror_mode": {
    "name": "ipython",
    "version": 3
   },
   "file_extension": ".py",
   "mimetype": "text/x-python",
   "name": "python",
   "nbconvert_exporter": "python",
   "pygments_lexer": "ipython3",
   "version": "3.6.7"
  }
 },
 "nbformat": 4,
 "nbformat_minor": 2
}
