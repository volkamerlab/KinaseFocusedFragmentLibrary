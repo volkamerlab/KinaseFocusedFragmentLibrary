{
 "cells": [
  {
   "cell_type": "markdown",
   "metadata": {},
   "source": [
    "# Preprocessing and fragmentation for full dataset"
   ]
  },
  {
   "cell_type": "markdown",
   "metadata": {},
   "source": [
    "**Note**: This notebook cannot be run without the KLIFS dataset in `../../../KinaseFocusedFragmentLibraryData`. Use Paula's data backup (KLIFS download)."
   ]
  },
  {
   "cell_type": "markdown",
   "metadata": {},
   "source": [
    "## 1. Install `KinaseFocusedFragmentLibrary` package."
   ]
  },
  {
   "cell_type": "raw",
   "metadata": {},
   "source": [
    "!pip install -e ../../../KinaseFocusedFragmentLibrary"
   ]
  },
  {
   "cell_type": "markdown",
   "metadata": {},
   "source": [
    "## 2. Run preprocessing step"
   ]
  },
  {
   "cell_type": "raw",
   "metadata": {
    "jupyter": {
     "outputs_hidden": true
    }
   },
   "source": [
    "!kffl-preprocessing -f ../../../KinaseFocusedFragmentLibraryData -o ../../../KinaseFocusedFragmentLibraryData/FragmentLibrary"
   ]
  },
  {
   "cell_type": "markdown",
   "metadata": {},
   "source": [
    "## 3. Run fragmentation step"
   ]
  },
  {
   "cell_type": "raw",
   "metadata": {},
   "source": [
    "!kffl-fragmentation -f ../../../KinaseFocusedFragmentLibraryData -o ../../../KinaseFocusedFragmentLibraryData/FragmentLibrary"
   ]
  }
 ],
 "metadata": {
  "kernelspec": {
   "display_name": "kffl",
   "language": "python",
   "name": "kffl"
  },
  "language_info": {
   "codemirror_mode": {
    "name": "ipython",
    "version": 3
   },
   "file_extension": ".py",
   "mimetype": "text/x-python",
   "name": "python",
   "nbconvert_exporter": "python",
   "pygments_lexer": "ipython3",
   "version": "3.6.10"
  }
 },
 "nbformat": 4,
 "nbformat_minor": 4
}
