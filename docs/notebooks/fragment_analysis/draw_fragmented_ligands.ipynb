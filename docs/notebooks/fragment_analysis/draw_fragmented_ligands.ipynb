{
 "cells": [
  {
   "cell_type": "markdown",
   "metadata": {},
   "source": [
    "# Draw fragmented ligands\n",
    "\n",
    "Use this short notebook to visualize the subpocket assignment of fragmented ligands. "
   ]
  },
  {
   "cell_type": "code",
   "execution_count": 1,
   "metadata": {},
   "outputs": [],
   "source": [
    "%load_ext autoreload\n",
    "%autoreload 2"
   ]
  },
  {
   "cell_type": "code",
   "execution_count": 2,
   "metadata": {},
   "outputs": [
    {
     "name": "stderr",
     "output_type": "stream",
     "text": [
      "RDKit WARNING: [15:15:17] Enabling RDKit 2019.09.3 jupyter extensions\n"
     ]
    }
   ],
   "source": [
    "from pathlib import Path\n",
    "\n",
    "import pandas as pd\n",
    "from rdkit.Chem import Draw\n",
    "from rdkit.Chem.Draw import IPythonConsole\n",
    "from rdkit.Chem import PandasTools \n",
    "\n",
    "from util import read_fragment_library, get_fragmented_ligand, draw_fragmented_ligand\n",
    "import klifs_utils as klifs"
   ]
  },
  {
   "cell_type": "markdown",
   "metadata": {},
   "source": [
    "## Load fragment library"
   ]
  },
  {
   "cell_type": "code",
   "execution_count": 3,
   "metadata": {},
   "outputs": [],
   "source": [
    "PATH_TO_DATA = Path('../../../..') / 'KinaseFocusedFragmentLibraryData'"
   ]
  },
  {
   "cell_type": "code",
   "execution_count": 4,
   "metadata": {},
   "outputs": [],
   "source": [
    "fragment_library = read_fragment_library(PATH_TO_DATA / 'FragmentLibrary', remove_dummy=False)"
   ]
  },
  {
   "cell_type": "markdown",
   "metadata": {},
   "source": [
    "## Get fragmented ligand by PDB ID"
   ]
  },
  {
   "cell_type": "code",
   "execution_count": 5,
   "metadata": {},
   "outputs": [
    {
     "data": {
      "text/html": [
       "<div>\n",
       "<style scoped>\n",
       "    .dataframe tbody tr th:only-of-type {\n",
       "        vertical-align: middle;\n",
       "    }\n",
       "\n",
       "    .dataframe tbody tr th {\n",
       "        vertical-align: top;\n",
       "    }\n",
       "\n",
       "    .dataframe thead th {\n",
       "        text-align: right;\n",
       "    }\n",
       "</style>\n",
       "<table border=\"1\" class=\"dataframe\">\n",
       "  <thead>\n",
       "    <tr style=\"text-align: right;\">\n",
       "      <th></th>\n",
       "      <th>smiles</th>\n",
       "      <th>fragment</th>\n",
       "      <th>kinase</th>\n",
       "      <th>family</th>\n",
       "      <th>group</th>\n",
       "      <th>complex_pdb</th>\n",
       "      <th>ligand_pdb</th>\n",
       "      <th>alt</th>\n",
       "      <th>chain</th>\n",
       "      <th>klifs_code</th>\n",
       "      <th>atom.prop.subpocket</th>\n",
       "      <th>atom.prop.environment</th>\n",
       "      <th>subpocket</th>\n",
       "    </tr>\n",
       "  </thead>\n",
       "  <tbody>\n",
       "    <tr>\n",
       "      <th>26</th>\n",
       "      <td>[23*]c1cc(OC)c(OC)c(OC)c1</td>\n",
       "      <td>&lt;img data-content=\"rdkit/molecule\" src=\"data:i...</td>\n",
       "      <td>ALK</td>\n",
       "      <td>ALK</td>\n",
       "      <td>TK</td>\n",
       "      <td>4fnz</td>\n",
       "      <td>NZF</td>\n",
       "      <td></td>\n",
       "      <td>A</td>\n",
       "      <td>4fnz_chainA</td>\n",
       "      <td>SE SE SE SE SE SE SE SE SE SE SE SE SE SE SE S...</td>\n",
       "      <td>3 3 3 3 3 16 16 16 16 3 3 3 3 3 16 3 3 3 3 3 1...</td>\n",
       "      <td>SE</td>\n",
       "    </tr>\n",
       "    <tr>\n",
       "      <th>47</th>\n",
       "      <td>[22*]Nc1nccc([33*])n1</td>\n",
       "      <td>&lt;img data-content=\"rdkit/molecule\" src=\"data:i...</td>\n",
       "      <td>ALK</td>\n",
       "      <td>ALK</td>\n",
       "      <td>TK</td>\n",
       "      <td>4fnz</td>\n",
       "      <td>NZF</td>\n",
       "      <td></td>\n",
       "      <td>A</td>\n",
       "      <td>4fnz_chainA</td>\n",
       "      <td>AP AP AP AP AP AP AP AP AP AP FP SE</td>\n",
       "      <td>5 5 14 14 14 14 14 14 14 14 na na</td>\n",
       "      <td>AP</td>\n",
       "    </tr>\n",
       "    <tr>\n",
       "      <th>13</th>\n",
       "      <td>[46*]C(=O)N[52*]</td>\n",
       "      <td>&lt;img data-content=\"rdkit/molecule\" src=\"data:i...</td>\n",
       "      <td>ALK</td>\n",
       "      <td>ALK</td>\n",
       "      <td>TK</td>\n",
       "      <td>4fnz</td>\n",
       "      <td>NZF</td>\n",
       "      <td></td>\n",
       "      <td>A</td>\n",
       "      <td>4fnz_chainA</td>\n",
       "      <td>GA GA GA GA B1 FP</td>\n",
       "      <td>6 6 5 5 na na</td>\n",
       "      <td>GA</td>\n",
       "    </tr>\n",
       "    <tr>\n",
       "      <th>2</th>\n",
       "      <td>[50*]Cc1cccc([65*])c1</td>\n",
       "      <td>&lt;img data-content=\"rdkit/molecule\" src=\"data:i...</td>\n",
       "      <td>ALK</td>\n",
       "      <td>ALK</td>\n",
       "      <td>TK</td>\n",
       "      <td>4fnz</td>\n",
       "      <td>NZF</td>\n",
       "      <td></td>\n",
       "      <td>A</td>\n",
       "      <td>4fnz_chainA</td>\n",
       "      <td>B1 B1 B1 B1 B1 B1 B1 B1 B1 B1 B1 B1 B1 B2 GA</td>\n",
       "      <td>8 8 8 16 16 16 16 16 16 16 16 16 16 na na</td>\n",
       "      <td>B1</td>\n",
       "    </tr>\n",
       "    <tr>\n",
       "      <th>0</th>\n",
       "      <td>[64*]OC(F)(F)F</td>\n",
       "      <td>&lt;img data-content=\"rdkit/molecule\" src=\"data:i...</td>\n",
       "      <td>ALK</td>\n",
       "      <td>ALK</td>\n",
       "      <td>TK</td>\n",
       "      <td>4fnz</td>\n",
       "      <td>NZF</td>\n",
       "      <td></td>\n",
       "      <td>A</td>\n",
       "      <td>4fnz_chainA</td>\n",
       "      <td>B2 B2 B2 B2 B2 B1</td>\n",
       "      <td>3 3 3 3 3 na</td>\n",
       "      <td>B2</td>\n",
       "    </tr>\n",
       "    <tr>\n",
       "      <th>44</th>\n",
       "      <td>[32*]N1CCC[C@H]([48*])C1</td>\n",
       "      <td>&lt;img data-content=\"rdkit/molecule\" src=\"data:i...</td>\n",
       "      <td>ALK</td>\n",
       "      <td>ALK</td>\n",
       "      <td>TK</td>\n",
       "      <td>4fnz</td>\n",
       "      <td>NZF</td>\n",
       "      <td></td>\n",
       "      <td>A</td>\n",
       "      <td>4fnz_chainA</td>\n",
       "      <td>FP FP FP FP FP FP FP FP FP FP FP FP FP FP FP A...</td>\n",
       "      <td>15 15 15 15 15 15 15 15 15 15 15 15 15 15 15 n...</td>\n",
       "      <td>FP</td>\n",
       "    </tr>\n",
       "  </tbody>\n",
       "</table>\n",
       "</div>"
      ],
      "text/plain": [
       "                       smiles  \\\n",
       "26  [23*]c1cc(OC)c(OC)c(OC)c1   \n",
       "47      [22*]Nc1nccc([33*])n1   \n",
       "13           [46*]C(=O)N[52*]   \n",
       "2       [50*]Cc1cccc([65*])c1   \n",
       "0              [64*]OC(F)(F)F   \n",
       "44   [32*]N1CCC[C@H]([48*])C1   \n",
       "\n",
       "                                             fragment kinase family group  \\\n",
       "26  <img data-content=\"rdkit/molecule\" src=\"data:i...    ALK    ALK    TK   \n",
       "47  <img data-content=\"rdkit/molecule\" src=\"data:i...    ALK    ALK    TK   \n",
       "13  <img data-content=\"rdkit/molecule\" src=\"data:i...    ALK    ALK    TK   \n",
       "2   <img data-content=\"rdkit/molecule\" src=\"data:i...    ALK    ALK    TK   \n",
       "0   <img data-content=\"rdkit/molecule\" src=\"data:i...    ALK    ALK    TK   \n",
       "44  <img data-content=\"rdkit/molecule\" src=\"data:i...    ALK    ALK    TK   \n",
       "\n",
       "   complex_pdb ligand_pdb alt chain   klifs_code  \\\n",
       "26        4fnz        NZF         A  4fnz_chainA   \n",
       "47        4fnz        NZF         A  4fnz_chainA   \n",
       "13        4fnz        NZF         A  4fnz_chainA   \n",
       "2         4fnz        NZF         A  4fnz_chainA   \n",
       "0         4fnz        NZF         A  4fnz_chainA   \n",
       "44        4fnz        NZF         A  4fnz_chainA   \n",
       "\n",
       "                                  atom.prop.subpocket  \\\n",
       "26  SE SE SE SE SE SE SE SE SE SE SE SE SE SE SE S...   \n",
       "47                AP AP AP AP AP AP AP AP AP AP FP SE   \n",
       "13                                  GA GA GA GA B1 FP   \n",
       "2        B1 B1 B1 B1 B1 B1 B1 B1 B1 B1 B1 B1 B1 B2 GA   \n",
       "0                                   B2 B2 B2 B2 B2 B1   \n",
       "44  FP FP FP FP FP FP FP FP FP FP FP FP FP FP FP A...   \n",
       "\n",
       "                                atom.prop.environment subpocket  \n",
       "26  3 3 3 3 3 16 16 16 16 3 3 3 3 3 16 3 3 3 3 3 1...        SE  \n",
       "47                  5 5 14 14 14 14 14 14 14 14 na na        AP  \n",
       "13                                      6 6 5 5 na na        GA  \n",
       "2           8 8 8 16 16 16 16 16 16 16 16 16 16 na na        B1  \n",
       "0                                        3 3 3 3 3 na        B2  \n",
       "44  15 15 15 15 15 15 15 15 15 15 15 15 15 15 15 n...        FP  "
      ]
     },
     "execution_count": 5,
     "metadata": {},
     "output_type": "execute_result"
    }
   ],
   "source": [
    "get_fragmented_ligand(fragment_library, '4fnz')"
   ]
  },
  {
   "cell_type": "markdown",
   "metadata": {},
   "source": [
    "## Draw fragmented ligand by PDB ID"
   ]
  },
  {
   "cell_type": "code",
   "execution_count": 6,
   "metadata": {},
   "outputs": [
    {
     "data": {
      "image/png": "[encoded data removed]",
      "text/plain": [
       "<PIL.PngImagePlugin.PngImageFile image mode=RGB size=1200x200 at 0x7FD58F2769E8>"
      ]
     },
     "execution_count": 6,
     "metadata": {},
     "output_type": "execute_result"
    }
   ],
   "source": [
    "draw_fragmented_ligand(fragment_library, '4fnz')"
   ]
  },
  {
   "cell_type": "markdown",
   "metadata": {},
   "source": [
    "## Draw full ligand"
   ]
  },
  {
   "cell_type": "code",
   "execution_count": 7,
   "metadata": {},
   "outputs": [
    {
     "data": {
      "image/png": "[encoded data removed]",
      "text/plain": [
       "<rdkit.Chem.rdchem.Mol at 0x7fd58f26dd00>"
      ]
     },
     "execution_count": 7,
     "metadata": {},
     "output_type": "execute_result"
    }
   ],
   "source": [
    "klifs.local.coordinates.ligand.mol2_to_rdkit_mol(\n",
    "    PATH_TO_DATA / 'KLIFS_download',\n",
    "    'HUMAN',\n",
    "    'ALK',\n",
    "    '4fnz',\n",
    "    alt=None,\n",
    "    chain='A'\n",
    ")"
   ]
  }
 ],
 "metadata": {
  "kernelspec": {
   "display_name": "kffl",
   "language": "python",
   "name": "kffl"
  },
  "language_info": {
   "codemirror_mode": {
    "name": "ipython",
    "version": 3
   },
   "file_extension": ".py",
   "mimetype": "text/x-python",
   "name": "python",
   "nbconvert_exporter": "python",
   "pygments_lexer": "ipython3",
   "version": "3.6.8"
  }
 },
 "nbformat": 4,
 "nbformat_minor": 4
}
