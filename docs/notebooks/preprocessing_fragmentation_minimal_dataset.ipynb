{
 "cells": [
  {
   "cell_type": "markdown",
   "metadata": {},
   "source": [
    "# Preprocessing and fragmentation for minimal dataset"
   ]
  },
  {
   "cell_type": "markdown",
   "metadata": {},
   "source": [
    "## 1. Install `KinaseFocusedFragmentLibrary` package."
   ]
  },
  {
   "cell_type": "code",
   "execution_count": 1,
   "metadata": {},
   "outputs": [
    {
     "name": "stdout",
     "output_type": "stream",
     "text": [
      "Obtaining file:///home/dominique/Documents/Work/Projects/KinaseFocusedFragmentLibrary\n",
      "Installing collected packages: kinase-focused-fragment-library\n",
      "  Attempting uninstall: kinase-focused-fragment-library\n",
      "    Found existing installation: kinase-focused-fragment-library 0.1.0+216.g716453d.dirty\n",
      "    Uninstalling kinase-focused-fragment-library-0.1.0+216.g716453d.dirty:\n",
      "      Successfully uninstalled kinase-focused-fragment-library-0.1.0+216.g716453d.dirty\n",
      "  Running setup.py develop for kinase-focused-fragment-library\n",
      "Successfully installed kinase-focused-fragment-library\n"
     ]
    }
   ],
   "source": [
    "!pip install -e ../../../KinaseFocusedFragmentLibrary"
   ]
  },
  {
   "cell_type": "markdown",
   "metadata": {},
   "source": [
    "## 2. Run preprocessing step"
   ]
  },
  {
   "cell_type": "code",
   "execution_count": 3,
   "metadata": {},
   "outputs": [
    {
     "name": "stdout",
     "output_type": "stream",
     "text": [
      "Download PDB 3w2s W2R\n",
      "Download PDB 4jr3 KJR\n",
      "Download PDB 4yjq 4DK\n",
      "Number of starting structures:  3\n",
      "\n",
      "Number of discarded structures:  0\n",
      "DFG-out/out-like conformations:  0\n",
      "Atypical kinases:  0\n",
      "Ligand could not be loaded:  0\n",
      "Pocket could not be loaded:  0\n",
      "Substrates/substrate analogs:  0\n",
      "Multiple ligands in structure:  0\n",
      "Covalent ligands:  0\n"
     ]
    }
   ],
   "source": [
    "!kffl-preprocessing -f ../data -o ../data/FragmentLibrary"
   ]
  },
  {
   "cell_type": "markdown",
   "metadata": {},
   "source": [
    "## 3. Run fragmentation step"
   ]
  },
  {
   "cell_type": "markdown",
   "metadata": {},
   "source": [
    "Print statements: Understand how dummy atom *atom numbers* (and with that subpocket connections) are assigned."
   ]
  },
  {
   "cell_type": "code",
   "execution_count": 4,
   "metadata": {},
   "outputs": [
    {
     "name": "stdout",
     "output_type": "stream",
     "text": [
      "Number of fragmented structures:  3\n",
      "Number of ligands occupying each possible number of subpockets:\n",
      "{1: 0, 2: 0, 3: 0, 4: 2, 5: 1, 6: 0}\n",
      "Number of ligands showing each subpocket connection:\n",
      "{frozenset({'GA', 'AP'}): 2, frozenset({'B1', 'B2'}): 1, frozenset({'GA', 'B1'}): 1, frozenset({'FP', 'AP'}): 2, frozenset({'GA', 'FP'}): 2, frozenset({'SE', 'AP'}): 2, frozenset({'SE', 'FP'}): 1}\n",
      "\n",
      "Number of discarded structures: \n",
      "Missing residue position could not be inferred:  0\n",
      "Ligands with too large BRICS fragments:  0\n",
      "Ligands not occupying AP: 0\n",
      "Unwanted subpocket connections: 0\n",
      "Fragments in X pool: 0\n"
     ]
    }
   ],
   "source": [
    "!kffl-fragmentation -f ../data -o ../data/FragmentLibrary"
   ]
  }
 ],
 "metadata": {
  "kernelspec": {
   "display_name": "kffl",
   "language": "python",
   "name": "kffl"
  },
  "language_info": {
   "codemirror_mode": {
    "name": "ipython",
    "version": 3
   },
   "file_extension": ".py",
   "mimetype": "text/x-python",
   "name": "python",
   "nbconvert_exporter": "python",
   "pygments_lexer": "ipython3",
   "version": "3.6.10"
  }
 },
 "nbformat": 4,
 "nbformat_minor": 4
}
