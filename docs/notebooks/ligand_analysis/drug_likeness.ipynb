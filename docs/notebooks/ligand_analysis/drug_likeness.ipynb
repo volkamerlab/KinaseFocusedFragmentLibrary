{
 "cells": [
  {
   "cell_type": "markdown",
   "metadata": {},
   "source": [
    "# Drug-likeness of recombined ligands vs. PKIDB ligands\n",
    "\n",
    "In order to assess the drug-likeness of our > 15M recombined ligands,\n",
    "\n",
    "* calculate the drug-likeness of our recombined ligands and \n",
    "* compare it to the drug-likeness of ligands from the PKIDB, which are approved and investigorial kinase inhibitors and therefore give an idea on how an ideal kinase inhibitor's drug-likeness looks like."
   ]
  },
  {
   "cell_type": "code",
   "execution_count": 1,
   "metadata": {},
   "outputs": [],
   "source": [
    "%load_ext autoreload\n",
    "%autoreload 2"
   ]
  },
  {
   "cell_type": "raw",
   "metadata": {},
   "source": [
    "!pip install git+https://github.com/volkamerlab/klifs_utils.git@lib-skeleton"
   ]
  },
  {
   "cell_type": "code",
   "execution_count": 2,
   "metadata": {},
   "outputs": [
    {
     "name": "stderr",
     "output_type": "stream",
     "text": [
      "RDKit WARNING: [11:10:16] Enabling RDKit 2019.09.3 jupyter extensions\n"
     ]
    }
   ],
   "source": [
    "from pathlib import Path\n",
    "\n",
    "import matplotlib.pyplot as plt\n",
    "import numpy as np\n",
    "import pandas as pd\n",
    "from rdkit import Chem\n",
    "from rdkit.Chem import Draw\n",
    "from rdkit.Chem import AllChem, PandasTools\n",
    "from rdkit.Chem.Draw import IPythonConsole\n",
    "\n",
    "import kinase_focused_fragment_library as kffl\n",
    "import klifs_utils as klifs"
   ]
  },
  {
   "cell_type": "code",
   "execution_count": 3,
   "metadata": {},
   "outputs": [],
   "source": [
    "url = 'https://raw.githubusercontent.com/dominiquesydow/pkidb_klifs/master/results/pkidb_20200218.csv'"
   ]
  },
  {
   "cell_type": "code",
   "execution_count": 4,
   "metadata": {},
   "outputs": [],
   "source": [
    "PROJECT_PATH = Path('../../../..') / 'KinaseFocusedFragmentLibraryData'\n",
    "\n",
    "combinatorial_path = PROJECT_PATH / 'CombinatorialLibrary' / 'combinatorial_library.pickle'\n",
    "cominatorial_unique_index_path = PROJECT_PATH / 'CombinatorialLibrary' / 'unique_molecule_ids.txt'\n",
    "fragment_path = PROJECT_PATH / 'FragmentLibrary/'"
   ]
  },
  {
   "cell_type": "markdown",
   "metadata": {},
   "source": [
    "## Load ligand data"
   ]
  },
  {
   "cell_type": "markdown",
   "metadata": {},
   "source": [
    "### PKIDB ligands\n",
    "\n",
    "PKIDB ligands: approved and investigorial kinase inhibitors"
   ]
  },
  {
   "cell_type": "code",
   "execution_count": 5,
   "metadata": {},
   "outputs": [
    {
     "name": "stdout",
     "output_type": "stream",
     "text": [
      "PKIDB ligands: 218\n"
     ]
    }
   ],
   "source": [
    "pkidb_ligands = pd.read_csv(url, index_col=0)\n",
    "print(f'PKIDB ligands: {pkidb_ligands.shape[0]}')"
   ]
  },
  {
   "cell_type": "markdown",
   "metadata": {},
   "source": [
    "### Original ligands"
   ]
  },
  {
   "cell_type": "code",
   "execution_count": 6,
   "metadata": {},
   "outputs": [
    {
     "name": "stdout",
     "output_type": "stream",
     "text": [
      "Fragments: 801\n",
      "Deduplicated kinase-structure pairs from which fragments originate: 694\n"
     ]
    },
    {
     "data": {
      "text/html": [
       "<div>\n",
       "<style scoped>\n",
       "    .dataframe tbody tr th:only-of-type {\n",
       "        vertical-align: middle;\n",
       "    }\n",
       "\n",
       "    .dataframe tbody tr th {\n",
       "        vertical-align: top;\n",
       "    }\n",
       "\n",
       "    .dataframe thead th {\n",
       "        text-align: right;\n",
       "    }\n",
       "</style>\n",
       "<table border=\"1\" class=\"dataframe\">\n",
       "  <thead>\n",
       "    <tr style=\"text-align: right;\">\n",
       "      <th></th>\n",
       "      <th>kinase</th>\n",
       "      <th>klifs_code</th>\n",
       "      <th>species</th>\n",
       "    </tr>\n",
       "  </thead>\n",
       "  <tbody>\n",
       "    <tr>\n",
       "      <th>0</th>\n",
       "      <td>CHK1</td>\n",
       "      <td>4qyg_chainA</td>\n",
       "      <td>HUMAN</td>\n",
       "    </tr>\n",
       "    <tr>\n",
       "      <th>1</th>\n",
       "      <td>PIM1</td>\n",
       "      <td>5mzl_altA_chainA</td>\n",
       "      <td>HUMAN</td>\n",
       "    </tr>\n",
       "  </tbody>\n",
       "</table>\n",
       "</div>"
      ],
      "text/plain": [
       "  kinase        klifs_code species\n",
       "0   CHK1       4qyg_chainA   HUMAN\n",
       "1   PIM1  5mzl_altA_chainA   HUMAN"
      ]
     },
     "execution_count": 6,
     "metadata": {},
     "output_type": "execute_result"
    }
   ],
   "source": [
    "# Load fragment library\n",
    "fragment_library = kffl.analysis.fragment_analysis.util.read_fragment_library(fragment_path, remove_dummy=True, reduced='_reduced_0.6')\n",
    "del fragment_library['X']\n",
    "\n",
    "# Get deduplicated kinase-structure pairs\n",
    "kinase_structure_pairs = kffl.analysis.fragment_analysis.util.get_deduplicated_original_complexes(fragment_library)\n",
    "kinase_structure_pairs['species'] = 'HUMAN'\n",
    "\n",
    "kinase_structure_pairs.head(2)"
   ]
  },
  {
   "cell_type": "code",
   "execution_count": 7,
   "metadata": {},
   "outputs": [],
   "source": [
    "# Get ligands\n",
    "original_ligands = []\n",
    "\n",
    "for index, row in kinase_structure_pairs.iterrows():\n",
    "    ligand_mol2_path = PROJECT_PATH / 'KLIFS_download' / row.species / row.kinase / row.klifs_code / 'ligand.mol2'\n",
    "    ligand = Chem.MolFromMol2File(str(ligand_mol2_path))\n",
    "    original_ligands.append(ligand)"
   ]
  },
  {
   "cell_type": "markdown",
   "metadata": {},
   "source": [
    "### Recombined ligands"
   ]
  },
  {
   "cell_type": "code",
   "execution_count": 8,
   "metadata": {},
   "outputs": [],
   "source": [
    "combinatorial_unique_index_path = PROJECT_PATH / 'CombinatorialLibrary' / 'unique_molecule_ids.txt'"
   ]
  },
  {
   "cell_type": "code",
   "execution_count": 9,
   "metadata": {},
   "outputs": [],
   "source": [
    "# Takes up to a minute to load (about 16M entries)\n",
    "combinatorial_unique_index = np.genfromtxt(combinatorial_unique_index_path, dtype=int, delimiter='/n')"
   ]
  },
  {
   "cell_type": "markdown",
   "metadata": {},
   "source": [
    "## Get drug-likeness"
   ]
  },
  {
   "cell_type": "markdown",
   "metadata": {},
   "source": [
    "### PKIDB ligands"
   ]
  },
  {
   "cell_type": "code",
   "execution_count": 10,
   "metadata": {},
   "outputs": [
    {
     "name": "stdout",
     "output_type": "stream",
     "text": [
      "Number of molecules: 218\n"
     ]
    }
   ],
   "source": [
    "drug_likeness_pkidb = kffl.analysis.ligand_analysis.util.drug_likeness_from_smiles(pkidb_ligands.Canonical_Smiles)"
   ]
  },
  {
   "cell_type": "markdown",
   "metadata": {},
   "source": [
    "### Original ligands"
   ]
  },
  {
   "cell_type": "code",
   "execution_count": 11,
   "metadata": {},
   "outputs": [
    {
     "name": "stdout",
     "output_type": "stream",
     "text": [
      "Number of molecules: 694\n"
     ]
    }
   ],
   "source": [
    "drug_likeness_klifs = kffl.analysis.ligand_analysis.util.drug_likeness_from_mols(original_ligands)"
   ]
  },
  {
   "cell_type": "markdown",
   "metadata": {},
   "source": [
    "### Recombined ligands"
   ]
  },
  {
   "cell_type": "code",
   "execution_count": 12,
   "metadata": {},
   "outputs": [
    {
     "name": "stdout",
     "output_type": "stream",
     "text": [
      "2020-04-06 11:11:20.776021: start\n",
      "2020-04-06 11:11:20.783661: step 0\n",
      "2020-04-06 11:11:34.940171: step 1000000\n",
      "2020-04-06 11:11:47.313670: step 2000000\n",
      "2020-04-06 11:11:59.914804: step 3000000\n",
      "2020-04-06 11:12:12.516401: step 4000000\n",
      "2020-04-06 11:12:24.543230: step 5000000\n",
      "2020-04-06 11:12:36.641959: step 6000000\n",
      "2020-04-06 11:12:49.204100: step 7000000\n",
      "2020-04-06 11:13:01.937562: step 8000000\n",
      "2020-04-06 11:13:15.189996: step 9000000\n",
      "2020-04-06 11:13:28.391428: step 10000000\n",
      "2020-04-06 11:13:41.394236: step 11000000\n",
      "2020-04-06 11:13:53.830738: step 12000000\n",
      "2020-04-06 11:14:06.071739: step 13000000\n",
      "2020-04-06 11:14:18.727651: step 14000000\n",
      "2020-04-06 11:14:30.955119: step 15000000\n",
      "2020-04-06 11:14:41.581553: end\n",
      "Number of molecules: 15863732\n",
      "mw           3901156\n",
      "hba          8864503\n",
      "hbd         15145516\n",
      "logp        10082156\n",
      "lipinski     6266726\n",
      "dtype: int64\n",
      "mw          24.591666\n",
      "hba         55.879052\n",
      "hbd         95.472591\n",
      "logp        63.554755\n",
      "lipinski    39.503479\n",
      "dtype: float64\n"
     ]
    },
    {
     "data": {
      "text/plain": [
       "mw          25.0\n",
       "hba         56.0\n",
       "hbd         95.0\n",
       "logp        64.0\n",
       "lipinski    40.0\n",
       "dtype: float64"
      ]
     },
     "execution_count": 12,
     "metadata": {},
     "output_type": "execute_result"
    }
   ],
   "source": [
    "drug_likeness_recomb = kffl.analysis.ligand_analysis.util.drug_likeness_from_pickle(combinatorial_path, combinatorial_unique_index)\n",
    "drug_likeness_recomb"
   ]
  },
  {
   "cell_type": "markdown",
   "metadata": {},
   "source": [
    "## Plot drug likeness"
   ]
  },
  {
   "cell_type": "code",
   "execution_count": 13,
   "metadata": {},
   "outputs": [
    {
     "data": {
      "text/plain": [
       "mw           70.0\n",
       "logp         74.0\n",
       "hbd         100.0\n",
       "hba          99.0\n",
       "lipinski     85.0\n",
       "dtype: float64"
      ]
     },
     "execution_count": 13,
     "metadata": {},
     "output_type": "execute_result"
    }
   ],
   "source": [
    "drug_likeness_pkidb"
   ]
  },
  {
   "cell_type": "code",
   "execution_count": 14,
   "metadata": {},
   "outputs": [
    {
     "data": {
      "text/html": [
       "<div>\n",
       "<style scoped>\n",
       "    .dataframe tbody tr th:only-of-type {\n",
       "        vertical-align: middle;\n",
       "    }\n",
       "\n",
       "    .dataframe tbody tr th {\n",
       "        vertical-align: top;\n",
       "    }\n",
       "\n",
       "    .dataframe thead th {\n",
       "        text-align: right;\n",
       "    }\n",
       "</style>\n",
       "<table border=\"1\" class=\"dataframe\">\n",
       "  <thead>\n",
       "    <tr style=\"text-align: right;\">\n",
       "      <th></th>\n",
       "      <th>Recombined ligands</th>\n",
       "      <th>Original ligands (KLIFS)</th>\n",
       "      <th>PKIDB ligands</th>\n",
       "    </tr>\n",
       "  </thead>\n",
       "  <tbody>\n",
       "    <tr>\n",
       "      <th>hba</th>\n",
       "      <td>56</td>\n",
       "      <td>99</td>\n",
       "      <td>99</td>\n",
       "    </tr>\n",
       "    <tr>\n",
       "      <th>hbd</th>\n",
       "      <td>95</td>\n",
       "      <td>98</td>\n",
       "      <td>100</td>\n",
       "    </tr>\n",
       "    <tr>\n",
       "      <th>lipinski</th>\n",
       "      <td>40</td>\n",
       "      <td>94</td>\n",
       "      <td>85</td>\n",
       "    </tr>\n",
       "    <tr>\n",
       "      <th>logp</th>\n",
       "      <td>64</td>\n",
       "      <td>90</td>\n",
       "      <td>74</td>\n",
       "    </tr>\n",
       "    <tr>\n",
       "      <th>mw</th>\n",
       "      <td>25</td>\n",
       "      <td>82</td>\n",
       "      <td>70</td>\n",
       "    </tr>\n",
       "  </tbody>\n",
       "</table>\n",
       "</div>"
      ],
      "text/plain": [
       "          Recombined ligands  Original ligands (KLIFS)  PKIDB ligands\n",
       "hba                       56                        99             99\n",
       "hbd                       95                        98            100\n",
       "lipinski                  40                        94             85\n",
       "logp                      64                        90             74\n",
       "mw                        25                        82             70"
      ]
     },
     "execution_count": 14,
     "metadata": {},
     "output_type": "execute_result"
    }
   ],
   "source": [
    "# Collect data in one DataFrame\n",
    "bar_data = pd.DataFrame(\n",
    "    {\n",
    "        'Recombined ligands': drug_likeness_recomb, \n",
    "        'Original ligands (KLIFS)': drug_likeness_klifs, \n",
    "        'PKIDB ligands': drug_likeness_pkidb\n",
    "    }\n",
    ")\n",
    "bar_data = bar_data.astype('int32')\n",
    "bar_data"
   ]
  },
  {
   "cell_type": "code",
   "execution_count": 67,
   "metadata": {},
   "outputs": [
    {
     "data": {
      "image/png": "[encoded data removed]",
      "text/plain": [
       "<Figure size 239.76x288 with 1 Axes>"
      ]
     },
     "metadata": {
      "needs_background": "light"
     },
     "output_type": "display_data"
    }
   ],
   "source": [
    "# Plot data\n",
    "ax = bar_data.plot(\n",
    "    kind='bar',\n",
    "    width=0.85,\n",
    "    rot=0,\n",
    "    figsize=(3.33, 4),\n",
    "    color=['cornflowerblue', 'darkgrey', 'grey']\n",
    ")\n",
    "\n",
    "# Edit labels for y axis and x/y ticks\n",
    "plt.ylabel('# Molecules [%]', fontsize=12)\n",
    "plt.xticks(range(5), ['MWT\\n'+r'$\\leq 500$', 'logP\\n'+r'$\\leq 5$', 'HBD\\n'+r'$\\leq 5$', 'HBA\\n'+r'$\\leq 10$', 'Rule\\nof 5'], fontsize=12)\n",
    "plt.yticks(fontsize=12)\n",
    "#plt.legend(fontsize=12, loc='upper left')\n",
    "legend = plt.legend(loc='upper center', \n",
    "           bbox_to_anchor=(0.5,-.2),\n",
    "           fontsize=12\n",
    "          )\n",
    "\n",
    "# Add percentages to bars\n",
    "bars = ax.patches\n",
    "bar_labels = bar_data.transpose().values.flatten()\n",
    "for bar, label in zip(bars, bar_labels):\n",
    "    \n",
    "    plt.text(\n",
    "        bar.get_x() + bar.get_width() / 1.6, \n",
    "        bar.get_height() - 6,\n",
    "        label, \n",
    "        ha='center', \n",
    "        va='center', \n",
    "        fontsize=10,\n",
    "        color='white',\n",
    "        rotation=90\n",
    "    )"
   ]
  },
  {
   "cell_type": "code",
   "execution_count": 68,
   "metadata": {},
   "outputs": [],
   "source": [
    "ax.get_figure().savefig(\n",
    "    PROJECT_PATH / 'Media' / 'ra_lipinski.pdf',\n",
    "    bbox_extra_artists=(legend,),\n",
    "    bbox_inches='tight'\n",
    ")"
   ]
  }
 ],
 "metadata": {
  "kernelspec": {
   "display_name": "kffl",
   "language": "python",
   "name": "kffl"
  },
  "language_info": {
   "codemirror_mode": {
    "name": "ipython",
    "version": 3
   },
   "file_extension": ".py",
   "mimetype": "text/x-python",
   "name": "python",
   "nbconvert_exporter": "python",
   "pygments_lexer": "ipython3",
   "version": "3.6.8"
  }
 },
 "nbformat": 4,
 "nbformat_minor": 4
}
